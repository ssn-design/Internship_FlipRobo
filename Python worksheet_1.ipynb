{
 "cells": [
  {
   "cell_type": "markdown",
   "id": "477563dd",
   "metadata": {},
   "source": [
    "# PYTHON WORKSHEET 1"
   ]
  },
  {
   "cell_type": "markdown",
   "id": "de901728",
   "metadata": {},
   "source": [
    "1.Which of the following operators is used to calculate remainder in a division?\n",
    "a)#\n",
    "b)&\n",
    "c)%\n",
    "d)$"
   ]
  },
  {
   "cell_type": "code",
   "execution_count": 1,
   "id": "388c8dc9",
   "metadata": {},
   "outputs": [
    {
     "data": {
      "text/plain": [
       "2"
      ]
     },
     "execution_count": 1,
     "metadata": {},
     "output_type": "execute_result"
    }
   ],
   "source": [
    "2%3"
   ]
  },
  {
   "cell_type": "markdown",
   "id": "00900809",
   "metadata": {},
   "source": [
    "ans: c)%"
   ]
  },
  {
   "cell_type": "markdown",
   "id": "fa6b331f",
   "metadata": {},
   "source": [
    "2.In python 2//3 is equal to?\n",
    "a)0.666\n",
    "b)0\n",
    "c)1\n",
    "d)0.67"
   ]
  },
  {
   "cell_type": "code",
   "execution_count": 2,
   "id": "6929fc68",
   "metadata": {},
   "outputs": [
    {
     "data": {
      "text/plain": [
       "0"
      ]
     },
     "execution_count": 2,
     "metadata": {},
     "output_type": "execute_result"
    }
   ],
   "source": [
    "2//3"
   ]
  },
  {
   "cell_type": "markdown",
   "id": "ad6a0ecc",
   "metadata": {},
   "source": [
    "ans: b)0"
   ]
  },
  {
   "cell_type": "markdown",
   "id": "342d37f2",
   "metadata": {},
   "source": [
    "3. In pyhton, 6<<2 is equal to?\n",
    "a)36\n",
    "b)10\n",
    "c)24\n",
    "d)45"
   ]
  },
  {
   "cell_type": "code",
   "execution_count": 4,
   "id": "6ecfa765",
   "metadata": {},
   "outputs": [
    {
     "data": {
      "text/plain": [
       "24"
      ]
     },
     "execution_count": 4,
     "metadata": {},
     "output_type": "execute_result"
    }
   ],
   "source": [
    "6<<2"
   ]
  },
  {
   "cell_type": "markdown",
   "id": "207ea4bd",
   "metadata": {},
   "source": [
    "ans: c)24"
   ]
  },
  {
   "cell_type": "markdown",
   "id": "d5e5eae5",
   "metadata": {},
   "source": [
    "4.In python, 6&2 will give which of the following as output?\n",
    "a)2\n",
    "b)True\n",
    "c)False\n",
    "d)0"
   ]
  },
  {
   "cell_type": "code",
   "execution_count": 6,
   "id": "eeed48ff",
   "metadata": {},
   "outputs": [
    {
     "data": {
      "text/plain": [
       "2"
      ]
     },
     "execution_count": 6,
     "metadata": {},
     "output_type": "execute_result"
    }
   ],
   "source": [
    "6&2"
   ]
  },
  {
   "cell_type": "markdown",
   "id": "857f4bc1",
   "metadata": {},
   "source": [
    "ans: a)2"
   ]
  },
  {
   "cell_type": "markdown",
   "id": "fb939569",
   "metadata": {},
   "source": [
    "5.In python, 6|2 will give?"
   ]
  },
  {
   "cell_type": "code",
   "execution_count": 7,
   "id": "67cfd559",
   "metadata": {},
   "outputs": [
    {
     "data": {
      "text/plain": [
       "6"
      ]
     },
     "execution_count": 7,
     "metadata": {},
     "output_type": "execute_result"
    }
   ],
   "source": [
    "6|2"
   ]
  },
  {
   "cell_type": "markdown",
   "id": "9f7026c3",
   "metadata": {},
   "source": [
    "ans: d)6"
   ]
  },
  {
   "cell_type": "markdown",
   "id": "67265e0b",
   "metadata": {},
   "source": [
    "6.what does finally keyword denote in python?"
   ]
  },
  {
   "cell_type": "code",
   "execution_count": 3,
   "id": "63ee5e5b",
   "metadata": {},
   "outputs": [
    {
     "name": "stdout",
     "output_type": "stream",
     "text": [
      "All is not well\n",
      "The try...except block is finished\n"
     ]
    }
   ],
   "source": [
    "try: \n",
    "    y>9\n",
    "except:\n",
    "    print(\"All is not well\")\n",
    "else:\n",
    "    print(\"All is well\")\n",
    "finally:\n",
    "    print(\"The try...except block is finished\")\n",
    "    "
   ]
  },
  {
   "cell_type": "markdown",
   "id": "c33e200f",
   "metadata": {},
   "source": [
    "Ans: c) The finally block will be executed no matter if the try block raises an error or not"
   ]
  },
  {
   "cell_type": "markdown",
   "id": "cea9bf44",
   "metadata": {},
   "source": [
    "7.What does raise keyword is used for in python?"
   ]
  },
  {
   "cell_type": "code",
   "execution_count": 4,
   "id": "759595c5",
   "metadata": {},
   "outputs": [
    {
     "ename": "Exception",
     "evalue": "Sorry, no entry here",
     "output_type": "error",
     "traceback": [
      "\u001b[1;31m---------------------------------------------------------------------------\u001b[0m",
      "\u001b[1;31mException\u001b[0m                                 Traceback (most recent call last)",
      "\u001b[1;32m<ipython-input-4-dc9e9337d0bd>\u001b[0m in \u001b[0;36m<module>\u001b[1;34m\u001b[0m\n\u001b[0;32m      1\u001b[0m \u001b[0mx\u001b[0m \u001b[1;33m=\u001b[0m \u001b[1;33m-\u001b[0m\u001b[1;36m1\u001b[0m\u001b[1;33m\u001b[0m\u001b[1;33m\u001b[0m\u001b[0m\n\u001b[0;32m      2\u001b[0m \u001b[1;32mif\u001b[0m \u001b[0mx\u001b[0m\u001b[1;33m<\u001b[0m\u001b[1;36m0\u001b[0m\u001b[1;33m:\u001b[0m\u001b[1;33m\u001b[0m\u001b[1;33m\u001b[0m\u001b[0m\n\u001b[1;32m----> 3\u001b[1;33m     \u001b[1;32mraise\u001b[0m \u001b[0mException\u001b[0m\u001b[1;33m(\u001b[0m\u001b[1;34m\"Sorry, no entry here\"\u001b[0m\u001b[1;33m)\u001b[0m\u001b[1;33m\u001b[0m\u001b[1;33m\u001b[0m\u001b[0m\n\u001b[0m",
      "\u001b[1;31mException\u001b[0m: Sorry, no entry here"
     ]
    }
   ],
   "source": [
    "x = -1\n",
    "if x<0:\n",
    "    raise Exception(\"Sorry, no entry here\")"
   ]
  },
  {
   "cell_type": "markdown",
   "id": "427b2548",
   "metadata": {},
   "source": [
    "Ans: A) It is used to raise an exception."
   ]
  },
  {
   "cell_type": "markdown",
   "id": "986d3b47",
   "metadata": {},
   "source": [
    "8.Which of the following is a common use case of yield keyword in python?"
   ]
  },
  {
   "cell_type": "code",
   "execution_count": 7,
   "id": "62aa8553",
   "metadata": {},
   "outputs": [
    {
     "name": "stdout",
     "output_type": "stream",
     "text": [
      "<generator object testyield at 0x0000026553C9FA50>\n"
     ]
    }
   ],
   "source": [
    "def testyield():\n",
    "    yield \"welcome to India\"\n",
    "output = testyield()\n",
    "print(output)"
   ]
  },
  {
   "cell_type": "markdown",
   "id": "88b9607b",
   "metadata": {},
   "source": [
    "Ans: C) in defining a generator"
   ]
  },
  {
   "cell_type": "markdown",
   "id": "73c2b6d5",
   "metadata": {},
   "source": [
    "Q9 and Q10 have multiple correct answers. Choose all the correct options to answer your question.\n"
   ]
  },
  {
   "cell_type": "markdown",
   "id": "a236509e",
   "metadata": {},
   "source": [
    "\n",
    "9. Which of the following are the valid variable names?"
   ]
  },
  {
   "cell_type": "markdown",
   "id": "1ed60019",
   "metadata": {},
   "source": [
    "Ans: A) _abc and C) abc2"
   ]
  },
  {
   "cell_type": "markdown",
   "id": "e6d1fe4a",
   "metadata": {},
   "source": [
    "10. Which of the following are the keywords in python?"
   ]
  },
  {
   "cell_type": "markdown",
   "id": "fa1bbf61",
   "metadata": {},
   "source": [
    "Ans: A)yield and B)raise"
   ]
  },
  {
   "cell_type": "markdown",
   "id": "243a9205",
   "metadata": {},
   "source": [
    "11. Write a python program to find the factorial of a number."
   ]
  },
  {
   "cell_type": "code",
   "execution_count": 4,
   "id": "ac3dae8a",
   "metadata": {},
   "outputs": [
    {
     "name": "stdout",
     "output_type": "stream",
     "text": [
      "Enter Number :8\n",
      "Factorial = 40320\n"
     ]
    }
   ],
   "source": [
    "i=int(input(\"Enter Number :\"))\n",
    "fac=1\n",
    "while (i>0):\n",
    "    fac=fac*i\n",
    "    i=i-1\n",
    "print(\"Factorial =\",fac)"
   ]
  },
  {
   "cell_type": "markdown",
   "id": "30f67d0a",
   "metadata": {},
   "source": [
    "12. Write a python program to find whether a number is prime or composite."
   ]
  },
  {
   "cell_type": "code",
   "execution_count": 5,
   "id": "d790fa06",
   "metadata": {},
   "outputs": [
    {
     "name": "stdout",
     "output_type": "stream",
     "text": [
      "Enter a number :77\n",
      "the number is composite\n"
     ]
    }
   ],
   "source": [
    "a=int(input(\"Enter a number :\"))\n",
    "flag = 0\n",
    "for i in range(2,a):\n",
    "    if (a%i==0):\n",
    "        flag = 1\n",
    "        break\n",
    "        \n",
    "if (flag == 0):\n",
    "    print(\"the number is prime\")\n",
    "else:\n",
    "    print(\"the number is composite\")"
   ]
  },
  {
   "cell_type": "markdown",
   "id": "7f1fad89",
   "metadata": {},
   "source": [
    "13. Write a python program to check whether a given string is palindrome or not."
   ]
  },
  {
   "cell_type": "code",
   "execution_count": 6,
   "id": "d07c4e75",
   "metadata": {},
   "outputs": [
    {
     "name": "stdout",
     "output_type": "stream",
     "text": [
      "Enter String:madam\n",
      "Palindrome String\n"
     ]
    }
   ],
   "source": [
    "m=input(\"Enter String:\")\n",
    "p=m[-1::-1]\n",
    "if(m==p):\n",
    "    print(\"Palindrome String\")\n",
    "else:\n",
    "    print(\"Not Palindrome String\")"
   ]
  },
  {
   "cell_type": "markdown",
   "id": "8502c55f",
   "metadata": {},
   "source": [
    "14.Write a Python program to get the third side of right-angled triangle from two given sides."
   ]
  },
  {
   "cell_type": "code",
   "execution_count": 11,
   "id": "976d9cbc",
   "metadata": {},
   "outputs": [
    {
     "name": "stdout",
     "output_type": "stream",
     "text": [
      "Hypotenuse = 5.0\n"
     ]
    }
   ],
   "source": [
    "def pythagoras(opp_side,adj_side,hypo):\n",
    "    if opp_side == str(\"x\"):\n",
    "        return (\"Opposite = \" + str(((hypo**2) - (adj_side**2))**0.5))\n",
    "    elif adj_side == str(\"x\"):\n",
    "        return (\"Adjacent = \" + str(((hypo**2) - (opp_side**2))**0.5))\n",
    "    elif hypo == str(\"x\"):\n",
    "        return (\"Hypotenuse = \" + str(((opp_side**2) + (adj_side**2))**0.5))\n",
    "    else:\n",
    "        return \"That's all folks!\"\n",
    "print(pythagoras(3,4,'x'))\n",
    "    "
   ]
  },
  {
   "cell_type": "code",
   "execution_count": 8,
   "id": "d492d7ca",
   "metadata": {},
   "outputs": [
    {
     "name": "stdout",
     "output_type": "stream",
     "text": [
      "Adjacent = 4.0\n"
     ]
    }
   ],
   "source": [
    "print(pythagoras(3,'x',5))"
   ]
  },
  {
   "cell_type": "code",
   "execution_count": 9,
   "id": "90429d51",
   "metadata": {},
   "outputs": [
    {
     "name": "stdout",
     "output_type": "stream",
     "text": [
      "Opposite = 3.0\n"
     ]
    }
   ],
   "source": [
    "print(pythagoras('x',4,5))"
   ]
  },
  {
   "cell_type": "code",
   "execution_count": 12,
   "id": "35708f47",
   "metadata": {},
   "outputs": [
    {
     "name": "stdout",
     "output_type": "stream",
     "text": [
      "That's all folks!\n"
     ]
    }
   ],
   "source": [
    "print(pythagoras(3,4,5))"
   ]
  },
  {
   "cell_type": "markdown",
   "id": "9b06d9d3",
   "metadata": {},
   "source": [
    "15. Write a python program to print the frequency of each of the characters present in a given string."
   ]
  },
  {
   "cell_type": "code",
   "execution_count": 13,
   "id": "16d4bf3f",
   "metadata": {},
   "outputs": [
    {
     "name": "stdout",
     "output_type": "stream",
     "text": [
      "{'H': 1}\n"
     ]
    }
   ],
   "source": [
    "def character_f(str1):\n",
    "    dict = {}\n",
    "    for n in str1:\n",
    "        keys = dict.keys()\n",
    "        if n in keys:\n",
    "            dict[n] += 1\n",
    "        else:\n",
    "            dict[n] = 1\n",
    "        return dict\n",
    "print(character_f('Harry potter'))\n",
    "            "
   ]
  },
  {
   "cell_type": "code",
   "execution_count": null,
   "id": "8d572169",
   "metadata": {},
   "outputs": [],
   "source": []
  }
 ],
 "metadata": {
  "kernelspec": {
   "display_name": "Python 3",
   "language": "python",
   "name": "python3"
  },
  "language_info": {
   "codemirror_mode": {
    "name": "ipython",
    "version": 3
   },
   "file_extension": ".py",
   "mimetype": "text/x-python",
   "name": "python",
   "nbconvert_exporter": "python",
   "pygments_lexer": "ipython3",
   "version": "3.8.8"
  }
 },
 "nbformat": 4,
 "nbformat_minor": 5
}
