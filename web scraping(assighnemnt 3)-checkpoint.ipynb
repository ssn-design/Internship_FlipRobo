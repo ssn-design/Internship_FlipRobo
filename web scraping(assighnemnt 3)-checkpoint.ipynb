{
 "cells": [
  {
   "cell_type": "code",
   "execution_count": 2,
   "id": "4ec67995",
   "metadata": {},
   "outputs": [],
   "source": [
    "import selenium\n",
    "import pandas as pd\n",
    "import time\n",
    "import re\n",
    "import os\n",
    "import requests\n",
    "import urllib.request\n",
    "from selenium import webdriver\n",
    "from selenium.common.exceptions import StaleElementReferenceException, NoSuchElementException\n",
    "from urllib.request import urlopen\n",
    "from selenium.webdriver.common.keys import Keys\n",
    "from selenium.webdriver import Chrome\n",
    "from selenium.webdriver.common.by import By\n",
    "from selenium.webdriver.support.ui import WebDriverWait\n",
    "from selenium.webdriver.support import expected_conditions as EC\n",
    "from bs4 import BeautifulSoup\n",
    "\n",
    "import warnings\n",
    "warnings.filterwarnings('ignore')"
   ]
  },
  {
   "cell_type": "code",
   "execution_count": 25,
   "id": "e1885a22",
   "metadata": {},
   "outputs": [],
   "source": [
    "#Write a python program which searches all the product under a particular product vertical\n",
    "#from www.amazon.in. The product verticals to be searched will be taken as input from user.\n",
    "#For e.g. If user input is ‘guitar’. Then search for guitars."
   ]
  },
  {
   "cell_type": "code",
   "execution_count": 67,
   "id": "011292aa",
   "metadata": {},
   "outputs": [],
   "source": [
    "amazon = webdriver.Chrome(r\"C:\\Users\\sushr\\OneDrive\\Desktop\\chromedriver\\chromedriver.exe\")\n",
    "url = \"https://www.amazon.in/\"\n",
    "amazon.get(url)"
   ]
  },
  {
   "cell_type": "code",
   "execution_count": 68,
   "id": "fcebaae7",
   "metadata": {},
   "outputs": [],
   "source": [
    "amazon.maximize_window()"
   ]
  },
  {
   "cell_type": "code",
   "execution_count": 69,
   "id": "202e761f",
   "metadata": {},
   "outputs": [],
   "source": [
    "search_bar = amazon.find_element_by_id(\"twotabsearchtextbox\")\n",
    "search_bar.clear()"
   ]
  },
  {
   "cell_type": "code",
   "execution_count": 70,
   "id": "a58ca699",
   "metadata": {},
   "outputs": [
    {
     "name": "stdout",
     "output_type": "stream",
     "text": [
      "men's sweater\n"
     ]
    }
   ],
   "source": [
    "search_bar.send_keys(input(\"\"))"
   ]
  },
  {
   "cell_type": "code",
   "execution_count": 71,
   "id": "b0605334",
   "metadata": {},
   "outputs": [],
   "source": [
    "search_button = amazon.find_element_by_xpath('//span[@id=\"nav-search-submit-text\"]')\n",
    "search_button.click() "
   ]
  },
  {
   "cell_type": "code",
   "execution_count": 31,
   "id": "5af4b7c4",
   "metadata": {},
   "outputs": [],
   "source": [
    "#2. In the above question, now scrape the following details of each product listed in first 3 pages\n",
    "#of your search results and save it in a data frame and csv. In case if any product vertical has\n",
    "#less than 3 pages in search results then scrape all the products available under that product\n",
    "#vertical. Details to be scraped are: \"Brand Name\", \"Name of the Product\", \"Rating\", \"No. of\n",
    "#Ratings\", \"Price\", \"Return/Exchange\", \"Expected Delivery\", \"Availability\", \"Other Details\"\n",
    "#and “Product URL”. In case, if any of the details are missing for any of the product then replace it by “-“."
   ]
  },
  {
   "cell_type": "code",
   "execution_count": 73,
   "id": "b384424f",
   "metadata": {},
   "outputs": [],
   "source": [
    "brand1=[]\n",
    "namep=[]\n",
    "rating1=[]\n",
    "norating=[]\n",
    "price=[]\n",
    "returnex=[]\n",
    "edeliv=[]\n",
    "avail=[]\n",
    "od=[]\n",
    "purl=[]\n",
    "\n",
    "start=0\n",
    "end=3\n",
    "for page in range(start,end):\n",
    "    brs=amazon.find_elements_by_class_name('a-size-base-plus a-color-base')\n",
    "    for i in brs:\n",
    "        brand1.append(i.text)\n",
    "        \n",
    "    nm1=amazon.find_elements_by_class_name('a-size-base-plus a-color-base a-text-normal')\n",
    "    for i in nm1:\n",
    "        namep.append(i.text)\n",
    "        \n",
    "    pr1=amazon.find_elements_by_class_name('a-price-whole')\n",
    "    for i in pr1:\n",
    "        price.append(i.text)"
   ]
  },
  {
   "cell_type": "code",
   "execution_count": 76,
   "id": "390793f9",
   "metadata": {},
   "outputs": [],
   "source": [
    "start=0\n",
    "end=3\n",
    "for page in range(start,end):\n",
    "    urls1=amazon.find_elements_by_xpath(\"//a[@class='a-link-normal a-text-normal']\")\n",
    "    for i in urls1:\n",
    "        purl.append(i.get_attribute('href'))\n",
    "    for url in purl:\n",
    "        amazon.get(url)\n",
    "        \n",
    "    edel=amazon.find_elements_by_xpath('/html/body/div[2]/div[2]/div[5]/div[1]/div[1]/div[2]/div[2]/div/div/div[2]/div[3]/div/div/div/form/div/div/div/div/div[2]/div/div[2]/div[6]/div/div/div/div/div/b')\n",
    "    for i in edel:\n",
    "        edeliv.append(i.text)\n",
    "        \n",
    "    \n",
    "    try:                  \n",
    "        rg=amazon.find_elements_by_xpath(\"//span[@class='a-size-base a-nowrap']//span\")\n",
    "        for i in rg:\n",
    "            rating1.append(i.text)\n",
    "        \n",
    "        nor=amazon.find_elements_by_xpath(\"//span[@class='a-size-base a-color-secondary']//span\")\n",
    "        for i in nor:\n",
    "            norating.append(i.text)\n",
    "        \n",
    "    except NoSuchElementException:\n",
    "        rating1.append(\"NO rating\")\n",
    "        norating.append(\"none has reviewed\")"
   ]
  },
  {
   "cell_type": "code",
   "execution_count": 81,
   "id": "9246b89a",
   "metadata": {},
   "outputs": [
    {
     "data": {
      "text/plain": [
       "192"
      ]
     },
     "execution_count": 81,
     "metadata": {},
     "output_type": "execute_result"
    }
   ],
   "source": [
    "len(price)"
   ]
  },
  {
   "cell_type": "code",
   "execution_count": null,
   "id": "506a89a0",
   "metadata": {},
   "outputs": [],
   "source": []
  },
  {
   "cell_type": "code",
   "execution_count": 1,
   "id": "86b82a78",
   "metadata": {},
   "outputs": [],
   "source": [
    "#3.Write a python program to access the search bar and search button on images.google.com and\n",
    "#scrape 100 images each for keywords ‘fruits’, ‘cars’ and ‘Machine Learning’."
   ]
  },
  {
   "cell_type": "code",
   "execution_count": 82,
   "id": "a29483b4",
   "metadata": {},
   "outputs": [],
   "source": [
    "driver= webdriver.Chrome(r\"C:\\Users\\sushr\\OneDrive\\Desktop\\chromedriver\\chromedriver.exe\")\n",
    "driver.get('https://www.google.co.in/')"
   ]
  },
  {
   "cell_type": "code",
   "execution_count": 32,
   "id": "689f89d4",
   "metadata": {},
   "outputs": [],
   "source": [
    "search_bar = driver.find_element_by_css_selector('input.gLFyf')\n",
    "search_bar.send_keys('fruits')"
   ]
  },
  {
   "cell_type": "code",
   "execution_count": 84,
   "id": "8390f72a",
   "metadata": {},
   "outputs": [],
   "source": [
    "html1 = requests.get(\"https://www.google.co.in/search\")\n",
    "soup3 = BeautifulSoup(html1.text, 'lxml')"
   ]
  },
  {
   "cell_type": "code",
   "execution_count": 86,
   "id": "06b1f41f",
   "metadata": {},
   "outputs": [],
   "source": [
    "Image_Folder = 'Images_1'\n",
    "def main():\n",
    "    if not os.path.exists(Image_Folder):\n",
    "        os.mkdir(Image_Folder)\n",
    "    download_images()\n",
    "    \n",
    "def download_images():\n",
    "    data = input('Enter your search keyword: ')\n",
    "    num_images = int(input('Enter the number of images you want: '))\n",
    "    print('Searching Images....')\n",
    "    \n",
    "fruitresults = soup3.findAll('img', {'class': 'rg_i Q4LuWd'})"
   ]
  },
  {
   "cell_type": "code",
   "execution_count": 94,
   "id": "4e003742",
   "metadata": {},
   "outputs": [
    {
     "name": "stdout",
     "output_type": "stream",
     "text": [
      "Found 0 images\n",
      "Start downloading...\n",
      "Enter your search keyword: fruits\n",
      "Enter the number of images you want: 100\n",
      "Searching Images....\n"
     ]
    }
   ],
   "source": [
    "count = 0\n",
    "imagelinks= []\n",
    "for res in fruitresults:\n",
    "    try:\n",
    "        link = res['data-src']\n",
    "        imagelinks.append(link)\n",
    "        count = count + 1\n",
    "        if (count >= num_images):\n",
    "            break\n",
    "            \n",
    "    except KeyError:\n",
    "        continue\n",
    "    \n",
    "print(f'Found {len(imagelinks)} images')\n",
    "print('Start downloading...')\n",
    "for i, imagelink in enumerate(imagelinks):\n",
    "        response = requests.get(imagelink)\n",
    "        \n",
    "        imagename = Image_Folder + '/' + data + str(i+1) + '.jpg'\n",
    "        with open(imagename, 'wb') as file:\n",
    "            file.write(response.content)\n",
    "            \n",
    "        print('Download Completed!')\n",
    "    \n",
    "if __name__ == '__main__':\n",
    "    main()"
   ]
  },
  {
   "cell_type": "code",
   "execution_count": 95,
   "id": "06d73888",
   "metadata": {},
   "outputs": [
    {
     "name": "stdout",
     "output_type": "stream",
     "text": [
      "Found 0 images\n",
      "Start downloading...\n",
      "Enter your search keyword: cars\n",
      "Enter the number of images you want: 100\n",
      "Searching Images....\n"
     ]
    }
   ],
   "source": [
    "count = 0\n",
    "imagelinks= []\n",
    "for res in fruitresults:\n",
    "    try:\n",
    "        link = res['data-src']\n",
    "        imagelinks.append(link)\n",
    "        count = count + 1\n",
    "        if (count >= num_images):\n",
    "            break\n",
    "            \n",
    "    except KeyError:\n",
    "        continue\n",
    "    \n",
    "print(f'Found {len(imagelinks)} images')\n",
    "print('Start downloading...')\n",
    "for i, imagelink in enumerate(imagelinks):\n",
    "        response = requests.get(imagelink)\n",
    "        \n",
    "        imagename = Image_Folder + '/' + data + str(i+1) + '.jpg'\n",
    "        with open(imagename, 'wb') as file:\n",
    "            file.write(response.content)\n",
    "            \n",
    "        print('Download Completed!')\n",
    "    \n",
    "if __name__ == '__main__':\n",
    "    main()"
   ]
  },
  {
   "cell_type": "code",
   "execution_count": 96,
   "id": "8442e537",
   "metadata": {},
   "outputs": [
    {
     "name": "stdout",
     "output_type": "stream",
     "text": [
      "Found 0 images\n",
      "Start downloading...\n",
      "Download Completed!\n",
      "Enter your search keyword: machine learning\n",
      "Enter the number of images you want: 100\n",
      "Searching Images....\n"
     ]
    }
   ],
   "source": [
    "count = 0\n",
    "imagelinks= []\n",
    "for res in fruitresults:\n",
    "    try:\n",
    "        link = res['data-src']\n",
    "        imagelinks.append(link)\n",
    "        count = count + 1\n",
    "        if (count >= num_images):\n",
    "            break\n",
    "            \n",
    "    except KeyError:\n",
    "        continue\n",
    "    \n",
    "print(f'Found {len(imagelinks)} images')\n",
    "print('Start downloading...')\n",
    "for i, imagelink in enumerate(imagelinks):\n",
    "        response = requests.get(imagelink)\n",
    "        \n",
    "        imagename = Image_Folder + '/' + data + str(i+1) + '.jpg'\n",
    "        with open(imagename, 'wb') as file:\n",
    "            file.write(response.content)\n",
    "            \n",
    "print('Download Completed!')\n",
    "    \n",
    "if __name__ == '__main__':\n",
    "    main()"
   ]
  },
  {
   "cell_type": "code",
   "execution_count": 34,
   "id": "851adea3",
   "metadata": {},
   "outputs": [],
   "source": []
  },
  {
   "cell_type": "code",
   "execution_count": 35,
   "id": "5a03f459",
   "metadata": {},
   "outputs": [],
   "source": []
  },
  {
   "cell_type": "code",
   "execution_count": null,
   "id": "eae8ce18",
   "metadata": {},
   "outputs": [],
   "source": []
  },
  {
   "cell_type": "code",
   "execution_count": 37,
   "id": "2582e1ab",
   "metadata": {},
   "outputs": [],
   "source": []
  },
  {
   "cell_type": "code",
   "execution_count": 38,
   "id": "60c8622b",
   "metadata": {},
   "outputs": [],
   "source": []
  },
  {
   "cell_type": "code",
   "execution_count": null,
   "id": "74ead468",
   "metadata": {},
   "outputs": [],
   "source": []
  },
  {
   "cell_type": "code",
   "execution_count": null,
   "id": "5fbaea09",
   "metadata": {},
   "outputs": [],
   "source": [
    "#4. Write a python program to search for a smartphone(e.g.: Oneplus Nord, pixel 4A, etc.) on\n",
    "#www.flipkart.com and scrape following details for all the search results displayed on 1st page.\n",
    "#Details to be scraped: “Brand Name”, “Smartphone name”, “Colour”, “RAM”,\n",
    "#“Storage(ROM)”, “Primary Camera”, “Secondary Camera”, “Display Size”, “Display\n",
    "#Resolution”, “Processor”, “Processor Cores”, “Battery Capacity”, “Price”, “Product URL”.\n",
    "#Incase if any of the details is missing then replace it by “- “. Save your results in a dataframe\n",
    "#and CSV."
   ]
  },
  {
   "cell_type": "code",
   "execution_count": 7,
   "id": "b09b982c",
   "metadata": {},
   "outputs": [],
   "source": [
    "driver=webdriver.Chrome(r\"C:\\Users\\sushr\\OneDrive\\Desktop\\chromedriver\\chromedriver.exe\")\n",
    "time.sleep(5)\n",
    "\n",
    "url = \"https://www.flipkart.com/\"\n",
    "driver.get(url)"
   ]
  },
  {
   "cell_type": "code",
   "execution_count": 8,
   "id": "5e5fbd47",
   "metadata": {},
   "outputs": [],
   "source": [
    "close_btn=driver.find_element_by_xpath(\"/html/body/div[2]/div/div/button\").click()\n",
    "driver.maximize_window()"
   ]
  },
  {
   "cell_type": "code",
   "execution_count": 9,
   "id": "bfdc49e9",
   "metadata": {},
   "outputs": [],
   "source": [
    "search_bar=driver.find_element_by_class_name(\"_3704LK\")\n",
    "search_bar.send_keys('iphone 13')\n",
    "time.sleep(3)\n",
    "btn=driver.find_element_by_class_name('L0Z3Pu').click()"
   ]
  },
  {
   "cell_type": "code",
   "execution_count": 37,
   "id": "a5370725",
   "metadata": {},
   "outputs": [],
   "source": [
    "brand=[]\n",
    "smartphname=[]\n",
    "color=[]\n",
    "ram=[]\n",
    "rom=[]\n",
    "pcam=[]\n",
    "scam=[]\n",
    "dissize=[]\n",
    "disres=[]\n",
    "proc=[]\n",
    "procore=[]\n",
    "battcap=[]\n",
    "price=[]\n",
    "url=[]\n",
    "\n",
    "time.sleep(3)\n",
    "ph=driver.find_elements_by_class_name('_4rR01T')\n",
    "for i in ph:\n",
    "    smartphname.append(i.text)"
   ]
  },
  {
   "cell_type": "code",
   "execution_count": 42,
   "id": "0b6315e5",
   "metadata": {},
   "outputs": [
    {
     "data": {
      "text/plain": [
       "['APPLE iPhone 13 (Blue, 128 GB)',\n",
       " 'APPLE iPhone 13 (Midnight, 128 GB)',\n",
       " 'APPLE iPhone 13 ((PRODUCT)RED, 128 GB)',\n",
       " 'APPLE iPhone 13 (Pink, 128 GB)',\n",
       " 'APPLE iPhone 13 (Starlight, 128 GB)',\n",
       " 'APPLE iPhone 13 (Blue, 256 GB)',\n",
       " 'APPLE iPhone 13 (Pink, 256 GB)',\n",
       " 'APPLE iPhone 13 ((PRODUCT)RED, 256 GB)',\n",
       " 'APPLE iPhone 13 (Midnight, 256 GB)',\n",
       " 'APPLE iPhone 13 (Starlight, 256 GB)',\n",
       " 'APPLE iPhone 13 (Blue, 512 GB)',\n",
       " 'APPLE iPhone 13 (Pink, 512 GB)',\n",
       " 'APPLE iPhone 13 (Midnight, 512 GB)',\n",
       " 'APPLE iPhone 13 ((PRODUCT)RED, 512 GB)',\n",
       " 'APPLE iPhone 13 (Starlight, 512 GB)',\n",
       " 'APPLE iPhone 13 Pro (Graphite, 256 GB)',\n",
       " 'APPLE iPhone 13 Pro (Sierra Blue, 128 GB)',\n",
       " 'APPLE iPhone 13 Pro (Silver, 512 GB)',\n",
       " 'APPLE iPhone 13 Pro (Gold, 512 GB)',\n",
       " 'APPLE iPhone 13 Pro Max (Silver, 512 GB)',\n",
       " 'APPLE iPhone 13 Mini (Midnight, 128 GB)',\n",
       " 'APPLE iPhone 13 Pro (Graphite, 128 GB)',\n",
       " 'APPLE iPhone 13 Mini (Midnight, 256 GB)',\n",
       " 'APPLE iPhone 13 Pro (Silver, 256 GB)']"
      ]
     },
     "execution_count": 42,
     "metadata": {},
     "output_type": "execute_result"
    }
   ],
   "source": [
    "smartphname"
   ]
  },
  {
   "cell_type": "code",
   "execution_count": 30,
   "id": "7ea85b7f",
   "metadata": {},
   "outputs": [],
   "source": [
    "#5. Write a program to scrap geospatial coordinates (latitude, longitude) of a city searched on\n",
    "#google maps."
   ]
  },
  {
   "cell_type": "code",
   "execution_count": 43,
   "id": "b2bfc00d",
   "metadata": {},
   "outputs": [],
   "source": [
    "driver=webdriver.Chrome(r\"C:\\Users\\sushr\\OneDrive\\Desktop\\chromedriver\\chromedriver.exe\")\n",
    "time.sleep(6)\n",
    "\n",
    "url = \"https://www.google.co.in/maps/@10.8091781,78.2885026,7z\"\n",
    "driver.get(url)\n",
    "driver.maximize_window()"
   ]
  },
  {
   "cell_type": "code",
   "execution_count": 56,
   "id": "0d1df12e",
   "metadata": {},
   "outputs": [],
   "source": [
    "location = driver.find_element_by_class_name(\"tactile-searchbox-input\")\n",
    "location.send_keys(\"bhubaneswar\")\n",
    "proceed = driver.find_element_by_xpath(\"/html/body/div[3]/div[9]/div[3]/div[1]/div[1]/div[1]/div[2]/div[1]/button\")\n",
    "proceed.click()"
   ]
  },
  {
   "cell_type": "code",
   "execution_count": 57,
   "id": "a049d29e",
   "metadata": {},
   "outputs": [],
   "source": [
    "latnlong=[]\n",
    "direction=driver.find_elements_by_xpath(\"/html/body/div[3]/div[9]/div[8]/div/div[1]/div/div/div[2]/div[1]/div[1]/div[1]/h1/span[1]\")\n",
    "for i in direction:\n",
    "    latnlong.append(i.text)"
   ]
  },
  {
   "cell_type": "code",
   "execution_count": 58,
   "id": "21e5c3cf",
   "metadata": {},
   "outputs": [
    {
     "name": "stdout",
     "output_type": "stream",
     "text": [
      "latitude and longitude of bhubaneswar is ['20°24\\'27.7\"N 85°49\\'16.1\"E']\n"
     ]
    }
   ],
   "source": [
    "print(\"latitude and longitude of bhubaneswar is\", latnlong)"
   ]
  },
  {
   "cell_type": "code",
   "execution_count": null,
   "id": "3b56f1c9",
   "metadata": {},
   "outputs": [],
   "source": [
    "#6. Write a program to scrap details of all the funding deals for second quarter (i.e. July 20 –\n",
    "#September 20) from trak.in."
   ]
  },
  {
   "cell_type": "code",
   "execution_count": 59,
   "id": "1ab8340a",
   "metadata": {},
   "outputs": [],
   "source": [
    "driver=webdriver.Chrome(r\"C:\\Users\\sushr\\OneDrive\\Desktop\\chromedriver\\chromedriver.exe\")\n",
    "time.sleep(6)\n",
    "\n",
    "url = \"https://www.trak.in\"\n",
    "driver.get(url)\n",
    "driver.maximize_window()"
   ]
  },
  {
   "cell_type": "code",
   "execution_count": 64,
   "id": "0eb98b78",
   "metadata": {},
   "outputs": [],
   "source": [
    "openfundingdeals=driver.find_elements_by_xpath(\"/html/body/div[1]/header/div[2]/div/div/div/div/nav/ul/li[8]/ul/li[2]/a\")\n",
    "openfundingdeals.click()"
   ]
  },
  {
   "cell_type": "code",
   "execution_count": 76,
   "id": "3be12afe",
   "metadata": {},
   "outputs": [],
   "source": [
    "july=[]\n",
    "aug=[]\n",
    "sept=[]\n",
    "\n",
    "info1=driver.find_elements_by_xpath(\"/html/body/div[1]/main/div/div/div/div[2]/div[1]/div/div/div/div[1]/div/div[9]/div[3]/div[2]/table/tbody\")\n",
    "for i in info1:\n",
    "    july.append(i.text)"
   ]
  },
  {
   "cell_type": "code",
   "execution_count": 77,
   "id": "b7aa218f",
   "metadata": {},
   "outputs": [
    {
     "data": {
      "text/plain": [
       "['1 08/09/2020 Byju’s EduTech Online Tutoring Bangalore Silver Lake, Tiger Global, General Atlantic and Owl Ventures\\nPrivate Equity 500,000,000\\n2 12/09/2020 mCaffeine Personal Care Skincare & Haircare Mumbai Amicus Capital Private Equity I LLP, Amicus Capital Partners India Fund I and RP-SG Venture Fund 1 Series B 3,000,000\\n3 09/09/2020 Qshala EduTech Online Curiosity Platform for Kids Bangalore Rainmatter Capital Angel 370,000\\n4 02/09/2020 Winzo Online Gaming Online Gaming New Delhi Kalaari Capital Partners, IndigoEdge Management Consultancy Series B 15,500,000\\n5 09/09/2020 Hippo Video Video Customer Experience(CX) Platform Video Customer Experience(CX) Platform Newark, Delaware, United States of Amercia Alpha Wave Incubation, Exfinity Venture Partners and existing backers.\\nSeries A 4,500,000\\n6 07/09/2020 Melorra E-commerce Online Jewelry Store\\nBangalore Shadow Holdings, Lightbox. Debt Financing upto 8,900,000\\n7 07/09/2020 1mg E-commerce Online Pharmacy Gurgaon Gaja Capital, Tata Capital, Partners Group In Progress 100,000,000\\n8 31/08/2020 mfine HealthTech On-Demand Healthcare Services Bangalore Caretech Pte Inc Series B 5,400,000\\n9 31/08/2020 Apna Human Resources Recruitment Platform Bangalore Lightspeed India and Sequoia Capital India Series A 8,000,000\\n10 03/09/2020 Railofy Transportation WL & RAC protection platform Mumbai Chiratae Ventures Seed 950,000']"
      ]
     },
     "execution_count": 77,
     "metadata": {},
     "output_type": "execute_result"
    }
   ],
   "source": [
    "july"
   ]
  },
  {
   "cell_type": "code",
   "execution_count": 78,
   "id": "a2c4b5dd",
   "metadata": {},
   "outputs": [],
   "source": [
    "info2=driver.find_elements_by_xpath(\"/html/body/div[1]/main/div/div/div/div[2]/div[1]/div/div/div/div[1]/div/div[10]/div[3]/div[2]/table\")\n",
    "for i in info2:\n",
    "    aug.append(i.text)"
   ]
  },
  {
   "cell_type": "code",
   "execution_count": 79,
   "id": "76006b1e",
   "metadata": {},
   "outputs": [
    {
     "data": {
      "text/plain": [
       "['1 15/08/2020 Practo HealthTech Health care and Wellness Bangalore A1A Company\\nSeries F 32,000,000\\n2 13/08/2020 Medlife E-commerce Online Pharmacy Bangalore Prasid Uno Family Trust and SC Credit Fund 23,000,000\\n3 13/08/2020 HungerBox\\nFoodTech Online Food Delivery Service Bangalore One97, Sabre Partners Trust, Pratithi Investment Trust, and Srihari Kumar Series D1 1,560,000\\n4 04/08/2020 Dunzo Hyper-local Logistics Online Delivery Services Bangalore Existing Backers In Progress 30,000,000\\n5 11/08/2020 Terra.do EduTech Online Climate School, E-learning Stanford, California, Stanford Angels and Entrepreneurs (India), BEENEXT Emerging Asia, Rainmatter Capital\\n\\nSeed 1,400,000\\n6 12/08/2020 Classplus EduTech E-learning, Online Tutoring\\n\\nNoida Falcon Edge In Progress upto 15,000,000\\n7 14/08/2020 Niyo FinTech Financial Services Bangalore Niyo Solutions Inc. 6,000,000\\n8 10/08/2020 ZestMoney FinTech Financial Services Bangalore Primrose Hills Ventures 10,670,000\\n9 07/08/2020 FreshToHome E-commerce Food Delivery Bangalore Ascent Capital Venture 16,200,000\\n10 13/08/2020 Eduvanz FinTech Financial Services Mumbai Sequoia India, Unitus Series A 5,000,000']"
      ]
     },
     "execution_count": 79,
     "metadata": {},
     "output_type": "execute_result"
    }
   ],
   "source": [
    "aug"
   ]
  },
  {
   "cell_type": "code",
   "execution_count": null,
   "id": "39ed81f2",
   "metadata": {},
   "outputs": [],
   "source": []
  },
  {
   "cell_type": "code",
   "execution_count": 80,
   "id": "a3f3d844",
   "metadata": {},
   "outputs": [],
   "source": [
    "info3=driver.find_elements_by_xpath(\"/html/body/div[1]/main/div/div/div/div[2]/div[1]/div/div/div/div[1]/div/div[9]/div[3]/div[2]/table\")\n",
    "for i in info3:\n",
    "    sept.append(i.text)"
   ]
  },
  {
   "cell_type": "code",
   "execution_count": 81,
   "id": "240bcc17",
   "metadata": {},
   "outputs": [
    {
     "data": {
      "text/plain": [
       "['1 08/09/2020 Byju’s EduTech Online Tutoring Bangalore Silver Lake, Tiger Global, General Atlantic and Owl Ventures\\nPrivate Equity 500,000,000\\n2 12/09/2020 mCaffeine Personal Care Skincare & Haircare Mumbai Amicus Capital Private Equity I LLP, Amicus Capital Partners India Fund I and RP-SG Venture Fund 1 Series B 3,000,000\\n3 09/09/2020 Qshala EduTech Online Curiosity Platform for Kids Bangalore Rainmatter Capital Angel 370,000\\n4 02/09/2020 Winzo Online Gaming Online Gaming New Delhi Kalaari Capital Partners, IndigoEdge Management Consultancy Series B 15,500,000\\n5 09/09/2020 Hippo Video Video Customer Experience(CX) Platform Video Customer Experience(CX) Platform Newark, Delaware, United States of Amercia Alpha Wave Incubation, Exfinity Venture Partners and existing backers.\\nSeries A 4,500,000\\n6 07/09/2020 Melorra E-commerce Online Jewelry Store\\nBangalore Shadow Holdings, Lightbox. Debt Financing upto 8,900,000\\n7 07/09/2020 1mg E-commerce Online Pharmacy Gurgaon Gaja Capital, Tata Capital, Partners Group In Progress 100,000,000\\n8 31/08/2020 mfine HealthTech On-Demand Healthcare Services Bangalore Caretech Pte Inc Series B 5,400,000\\n9 31/08/2020 Apna Human Resources Recruitment Platform Bangalore Lightspeed India and Sequoia Capital India Series A 8,000,000\\n10 03/09/2020 Railofy Transportation WL & RAC protection platform Mumbai Chiratae Ventures Seed 950,000']"
      ]
     },
     "execution_count": 81,
     "metadata": {},
     "output_type": "execute_result"
    }
   ],
   "source": [
    "sept"
   ]
  },
  {
   "cell_type": "code",
   "execution_count": null,
   "id": "f8fa6b08",
   "metadata": {},
   "outputs": [],
   "source": [
    "#7. Write a program to scrap all the available details of best gaming laptops from digit.in"
   ]
  },
  {
   "cell_type": "code",
   "execution_count": 3,
   "id": "c6cff0a4",
   "metadata": {},
   "outputs": [],
   "source": [
    "driver=webdriver.Chrome(r\"C:\\Users\\sushr\\OneDrive\\Desktop\\chromedriver\\chromedriver.exe\")\n",
    "time.sleep(6)\n",
    "\n",
    "url = \"https://www.digit.in\"\n",
    "driver.get(url)\n",
    "driver.maximize_window()"
   ]
  },
  {
   "cell_type": "code",
   "execution_count": 4,
   "id": "e4116df8",
   "metadata": {},
   "outputs": [],
   "source": [
    "laptop=driver.find_element_by_xpath('/html/body/div[3]/div/div[2]/div[2]/div[4]/ul/li[9]/a').click()"
   ]
  },
  {
   "cell_type": "code",
   "execution_count": 9,
   "id": "e8c9bfbd",
   "metadata": {},
   "outputs": [
    {
     "data": {
      "text/plain": [
       "<Response [200]>"
      ]
     },
     "execution_count": 9,
     "metadata": {},
     "output_type": "execute_result"
    }
   ],
   "source": [
    "url = 'https://www.digit.in/top-products/best-gaming-laptops-40.html'\n",
    "page = requests.get(url)\n",
    "page"
   ]
  },
  {
   "cell_type": "code",
   "execution_count": 10,
   "id": "0dd5227c",
   "metadata": {},
   "outputs": [],
   "source": [
    "htmlContent= page.content\n",
    "soup= BeautifulSoup(htmlContent,'html.parser')"
   ]
  },
  {
   "cell_type": "code",
   "execution_count": 29,
   "id": "a9f2a7e6",
   "metadata": {},
   "outputs": [],
   "source": [
    "laptopdetails=[]\n",
    "for i in soup.find_all(\"div\", class_='value'):\n",
    "    laptopdetails.append(i.text)\n",
    "    \n",
    "laptopname=[]\n",
    "for i in soup.find_all(\"div\", class_='Top10-Seller'):\n",
    "    laptopname.append(i.text.replace('\\n',','))"
   ]
  },
  {
   "cell_type": "code",
   "execution_count": 30,
   "id": "ac3ee6c1",
   "metadata": {},
   "outputs": [
    {
     "data": {
      "text/plain": [
       "[', List Of Best Gaming Laptops In India  (Dec 2021),,,,Product Name,Seller,Price,,,,,Acer NITRO 5 Ryzen 9 (2021),,Flipkart,,,₹ 129,990,,,,MSI Stealth 15M 11th Gen Core i7-11375H (2021,,Flipkart,,,₹ 134,990,,,,ASUS ROG Strix Scar 15 Ryzen 9-5900HX (2021),,Flipkart,,,₹ 268,990,,,,Alienware Area 51M R2,,N/A,,,₹ 342,989,,,,Alienware m15 R3,,Amazon,,,₹ 319,990,,,,ASUS ROG Strix Scar 15,,Flipkart,,,₹ 215,990,,,,Asus ROG Zephyrus G14,,Amazon,,,₹ 164,990,,,,Lenovo Legion 5i,,Amazon,,,₹ 76,988,,,,ASUS ROG ZEPHYRUS DUO 15,,Amazon,,,₹ 185,000,,,,Acer Aspire 7 gaming,,Amazon,,,₹ 58,390,,,,,']"
      ]
     },
     "execution_count": 30,
     "metadata": {},
     "output_type": "execute_result"
    }
   ],
   "source": [
    "laptopname"
   ]
  },
  {
   "cell_type": "code",
   "execution_count": 31,
   "id": "defb1a7f",
   "metadata": {},
   "outputs": [
    {
     "data": {
      "text/plain": [
       "['Windows 10',\n",
       " '15.6\" (1920 x 1080)',\n",
       " 'AMD Ryzen 9 Octa Core | 2.4 GHz',\n",
       " '1 TB HDD/16 GBGB DDR4',\n",
       " 'Windows 10',\n",
       " '15.6\" (1920 x 1080)',\n",
       " 'Intel Core i7 11th Gen - 11375H  | NA',\n",
       " '1 TB SSD/16 GBGB DDR4',\n",
       " 'Windows 10',\n",
       " '15.6\" (2560 x 1440)',\n",
       " 'AMD Ryzen 9 Octa Core - 5900HX | 3.3 GHz',\n",
       " '2 TB SSD/32 GBGB DDR4',\n",
       " 'Windows 10 Home',\n",
       " '17.3\" (1920 x 1080)',\n",
       " '10th Gen Intel® Core™ i7-10700 | 2.90 GHz',\n",
       " '1 TB SSD/16 GBGB DDR4',\n",
       " 'Windows 10 Home',\n",
       " '15.6\" (3840 x 2160)',\n",
       " '10th Gen Intel® Core™ i9-10980HK  | NA',\n",
       " '1 TB SSD/16 GBGB DDR4',\n",
       " 'Windows 10 Home',\n",
       " '15.6\" (1920 x 1080)',\n",
       " 'AMD Ryzen™ 9 5900HX | 3.3 GHz',\n",
       " '1 TB SSD/16 GBGB DDR4',\n",
       " 'Windows 10 Home',\n",
       " '14\" (1920 x 1080)',\n",
       " 'AMD 3rd Gen Ryzen 9 | 3.3 GHz',\n",
       " '1 TB SSD/16 GBGB DDR4',\n",
       " 'Windows 10 Pro',\n",
       " '15.6\" (1920 x 1080)',\n",
       " '10th Gen Intel® Core™ i5-10300H | 2.50 GHz',\n",
       " '1 TB SSD/16 GBGB DDR4',\n",
       " 'Windows 10',\n",
       " '15.6\" (3840 x 1100)',\n",
       " 'Intel Core i7 10th Gen 10875H  | NA',\n",
       " '512 GB SSD/4 GBGB DDR4',\n",
       " 'Windows 10 Home',\n",
       " '15.6\" (1920 x 1080)',\n",
       " 'AMD Ryzen™ 5-5500U hexa-core  | NA',\n",
       " '512 GB SSD/8 GBGB DDR4']"
      ]
     },
     "execution_count": 31,
     "metadata": {},
     "output_type": "execute_result"
    }
   ],
   "source": [
    "laptopdetails"
   ]
  },
  {
   "cell_type": "code",
   "execution_count": 3,
   "id": "a73e5238",
   "metadata": {},
   "outputs": [],
   "source": [
    "#8.Write a python program to scrape the details for all billionaires from www.forbes.com.\n",
    "#Details to be scrapped: “Rank”, “Name”, “Net worth”, “Age”, “Citizenship”, “Source”,\n",
    "#“Industry”"
   ]
  },
  {
   "cell_type": "code",
   "execution_count": 35,
   "id": "613114de",
   "metadata": {},
   "outputs": [],
   "source": [
    "url = \"https://www.forbes.com/worlds-billionaires/?sh=485632655864\"\n",
    "page2 = requests.get(url)\n",
    "soup2 = BeautifulSoup(page2.content)"
   ]
  },
  {
   "cell_type": "code",
   "execution_count": 36,
   "id": "fa3621da",
   "metadata": {},
   "outputs": [],
   "source": [
    "bill_name = []\n",
    "for i in soup2.find_all(\"div\", class_='personName'):\n",
    "    bill_name.append(i.text)"
   ]
  },
  {
   "cell_type": "code",
   "execution_count": 39,
   "id": "ce758bb0",
   "metadata": {},
   "outputs": [
    {
     "data": {
      "text/plain": [
       "[]"
      ]
     },
     "execution_count": 39,
     "metadata": {},
     "output_type": "execute_result"
    }
   ],
   "source": [
    "rank_name"
   ]
  },
  {
   "cell_type": "raw",
   "id": "de2d3422",
   "metadata": {},
   "source": []
  },
  {
   "cell_type": "code",
   "execution_count": 38,
   "id": "e9f9ce3a",
   "metadata": {},
   "outputs": [],
   "source": [
    "rank_name = []\n",
    "for i in soup2.find_all(\"div\", class_='rank'):\n",
    "    rank_name.append(i.text)"
   ]
  },
  {
   "cell_type": "code",
   "execution_count": null,
   "id": "18315e3f",
   "metadata": {},
   "outputs": [],
   "source": [
    "#9. Write a program to extract at least 500 Comments, Comment upvote and time when comment\n",
    "#was posted from any YouTube Video"
   ]
  },
  {
   "cell_type": "code",
   "execution_count": 40,
   "id": "28b8341d",
   "metadata": {},
   "outputs": [],
   "source": [
    "youtube=webdriver.Chrome(r\"C:\\Users\\sushr\\OneDrive\\Desktop\\chromedriver\\chromedriver.exe\")\n",
    "time.sleep(6)\n",
    "\n",
    "url = \"https://www.youtube.com/\"\n",
    "youtube.get(url)"
   ]
  },
  {
   "cell_type": "code",
   "execution_count": 41,
   "id": "0550fa3c",
   "metadata": {},
   "outputs": [],
   "source": [
    "youtube.maximize_window()"
   ]
  },
  {
   "cell_type": "code",
   "execution_count": 42,
   "id": "798146ec",
   "metadata": {},
   "outputs": [],
   "source": [
    "openvideo=youtube.find_element_by_xpath('/html/body/ytd-app/div/ytd-page-manager/ytd-browse/ytd-two-column-browse-results-renderer/div[1]/ytd-rich-grid-renderer/div[6]/ytd-rich-grid-row[1]/div/ytd-rich-item-renderer/div/ytd-rich-grid-media/div[1]/div[2]/div[1]/h3/a/yt-formatted-string').click()"
   ]
  },
  {
   "cell_type": "code",
   "execution_count": 55,
   "id": "e34a8b8d",
   "metadata": {},
   "outputs": [],
   "source": [
    "comments=[]\n",
    "commentupvote=[]\n",
    "timeofcomment=[]\n",
    "\n",
    "wait = WebDriverWait(youtube,15)\n",
    "for item in range(20): \n",
    "    wait.until(EC.visibility_of_element_located((By.TAG_NAME, \"body\"))).send_keys(Keys.END)\n",
    "    time.sleep(50)\n",
    "\n",
    "for comment in wait.until(EC.presence_of_all_elements_located((By.CSS_SELECTOR, \"#content\"))):\n",
    "    comments.append(comment.text)"
   ]
  },
  {
   "cell_type": "code",
   "execution_count": 53,
   "id": "f95899f7",
   "metadata": {},
   "outputs": [],
   "source": [
    "for upvote in wait.until(EC.presence_of_all_elements_located((By.CSS_SELECTOR, \"#vote-count-middle\"))):\n",
    "    commentupvote.append(upvote.text)\n",
    "    \n",
    "for tt in wait.until(EC.presence_of_all_elements_located((By.CSS_SELECTOR, \"#header-author\"))):\n",
    "    timeofcomment.append(tt.text)"
   ]
  },
  {
   "cell_type": "code",
   "execution_count": 59,
   "id": "63d3e589",
   "metadata": {},
   "outputs": [],
   "source": [
    "com =[comments[x] for x in range(0,500)]\n",
    "times =[timeofcomment[x] for x in range(0,500)]\n",
    "up=[commentupvote[x] for x in range(0,500)]"
   ]
  },
  {
   "cell_type": "code",
   "execution_count": 61,
   "id": "09fce3f5",
   "metadata": {},
   "outputs": [
    {
     "data": {
      "text/html": [
       "<div>\n",
       "<style scoped>\n",
       "    .dataframe tbody tr th:only-of-type {\n",
       "        vertical-align: middle;\n",
       "    }\n",
       "\n",
       "    .dataframe tbody tr th {\n",
       "        vertical-align: top;\n",
       "    }\n",
       "\n",
       "    .dataframe thead th {\n",
       "        text-align: right;\n",
       "    }\n",
       "</style>\n",
       "<table border=\"1\" class=\"dataframe\">\n",
       "  <thead>\n",
       "    <tr style=\"text-align: right;\">\n",
       "      <th></th>\n",
       "      <th>comments</th>\n",
       "      <th>comment_upvote</th>\n",
       "      <th>time_of_comments</th>\n",
       "    </tr>\n",
       "  </thead>\n",
       "  <tbody>\n",
       "    <tr>\n",
       "      <th>0</th>\n",
       "      <td>IN\\nSKIP NAVIGATION\\nSIGN IN\\n0:59 / 3:27\\n#Sa...</td>\n",
       "      <td>987</td>\n",
       "      <td>Xavier\\n3 weeks ago</td>\n",
       "    </tr>\n",
       "    <tr>\n",
       "      <th>1</th>\n",
       "      <td></td>\n",
       "      <td>14</td>\n",
       "      <td>Nonkululeko Shabangu\\n4 hours ago (edited)</td>\n",
       "    </tr>\n",
       "    <tr>\n",
       "      <th>2</th>\n",
       "      <td></td>\n",
       "      <td>17</td>\n",
       "      <td>BD SHAPLA MEDIA Rajbari\\n2 hours ago</td>\n",
       "    </tr>\n",
       "    <tr>\n",
       "      <th>3</th>\n",
       "      <td></td>\n",
       "      <td>52</td>\n",
       "      <td>mamali jena\\n1 day ago</td>\n",
       "    </tr>\n",
       "    <tr>\n",
       "      <th>4</th>\n",
       "      <td></td>\n",
       "      <td>437</td>\n",
       "      <td>♡_rioo_♡\\n8 days ago (edited)</td>\n",
       "    </tr>\n",
       "    <tr>\n",
       "      <th>...</th>\n",
       "      <td>...</td>\n",
       "      <td>...</td>\n",
       "      <td>...</td>\n",
       "    </tr>\n",
       "    <tr>\n",
       "      <th>495</th>\n",
       "      <td>Just awesome moves..</td>\n",
       "      <td></td>\n",
       "      <td>Tapushree Hazra\\n2 days ago</td>\n",
       "    </tr>\n",
       "    <tr>\n",
       "      <th>496</th>\n",
       "      <td>Nora Hai Aki style mein dance karti retai</td>\n",
       "      <td>208</td>\n",
       "      <td>Bhumika Ojha\\n1 month ago</td>\n",
       "    </tr>\n",
       "    <tr>\n",
       "      <th>497</th>\n",
       "      <td>Kalau di Indonesia ada Dewi perssik,dia sangat...</td>\n",
       "      <td>4</td>\n",
       "      <td>Andre Nel Boxy\\n10 days ago</td>\n",
       "    </tr>\n",
       "    <tr>\n",
       "      <th>498</th>\n",
       "      <td>This song launch to K. G. F 2 film then better</td>\n",
       "      <td>25</td>\n",
       "      <td>Nikita music presents\\n7 days ago</td>\n",
       "    </tr>\n",
       "    <tr>\n",
       "      <th>499</th>\n",
       "      <td>Mesmerising, fabulous, awesome not enough to d...</td>\n",
       "      <td>1</td>\n",
       "      <td>Fathi Hmed\\n1 hour ago</td>\n",
       "    </tr>\n",
       "  </tbody>\n",
       "</table>\n",
       "<p>500 rows × 3 columns</p>\n",
       "</div>"
      ],
      "text/plain": [
       "                                              comments comment_upvote  \\\n",
       "0    IN\\nSKIP NAVIGATION\\nSIGN IN\\n0:59 / 3:27\\n#Sa...            987   \n",
       "1                                                                  14   \n",
       "2                                                                  17   \n",
       "3                                                                  52   \n",
       "4                                                                 437   \n",
       "..                                                 ...            ...   \n",
       "495                               Just awesome moves..                  \n",
       "496          Nora Hai Aki style mein dance karti retai            208   \n",
       "497  Kalau di Indonesia ada Dewi perssik,dia sangat...              4   \n",
       "498    This song launch to K. G. F 2 film then better              25   \n",
       "499  Mesmerising, fabulous, awesome not enough to d...              1   \n",
       "\n",
       "                               time_of_comments  \n",
       "0                           Xavier\\n3 weeks ago  \n",
       "1    Nonkululeko Shabangu\\n4 hours ago (edited)  \n",
       "2          BD SHAPLA MEDIA Rajbari\\n2 hours ago  \n",
       "3                        mamali jena\\n1 day ago  \n",
       "4                 ♡_rioo_♡\\n8 days ago (edited)  \n",
       "..                                          ...  \n",
       "495                 Tapushree Hazra\\n2 days ago  \n",
       "496                   Bhumika Ojha\\n1 month ago  \n",
       "497                 Andre Nel Boxy\\n10 days ago  \n",
       "498           Nikita music presents\\n7 days ago  \n",
       "499                      Fathi Hmed\\n1 hour ago  \n",
       "\n",
       "[500 rows x 3 columns]"
      ]
     },
     "execution_count": 61,
     "metadata": {},
     "output_type": "execute_result"
    }
   ],
   "source": [
    "youtubecommentsection=pd.DataFrame({'comments':com,'comment_upvote':up,'time_of_comments':times})\n",
    "youtubecommentsection"
   ]
  },
  {
   "cell_type": "code",
   "execution_count": null,
   "id": "e9945292",
   "metadata": {},
   "outputs": [],
   "source": [
    "#10.Write a python program to scrape a data for all available Hostels from\n",
    "#https://www.hostelworld.com/ in “London” location. You have to scrape hostel name,\n",
    "#distance from city centre, ratings, total reviews, overall reviews, privates from price, dorms\n",
    "#from price, facilities and property description"
   ]
  },
  {
   "cell_type": "code",
   "execution_count": 40,
   "id": "b345fb86",
   "metadata": {},
   "outputs": [],
   "source": [
    "driver=webdriver.Chrome(r\"C:\\Users\\sushr\\OneDrive\\Desktop\\chromedriver\\chromedriver.exe\")\n",
    "time.sleep(5)\n",
    "\n",
    "url = \"https://www.hostelworld.com/\"\n",
    "driver.get(url)\n",
    "sleep.time(5)"
   ]
  },
  {
   "cell_type": "code",
   "execution_count": 42,
   "id": "f248e325",
   "metadata": {},
   "outputs": [],
   "source": [
    "driver.maximize_window()"
   ]
  },
  {
   "cell_type": "code",
   "execution_count": 44,
   "id": "01de7c8d",
   "metadata": {},
   "outputs": [],
   "source": [
    "search_bar = driver.find_element_by_xpath(\"/html/body/div[3]/div/div/div[1]/div[1]/div/div[2]/div[4]/div/div[2]/div/div[1]/div/div/div/input\")    # Locating searc_bar by id\n",
    "search_bar.clear()\n",
    "search_bar.send_keys(\"london\")"
   ]
  },
  {
   "cell_type": "code",
   "execution_count": 45,
   "id": "0253344a",
   "metadata": {},
   "outputs": [],
   "source": [
    "londonselect = driver.find_element_by_xpath(\"/html/body/div[3]/div/div/div[1]/div[1]/div/div[2]/div[4]/div/div[2]/div/div[1]/div/div/ul/li[2]\").click()       # Locating search_button by xpath"
   ]
  },
  {
   "cell_type": "code",
   "execution_count": 46,
   "id": "fb03fa12",
   "metadata": {},
   "outputs": [],
   "source": [
    "search_btn = driver.find_element_by_id('search-button').click()"
   ]
  },
  {
   "cell_type": "code",
   "execution_count": 47,
   "id": "793b0d22",
   "metadata": {},
   "outputs": [],
   "source": [
    "hostelname=[]\n",
    "distancecc=[]\n",
    "ratings=[]\n",
    "totalreviews=[]\n",
    "overallreviews=[]\n",
    "pvtfromprice=[]\n",
    "dormsfromprice=[]\n",
    "facilitiesNpropDescr=[]\n",
    "\n",
    "time.sleep(3)\n",
    "#Scrapping hostel name\n",
    "hn=driver.find_elements_by_xpath(\"//h2[@class='title title-6']\")\n",
    "for i in hn:\n",
    "    hostelname.append(i.text)"
   ]
  },
  {
   "cell_type": "code",
   "execution_count": 48,
   "id": "ac54adab",
   "metadata": {},
   "outputs": [],
   "source": [
    "dcc=driver.find_elements_by_xpath(\"//span[@class='description']\")\n",
    "for i in dcc:\n",
    "    distancecc.append(i.text)\n",
    "    \n",
    "totrs=driver.find_elements_by_xpath(\"//div[@class='reviews']\")\n",
    "for i in totrs:\n",
    "    totalreviews.append(i.text)\n",
    "    \n",
    "ovrs=driver.find_elements_by_xpath(\"/html/body/div[3]/div/div/div[1]/div[4]/div/div/div[3]/div[2]/div[2]/a/div/div[2]/div[1]/span\")\n",
    "for i in ovrs:\n",
    "    overallreviews.append(i.text)\n",
    "    \n",
    "fac=driver.find_elements_by_xpath(\"//div[@class='rating-factors prop-card-tablet rating-factors small']\")\n",
    "for i in fac:\n",
    "    facilitiesNpropDescr.append(i.text)"
   ]
  },
  {
   "cell_type": "code",
   "execution_count": 70,
   "id": "5f327b09",
   "metadata": {},
   "outputs": [],
   "source": [
    "try:                                                                  \n",
    "    rating=driver.find_elements_by_xpath(\"//div[@class='score orange big']\")\n",
    "    ratings.append(rating.text)\n",
    "        \n",
    "except:\n",
    "    r1=driver.find_elements_by_xpath(\"//div[@class='score grey big']\")\n",
    "    ratings.append(\"r1.text\")"
   ]
  },
  {
   "cell_type": "code",
   "execution_count": 49,
   "id": "4433e5a4",
   "metadata": {},
   "outputs": [],
   "source": [
    "pvts=driver.find_elements_by_xpath(\"//div[@class='price-col']\")\n",
    "for i in pvts:\n",
    "    pvtfromprice.append(i.text)"
   ]
  },
  {
   "cell_type": "code",
   "execution_count": 53,
   "id": "e4eebb14",
   "metadata": {},
   "outputs": [],
   "source": [
    "pvts1=[pvtfromprice[x] for x in range(0,len(pvtfromprice),2)]\n",
    "dormsfromprice=[pvtfromprice[x] for x in range(1,len(pvtfromprice),2)]"
   ]
  },
  {
   "cell_type": "code",
   "execution_count": 63,
   "id": "15bff4a8",
   "metadata": {},
   "outputs": [],
   "source": [
    "ovrs=driver.find_elements_by_xpath(\"//div[@class='keyword']\")\n",
    "for i in ovrs:\n",
    "    overallreviews.append(i.text)"
   ]
  },
  {
   "cell_type": "code",
   "execution_count": 73,
   "id": "85dc7041",
   "metadata": {},
   "outputs": [],
   "source": [
    "ovrs1=[overallreviews[x] for x in range(0,30)]\n",
    "Ratings=[ratings[x] for x in range (0,30)]"
   ]
  },
  {
   "cell_type": "code",
   "execution_count": 76,
   "id": "9d98515d",
   "metadata": {},
   "outputs": [
    {
     "data": {
      "text/html": [
       "<div>\n",
       "<style scoped>\n",
       "    .dataframe tbody tr th:only-of-type {\n",
       "        vertical-align: middle;\n",
       "    }\n",
       "\n",
       "    .dataframe tbody tr th {\n",
       "        vertical-align: top;\n",
       "    }\n",
       "\n",
       "    .dataframe thead th {\n",
       "        text-align: right;\n",
       "    }\n",
       "</style>\n",
       "<table border=\"1\" class=\"dataframe\">\n",
       "  <thead>\n",
       "    <tr style=\"text-align: right;\">\n",
       "      <th></th>\n",
       "      <th>hostel_name</th>\n",
       "      <th>distance_from_citycenter</th>\n",
       "      <th>Ratings</th>\n",
       "      <th>Total_Reviews</th>\n",
       "      <th>OverallReviews</th>\n",
       "      <th>DormsFromPrice</th>\n",
       "      <th>PrivateFromPrice</th>\n",
       "      <th>Facilities_and_Properties_Description</th>\n",
       "    </tr>\n",
       "  </thead>\n",
       "  <tbody>\n",
       "    <tr>\n",
       "      <th>0</th>\n",
       "      <td>Smart Russell Square Hostel</td>\n",
       "      <td>Hostel - 2.6km from city centre</td>\n",
       "      <td>6.6</td>\n",
       "      <td>9555 Total Reviews</td>\n",
       "      <td>Good</td>\n",
       "      <td>Dorms From\\nRs1546</td>\n",
       "      <td>No Privates Available</td>\n",
       "      <td>Perfect Location\\nBrilliant Staff\\nAwesome Cle...</td>\n",
       "    </tr>\n",
       "    <tr>\n",
       "      <th>1</th>\n",
       "      <td>Smart Camden Inn Hostel</td>\n",
       "      <td>Hostel - 4.4km from city centre</td>\n",
       "      <td>8.4</td>\n",
       "      <td>2726 Total Reviews</td>\n",
       "      <td>Superb</td>\n",
       "      <td>Dorms From\\nRs1847</td>\n",
       "      <td>No Privates Available</td>\n",
       "      <td>Perfect Location\\nSuperb Staff\\nExcellent Clea...</td>\n",
       "    </tr>\n",
       "    <tr>\n",
       "      <th>2</th>\n",
       "      <td>Selina Camden</td>\n",
       "      <td>Hostel - 5.5km from city centre</td>\n",
       "      <td>9.1</td>\n",
       "      <td>13 Total Reviews</td>\n",
       "      <td>Fabulous</td>\n",
       "      <td>Dorms From\\nRs5266.62 Rs4477</td>\n",
       "      <td>Privates From\\nRs18434</td>\n",
       "      <td>Perfect Location\\nSuperb Staff\\nFantastic Clea...</td>\n",
       "    </tr>\n",
       "    <tr>\n",
       "      <th>3</th>\n",
       "      <td>Queen Elizabeth Chelsea</td>\n",
       "      <td>Hostel - 5.7km from city centre</td>\n",
       "      <td>7.6</td>\n",
       "      <td>3206 Total Reviews</td>\n",
       "      <td>Fabulous</td>\n",
       "      <td>Dorms From\\nRs1715</td>\n",
       "      <td>Privates From\\nRs5082</td>\n",
       "      <td>Perfect Location\\nSuperb Staff\\nAwesome Cleanl...</td>\n",
       "    </tr>\n",
       "    <tr>\n",
       "      <th>4</th>\n",
       "      <td>New Cross Inn Hostel</td>\n",
       "      <td>Hostel - 6.1km from city centre</td>\n",
       "      <td>7.1</td>\n",
       "      <td>1040 Total Reviews</td>\n",
       "      <td>Good</td>\n",
       "      <td>Dorms From\\nRs3678</td>\n",
       "      <td>Privates From\\nRs11905</td>\n",
       "      <td>Wonderful Location\\nMarvellous Staff\\nAwesome ...</td>\n",
       "    </tr>\n",
       "  </tbody>\n",
       "</table>\n",
       "</div>"
      ],
      "text/plain": [
       "                   hostel_name         distance_from_citycenter Ratings  \\\n",
       "0  Smart Russell Square Hostel  Hostel - 2.6km from city centre     6.6   \n",
       "1      Smart Camden Inn Hostel  Hostel - 4.4km from city centre     8.4   \n",
       "2                Selina Camden  Hostel - 5.5km from city centre     9.1   \n",
       "3      Queen Elizabeth Chelsea  Hostel - 5.7km from city centre     7.6   \n",
       "4         New Cross Inn Hostel  Hostel - 6.1km from city centre     7.1   \n",
       "\n",
       "        Total_Reviews OverallReviews                DormsFromPrice  \\\n",
       "0  9555 Total Reviews           Good            Dorms From\\nRs1546   \n",
       "1  2726 Total Reviews         Superb            Dorms From\\nRs1847   \n",
       "2    13 Total Reviews       Fabulous  Dorms From\\nRs5266.62 Rs4477   \n",
       "3  3206 Total Reviews       Fabulous            Dorms From\\nRs1715   \n",
       "4  1040 Total Reviews           Good            Dorms From\\nRs3678   \n",
       "\n",
       "         PrivateFromPrice              Facilities_and_Properties_Description  \n",
       "0   No Privates Available  Perfect Location\\nBrilliant Staff\\nAwesome Cle...  \n",
       "1   No Privates Available  Perfect Location\\nSuperb Staff\\nExcellent Clea...  \n",
       "2  Privates From\\nRs18434  Perfect Location\\nSuperb Staff\\nFantastic Clea...  \n",
       "3   Privates From\\nRs5082  Perfect Location\\nSuperb Staff\\nAwesome Cleanl...  \n",
       "4  Privates From\\nRs11905  Wonderful Location\\nMarvellous Staff\\nAwesome ...  "
      ]
     },
     "execution_count": 76,
     "metadata": {},
     "output_type": "execute_result"
    }
   ],
   "source": [
    "london_hostels=pd.DataFrame({'hostel_name':hostelname,'distance_from_citycenter':distancecc,'Ratings':Ratings,'Total_Reviews':totalreviews,\n",
    "                 'OverallReviews':ovrs1,'DormsFromPrice':dormsfromprice,'PrivateFromPrice':pvts1,'Facilities_and_Properties_Description':facilitiesNpropDescr})\n",
    "london_hostels.head()"
   ]
  },
  {
   "cell_type": "code",
   "execution_count": null,
   "id": "78c7cc40",
   "metadata": {},
   "outputs": [],
   "source": []
  },
  {
   "cell_type": "code",
   "execution_count": null,
   "id": "32a3dabf",
   "metadata": {},
   "outputs": [],
   "source": []
  }
 ],
 "metadata": {
  "kernelspec": {
   "display_name": "Python 3",
   "language": "python",
   "name": "python3"
  },
  "language_info": {
   "codemirror_mode": {
    "name": "ipython",
    "version": 3
   },
   "file_extension": ".py",
   "mimetype": "text/x-python",
   "name": "python",
   "nbconvert_exporter": "python",
   "pygments_lexer": "ipython3",
   "version": "3.8.8"
  }
 },
 "nbformat": 4,
 "nbformat_minor": 5
}
