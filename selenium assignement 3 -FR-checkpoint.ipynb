{
 "cells": [
  {
   "cell_type": "markdown",
   "id": "6ad285e2",
   "metadata": {},
   "source": [
    "# WEB SCRAPING  - SELENIUM ASSIGNMENT"
   ]
  },
  {
   "cell_type": "code",
   "execution_count": 2,
   "id": "2bf1181f",
   "metadata": {},
   "outputs": [],
   "source": [
    "#Q1: Write a python program to scrape data for “Data Analyst” Job position in “Bangalore” location. \n",
    "#You have to scrape the job-title, job-location, company_name, experience_required. You have to scrape first 10 jobs data."
   ]
  },
  {
   "cell_type": "code",
   "execution_count": 85,
   "id": "e6e227c9",
   "metadata": {},
   "outputs": [
    {
     "name": "stdout",
     "output_type": "stream",
     "text": [
      "Requirement already satisfied: selenium in c:\\users\\sushr\\anaconda3\\lib\\site-packages (4.0.0)\n",
      "Requirement already satisfied: trio~=0.17 in c:\\users\\sushr\\anaconda3\\lib\\site-packages (from selenium) (0.19.0)\n",
      "Requirement already satisfied: urllib3[secure]~=1.26 in c:\\users\\sushr\\anaconda3\\lib\\site-packages (from selenium) (1.26.4)\n",
      "Requirement already satisfied: trio-websocket~=0.9 in c:\\users\\sushr\\anaconda3\\lib\\site-packages (from selenium) (0.9.2)\n",
      "Requirement already satisfied: attrs>=19.2.0 in c:\\users\\sushr\\anaconda3\\lib\\site-packages (from trio~=0.17->selenium) (20.3.0)\n",
      "Requirement already satisfied: sortedcontainers in c:\\users\\sushr\\anaconda3\\lib\\site-packages (from trio~=0.17->selenium) (2.3.0)\n",
      "Requirement already satisfied: sniffio in c:\\users\\sushr\\anaconda3\\lib\\site-packages (from trio~=0.17->selenium) (1.2.0)\n",
      "Requirement already satisfied: outcome in c:\\users\\sushr\\anaconda3\\lib\\site-packages (from trio~=0.17->selenium) (1.1.0)\n",
      "Requirement already satisfied: idna in c:\\users\\sushr\\anaconda3\\lib\\site-packages (from trio~=0.17->selenium) (2.10)\n",
      "Requirement already satisfied: cffi>=1.14 in c:\\users\\sushr\\anaconda3\\lib\\site-packages (from trio~=0.17->selenium) (1.14.5)\n",
      "Requirement already satisfied: async-generator>=1.9 in c:\\users\\sushr\\anaconda3\\lib\\site-packages (from trio~=0.17->selenium) (1.10)\n",
      "Requirement already satisfied: pycparser in c:\\users\\sushr\\anaconda3\\lib\\site-packages (from cffi>=1.14->trio~=0.17->selenium) (2.20)\n",
      "Requirement already satisfied: wsproto>=0.14 in c:\\users\\sushr\\anaconda3\\lib\\site-packages (from trio-websocket~=0.9->selenium) (1.0.0)\n",
      "Requirement already satisfied: cryptography>=1.3.4 in c:\\users\\sushr\\anaconda3\\lib\\site-packages (from urllib3[secure]~=1.26->selenium) (3.4.7)\n",
      "Requirement already satisfied: pyOpenSSL>=0.14 in c:\\users\\sushr\\anaconda3\\lib\\site-packages (from urllib3[secure]~=1.26->selenium) (20.0.1)\n",
      "Requirement already satisfied: certifi in c:\\users\\sushr\\anaconda3\\lib\\site-packages (from urllib3[secure]~=1.26->selenium) (2020.12.5)\n",
      "Requirement already satisfied: six>=1.5.2 in c:\\users\\sushr\\anaconda3\\lib\\site-packages (from pyOpenSSL>=0.14->urllib3[secure]~=1.26->selenium) (1.15.0)\n",
      "Requirement already satisfied: h11<1,>=0.9.0 in c:\\users\\sushr\\anaconda3\\lib\\site-packages (from wsproto>=0.14->trio-websocket~=0.9->selenium) (0.12.0)\n"
     ]
    }
   ],
   "source": [
    "! pip install selenium"
   ]
  },
  {
   "cell_type": "code",
   "execution_count": 6,
   "id": "c82f7510",
   "metadata": {},
   "outputs": [],
   "source": [
    "import selenium\n",
    "import pandas as pd\n",
    "from selenium import webdriver"
   ]
  },
  {
   "cell_type": "code",
   "execution_count": 50,
   "id": "e88ca896",
   "metadata": {},
   "outputs": [
    {
     "name": "stderr",
     "output_type": "stream",
     "text": [
      "<ipython-input-50-ada3ed53b577>:1: DeprecationWarning: executable_path has been deprecated, please pass in a Service object\n",
      "  driver = webdriver.Chrome(r\"C:\\Users\\sushr\\OneDrive\\Desktop\\chromedriver\\chromedriver.exe\")\n"
     ]
    }
   ],
   "source": [
    "driver = webdriver.Chrome(r\"C:\\Users\\sushr\\OneDrive\\Desktop\\chromedriver\\chromedriver.exe\")"
   ]
  },
  {
   "cell_type": "code",
   "execution_count": 51,
   "id": "b0081b52",
   "metadata": {},
   "outputs": [],
   "source": [
    "driver.get('https://www.naukri.com/')"
   ]
  },
  {
   "cell_type": "code",
   "execution_count": 52,
   "id": "8463eb52",
   "metadata": {},
   "outputs": [
    {
     "name": "stderr",
     "output_type": "stream",
     "text": [
      "<ipython-input-52-977ce425f33d>:1: DeprecationWarning: find_element_by_* commands are deprecated. Please use find_element() instead\n",
      "  search_job = driver.find_element_by_id('qsb-keyword-sugg')\n",
      "<ipython-input-52-977ce425f33d>:3: DeprecationWarning: find_element_by_* commands are deprecated. Please use find_element() instead\n",
      "  search_loc = driver.find_element_by_xpath(\"//input[@id='qsb-location-sugg']\")\n",
      "<ipython-input-52-977ce425f33d>:5: DeprecationWarning: find_element_by_* commands are deprecated. Please use find_element() instead\n",
      "  search_btn = driver.find_element_by_xpath(\"//div[@class='search-btn']/button\")\n"
     ]
    }
   ],
   "source": [
    "search_job = driver.find_element_by_id('qsb-keyword-sugg')\n",
    "search_job.send_keys('Data Analyst')\n",
    "search_loc = driver.find_element_by_xpath(\"//input[@id='qsb-location-sugg']\")\n",
    "search_loc.send_keys('Bangalore')\n",
    "search_btn = driver.find_element_by_xpath(\"//div[@class='search-btn']/button\")\n",
    "search_btn.click()"
   ]
  },
  {
   "cell_type": "code",
   "execution_count": 53,
   "id": "73559b4e",
   "metadata": {},
   "outputs": [],
   "source": [
    "url = \"https://www.naukri.com/data-analyst-jobs-in-bangalore?k=data%20analyst&l=bangalore\"\n",
    "driver.get(url)"
   ]
  },
  {
   "cell_type": "code",
   "execution_count": 54,
   "id": "3daf84a5",
   "metadata": {},
   "outputs": [],
   "source": [
    "job_titles=[]\n",
    "location_list=[]\n",
    "company_name=[]\n",
    "experience_list=[]"
   ]
  },
  {
   "cell_type": "code",
   "execution_count": 55,
   "id": "7a21ee12",
   "metadata": {},
   "outputs": [
    {
     "name": "stderr",
     "output_type": "stream",
     "text": [
      "<ipython-input-55-432ea5a6f77d>:1: DeprecationWarning: find_elements_by_* commands are deprecated. Please use find_elements() instead\n",
      "  titles_tags = driver.find_elements_by_xpath(\"//a[@class='title fw500 ellipsis']\")\n"
     ]
    },
    {
     "data": {
      "text/plain": [
       "[<selenium.webdriver.remote.webelement.WebElement (session=\"454605237a2b13e6e2d1273785bcf7a7\", element=\"4d564c81-af79-42df-8f91-77d4583b7a37\")>,\n",
       " <selenium.webdriver.remote.webelement.WebElement (session=\"454605237a2b13e6e2d1273785bcf7a7\", element=\"b152aa53-4821-46fa-8f48-7bf1c8df03fe\")>,\n",
       " <selenium.webdriver.remote.webelement.WebElement (session=\"454605237a2b13e6e2d1273785bcf7a7\", element=\"d81563f3-a31a-40fa-8603-9250e4fb7e19\")>,\n",
       " <selenium.webdriver.remote.webelement.WebElement (session=\"454605237a2b13e6e2d1273785bcf7a7\", element=\"3da1da27-9766-49d3-b5cc-a89b30bc93be\")>,\n",
       " <selenium.webdriver.remote.webelement.WebElement (session=\"454605237a2b13e6e2d1273785bcf7a7\", element=\"4d28fe33-f6bd-406a-8737-7144a4850500\")>,\n",
       " <selenium.webdriver.remote.webelement.WebElement (session=\"454605237a2b13e6e2d1273785bcf7a7\", element=\"c9cb01bf-a188-46d2-a9cc-43940085e91e\")>,\n",
       " <selenium.webdriver.remote.webelement.WebElement (session=\"454605237a2b13e6e2d1273785bcf7a7\", element=\"d773b0ec-5a68-477e-b6f3-57904e57374c\")>,\n",
       " <selenium.webdriver.remote.webelement.WebElement (session=\"454605237a2b13e6e2d1273785bcf7a7\", element=\"c32d31fb-507d-4842-bcb0-6b4b2ebbcb92\")>,\n",
       " <selenium.webdriver.remote.webelement.WebElement (session=\"454605237a2b13e6e2d1273785bcf7a7\", element=\"94d55563-ac9d-4c43-b8fd-e1849c48ee81\")>,\n",
       " <selenium.webdriver.remote.webelement.WebElement (session=\"454605237a2b13e6e2d1273785bcf7a7\", element=\"8825be87-8da1-4b5c-86df-c09539cbe12e\")>]"
      ]
     },
     "execution_count": 55,
     "metadata": {},
     "output_type": "execute_result"
    }
   ],
   "source": [
    "titles_tags = driver.find_elements_by_xpath(\"//a[@class='title fw500 ellipsis']\")\n",
    "titles_tags[0:10]"
   ]
  },
  {
   "cell_type": "code",
   "execution_count": 56,
   "id": "4c5c6d30",
   "metadata": {},
   "outputs": [
    {
     "data": {
      "text/plain": [
       "['Business Data Analyst - Database Design/Mining',\n",
       " 'Data Analyst',\n",
       " 'Data Analyst',\n",
       " 'Data Analyst',\n",
       " 'Business Data Analyst - MIS & Reporting',\n",
       " 'Business Data Analyst',\n",
       " 'Senior Data Analyst - SQL/Tableau/Redshift',\n",
       " 'Power BI - Data Analyst - Biocon Biologics',\n",
       " 'Senior Data Analyst',\n",
       " 'ID&A - Data Analyst - Informatica MDM']"
      ]
     },
     "execution_count": 56,
     "metadata": {},
     "output_type": "execute_result"
    }
   ],
   "source": [
    "for i in titles_tags:\n",
    "    title=i.text\n",
    "    job_titles.append(title)\n",
    "job_titles[0:10]\n",
    "    "
   ]
  },
  {
   "cell_type": "code",
   "execution_count": 57,
   "id": "8eb362c4",
   "metadata": {},
   "outputs": [
    {
     "name": "stderr",
     "output_type": "stream",
     "text": [
      "<ipython-input-57-edca770a560f>:1: DeprecationWarning: find_elements_by_* commands are deprecated. Please use find_elements() instead\n",
      "  location_tags = driver.find_elements_by_xpath(\"//li[@class='fleft grey-text br2 placeHolderLi location']/span[1]\")\n"
     ]
    },
    {
     "data": {
      "text/plain": [
       "[<selenium.webdriver.remote.webelement.WebElement (session=\"454605237a2b13e6e2d1273785bcf7a7\", element=\"3e819a47-5e34-4a89-a60a-4085f1191655\")>,\n",
       " <selenium.webdriver.remote.webelement.WebElement (session=\"454605237a2b13e6e2d1273785bcf7a7\", element=\"554a6092-d2f2-401a-9d0e-fd7fbf22dac7\")>,\n",
       " <selenium.webdriver.remote.webelement.WebElement (session=\"454605237a2b13e6e2d1273785bcf7a7\", element=\"4e6cc196-0fa3-40c4-85b1-5cbfe3759666\")>,\n",
       " <selenium.webdriver.remote.webelement.WebElement (session=\"454605237a2b13e6e2d1273785bcf7a7\", element=\"a74b3838-89e9-4b04-8805-456cbb57f273\")>,\n",
       " <selenium.webdriver.remote.webelement.WebElement (session=\"454605237a2b13e6e2d1273785bcf7a7\", element=\"9c45c33f-adaa-4eff-b0b6-b68e22ac054e\")>,\n",
       " <selenium.webdriver.remote.webelement.WebElement (session=\"454605237a2b13e6e2d1273785bcf7a7\", element=\"b17fadaf-4b22-4cba-834f-cd42a6648de3\")>,\n",
       " <selenium.webdriver.remote.webelement.WebElement (session=\"454605237a2b13e6e2d1273785bcf7a7\", element=\"4e495b6c-4e3e-418f-9466-c18162f50ef8\")>,\n",
       " <selenium.webdriver.remote.webelement.WebElement (session=\"454605237a2b13e6e2d1273785bcf7a7\", element=\"e5a9bad4-0734-41bc-b390-7691549513c8\")>,\n",
       " <selenium.webdriver.remote.webelement.WebElement (session=\"454605237a2b13e6e2d1273785bcf7a7\", element=\"e68d35bc-012e-4769-8f13-4f559b2b1b74\")>,\n",
       " <selenium.webdriver.remote.webelement.WebElement (session=\"454605237a2b13e6e2d1273785bcf7a7\", element=\"e914ee12-8d8f-49c6-882d-4cff341c0b93\")>]"
      ]
     },
     "execution_count": 57,
     "metadata": {},
     "output_type": "execute_result"
    }
   ],
   "source": [
    "location_tags = driver.find_elements_by_xpath(\"//li[@class='fleft grey-text br2 placeHolderLi location']/span[1]\")\n",
    "location_tags[0:10]"
   ]
  },
  {
   "cell_type": "code",
   "execution_count": 58,
   "id": "aba52ad7",
   "metadata": {},
   "outputs": [
    {
     "data": {
      "text/plain": [
       "['Bangalore/Bengaluru',\n",
       " 'Bangalore/Bengaluru',\n",
       " 'Bangalore/Bengaluru',\n",
       " 'Bangalore/Bengaluru',\n",
       " 'Mumbai, Bangalore/Bengaluru',\n",
       " 'Bangalore/Bengaluru',\n",
       " 'Noida, Mumbai, Indore, Hyderabad/Secunderabad, Pune, Chennai, Bangalore/Bengaluru',\n",
       " 'Bangalore/Bengaluru',\n",
       " 'Bangalore/Bengaluru',\n",
       " 'Bangalore/Bengaluru']"
      ]
     },
     "execution_count": 58,
     "metadata": {},
     "output_type": "execute_result"
    }
   ],
   "source": [
    "for i in location_tags:\n",
    "    location=i.text\n",
    "    location_list.append(location)\n",
    "    \n",
    "location_list[0:10]"
   ]
  },
  {
   "cell_type": "code",
   "execution_count": 59,
   "id": "2523972a",
   "metadata": {},
   "outputs": [
    {
     "name": "stderr",
     "output_type": "stream",
     "text": [
      "<ipython-input-59-604f1726292c>:1: DeprecationWarning: find_elements_by_* commands are deprecated. Please use find_elements() instead\n",
      "  companyname_tags = driver.find_elements_by_xpath(\"//a[@class='subTitle ellipsis fleft']\")\n"
     ]
    },
    {
     "data": {
      "text/plain": [
       "['AugmatrixGo',\n",
       " 'Applied Materials',\n",
       " 'Shell',\n",
       " 'Shell',\n",
       " 'INTERTRUST GROUP',\n",
       " 'NetApp',\n",
       " 'Pronto Consulting Services',\n",
       " 'BIOCON BIOLOGICS LIMITED',\n",
       " 'Utthunga Technologies Pvt Ltd',\n",
       " 'Shell']"
      ]
     },
     "execution_count": 59,
     "metadata": {},
     "output_type": "execute_result"
    }
   ],
   "source": [
    "companyname_tags = driver.find_elements_by_xpath(\"//a[@class='subTitle ellipsis fleft']\")\n",
    "companyname_tags[0:10]\n",
    "\n",
    "for i in companyname_tags:\n",
    "    companyname=i.text\n",
    "    company_name.append(companyname)\n",
    "    \n",
    "company_name[0:10]"
   ]
  },
  {
   "cell_type": "code",
   "execution_count": 60,
   "id": "2d839a37",
   "metadata": {},
   "outputs": [
    {
     "name": "stderr",
     "output_type": "stream",
     "text": [
      "<ipython-input-60-5fa767a63a3e>:1: DeprecationWarning: find_elements_by_* commands are deprecated. Please use find_elements() instead\n",
      "  experience_tags = driver.find_elements_by_xpath(\"//li[@class='fleft grey-text br2 placeHolderLi experience']/span[1]\")\n"
     ]
    },
    {
     "data": {
      "text/plain": [
       "[<selenium.webdriver.remote.webelement.WebElement (session=\"454605237a2b13e6e2d1273785bcf7a7\", element=\"bde20457-3e82-405e-b4a2-472de4e339f0\")>,\n",
       " <selenium.webdriver.remote.webelement.WebElement (session=\"454605237a2b13e6e2d1273785bcf7a7\", element=\"5f3cbedc-3145-4386-a5d4-6377b94bf27c\")>,\n",
       " <selenium.webdriver.remote.webelement.WebElement (session=\"454605237a2b13e6e2d1273785bcf7a7\", element=\"53947a7b-ab88-4a34-a454-cf0c5afdd9e0\")>,\n",
       " <selenium.webdriver.remote.webelement.WebElement (session=\"454605237a2b13e6e2d1273785bcf7a7\", element=\"5a44d1ff-e39b-4df6-8faa-fda56fbca9bf\")>,\n",
       " <selenium.webdriver.remote.webelement.WebElement (session=\"454605237a2b13e6e2d1273785bcf7a7\", element=\"5ca801b7-f486-4ee2-8f10-76b24e2119f7\")>,\n",
       " <selenium.webdriver.remote.webelement.WebElement (session=\"454605237a2b13e6e2d1273785bcf7a7\", element=\"81b52518-6dab-4d37-a798-6a7e2ec5a0ac\")>,\n",
       " <selenium.webdriver.remote.webelement.WebElement (session=\"454605237a2b13e6e2d1273785bcf7a7\", element=\"7276ad9a-1fd2-4383-a0c2-a38371c2d9a8\")>,\n",
       " <selenium.webdriver.remote.webelement.WebElement (session=\"454605237a2b13e6e2d1273785bcf7a7\", element=\"cdb0990a-ad56-4d71-aa67-64b5ebf50eb9\")>,\n",
       " <selenium.webdriver.remote.webelement.WebElement (session=\"454605237a2b13e6e2d1273785bcf7a7\", element=\"ac4edcc5-cd87-44bd-86e1-fd84ac25be26\")>,\n",
       " <selenium.webdriver.remote.webelement.WebElement (session=\"454605237a2b13e6e2d1273785bcf7a7\", element=\"ff8e1bc2-b154-4d7d-ae21-d05127fc7178\")>]"
      ]
     },
     "execution_count": 60,
     "metadata": {},
     "output_type": "execute_result"
    }
   ],
   "source": [
    "experience_tags = driver.find_elements_by_xpath(\"//li[@class='fleft grey-text br2 placeHolderLi experience']/span[1]\")\n",
    "experience_tags[0:10]"
   ]
  },
  {
   "cell_type": "code",
   "execution_count": 61,
   "id": "919debf3",
   "metadata": {},
   "outputs": [
    {
     "data": {
      "text/plain": [
       "['2-5 Yrs',\n",
       " '0-3 Yrs',\n",
       " '5-8 Yrs',\n",
       " '5-10 Yrs',\n",
       " '3-8 Yrs',\n",
       " '5-10 Yrs',\n",
       " '6-10 Yrs',\n",
       " '3-8 Yrs',\n",
       " '3-4 Yrs',\n",
       " '5-9 Yrs']"
      ]
     },
     "execution_count": 61,
     "metadata": {},
     "output_type": "execute_result"
    }
   ],
   "source": [
    "for i in experience_tags:\n",
    "    experience=i.text\n",
    "    experience_list.append(experience)\n",
    "    \n",
    "experience_list[0:10]"
   ]
  },
  {
   "cell_type": "code",
   "execution_count": 62,
   "id": "f883c0cb",
   "metadata": {},
   "outputs": [
    {
     "name": "stdout",
     "output_type": "stream",
     "text": [
      "20 20 20 20\n"
     ]
    }
   ],
   "source": [
    "print(len(job_titles),len(location_list),len(company_name),len(experience_list))"
   ]
  },
  {
   "cell_type": "code",
   "execution_count": 63,
   "id": "944476bf",
   "metadata": {},
   "outputs": [],
   "source": [
    "import pandas as pd\n",
    "jobs=pd.DataFrame({})\n",
    "jobs['title']=job_titles[0:10]\n",
    "jobs['company']=company_name[0:10]\n",
    "jobs['experience_required']=experience_list[0:10]\n",
    "jobs['location']=location_list[0:10]"
   ]
  },
  {
   "cell_type": "code",
   "execution_count": 64,
   "id": "da786b27",
   "metadata": {},
   "outputs": [
    {
     "data": {
      "text/html": [
       "<div>\n",
       "<style scoped>\n",
       "    .dataframe tbody tr th:only-of-type {\n",
       "        vertical-align: middle;\n",
       "    }\n",
       "\n",
       "    .dataframe tbody tr th {\n",
       "        vertical-align: top;\n",
       "    }\n",
       "\n",
       "    .dataframe thead th {\n",
       "        text-align: right;\n",
       "    }\n",
       "</style>\n",
       "<table border=\"1\" class=\"dataframe\">\n",
       "  <thead>\n",
       "    <tr style=\"text-align: right;\">\n",
       "      <th></th>\n",
       "      <th>title</th>\n",
       "      <th>company</th>\n",
       "      <th>experience_required</th>\n",
       "      <th>location</th>\n",
       "    </tr>\n",
       "  </thead>\n",
       "  <tbody>\n",
       "    <tr>\n",
       "      <th>0</th>\n",
       "      <td>Business Data Analyst - Database Design/Mining</td>\n",
       "      <td>AugmatrixGo</td>\n",
       "      <td>2-5 Yrs</td>\n",
       "      <td>Bangalore/Bengaluru</td>\n",
       "    </tr>\n",
       "    <tr>\n",
       "      <th>1</th>\n",
       "      <td>Data Analyst</td>\n",
       "      <td>Applied Materials</td>\n",
       "      <td>0-3 Yrs</td>\n",
       "      <td>Bangalore/Bengaluru</td>\n",
       "    </tr>\n",
       "    <tr>\n",
       "      <th>2</th>\n",
       "      <td>Data Analyst</td>\n",
       "      <td>Shell</td>\n",
       "      <td>5-8 Yrs</td>\n",
       "      <td>Bangalore/Bengaluru</td>\n",
       "    </tr>\n",
       "    <tr>\n",
       "      <th>3</th>\n",
       "      <td>Data Analyst</td>\n",
       "      <td>Shell</td>\n",
       "      <td>5-10 Yrs</td>\n",
       "      <td>Bangalore/Bengaluru</td>\n",
       "    </tr>\n",
       "    <tr>\n",
       "      <th>4</th>\n",
       "      <td>Business Data Analyst - MIS &amp; Reporting</td>\n",
       "      <td>INTERTRUST GROUP</td>\n",
       "      <td>3-8 Yrs</td>\n",
       "      <td>Mumbai, Bangalore/Bengaluru</td>\n",
       "    </tr>\n",
       "    <tr>\n",
       "      <th>5</th>\n",
       "      <td>Business Data Analyst</td>\n",
       "      <td>NetApp</td>\n",
       "      <td>5-10 Yrs</td>\n",
       "      <td>Bangalore/Bengaluru</td>\n",
       "    </tr>\n",
       "    <tr>\n",
       "      <th>6</th>\n",
       "      <td>Senior Data Analyst - SQL/Tableau/Redshift</td>\n",
       "      <td>Pronto Consulting Services</td>\n",
       "      <td>6-10 Yrs</td>\n",
       "      <td>Noida, Mumbai, Indore, Hyderabad/Secunderabad,...</td>\n",
       "    </tr>\n",
       "    <tr>\n",
       "      <th>7</th>\n",
       "      <td>Power BI - Data Analyst - Biocon Biologics</td>\n",
       "      <td>BIOCON BIOLOGICS LIMITED</td>\n",
       "      <td>3-8 Yrs</td>\n",
       "      <td>Bangalore/Bengaluru</td>\n",
       "    </tr>\n",
       "    <tr>\n",
       "      <th>8</th>\n",
       "      <td>Senior Data Analyst</td>\n",
       "      <td>Utthunga Technologies Pvt Ltd</td>\n",
       "      <td>3-4 Yrs</td>\n",
       "      <td>Bangalore/Bengaluru</td>\n",
       "    </tr>\n",
       "    <tr>\n",
       "      <th>9</th>\n",
       "      <td>ID&amp;A - Data Analyst - Informatica MDM</td>\n",
       "      <td>Shell</td>\n",
       "      <td>5-9 Yrs</td>\n",
       "      <td>Bangalore/Bengaluru</td>\n",
       "    </tr>\n",
       "  </tbody>\n",
       "</table>\n",
       "</div>"
      ],
      "text/plain": [
       "                                            title  \\\n",
       "0  Business Data Analyst - Database Design/Mining   \n",
       "1                                    Data Analyst   \n",
       "2                                    Data Analyst   \n",
       "3                                    Data Analyst   \n",
       "4         Business Data Analyst - MIS & Reporting   \n",
       "5                           Business Data Analyst   \n",
       "6      Senior Data Analyst - SQL/Tableau/Redshift   \n",
       "7      Power BI - Data Analyst - Biocon Biologics   \n",
       "8                             Senior Data Analyst   \n",
       "9           ID&A - Data Analyst - Informatica MDM   \n",
       "\n",
       "                         company experience_required  \\\n",
       "0                    AugmatrixGo             2-5 Yrs   \n",
       "1              Applied Materials             0-3 Yrs   \n",
       "2                          Shell             5-8 Yrs   \n",
       "3                          Shell            5-10 Yrs   \n",
       "4               INTERTRUST GROUP             3-8 Yrs   \n",
       "5                         NetApp            5-10 Yrs   \n",
       "6     Pronto Consulting Services            6-10 Yrs   \n",
       "7       BIOCON BIOLOGICS LIMITED             3-8 Yrs   \n",
       "8  Utthunga Technologies Pvt Ltd             3-4 Yrs   \n",
       "9                          Shell             5-9 Yrs   \n",
       "\n",
       "                                            location  \n",
       "0                                Bangalore/Bengaluru  \n",
       "1                                Bangalore/Bengaluru  \n",
       "2                                Bangalore/Bengaluru  \n",
       "3                                Bangalore/Bengaluru  \n",
       "4                        Mumbai, Bangalore/Bengaluru  \n",
       "5                                Bangalore/Bengaluru  \n",
       "6  Noida, Mumbai, Indore, Hyderabad/Secunderabad,...  \n",
       "7                                Bangalore/Bengaluru  \n",
       "8                                Bangalore/Bengaluru  \n",
       "9                                Bangalore/Bengaluru  "
      ]
     },
     "execution_count": 64,
     "metadata": {},
     "output_type": "execute_result"
    }
   ],
   "source": [
    "jobs"
   ]
  },
  {
   "cell_type": "code",
   "execution_count": 19,
   "id": "62833b39",
   "metadata": {},
   "outputs": [
    {
     "name": "stderr",
     "output_type": "stream",
     "text": [
      "<ipython-input-19-0a8389fdf555>:4: DeprecationWarning: executable_path has been deprecated, please pass in a Service object\n",
      "  driver = webdriver.Chrome(r\"C:\\Users\\sushr\\OneDrive\\Desktop\\chromedriver\\chromedriver.exe\")\n"
     ]
    }
   ],
   "source": [
    "#Q2: Write a python program to scrape data for “Data Scientist” Job position in “Bangalore” location. You\n",
    "#have to scrape the job-title, job-location, company_name. You have to scrape first 10 jobs data.\n",
    "\n",
    "driver = webdriver.Chrome(r\"C:\\Users\\sushr\\OneDrive\\Desktop\\chromedriver\\chromedriver.exe\")"
   ]
  },
  {
   "cell_type": "code",
   "execution_count": 20,
   "id": "08468d92",
   "metadata": {},
   "outputs": [],
   "source": [
    "driver.get('https://www.naukri.com/')"
   ]
  },
  {
   "cell_type": "code",
   "execution_count": 21,
   "id": "3f4b97c3",
   "metadata": {},
   "outputs": [
    {
     "name": "stderr",
     "output_type": "stream",
     "text": [
      "<ipython-input-21-aded73b96ae6>:1: DeprecationWarning: find_element_by_* commands are deprecated. Please use find_element() instead\n",
      "  search_j = driver.find_element_by_id('qsb-keyword-sugg')\n",
      "<ipython-input-21-aded73b96ae6>:3: DeprecationWarning: find_element_by_* commands are deprecated. Please use find_element() instead\n",
      "  search_l = driver.find_element_by_xpath(\"//input[@id='qsb-location-sugg']\")\n",
      "<ipython-input-21-aded73b96ae6>:5: DeprecationWarning: find_element_by_* commands are deprecated. Please use find_element() instead\n",
      "  search_bt = driver.find_element_by_xpath(\"//div[@class='search-btn']/button\")\n"
     ]
    }
   ],
   "source": [
    "search_j = driver.find_element_by_id('qsb-keyword-sugg')\n",
    "search_j.send_keys('Data Scientist')\n",
    "search_l = driver.find_element_by_xpath(\"//input[@id='qsb-location-sugg']\")\n",
    "search_l.send_keys('Bangalore')\n",
    "search_bt = driver.find_element_by_xpath(\"//div[@class='search-btn']/button\")\n",
    "search_bt.click()"
   ]
  },
  {
   "cell_type": "code",
   "execution_count": 22,
   "id": "219c07b7",
   "metadata": {},
   "outputs": [],
   "source": [
    "jobtitles=[]\n",
    "locationlist=[]\n",
    "companyname=[]"
   ]
  },
  {
   "cell_type": "code",
   "execution_count": 23,
   "id": "f9fcf778",
   "metadata": {},
   "outputs": [
    {
     "name": "stderr",
     "output_type": "stream",
     "text": [
      "<ipython-input-23-d8b68f74e641>:1: DeprecationWarning: find_elements_by_* commands are deprecated. Please use find_elements() instead\n",
      "  tt_tags = driver.find_elements_by_xpath(\"//a[@class='title fw500 ellipsis']\")\n"
     ]
    },
    {
     "data": {
      "text/plain": [
       "['Forecasting Analyst/ Data Scientist (US Client)',\n",
       " 'Senior Data Scientist',\n",
       " 'Senior Data Scientist | Fortune 500 Supermarket Chain',\n",
       " 'Associate Data Scientist',\n",
       " 'Looking For Senior Data Scientist Immediate Joiners and 1 months NP',\n",
       " 'Data Scientist',\n",
       " 'Principal Data Scientist',\n",
       " 'Data Scientist',\n",
       " 'Data Scientist',\n",
       " 'Looking For Senior Data Scientist Immediate Joiners and 1 months NP']"
      ]
     },
     "execution_count": 23,
     "metadata": {},
     "output_type": "execute_result"
    }
   ],
   "source": [
    "tt_tags = driver.find_elements_by_xpath(\"//a[@class='title fw500 ellipsis']\")\n",
    "tt_tags[0:10]\n",
    "\n",
    "for i in tt_tags:\n",
    "    title=i.text\n",
    "    jobtitles.append(title)\n",
    "jobtitles[0:10]"
   ]
  },
  {
   "cell_type": "code",
   "execution_count": 24,
   "id": "e4bfb8c3",
   "metadata": {},
   "outputs": [
    {
     "name": "stderr",
     "output_type": "stream",
     "text": [
      "<ipython-input-24-5990b5c1e02a>:1: DeprecationWarning: find_elements_by_* commands are deprecated. Please use find_elements() instead\n",
      "  lc_tags = driver.find_elements_by_xpath(\"//li[@class='fleft grey-text br2 placeHolderLi location']/span[1]\")\n"
     ]
    },
    {
     "data": {
      "text/plain": [
       "['Gurgaon/Gurugram, Bangalore/Bengaluru',\n",
       " 'Bangalore/Bengaluru(Sadashiva Nagar)',\n",
       " 'Bangalore/Bengaluru',\n",
       " 'Bangalore/Bengaluru',\n",
       " 'Bangalore/Bengaluru',\n",
       " 'Bangalore/Bengaluru',\n",
       " 'Bangalore/Bengaluru',\n",
       " 'Bangalore/Bengaluru',\n",
       " 'Bangalore/Bengaluru',\n",
       " 'Bangalore/Bengaluru']"
      ]
     },
     "execution_count": 24,
     "metadata": {},
     "output_type": "execute_result"
    }
   ],
   "source": [
    "lc_tags = driver.find_elements_by_xpath(\"//li[@class='fleft grey-text br2 placeHolderLi location']/span[1]\")\n",
    "lc_tags[0:10]\n",
    "\n",
    "for i in lc_tags:\n",
    "    loc=i.text\n",
    "    locationlist.append(loc)\n",
    "locationlist[0:10]"
   ]
  },
  {
   "cell_type": "code",
   "execution_count": 25,
   "id": "cae4e92e",
   "metadata": {},
   "outputs": [
    {
     "name": "stderr",
     "output_type": "stream",
     "text": [
      "<ipython-input-25-0fbd284d7c99>:1: DeprecationWarning: find_elements_by_* commands are deprecated. Please use find_elements() instead\n",
      "  cn_tags = driver.find_elements_by_xpath(\"//a[@class='subTitle ellipsis fleft']\")\n"
     ]
    },
    {
     "data": {
      "text/plain": [
       "['Concentrix Daksh Services',\n",
       " 'Convergence Infotech Ltd',\n",
       " 'TALENT500 TECH (INDIA) PRIVATE LIMITED',\n",
       " 'Mavenir',\n",
       " 'Mount Talent Consulting Private Limited',\n",
       " 'Cerner Corporation',\n",
       " 'Walmart Labs',\n",
       " 'CoffeeBeans',\n",
       " 'Oracle India Pvt. Ltd.',\n",
       " 'Mount Talent Consulting Private Limited']"
      ]
     },
     "execution_count": 25,
     "metadata": {},
     "output_type": "execute_result"
    }
   ],
   "source": [
    "cn_tags = driver.find_elements_by_xpath(\"//a[@class='subTitle ellipsis fleft']\")\n",
    "cn_tags[0:10]\n",
    "\n",
    "for i in cn_tags:\n",
    "    cname=i.text\n",
    "    companyname.append(cname)\n",
    "    \n",
    "companyname[0:10]"
   ]
  },
  {
   "cell_type": "code",
   "execution_count": 26,
   "id": "42cbf59e",
   "metadata": {},
   "outputs": [
    {
     "name": "stdout",
     "output_type": "stream",
     "text": [
      "20 20 20\n"
     ]
    }
   ],
   "source": [
    "print(len(jobtitles),len(locationlist),len(companyname))"
   ]
  },
  {
   "cell_type": "code",
   "execution_count": 28,
   "id": "d32f5d68",
   "metadata": {},
   "outputs": [
    {
     "data": {
      "text/html": [
       "<div>\n",
       "<style scoped>\n",
       "    .dataframe tbody tr th:only-of-type {\n",
       "        vertical-align: middle;\n",
       "    }\n",
       "\n",
       "    .dataframe tbody tr th {\n",
       "        vertical-align: top;\n",
       "    }\n",
       "\n",
       "    .dataframe thead th {\n",
       "        text-align: right;\n",
       "    }\n",
       "</style>\n",
       "<table border=\"1\" class=\"dataframe\">\n",
       "  <thead>\n",
       "    <tr style=\"text-align: right;\">\n",
       "      <th></th>\n",
       "      <th>title</th>\n",
       "      <th>company</th>\n",
       "      <th>location</th>\n",
       "    </tr>\n",
       "  </thead>\n",
       "  <tbody>\n",
       "    <tr>\n",
       "      <th>0</th>\n",
       "      <td>Forecasting Analyst/ Data Scientist (US Client)</td>\n",
       "      <td>Concentrix Daksh Services</td>\n",
       "      <td>Gurgaon/Gurugram, Bangalore/Bengaluru</td>\n",
       "    </tr>\n",
       "    <tr>\n",
       "      <th>1</th>\n",
       "      <td>Senior Data Scientist</td>\n",
       "      <td>Convergence Infotech Ltd</td>\n",
       "      <td>Bangalore/Bengaluru(Sadashiva Nagar)</td>\n",
       "    </tr>\n",
       "    <tr>\n",
       "      <th>2</th>\n",
       "      <td>Senior Data Scientist | Fortune 500 Supermarke...</td>\n",
       "      <td>TALENT500 TECH (INDIA) PRIVATE LIMITED</td>\n",
       "      <td>Bangalore/Bengaluru</td>\n",
       "    </tr>\n",
       "    <tr>\n",
       "      <th>3</th>\n",
       "      <td>Associate Data Scientist</td>\n",
       "      <td>Mavenir</td>\n",
       "      <td>Bangalore/Bengaluru</td>\n",
       "    </tr>\n",
       "    <tr>\n",
       "      <th>4</th>\n",
       "      <td>Looking For Senior Data Scientist Immediate Jo...</td>\n",
       "      <td>Mount Talent Consulting Private Limited</td>\n",
       "      <td>Bangalore/Bengaluru</td>\n",
       "    </tr>\n",
       "    <tr>\n",
       "      <th>5</th>\n",
       "      <td>Data Scientist</td>\n",
       "      <td>Cerner Corporation</td>\n",
       "      <td>Bangalore/Bengaluru</td>\n",
       "    </tr>\n",
       "    <tr>\n",
       "      <th>6</th>\n",
       "      <td>Principal Data Scientist</td>\n",
       "      <td>Walmart Labs</td>\n",
       "      <td>Bangalore/Bengaluru</td>\n",
       "    </tr>\n",
       "    <tr>\n",
       "      <th>7</th>\n",
       "      <td>Data Scientist</td>\n",
       "      <td>CoffeeBeans</td>\n",
       "      <td>Bangalore/Bengaluru</td>\n",
       "    </tr>\n",
       "    <tr>\n",
       "      <th>8</th>\n",
       "      <td>Data Scientist</td>\n",
       "      <td>Oracle India Pvt. Ltd.</td>\n",
       "      <td>Bangalore/Bengaluru</td>\n",
       "    </tr>\n",
       "    <tr>\n",
       "      <th>9</th>\n",
       "      <td>Looking For Senior Data Scientist Immediate Jo...</td>\n",
       "      <td>Mount Talent Consulting Private Limited</td>\n",
       "      <td>Bangalore/Bengaluru</td>\n",
       "    </tr>\n",
       "  </tbody>\n",
       "</table>\n",
       "</div>"
      ],
      "text/plain": [
       "                                               title  \\\n",
       "0    Forecasting Analyst/ Data Scientist (US Client)   \n",
       "1                              Senior Data Scientist   \n",
       "2  Senior Data Scientist | Fortune 500 Supermarke...   \n",
       "3                           Associate Data Scientist   \n",
       "4  Looking For Senior Data Scientist Immediate Jo...   \n",
       "5                                     Data Scientist   \n",
       "6                           Principal Data Scientist   \n",
       "7                                     Data Scientist   \n",
       "8                                     Data Scientist   \n",
       "9  Looking For Senior Data Scientist Immediate Jo...   \n",
       "\n",
       "                                   company  \\\n",
       "0                Concentrix Daksh Services   \n",
       "1                 Convergence Infotech Ltd   \n",
       "2   TALENT500 TECH (INDIA) PRIVATE LIMITED   \n",
       "3                                  Mavenir   \n",
       "4  Mount Talent Consulting Private Limited   \n",
       "5                       Cerner Corporation   \n",
       "6                             Walmart Labs   \n",
       "7                              CoffeeBeans   \n",
       "8                   Oracle India Pvt. Ltd.   \n",
       "9  Mount Talent Consulting Private Limited   \n",
       "\n",
       "                                location  \n",
       "0  Gurgaon/Gurugram, Bangalore/Bengaluru  \n",
       "1   Bangalore/Bengaluru(Sadashiva Nagar)  \n",
       "2                    Bangalore/Bengaluru  \n",
       "3                    Bangalore/Bengaluru  \n",
       "4                    Bangalore/Bengaluru  \n",
       "5                    Bangalore/Bengaluru  \n",
       "6                    Bangalore/Bengaluru  \n",
       "7                    Bangalore/Bengaluru  \n",
       "8                    Bangalore/Bengaluru  \n",
       "9                    Bangalore/Bengaluru  "
      ]
     },
     "execution_count": 28,
     "metadata": {},
     "output_type": "execute_result"
    }
   ],
   "source": [
    "import pandas as pd\n",
    "jbs=pd.DataFrame({})\n",
    "jbs['title']=jobtitles[0:10]\n",
    "jbs['company']=companyname[0:10]\n",
    "jbs['location']=locationlist[0:10]\n",
    "jbs"
   ]
  },
  {
   "cell_type": "code",
   "execution_count": 44,
   "id": "b6f6476e",
   "metadata": {},
   "outputs": [
    {
     "name": "stderr",
     "output_type": "stream",
     "text": [
      "<ipython-input-44-0a8389fdf555>:4: DeprecationWarning: executable_path has been deprecated, please pass in a Service object\n",
      "  driver = webdriver.Chrome(r\"C:\\Users\\sushr\\OneDrive\\Desktop\\chromedriver\\chromedriver.exe\")\n"
     ]
    }
   ],
   "source": [
    "#Q2: Write a python program to scrape data for “Data Scientist” Job position in “Bangalore” location. You\n",
    "#have to scrape the job-title, job-location, company_name. You have to scrape first 10 jobs data.\n",
    "\n",
    "driver = webdriver.Chrome(r\"C:\\Users\\sushr\\OneDrive\\Desktop\\chromedriver\\chromedriver.exe\")"
   ]
  },
  {
   "cell_type": "code",
   "execution_count": 45,
   "id": "23b069c4",
   "metadata": {},
   "outputs": [],
   "source": [
    "driver.get('https://www.naukri.com/')"
   ]
  },
  {
   "cell_type": "code",
   "execution_count": 46,
   "id": "bb51e17e",
   "metadata": {},
   "outputs": [
    {
     "name": "stderr",
     "output_type": "stream",
     "text": [
      "<ipython-input-46-33fe9802c74a>:1: DeprecationWarning: find_element_by_* commands are deprecated. Please use find_element() instead\n",
      "  search_jb = driver.find_element_by_id('qsb-keyword-sugg')\n",
      "<ipython-input-46-33fe9802c74a>:3: DeprecationWarning: find_element_by_* commands are deprecated. Please use find_element() instead\n",
      "  search_lc = driver.find_element_by_xpath(\"//input[@id='qsb-location-sugg']\")\n",
      "<ipython-input-46-33fe9802c74a>:5: DeprecationWarning: find_element_by_* commands are deprecated. Please use find_element() instead\n",
      "  search_b = driver.find_element_by_xpath(\"//div[@class='search-btn']/button\")\n"
     ]
    }
   ],
   "source": [
    "search_jb = driver.find_element_by_id('qsb-keyword-sugg')\n",
    "search_jb.send_keys('Data Scientist')\n",
    "search_lc = driver.find_element_by_xpath(\"//input[@id='qsb-location-sugg']\")\n",
    "search_lc.send_keys('Bangalore')\n",
    "search_b = driver.find_element_by_xpath(\"//div[@class='search-btn']/button\")\n",
    "search_b.click()"
   ]
  },
  {
   "cell_type": "code",
   "execution_count": 48,
   "id": "469ab126",
   "metadata": {},
   "outputs": [
    {
     "name": "stderr",
     "output_type": "stream",
     "text": [
      "<ipython-input-48-448c0b4b5f90>:4: DeprecationWarning: find_element_by_* commands are deprecated. Please use find_element() instead\n",
      "  sal_filter = driver.find_element_by_xpath(\"/html/body/div[1]/div[3]/div[2]/section[1]/div[2]/div[4]/div[2]/div[2]/label/i\")\n"
     ]
    }
   ],
   "source": [
    "#using absolute paths for selecting filter option of choosing 3-6 lakhs salary option\n",
    "sal_filter = driver.find_element_by_xpath(\"/html/body/div[1]/div[3]/div[2]/section[1]/div[2]/div[4]/div[2]/div[2]/label/i\")\n",
    "sal_filter.click()"
   ]
  },
  {
   "cell_type": "code",
   "execution_count": 49,
   "id": "a709b213",
   "metadata": {},
   "outputs": [],
   "source": [
    "jt=[]\n",
    "jl=[]\n",
    "jcn=[]"
   ]
  },
  {
   "cell_type": "code",
   "execution_count": 50,
   "id": "1f627406",
   "metadata": {},
   "outputs": [
    {
     "name": "stderr",
     "output_type": "stream",
     "text": [
      "<ipython-input-50-2c4db6a24980>:1: DeprecationWarning: find_elements_by_* commands are deprecated. Please use find_elements() instead\n",
      "  t_tags = driver.find_elements_by_xpath(\"//a[@class='title fw500 ellipsis']\")\n"
     ]
    },
    {
     "data": {
      "text/plain": [
       "['Data Scientist',\n",
       " 'Data Scientist / Sr. Data Scientist with Pyspark',\n",
       " 'Junior Data Scientist-Bangalore',\n",
       " 'Data Scientist',\n",
       " 'Opportunity For Data Scientist',\n",
       " 'Data Scientist/Engineer',\n",
       " 'Data Scientist/Engineer',\n",
       " 'Data Scientist',\n",
       " 'Data Scientist / Machine Learning',\n",
       " 'Lead Data Scientist']"
      ]
     },
     "execution_count": 50,
     "metadata": {},
     "output_type": "execute_result"
    }
   ],
   "source": [
    "t_tags = driver.find_elements_by_xpath(\"//a[@class='title fw500 ellipsis']\")\n",
    "t_tags[0:10]\n",
    "\n",
    "for i in t_tags:\n",
    "    title=i.text\n",
    "    jt.append(title)\n",
    "jt[0:10]"
   ]
  },
  {
   "cell_type": "code",
   "execution_count": 51,
   "id": "73a2fe50",
   "metadata": {},
   "outputs": [
    {
     "name": "stderr",
     "output_type": "stream",
     "text": [
      "<ipython-input-51-dc8bb0ce9286>:1: DeprecationWarning: find_elements_by_* commands are deprecated. Please use find_elements() instead\n",
      "  l_tags = driver.find_elements_by_xpath(\"//li[@class='fleft grey-text br2 placeHolderLi location']/span[1]\")\n"
     ]
    },
    {
     "data": {
      "text/plain": [
       "['Bangalore/Bengaluru',\n",
       " 'Bangalore/Bengaluru',\n",
       " 'Bangalore/Bengaluru',\n",
       " 'Bangalore/Bengaluru',\n",
       " 'Bangalore/Bengaluru',\n",
       " 'Bangalore/Bengaluru',\n",
       " 'Bangalore/Bengaluru',\n",
       " 'Bangalore/Bengaluru',\n",
       " 'Bangalore/Bengaluru',\n",
       " 'Bangalore/Bengaluru']"
      ]
     },
     "execution_count": 51,
     "metadata": {},
     "output_type": "execute_result"
    }
   ],
   "source": [
    "l_tags = driver.find_elements_by_xpath(\"//li[@class='fleft grey-text br2 placeHolderLi location']/span[1]\")\n",
    "l_tags[0:10]\n",
    "\n",
    "for i in l_tags:\n",
    "    location=i.text\n",
    "    jl.append(loc)\n",
    "jl[0:10]"
   ]
  },
  {
   "cell_type": "code",
   "execution_count": 52,
   "id": "24030f85",
   "metadata": {},
   "outputs": [
    {
     "name": "stderr",
     "output_type": "stream",
     "text": [
      "<ipython-input-52-601674f12a84>:1: DeprecationWarning: find_elements_by_* commands are deprecated. Please use find_elements() instead\n",
      "  c_tags = driver.find_elements_by_xpath(\"//a[@class='subTitle ellipsis fleft']\")\n"
     ]
    },
    {
     "data": {
      "text/plain": [
       "['Think i',\n",
       " 'ENSTRAPP IT SOLUTIONS PRIVATE LIMITED',\n",
       " 'GlobusSoft',\n",
       " 'Vepsun Technologies Private Limited.',\n",
       " 'Firstsource Solutions Limited',\n",
       " 'Orcapod Consulting Services Private Limited',\n",
       " 'Orcapod Consulting Services Private Limited',\n",
       " 'SamarthJobs Management Consultants',\n",
       " 'Augusta Infotech',\n",
       " 'Huawei Technologies']"
      ]
     },
     "execution_count": 52,
     "metadata": {},
     "output_type": "execute_result"
    }
   ],
   "source": [
    "c_tags = driver.find_elements_by_xpath(\"//a[@class='subTitle ellipsis fleft']\")\n",
    "c_tags[0:10]\n",
    "\n",
    "for i in c_tags:\n",
    "    cn=i.text\n",
    "    jcn.append(cn)\n",
    "jcn[0:10]"
   ]
  },
  {
   "cell_type": "code",
   "execution_count": 53,
   "id": "fb766cf2",
   "metadata": {},
   "outputs": [
    {
     "name": "stdout",
     "output_type": "stream",
     "text": [
      "20 20 20\n"
     ]
    }
   ],
   "source": [
    "print(len(jt),len(jl),len(jcn))"
   ]
  },
  {
   "cell_type": "code",
   "execution_count": 56,
   "id": "c0b52dce",
   "metadata": {},
   "outputs": [
    {
     "data": {
      "text/html": [
       "<div>\n",
       "<style scoped>\n",
       "    .dataframe tbody tr th:only-of-type {\n",
       "        vertical-align: middle;\n",
       "    }\n",
       "\n",
       "    .dataframe tbody tr th {\n",
       "        vertical-align: top;\n",
       "    }\n",
       "\n",
       "    .dataframe thead th {\n",
       "        text-align: right;\n",
       "    }\n",
       "</style>\n",
       "<table border=\"1\" class=\"dataframe\">\n",
       "  <thead>\n",
       "    <tr style=\"text-align: right;\">\n",
       "      <th></th>\n",
       "      <th>job_titles</th>\n",
       "      <th>job_location</th>\n",
       "      <th>company_name</th>\n",
       "    </tr>\n",
       "  </thead>\n",
       "  <tbody>\n",
       "    <tr>\n",
       "      <th>0</th>\n",
       "      <td>Data Scientist</td>\n",
       "      <td>Bangalore/Bengaluru</td>\n",
       "      <td>Think i</td>\n",
       "    </tr>\n",
       "    <tr>\n",
       "      <th>1</th>\n",
       "      <td>Data Scientist / Sr. Data Scientist with Pyspark</td>\n",
       "      <td>Bangalore/Bengaluru</td>\n",
       "      <td>ENSTRAPP IT SOLUTIONS PRIVATE LIMITED</td>\n",
       "    </tr>\n",
       "    <tr>\n",
       "      <th>2</th>\n",
       "      <td>Junior Data Scientist-Bangalore</td>\n",
       "      <td>Bangalore/Bengaluru</td>\n",
       "      <td>GlobusSoft</td>\n",
       "    </tr>\n",
       "    <tr>\n",
       "      <th>3</th>\n",
       "      <td>Data Scientist</td>\n",
       "      <td>Bangalore/Bengaluru</td>\n",
       "      <td>Vepsun Technologies Private Limited.</td>\n",
       "    </tr>\n",
       "    <tr>\n",
       "      <th>4</th>\n",
       "      <td>Opportunity For Data Scientist</td>\n",
       "      <td>Bangalore/Bengaluru</td>\n",
       "      <td>Firstsource Solutions Limited</td>\n",
       "    </tr>\n",
       "    <tr>\n",
       "      <th>5</th>\n",
       "      <td>Data Scientist/Engineer</td>\n",
       "      <td>Bangalore/Bengaluru</td>\n",
       "      <td>Orcapod Consulting Services Private Limited</td>\n",
       "    </tr>\n",
       "    <tr>\n",
       "      <th>6</th>\n",
       "      <td>Data Scientist/Engineer</td>\n",
       "      <td>Bangalore/Bengaluru</td>\n",
       "      <td>Orcapod Consulting Services Private Limited</td>\n",
       "    </tr>\n",
       "    <tr>\n",
       "      <th>7</th>\n",
       "      <td>Data Scientist</td>\n",
       "      <td>Bangalore/Bengaluru</td>\n",
       "      <td>SamarthJobs Management Consultants</td>\n",
       "    </tr>\n",
       "    <tr>\n",
       "      <th>8</th>\n",
       "      <td>Data Scientist / Machine Learning</td>\n",
       "      <td>Bangalore/Bengaluru</td>\n",
       "      <td>Augusta Infotech</td>\n",
       "    </tr>\n",
       "    <tr>\n",
       "      <th>9</th>\n",
       "      <td>Lead Data Scientist</td>\n",
       "      <td>Bangalore/Bengaluru</td>\n",
       "      <td>Huawei Technologies</td>\n",
       "    </tr>\n",
       "  </tbody>\n",
       "</table>\n",
       "</div>"
      ],
      "text/plain": [
       "                                         job_titles         job_location  \\\n",
       "0                                    Data Scientist  Bangalore/Bengaluru   \n",
       "1  Data Scientist / Sr. Data Scientist with Pyspark  Bangalore/Bengaluru   \n",
       "2                   Junior Data Scientist-Bangalore  Bangalore/Bengaluru   \n",
       "3                                    Data Scientist  Bangalore/Bengaluru   \n",
       "4                    Opportunity For Data Scientist  Bangalore/Bengaluru   \n",
       "5                           Data Scientist/Engineer  Bangalore/Bengaluru   \n",
       "6                           Data Scientist/Engineer  Bangalore/Bengaluru   \n",
       "7                                    Data Scientist  Bangalore/Bengaluru   \n",
       "8                 Data Scientist / Machine Learning  Bangalore/Bengaluru   \n",
       "9                               Lead Data Scientist  Bangalore/Bengaluru   \n",
       "\n",
       "                                  company_name  \n",
       "0                                      Think i  \n",
       "1        ENSTRAPP IT SOLUTIONS PRIVATE LIMITED  \n",
       "2                                   GlobusSoft  \n",
       "3         Vepsun Technologies Private Limited.  \n",
       "4                Firstsource Solutions Limited  \n",
       "5  Orcapod Consulting Services Private Limited  \n",
       "6  Orcapod Consulting Services Private Limited  \n",
       "7           SamarthJobs Management Consultants  \n",
       "8                             Augusta Infotech  \n",
       "9                          Huawei Technologies  "
      ]
     },
     "execution_count": 56,
     "metadata": {},
     "output_type": "execute_result"
    }
   ],
   "source": [
    "ab = pd.DataFrame({'job_titles':jt[0:10],'job_location':jl[0:10],'company_name':jcn[0:10]})\n",
    "ab"
   ]
  },
  {
   "cell_type": "code",
   "execution_count": 43,
   "id": "8eec5177",
   "metadata": {},
   "outputs": [],
   "source": [
    "#Q4: Scrape data of first 100 sunglasses listings on flipkart.com. You have to scrape four attributes:\n",
    "#1. Brand\n",
    "#2. Product Description\n",
    "#3. Price"
   ]
  },
  {
   "cell_type": "code",
   "execution_count": 73,
   "id": "09295df4",
   "metadata": {},
   "outputs": [
    {
     "name": "stderr",
     "output_type": "stream",
     "text": [
      "<ipython-input-73-5bdf5dafaa7c>:1: DeprecationWarning: executable_path has been deprecated, please pass in a Service object\n",
      "  browser = webdriver.Chrome(r\"C:\\Users\\sushr\\OneDrive\\Desktop\\chromedriver\\chromedriver.exe\")\n"
     ]
    }
   ],
   "source": [
    "browser = webdriver.Chrome(r\"C:\\Users\\sushr\\OneDrive\\Desktop\\chromedriver\\chromedriver.exe\")"
   ]
  },
  {
   "cell_type": "code",
   "execution_count": 74,
   "id": "f215b52d",
   "metadata": {},
   "outputs": [],
   "source": [
    "browser.get('https://www.flipkart.com/')"
   ]
  },
  {
   "cell_type": "code",
   "execution_count": 76,
   "id": "2d37b518",
   "metadata": {},
   "outputs": [],
   "source": [
    "browser.maximize_window()"
   ]
  },
  {
   "cell_type": "code",
   "execution_count": 75,
   "id": "845375a5",
   "metadata": {},
   "outputs": [
    {
     "name": "stderr",
     "output_type": "stream",
     "text": [
      "<ipython-input-75-853ba5fc3c4f>:2: DeprecationWarning: find_element_by_* commands are deprecated. Please use find_element() instead\n",
      "  browser.find_element_by_xpath(\"//button[@class='_2KpZ6l _2doB4z']\").click()\n"
     ]
    }
   ],
   "source": [
    "try:\n",
    "    browser.find_element_by_xpath(\"//button[@class='_2KpZ6l _2doB4z']\").click()\n",
    "except:\n",
    "    pass"
   ]
  },
  {
   "cell_type": "code",
   "execution_count": 78,
   "id": "a7d095e2",
   "metadata": {},
   "outputs": [
    {
     "name": "stderr",
     "output_type": "stream",
     "text": [
      "<ipython-input-78-563cedaabe23>:1: DeprecationWarning: find_element_by_* commands are deprecated. Please use find_element() instead\n",
      "  search_sunglasses = driver.find_element_by_xpath(\"//input[@name='q']\")\n"
     ]
    },
    {
     "ename": "WebDriverException",
     "evalue": "Message: chrome not reachable\n  (Session info: chrome=95.0.4638.69)\nStacktrace:\nBacktrace:\n\tOrdinal0 [0x00C106F3+2492147]\n\tOrdinal0 [0x00BA9BD1+2071505]\n\tOrdinal0 [0x00AB2340+1057600]\n\tOrdinal0 [0x00AA7474+1012852]\n\tOrdinal0 [0x00AA7C76+1014902]\n\tOrdinal0 [0x00AA9345+1020741]\n\tOrdinal0 [0x00AA3453+996435]\n\tOrdinal0 [0x00AB3690+1062544]\n\tOrdinal0 [0x00B046D2+1394386]\n\tOrdinal0 [0x00AF568B+1332875]\n\tOrdinal0 [0x00AD21D4+1188308]\n\tOrdinal0 [0x00AD302F+1191983]\n\tGetHandleVerifier [0x00D967A6+1545030]\n\tGetHandleVerifier [0x00E4105C+2243580]\n\tGetHandleVerifier [0x00C9BC97+518199]\n\tGetHandleVerifier [0x00C9AD80+514336]\n\tOrdinal0 [0x00BAED2D+2092333]\n\tOrdinal0 [0x00BB2EE8+2109160]\n\tOrdinal0 [0x00BB3022+2109474]\n\tOrdinal0 [0x00BBCB71+2149233]\n\tBaseThreadInitThunk [0x76E2FA29+25]\n\tRtlGetAppContainerNamedObjectPath [0x77AF7A9E+286]\n\tRtlGetAppContainerNamedObjectPath [0x77AF7A6E+238]\n",
     "output_type": "error",
     "traceback": [
      "\u001b[1;31m---------------------------------------------------------------------------\u001b[0m",
      "\u001b[1;31mWebDriverException\u001b[0m                        Traceback (most recent call last)",
      "\u001b[1;32m<ipython-input-78-563cedaabe23>\u001b[0m in \u001b[0;36m<module>\u001b[1;34m\u001b[0m\n\u001b[1;32m----> 1\u001b[1;33m \u001b[0msearch_sunglasses\u001b[0m \u001b[1;33m=\u001b[0m \u001b[0mdriver\u001b[0m\u001b[1;33m.\u001b[0m\u001b[0mfind_element_by_xpath\u001b[0m\u001b[1;33m(\u001b[0m\u001b[1;34m\"//input[@name='q']\"\u001b[0m\u001b[1;33m)\u001b[0m\u001b[1;33m\u001b[0m\u001b[1;33m\u001b[0m\u001b[0m\n\u001b[0m\u001b[0;32m      2\u001b[0m \u001b[0msearch_sunglasses\u001b[0m\u001b[1;33m.\u001b[0m\u001b[0msend_keys\u001b[0m\u001b[1;33m(\u001b[0m\u001b[1;34m'Sunglasses'\u001b[0m\u001b[1;33m)\u001b[0m\u001b[1;33m\u001b[0m\u001b[1;33m\u001b[0m\u001b[0m\n\u001b[0;32m      3\u001b[0m \u001b[0mdriver\u001b[0m\u001b[1;33m.\u001b[0m\u001b[0mfind_element_by_xpath\u001b[0m\u001b[1;33m(\u001b[0m\u001b[1;34m\"//button[@class='L0Z3Pu']\"\u001b[0m\u001b[1;33m)\u001b[0m\u001b[1;33m.\u001b[0m\u001b[0mclick\u001b[0m\u001b[1;33m(\u001b[0m\u001b[1;33m)\u001b[0m\u001b[1;33m\u001b[0m\u001b[1;33m\u001b[0m\u001b[0m\n",
      "\u001b[1;32m~\\anaconda3\\lib\\site-packages\\selenium\\webdriver\\remote\\webdriver.py\u001b[0m in \u001b[0;36mfind_element_by_xpath\u001b[1;34m(self, xpath)\u001b[0m\n\u001b[0;32m    512\u001b[0m             \u001b[0mstacklevel\u001b[0m\u001b[1;33m=\u001b[0m\u001b[1;36m2\u001b[0m\u001b[1;33m,\u001b[0m\u001b[1;33m\u001b[0m\u001b[1;33m\u001b[0m\u001b[0m\n\u001b[0;32m    513\u001b[0m         )\n\u001b[1;32m--> 514\u001b[1;33m         \u001b[1;32mreturn\u001b[0m \u001b[0mself\u001b[0m\u001b[1;33m.\u001b[0m\u001b[0mfind_element\u001b[0m\u001b[1;33m(\u001b[0m\u001b[0mby\u001b[0m\u001b[1;33m=\u001b[0m\u001b[0mBy\u001b[0m\u001b[1;33m.\u001b[0m\u001b[0mXPATH\u001b[0m\u001b[1;33m,\u001b[0m \u001b[0mvalue\u001b[0m\u001b[1;33m=\u001b[0m\u001b[0mxpath\u001b[0m\u001b[1;33m)\u001b[0m\u001b[1;33m\u001b[0m\u001b[1;33m\u001b[0m\u001b[0m\n\u001b[0m\u001b[0;32m    515\u001b[0m \u001b[1;33m\u001b[0m\u001b[0m\n\u001b[0;32m    516\u001b[0m     \u001b[1;32mdef\u001b[0m \u001b[0mfind_elements_by_xpath\u001b[0m\u001b[1;33m(\u001b[0m\u001b[0mself\u001b[0m\u001b[1;33m,\u001b[0m \u001b[0mxpath\u001b[0m\u001b[1;33m)\u001b[0m \u001b[1;33m->\u001b[0m \u001b[0mWebElement\u001b[0m\u001b[1;33m:\u001b[0m\u001b[1;33m\u001b[0m\u001b[1;33m\u001b[0m\u001b[0m\n",
      "\u001b[1;32m~\\anaconda3\\lib\\site-packages\\selenium\\webdriver\\remote\\webdriver.py\u001b[0m in \u001b[0;36mfind_element\u001b[1;34m(self, by, value)\u001b[0m\n\u001b[0;32m   1236\u001b[0m             \u001b[0mvalue\u001b[0m \u001b[1;33m=\u001b[0m \u001b[1;34m'[name=\"%s\"]'\u001b[0m \u001b[1;33m%\u001b[0m \u001b[0mvalue\u001b[0m\u001b[1;33m\u001b[0m\u001b[1;33m\u001b[0m\u001b[0m\n\u001b[0;32m   1237\u001b[0m \u001b[1;33m\u001b[0m\u001b[0m\n\u001b[1;32m-> 1238\u001b[1;33m         return self.execute(Command.FIND_ELEMENT, {\n\u001b[0m\u001b[0;32m   1239\u001b[0m             \u001b[1;34m'using'\u001b[0m\u001b[1;33m:\u001b[0m \u001b[0mby\u001b[0m\u001b[1;33m,\u001b[0m\u001b[1;33m\u001b[0m\u001b[1;33m\u001b[0m\u001b[0m\n\u001b[0;32m   1240\u001b[0m             'value': value})['value']\n",
      "\u001b[1;32m~\\anaconda3\\lib\\site-packages\\selenium\\webdriver\\remote\\webdriver.py\u001b[0m in \u001b[0;36mexecute\u001b[1;34m(self, driver_command, params)\u001b[0m\n\u001b[0;32m    416\u001b[0m         \u001b[0mresponse\u001b[0m \u001b[1;33m=\u001b[0m \u001b[0mself\u001b[0m\u001b[1;33m.\u001b[0m\u001b[0mcommand_executor\u001b[0m\u001b[1;33m.\u001b[0m\u001b[0mexecute\u001b[0m\u001b[1;33m(\u001b[0m\u001b[0mdriver_command\u001b[0m\u001b[1;33m,\u001b[0m \u001b[0mparams\u001b[0m\u001b[1;33m)\u001b[0m\u001b[1;33m\u001b[0m\u001b[1;33m\u001b[0m\u001b[0m\n\u001b[0;32m    417\u001b[0m         \u001b[1;32mif\u001b[0m \u001b[0mresponse\u001b[0m\u001b[1;33m:\u001b[0m\u001b[1;33m\u001b[0m\u001b[1;33m\u001b[0m\u001b[0m\n\u001b[1;32m--> 418\u001b[1;33m             \u001b[0mself\u001b[0m\u001b[1;33m.\u001b[0m\u001b[0merror_handler\u001b[0m\u001b[1;33m.\u001b[0m\u001b[0mcheck_response\u001b[0m\u001b[1;33m(\u001b[0m\u001b[0mresponse\u001b[0m\u001b[1;33m)\u001b[0m\u001b[1;33m\u001b[0m\u001b[1;33m\u001b[0m\u001b[0m\n\u001b[0m\u001b[0;32m    419\u001b[0m             response['value'] = self._unwrap_value(\n\u001b[0;32m    420\u001b[0m                 response.get('value', None))\n",
      "\u001b[1;32m~\\anaconda3\\lib\\site-packages\\selenium\\webdriver\\remote\\errorhandler.py\u001b[0m in \u001b[0;36mcheck_response\u001b[1;34m(self, response)\u001b[0m\n\u001b[0;32m    241\u001b[0m                 \u001b[0malert_text\u001b[0m \u001b[1;33m=\u001b[0m \u001b[0mvalue\u001b[0m\u001b[1;33m[\u001b[0m\u001b[1;34m'alert'\u001b[0m\u001b[1;33m]\u001b[0m\u001b[1;33m.\u001b[0m\u001b[0mget\u001b[0m\u001b[1;33m(\u001b[0m\u001b[1;34m'text'\u001b[0m\u001b[1;33m)\u001b[0m\u001b[1;33m\u001b[0m\u001b[1;33m\u001b[0m\u001b[0m\n\u001b[0;32m    242\u001b[0m             \u001b[1;32mraise\u001b[0m \u001b[0mexception_class\u001b[0m\u001b[1;33m(\u001b[0m\u001b[0mmessage\u001b[0m\u001b[1;33m,\u001b[0m \u001b[0mscreen\u001b[0m\u001b[1;33m,\u001b[0m \u001b[0mstacktrace\u001b[0m\u001b[1;33m,\u001b[0m \u001b[0malert_text\u001b[0m\u001b[1;33m)\u001b[0m  \u001b[1;31m# type: ignore[call-arg]  # mypy is not smart enough here\u001b[0m\u001b[1;33m\u001b[0m\u001b[1;33m\u001b[0m\u001b[0m\n\u001b[1;32m--> 243\u001b[1;33m         \u001b[1;32mraise\u001b[0m \u001b[0mexception_class\u001b[0m\u001b[1;33m(\u001b[0m\u001b[0mmessage\u001b[0m\u001b[1;33m,\u001b[0m \u001b[0mscreen\u001b[0m\u001b[1;33m,\u001b[0m \u001b[0mstacktrace\u001b[0m\u001b[1;33m)\u001b[0m\u001b[1;33m\u001b[0m\u001b[1;33m\u001b[0m\u001b[0m\n\u001b[0m\u001b[0;32m    244\u001b[0m \u001b[1;33m\u001b[0m\u001b[0m\n\u001b[0;32m    245\u001b[0m     \u001b[1;32mdef\u001b[0m \u001b[0m_value_or_default\u001b[0m\u001b[1;33m(\u001b[0m\u001b[0mself\u001b[0m\u001b[1;33m,\u001b[0m \u001b[0mobj\u001b[0m\u001b[1;33m:\u001b[0m \u001b[0mMapping\u001b[0m\u001b[1;33m[\u001b[0m\u001b[0m_KT\u001b[0m\u001b[1;33m,\u001b[0m \u001b[0m_VT\u001b[0m\u001b[1;33m]\u001b[0m\u001b[1;33m,\u001b[0m \u001b[0mkey\u001b[0m\u001b[1;33m:\u001b[0m \u001b[0m_KT\u001b[0m\u001b[1;33m,\u001b[0m \u001b[0mdefault\u001b[0m\u001b[1;33m:\u001b[0m \u001b[0m_VT\u001b[0m\u001b[1;33m)\u001b[0m \u001b[1;33m->\u001b[0m \u001b[0m_VT\u001b[0m\u001b[1;33m:\u001b[0m\u001b[1;33m\u001b[0m\u001b[1;33m\u001b[0m\u001b[0m\n",
      "\u001b[1;31mWebDriverException\u001b[0m: Message: chrome not reachable\n  (Session info: chrome=95.0.4638.69)\nStacktrace:\nBacktrace:\n\tOrdinal0 [0x00C106F3+2492147]\n\tOrdinal0 [0x00BA9BD1+2071505]\n\tOrdinal0 [0x00AB2340+1057600]\n\tOrdinal0 [0x00AA7474+1012852]\n\tOrdinal0 [0x00AA7C76+1014902]\n\tOrdinal0 [0x00AA9345+1020741]\n\tOrdinal0 [0x00AA3453+996435]\n\tOrdinal0 [0x00AB3690+1062544]\n\tOrdinal0 [0x00B046D2+1394386]\n\tOrdinal0 [0x00AF568B+1332875]\n\tOrdinal0 [0x00AD21D4+1188308]\n\tOrdinal0 [0x00AD302F+1191983]\n\tGetHandleVerifier [0x00D967A6+1545030]\n\tGetHandleVerifier [0x00E4105C+2243580]\n\tGetHandleVerifier [0x00C9BC97+518199]\n\tGetHandleVerifier [0x00C9AD80+514336]\n\tOrdinal0 [0x00BAED2D+2092333]\n\tOrdinal0 [0x00BB2EE8+2109160]\n\tOrdinal0 [0x00BB3022+2109474]\n\tOrdinal0 [0x00BBCB71+2149233]\n\tBaseThreadInitThunk [0x76E2FA29+25]\n\tRtlGetAppContainerNamedObjectPath [0x77AF7A9E+286]\n\tRtlGetAppContainerNamedObjectPath [0x77AF7A6E+238]\n"
     ]
    }
   ],
   "source": [
    "search_sunglasses = driver.find_element_by_xpath(\"//input[@name='q']\")\n",
    "search_sunglasses.send_keys('Sunglasses')\n",
    "driver.find_element_by_xpath(\"//button[@class='L0Z3Pu']\").click()"
   ]
  },
  {
   "cell_type": "code",
   "execution_count": null,
   "id": "b3a6e1a9",
   "metadata": {},
   "outputs": [],
   "source": []
  },
  {
   "cell_type": "code",
   "execution_count": null,
   "id": "f198115a",
   "metadata": {},
   "outputs": [],
   "source": []
  },
  {
   "cell_type": "code",
   "execution_count": null,
   "id": "d1b8a7c0",
   "metadata": {},
   "outputs": [],
   "source": []
  },
  {
   "cell_type": "code",
   "execution_count": null,
   "id": "a5d4c549",
   "metadata": {},
   "outputs": [],
   "source": []
  },
  {
   "cell_type": "code",
   "execution_count": null,
   "id": "1637e9aa",
   "metadata": {},
   "outputs": [],
   "source": []
  },
  {
   "cell_type": "code",
   "execution_count": null,
   "id": "67521921",
   "metadata": {},
   "outputs": [],
   "source": []
  },
  {
   "cell_type": "code",
   "execution_count": 79,
   "id": "d2ec34ec",
   "metadata": {},
   "outputs": [],
   "source": [
    "#Q7: Go to the link - https://www.myntra.com/shoes\n",
    "#Set Price filter to “Rs. 6649 to Rs. 13099” , Color filter to “Black”, as shown in the below image."
   ]
  },
  {
   "cell_type": "code",
   "execution_count": 139,
   "id": "0daae1a2",
   "metadata": {},
   "outputs": [
    {
     "name": "stderr",
     "output_type": "stream",
     "text": [
      "<ipython-input-139-ada3ed53b577>:1: DeprecationWarning: executable_path has been deprecated, please pass in a Service object\n",
      "  driver = webdriver.Chrome(r\"C:\\Users\\sushr\\OneDrive\\Desktop\\chromedriver\\chromedriver.exe\")\n"
     ]
    }
   ],
   "source": [
    "driver = webdriver.Chrome(r\"C:\\Users\\sushr\\OneDrive\\Desktop\\chromedriver\\chromedriver.exe\")"
   ]
  },
  {
   "cell_type": "code",
   "execution_count": 163,
   "id": "89532c79",
   "metadata": {},
   "outputs": [],
   "source": [
    "driver.get('https://www.myntra.com/shoes')"
   ]
  },
  {
   "cell_type": "code",
   "execution_count": 164,
   "id": "d6e8c961",
   "metadata": {},
   "outputs": [
    {
     "name": "stderr",
     "output_type": "stream",
     "text": [
      "<ipython-input-164-4bbffb0f7692>:1: DeprecationWarning: find_element_by_* commands are deprecated. Please use find_element() instead\n",
      "  price_filter= driver.find_element_by_xpath(\"/html/body/div[2]/div/div[1]/main/div[3]/div[1]/section/div/div[5]/ul/li[2]/label\")\n"
     ]
    }
   ],
   "source": [
    "price_filter= driver.find_element_by_xpath(\"/html/body/div[2]/div/div[1]/main/div[3]/div[1]/section/div/div[5]/ul/li[2]/label\")\n",
    "price_filter.click()"
   ]
  },
  {
   "cell_type": "code",
   "execution_count": 165,
   "id": "70ebc79d",
   "metadata": {},
   "outputs": [
    {
     "name": "stderr",
     "output_type": "stream",
     "text": [
      "<ipython-input-165-250b781b9b61>:1: DeprecationWarning: find_element_by_* commands are deprecated. Please use find_element() instead\n",
      "  color_filter = driver.find_element_by_xpath(\"/html/body/div[2]/div/div[1]/main/div[3]/div[1]/section/div/div[6]/ul/li[1]/label\").click()\n"
     ]
    }
   ],
   "source": [
    "color_filter = driver.find_element_by_xpath(\"/html/body/div[2]/div/div[1]/main/div[3]/div[1]/section/div/div[6]/ul/li[1]/label\").click()"
   ]
  },
  {
   "cell_type": "code",
   "execution_count": 166,
   "id": "c85b6372",
   "metadata": {},
   "outputs": [],
   "source": [
    "brand = []\n",
    "shoe_desc = []\n",
    "price_shoe = []"
   ]
  },
  {
   "cell_type": "code",
   "execution_count": 167,
   "id": "403bf1e2",
   "metadata": {},
   "outputs": [
    {
     "name": "stderr",
     "output_type": "stream",
     "text": [
      "<ipython-input-167-a222fda97968>:1: DeprecationWarning: find_elements_by_* commands are deprecated. Please use find_elements() instead\n",
      "  brand_tags = driver.find_elements_by_xpath(\"//h3[@class='product-brand']\")\n"
     ]
    },
    {
     "data": {
      "text/plain": [
       "['Nike',\n",
       " 'Nike',\n",
       " 'Hush Puppies',\n",
       " 'Nike',\n",
       " 'Nike',\n",
       " 'Puma',\n",
       " 'Puma',\n",
       " 'Nike',\n",
       " 'Nike',\n",
       " 'Nike',\n",
       " 'Hush Puppies',\n",
       " 'Saint G',\n",
       " 'Hush Puppies',\n",
       " 'Puma',\n",
       " 'ASICS',\n",
       " 'UNDER ARMOUR',\n",
       " 'PUMA Motorsport',\n",
       " 'ASICS',\n",
       " 'Puma',\n",
       " 'Hush Puppies',\n",
       " 'Cole Haan',\n",
       " 'Bugatti',\n",
       " 'Bugatti',\n",
       " 'Puma',\n",
       " 'Calvin Klein',\n",
       " 'Calvin Klein',\n",
       " 'Puma',\n",
       " 'ASICS',\n",
       " 'Hush Puppies',\n",
       " 'Saint G',\n",
       " 'Puma',\n",
       " 'Puma',\n",
       " 'PUMA Hoops',\n",
       " 'Puma',\n",
       " 'UNDER ARMOUR',\n",
       " 'Geox',\n",
       " 'Puma',\n",
       " 'Tommy Hilfiger',\n",
       " 'Calvin Klein',\n",
       " 'Tommy Hilfiger',\n",
       " 'Pavers England',\n",
       " 'Calvin Klein',\n",
       " 'Puma',\n",
       " 'ASICS',\n",
       " 'Cole Haan',\n",
       " 'J.FONTINI',\n",
       " 'ASICS',\n",
       " 'Tommy Hilfiger',\n",
       " 'J.FONTINI',\n",
       " 'ROSSO BRUNELLO']"
      ]
     },
     "execution_count": 167,
     "metadata": {},
     "output_type": "execute_result"
    }
   ],
   "source": [
    "brand_tags = driver.find_elements_by_xpath(\"//h3[@class='product-brand']\")\n",
    "brand_tags\n",
    "\n",
    "for i in brand_tags:\n",
    "    b=i.text\n",
    "    brand.append(b)\n",
    "brand"
   ]
  },
  {
   "cell_type": "code",
   "execution_count": 168,
   "id": "85a8087f",
   "metadata": {},
   "outputs": [
    {
     "name": "stdout",
     "output_type": "stream",
     "text": [
      "50\n"
     ]
    }
   ],
   "source": [
    "print(len(brand))"
   ]
  },
  {
   "cell_type": "code",
   "execution_count": 169,
   "id": "32afbf58",
   "metadata": {},
   "outputs": [
    {
     "name": "stderr",
     "output_type": "stream",
     "text": [
      "<ipython-input-169-f48d4f95b80e>:1: DeprecationWarning: find_elements_by_* commands are deprecated. Please use find_elements() instead\n",
      "  desc_tags= driver.find_elements_by_xpath(\"//h4[@class='product-product']\")\n"
     ]
    },
    {
     "data": {
      "text/plain": [
       "['LEBRON WITNESS Basketball Shoe',\n",
       " 'AIR ZOOM PEGASUS Running Shoes',\n",
       " 'Men Solid Leather Formal Slip-Ons',\n",
       " 'Men Zoom Span 4 Running Shoes',\n",
       " 'Air Zoom Pegasus 38 Shield Run',\n",
       " 'Men Deviate Nitro Running Shoe',\n",
       " 'Men Velocity Nitro Running',\n",
       " 'Men FLIGHT LEGACY Sneakers',\n",
       " \"Men BlazerLow '77 Sneakers\",\n",
       " 'Men AIR PRESTO Sneakers',\n",
       " 'Men Formal Derbys',\n",
       " 'Men Mid-Top Chelsea Boots',\n",
       " 'Men Solid Leather Formal Slip-Ons',\n",
       " 'Unisex Mirage Remix Sneakers',\n",
       " 'Men Colourblocked PU Sneakers',\n",
       " 'Women Charged Bandit 6 Running',\n",
       " 'Unisex Ferrari Wild Rider Shoe',\n",
       " 'Men Running Shoes',\n",
       " 'Men Liberate NITRO Running',\n",
       " 'Men Solid Leather Formal Derbys',\n",
       " 'Men Wingtip Oxford Sneakers',\n",
       " 'Men Black Walking Shoes',\n",
       " 'Men Walking Shoes',\n",
       " 'Men Running Shoes',\n",
       " 'Men Solid Low Top LTH Sneakers',\n",
       " 'Men UV MONO Leather Sneakers',\n",
       " 'Unisex Leather Trainers',\n",
       " 'Men Black Running Sports Shoes',\n",
       " 'Men Leather Slip-On Sneakers',\n",
       " 'Women Leather Heeled Boots',\n",
       " 'Men Football Shoes',\n",
       " 'Women Liberate NITRO Running',\n",
       " 'Unisex Clyde All-Pro Team',\n",
       " 'Women Magnify Nitro Shoes',\n",
       " 'Women Charged Vantage ClrShft',\n",
       " 'Men Leather Flat Boots',\n",
       " 'Women Velocity NITRO Runners',\n",
       " 'Women Leather Block Pumps',\n",
       " 'Men Mid-Top Runner Sneakers',\n",
       " 'Women Leather Pumps',\n",
       " 'Men Textured Leather Formal Derbys',\n",
       " 'Men Solid Leather Sneakers',\n",
       " 'FIRST MILE Forever XT Utility',\n",
       " 'Women NOVABLAST Road Running',\n",
       " 'Men GENERATION ZEROGRAND STITCHLITE',\n",
       " 'Men Black Leather Loafers',\n",
       " 'Skycourt Sneakers',\n",
       " 'Men Lightweight Sneakers',\n",
       " 'Men Textured Leather Loafers',\n",
       " 'Men Solid Leather Formal Monk Shoes']"
      ]
     },
     "execution_count": 169,
     "metadata": {},
     "output_type": "execute_result"
    }
   ],
   "source": [
    "desc_tags= driver.find_elements_by_xpath(\"//h4[@class='product-product']\")\n",
    "desc_tags\n",
    "\n",
    "for i in desc_tags:\n",
    "    des=i.text\n",
    "    shoe_desc.append(des)\n",
    "shoe_desc"
   ]
  },
  {
   "cell_type": "code",
   "execution_count": 170,
   "id": "f8b261c8",
   "metadata": {},
   "outputs": [
    {
     "name": "stdout",
     "output_type": "stream",
     "text": [
      "50\n"
     ]
    }
   ],
   "source": [
    "print(len(shoe_desc))"
   ]
  },
  {
   "cell_type": "code",
   "execution_count": 171,
   "id": "164285ed",
   "metadata": {},
   "outputs": [
    {
     "name": "stderr",
     "output_type": "stream",
     "text": [
      "<ipython-input-171-02b44660f55e>:1: DeprecationWarning: find_elements_by_* commands are deprecated. Please use find_elements() instead\n",
      "  shoeprice_tags = driver.find_elements_by_xpath(\"//div[@class='product-price']\")\n"
     ]
    },
    {
     "data": {
      "text/plain": [
       "['Rs. 8295',\n",
       " 'Rs. 9995',\n",
       " 'Rs. 8099Rs. 8999(10% OFF)',\n",
       " 'Rs. 7195',\n",
       " 'Rs. 11495',\n",
       " 'Rs. 12749Rs. 14999(15% OFF)',\n",
       " 'Rs. 9349Rs. 10999(15% OFF)',\n",
       " 'Rs. 7995',\n",
       " 'Rs. 7195',\n",
       " 'Rs. 11495',\n",
       " 'Rs. 8999Rs. 9999(10% OFF)',\n",
       " 'Rs. 10900',\n",
       " 'Rs. 8999Rs. 9999(10% OFF)',\n",
       " 'Rs. 7649Rs. 8999(15% OFF)',\n",
       " 'Rs. 9999',\n",
       " 'Rs. 8999',\n",
       " 'Rs. 7149Rs. 10999(35% OFF)',\n",
       " 'Rs. 7999',\n",
       " 'Rs. 8499Rs. 9999(15% OFF)',\n",
       " 'Rs. 8999Rs. 9999(10% OFF)',\n",
       " 'Rs. 10399Rs. 12999(20% OFF)',\n",
       " 'Rs. 8999',\n",
       " 'Rs. 8999',\n",
       " 'Rs. 9749Rs. 12999(25% OFF)',\n",
       " 'Rs. 8999',\n",
       " 'Rs. 8999',\n",
       " 'Rs. 8499Rs. 9999(15% OFF)',\n",
       " 'Rs. 7999',\n",
       " 'Rs. 7999Rs. 9999(20% OFF)',\n",
       " 'Rs. 13900',\n",
       " 'Rs. 11899Rs. 16999(30% OFF)',\n",
       " 'Rs. 8499Rs. 9999(15% OFF)',\n",
       " 'Rs. 8999',\n",
       " 'Rs. 10399Rs. 12999(20% OFF)',\n",
       " 'Rs. 7999',\n",
       " 'Rs. 11999',\n",
       " 'Rs. 9349Rs. 10999(15% OFF)',\n",
       " 'Rs. 7999',\n",
       " 'Rs. 10999',\n",
       " 'Rs. 7999',\n",
       " 'Rs. 7199Rs. 8999(20% OFF)',\n",
       " 'Rs. 9999',\n",
       " 'Rs. 7199Rs. 8999(20% OFF)',\n",
       " 'Rs. 10399Rs. 12999(20% OFF)',\n",
       " 'Rs. 9599Rs. 11999(20% OFF)',\n",
       " 'Rs. 8490',\n",
       " 'Rs. 7999',\n",
       " 'Rs. 7999',\n",
       " 'Rs. 7990',\n",
       " 'Rs. 12999']"
      ]
     },
     "execution_count": 171,
     "metadata": {},
     "output_type": "execute_result"
    }
   ],
   "source": [
    "shoeprice_tags = driver.find_elements_by_xpath(\"//div[@class='product-price']\")\n",
    "shoeprice_tags\n",
    "\n",
    "for i in shoeprice_tags:\n",
    "    sp=i.text\n",
    "    price_shoe.append(sp)\n",
    "price_shoe"
   ]
  },
  {
   "cell_type": "code",
   "execution_count": 172,
   "id": "9cb151b4",
   "metadata": {},
   "outputs": [
    {
     "name": "stdout",
     "output_type": "stream",
     "text": [
      "50\n"
     ]
    }
   ],
   "source": [
    "print(len(price_shoe))"
   ]
  },
  {
   "cell_type": "code",
   "execution_count": 173,
   "id": "7df765bc",
   "metadata": {},
   "outputs": [
    {
     "name": "stderr",
     "output_type": "stream",
     "text": [
      "<ipython-input-173-d6bb049313d3>:1: DeprecationWarning: find_element_by_* commands are deprecated. Please use find_element() instead\n",
      "  nextpagebtn= driver.find_element_by_xpath(\"/html/body/div[2]/div/div[1]/main/div[3]/div[2]/div/div[2]/section/div[2]/ul/li[3]/a\").click()\n"
     ]
    }
   ],
   "source": [
    "nextpagebtn= driver.find_element_by_xpath(\"/html/body/div[2]/div/div[1]/main/div[3]/div[2]/div/div[2]/section/div[2]/ul/li[3]/a\").click()"
   ]
  },
  {
   "cell_type": "code",
   "execution_count": 174,
   "id": "f0f21bfa",
   "metadata": {},
   "outputs": [],
   "source": [
    "brand1 = []\n",
    "shoe_desc1 = []\n",
    "price_shoe1 = []"
   ]
  },
  {
   "cell_type": "code",
   "execution_count": 175,
   "id": "8edcd854",
   "metadata": {},
   "outputs": [
    {
     "name": "stderr",
     "output_type": "stream",
     "text": [
      "<ipython-input-175-8f8d8694a8e5>:1: DeprecationWarning: find_element_by_* commands are deprecated. Please use find_element() instead\n",
      "  price_filter1= driver.find_element_by_xpath(\"/html/body/div[2]/div/div[1]/main/div[3]/div[1]/section/div/div[5]/ul/li[2]/label\")\n"
     ]
    }
   ],
   "source": [
    "price_filter1= driver.find_element_by_xpath(\"/html/body/div[2]/div/div[1]/main/div[3]/div[1]/section/div/div[5]/ul/li[2]/label\")\n",
    "price_filter1.click()"
   ]
  },
  {
   "cell_type": "code",
   "execution_count": 176,
   "id": "6c209a4e",
   "metadata": {},
   "outputs": [
    {
     "name": "stderr",
     "output_type": "stream",
     "text": [
      "<ipython-input-176-0df42554b78d>:1: DeprecationWarning: find_elements_by_* commands are deprecated. Please use find_elements() instead\n",
      "  brand_tags1 = driver.find_elements_by_xpath(\"//h3[@class='product-brand']\")\n"
     ]
    },
    {
     "data": {
      "text/plain": [
       "['Nike',\n",
       " 'Nike',\n",
       " 'Hush Puppies',\n",
       " 'Nike',\n",
       " 'Nike',\n",
       " 'Puma',\n",
       " 'Puma',\n",
       " 'Nike',\n",
       " 'Nike',\n",
       " 'Nike',\n",
       " 'Hush Puppies',\n",
       " 'Saint G',\n",
       " 'Hush Puppies',\n",
       " 'Puma',\n",
       " 'ASICS',\n",
       " 'UNDER ARMOUR',\n",
       " 'PUMA Motorsport',\n",
       " 'ASICS',\n",
       " 'Puma',\n",
       " 'Hush Puppies',\n",
       " 'Cole Haan',\n",
       " 'Bugatti',\n",
       " 'Bugatti',\n",
       " 'Puma',\n",
       " 'Calvin Klein',\n",
       " 'Calvin Klein',\n",
       " 'Puma',\n",
       " 'ASICS',\n",
       " 'Hush Puppies',\n",
       " 'Saint G',\n",
       " 'Puma',\n",
       " 'Puma',\n",
       " 'PUMA Hoops',\n",
       " 'Puma',\n",
       " 'UNDER ARMOUR',\n",
       " 'Geox',\n",
       " 'Puma',\n",
       " 'Tommy Hilfiger',\n",
       " 'Calvin Klein',\n",
       " 'Tommy Hilfiger',\n",
       " 'Pavers England',\n",
       " 'Calvin Klein',\n",
       " 'Puma',\n",
       " 'ASICS',\n",
       " 'Cole Haan',\n",
       " 'J.FONTINI',\n",
       " 'ASICS',\n",
       " 'Tommy Hilfiger',\n",
       " 'J.FONTINI',\n",
       " 'ROSSO BRUNELLO']"
      ]
     },
     "execution_count": 176,
     "metadata": {},
     "output_type": "execute_result"
    }
   ],
   "source": [
    "brand_tags1 = driver.find_elements_by_xpath(\"//h3[@class='product-brand']\")\n",
    "brand_tags1\n",
    "\n",
    "for i in brand_tags1:\n",
    "    b1=i.text\n",
    "    brand1.append(b1)\n",
    "brand1"
   ]
  },
  {
   "cell_type": "code",
   "execution_count": 177,
   "id": "cbea817b",
   "metadata": {},
   "outputs": [
    {
     "name": "stdout",
     "output_type": "stream",
     "text": [
      "50\n"
     ]
    }
   ],
   "source": [
    "print(len(brand1))"
   ]
  },
  {
   "cell_type": "code",
   "execution_count": 178,
   "id": "e397d015",
   "metadata": {},
   "outputs": [
    {
     "name": "stderr",
     "output_type": "stream",
     "text": [
      "<ipython-input-178-c3589adf8ab5>:1: DeprecationWarning: find_elements_by_* commands are deprecated. Please use find_elements() instead\n",
      "  desc_tags1= driver.find_elements_by_xpath(\"//h4[@class='product-product']\")\n"
     ]
    },
    {
     "data": {
      "text/plain": [
       "['LEBRON WITNESS Basketball Shoe',\n",
       " 'AIR ZOOM PEGASUS Running Shoes',\n",
       " 'Men Solid Leather Formal Slip-Ons',\n",
       " 'Men Zoom Span 4 Running Shoes',\n",
       " 'Air Zoom Pegasus 38 Shield Run',\n",
       " 'Men Deviate Nitro Running Shoe',\n",
       " 'Men Velocity Nitro Running',\n",
       " 'Men FLIGHT LEGACY Sneakers',\n",
       " \"Men BlazerLow '77 Sneakers\",\n",
       " 'Men AIR PRESTO Sneakers',\n",
       " 'Men Formal Derbys',\n",
       " 'Men Mid-Top Chelsea Boots',\n",
       " 'Men Solid Leather Formal Slip-Ons',\n",
       " 'Unisex Mirage Remix Sneakers',\n",
       " 'Men Colourblocked PU Sneakers',\n",
       " 'Women Charged Bandit 6 Running',\n",
       " 'Unisex Ferrari Wild Rider Shoe',\n",
       " 'Men Running Shoes',\n",
       " 'Men Liberate NITRO Running',\n",
       " 'Men Solid Leather Formal Derbys',\n",
       " 'Men Wingtip Oxford Sneakers',\n",
       " 'Men Black Walking Shoes',\n",
       " 'Men Walking Shoes',\n",
       " 'Men Running Shoes',\n",
       " 'Men Solid Low Top LTH Sneakers',\n",
       " 'Men UV MONO Leather Sneakers',\n",
       " 'Unisex Leather Trainers',\n",
       " 'Men Black Running Sports Shoes',\n",
       " 'Men Leather Slip-On Sneakers',\n",
       " 'Women Leather Heeled Boots',\n",
       " 'Men Football Shoes',\n",
       " 'Women Liberate NITRO Running',\n",
       " 'Unisex Clyde All-Pro Team',\n",
       " 'Women Magnify Nitro Shoes',\n",
       " 'Women Charged Vantage ClrShft',\n",
       " 'Men Leather Flat Boots',\n",
       " 'Women Velocity NITRO Runners',\n",
       " 'Women Leather Block Pumps',\n",
       " 'Men Mid-Top Runner Sneakers',\n",
       " 'Women Leather Pumps',\n",
       " 'Men Textured Leather Formal Derbys',\n",
       " 'Men Solid Leather Sneakers',\n",
       " 'FIRST MILE Forever XT Utility',\n",
       " 'Women NOVABLAST Road Running',\n",
       " 'Men GENERATION ZEROGRAND STITCHLITE',\n",
       " 'Men Black Leather Loafers',\n",
       " 'Skycourt Sneakers',\n",
       " 'Men Lightweight Sneakers',\n",
       " 'Men Textured Leather Loafers',\n",
       " 'Men Solid Leather Formal Monk Shoes']"
      ]
     },
     "execution_count": 178,
     "metadata": {},
     "output_type": "execute_result"
    }
   ],
   "source": [
    "desc_tags1= driver.find_elements_by_xpath(\"//h4[@class='product-product']\")\n",
    "desc_tags1\n",
    "\n",
    "for i in desc_tags1:\n",
    "    des1=i.text\n",
    "    shoe_desc1.append(des1)\n",
    "shoe_desc1"
   ]
  },
  {
   "cell_type": "code",
   "execution_count": 179,
   "id": "204100c8",
   "metadata": {},
   "outputs": [
    {
     "name": "stderr",
     "output_type": "stream",
     "text": [
      "<ipython-input-179-a44ca1c9df32>:1: DeprecationWarning: find_elements_by_* commands are deprecated. Please use find_elements() instead\n",
      "  shoeprice_tags1 = driver.find_elements_by_xpath(\"//div[@class='product-price']\")\n"
     ]
    },
    {
     "data": {
      "text/plain": [
       "['Rs. 8295',\n",
       " 'Rs. 9995',\n",
       " 'Rs. 8099Rs. 8999(10% OFF)',\n",
       " 'Rs. 7195',\n",
       " 'Rs. 11495',\n",
       " 'Rs. 12749Rs. 14999(15% OFF)',\n",
       " 'Rs. 9349Rs. 10999(15% OFF)',\n",
       " 'Rs. 7995',\n",
       " 'Rs. 7195',\n",
       " 'Rs. 11495',\n",
       " 'Rs. 8999Rs. 9999(10% OFF)',\n",
       " 'Rs. 10900',\n",
       " 'Rs. 8999Rs. 9999(10% OFF)',\n",
       " 'Rs. 7649Rs. 8999(15% OFF)',\n",
       " 'Rs. 9999',\n",
       " 'Rs. 8999',\n",
       " 'Rs. 7149Rs. 10999(35% OFF)',\n",
       " 'Rs. 7999',\n",
       " 'Rs. 8499Rs. 9999(15% OFF)',\n",
       " 'Rs. 8999Rs. 9999(10% OFF)',\n",
       " 'Rs. 10399Rs. 12999(20% OFF)',\n",
       " 'Rs. 8999',\n",
       " 'Rs. 8999',\n",
       " 'Rs. 9749Rs. 12999(25% OFF)',\n",
       " 'Rs. 8999',\n",
       " 'Rs. 8999',\n",
       " 'Rs. 8499Rs. 9999(15% OFF)',\n",
       " 'Rs. 7999',\n",
       " 'Rs. 7999Rs. 9999(20% OFF)',\n",
       " 'Rs. 13900',\n",
       " 'Rs. 11899Rs. 16999(30% OFF)',\n",
       " 'Rs. 8499Rs. 9999(15% OFF)',\n",
       " 'Rs. 8999',\n",
       " 'Rs. 10399Rs. 12999(20% OFF)',\n",
       " 'Rs. 7999',\n",
       " 'Rs. 11999',\n",
       " 'Rs. 9349Rs. 10999(15% OFF)',\n",
       " 'Rs. 7999',\n",
       " 'Rs. 10999',\n",
       " 'Rs. 7999',\n",
       " 'Rs. 7199Rs. 8999(20% OFF)',\n",
       " 'Rs. 9999',\n",
       " 'Rs. 7199Rs. 8999(20% OFF)',\n",
       " 'Rs. 10399Rs. 12999(20% OFF)',\n",
       " 'Rs. 9599Rs. 11999(20% OFF)',\n",
       " 'Rs. 8490',\n",
       " 'Rs. 7999',\n",
       " 'Rs. 7999',\n",
       " 'Rs. 7990',\n",
       " 'Rs. 12999']"
      ]
     },
     "execution_count": 179,
     "metadata": {},
     "output_type": "execute_result"
    }
   ],
   "source": [
    "shoeprice_tags1 = driver.find_elements_by_xpath(\"//div[@class='product-price']\")\n",
    "shoeprice_tags1\n",
    "\n",
    "for i in shoeprice_tags1:\n",
    "    sp1=i.text\n",
    "    price_shoe1.append(sp1)\n",
    "price_shoe1"
   ]
  },
  {
   "cell_type": "code",
   "execution_count": 180,
   "id": "383cb113",
   "metadata": {},
   "outputs": [],
   "source": [
    "price_shoe2 = price_shoe + price_shoe1\n",
    "brand2 = brand + brand1\n",
    "shoe_desc2 = shoe_desc + shoe_desc1"
   ]
  },
  {
   "cell_type": "code",
   "execution_count": 181,
   "id": "a5c80dce",
   "metadata": {},
   "outputs": [
    {
     "name": "stdout",
     "output_type": "stream",
     "text": [
      "100 100 100\n"
     ]
    }
   ],
   "source": [
    "print(len(brand2),len(shoe_desc2),len(price_shoe2))"
   ]
  },
  {
   "cell_type": "code",
   "execution_count": 182,
   "id": "fb383040",
   "metadata": {},
   "outputs": [
    {
     "data": {
      "text/html": [
       "<div>\n",
       "<style scoped>\n",
       "    .dataframe tbody tr th:only-of-type {\n",
       "        vertical-align: middle;\n",
       "    }\n",
       "\n",
       "    .dataframe tbody tr th {\n",
       "        vertical-align: top;\n",
       "    }\n",
       "\n",
       "    .dataframe thead th {\n",
       "        text-align: right;\n",
       "    }\n",
       "</style>\n",
       "<table border=\"1\" class=\"dataframe\">\n",
       "  <thead>\n",
       "    <tr style=\"text-align: right;\">\n",
       "      <th></th>\n",
       "      <th>brand_name</th>\n",
       "      <th>description</th>\n",
       "      <th>price</th>\n",
       "    </tr>\n",
       "  </thead>\n",
       "  <tbody>\n",
       "    <tr>\n",
       "      <th>0</th>\n",
       "      <td>Nike</td>\n",
       "      <td>LEBRON WITNESS Basketball Shoe</td>\n",
       "      <td>Rs. 8295</td>\n",
       "    </tr>\n",
       "    <tr>\n",
       "      <th>1</th>\n",
       "      <td>Nike</td>\n",
       "      <td>AIR ZOOM PEGASUS Running Shoes</td>\n",
       "      <td>Rs. 9995</td>\n",
       "    </tr>\n",
       "    <tr>\n",
       "      <th>2</th>\n",
       "      <td>Hush Puppies</td>\n",
       "      <td>Men Solid Leather Formal Slip-Ons</td>\n",
       "      <td>Rs. 8099Rs. 8999(10% OFF)</td>\n",
       "    </tr>\n",
       "    <tr>\n",
       "      <th>3</th>\n",
       "      <td>Nike</td>\n",
       "      <td>Men Zoom Span 4 Running Shoes</td>\n",
       "      <td>Rs. 7195</td>\n",
       "    </tr>\n",
       "    <tr>\n",
       "      <th>4</th>\n",
       "      <td>Nike</td>\n",
       "      <td>Air Zoom Pegasus 38 Shield Run</td>\n",
       "      <td>Rs. 11495</td>\n",
       "    </tr>\n",
       "    <tr>\n",
       "      <th>...</th>\n",
       "      <td>...</td>\n",
       "      <td>...</td>\n",
       "      <td>...</td>\n",
       "    </tr>\n",
       "    <tr>\n",
       "      <th>95</th>\n",
       "      <td>J.FONTINI</td>\n",
       "      <td>Men Black Leather Loafers</td>\n",
       "      <td>Rs. 8490</td>\n",
       "    </tr>\n",
       "    <tr>\n",
       "      <th>96</th>\n",
       "      <td>ASICS</td>\n",
       "      <td>Skycourt Sneakers</td>\n",
       "      <td>Rs. 7999</td>\n",
       "    </tr>\n",
       "    <tr>\n",
       "      <th>97</th>\n",
       "      <td>Tommy Hilfiger</td>\n",
       "      <td>Men Lightweight Sneakers</td>\n",
       "      <td>Rs. 7999</td>\n",
       "    </tr>\n",
       "    <tr>\n",
       "      <th>98</th>\n",
       "      <td>J.FONTINI</td>\n",
       "      <td>Men Textured Leather Loafers</td>\n",
       "      <td>Rs. 7990</td>\n",
       "    </tr>\n",
       "    <tr>\n",
       "      <th>99</th>\n",
       "      <td>ROSSO BRUNELLO</td>\n",
       "      <td>Men Solid Leather Formal Monk Shoes</td>\n",
       "      <td>Rs. 12999</td>\n",
       "    </tr>\n",
       "  </tbody>\n",
       "</table>\n",
       "<p>100 rows × 3 columns</p>\n",
       "</div>"
      ],
      "text/plain": [
       "        brand_name                          description  \\\n",
       "0             Nike       LEBRON WITNESS Basketball Shoe   \n",
       "1             Nike       AIR ZOOM PEGASUS Running Shoes   \n",
       "2     Hush Puppies    Men Solid Leather Formal Slip-Ons   \n",
       "3             Nike        Men Zoom Span 4 Running Shoes   \n",
       "4             Nike       Air Zoom Pegasus 38 Shield Run   \n",
       "..             ...                                  ...   \n",
       "95       J.FONTINI            Men Black Leather Loafers   \n",
       "96           ASICS                    Skycourt Sneakers   \n",
       "97  Tommy Hilfiger             Men Lightweight Sneakers   \n",
       "98       J.FONTINI         Men Textured Leather Loafers   \n",
       "99  ROSSO BRUNELLO  Men Solid Leather Formal Monk Shoes   \n",
       "\n",
       "                        price  \n",
       "0                    Rs. 8295  \n",
       "1                    Rs. 9995  \n",
       "2   Rs. 8099Rs. 8999(10% OFF)  \n",
       "3                    Rs. 7195  \n",
       "4                   Rs. 11495  \n",
       "..                        ...  \n",
       "95                   Rs. 8490  \n",
       "96                   Rs. 7999  \n",
       "97                   Rs. 7999  \n",
       "98                   Rs. 7990  \n",
       "99                  Rs. 12999  \n",
       "\n",
       "[100 rows x 3 columns]"
      ]
     },
     "execution_count": 182,
     "metadata": {},
     "output_type": "execute_result"
    }
   ],
   "source": [
    "z=pd.DataFrame({'brand_name':brand2,'description':shoe_desc2,'price':price_shoe2})\n",
    "z"
   ]
  },
  {
   "cell_type": "code",
   "execution_count": null,
   "id": "35b7ed36",
   "metadata": {},
   "outputs": [],
   "source": [
    "#Q8: Go to webpage https://www.amazon.in/\n",
    "#Enter “Laptop” in the search field and then click the search icon.\n",
    "#Then set CPU Type filter to “Intel Core i7” and “Intel Core i9” as shown in the below image:\n",
    "#After setting the filters scrape first 10 laptops data. You have to scrape 3 attributes for each laptop:\n",
    "#1. Title\n",
    "#2. Ratings\n",
    "#3. Price"
   ]
  },
  {
   "cell_type": "code",
   "execution_count": null,
   "id": "810a8d25",
   "metadata": {},
   "outputs": [],
   "source": []
  },
  {
   "cell_type": "code",
   "execution_count": 36,
   "id": "89c6a9cd",
   "metadata": {},
   "outputs": [],
   "source": [
    "#Q10: Write a python program to scrape the salary data for Data Scientist designation.\n",
    "#You have to scrape Company name, Number of salaries, Average salary, Min salary, Max Salary."
   ]
  },
  {
   "cell_type": "code",
   "execution_count": 65,
   "id": "404b978c",
   "metadata": {},
   "outputs": [
    {
     "name": "stderr",
     "output_type": "stream",
     "text": [
      "<ipython-input-65-1413f9ff276d>:1: DeprecationWarning: executable_path has been deprecated, please pass in a Service object\n",
      "  driver = webdriver.Chrome(r\"C:\\Users\\sushr\\OneDrive\\Desktop\\chromedriver\\chromedriver.exe\")\n"
     ]
    }
   ],
   "source": [
    "driver = webdriver.Chrome(r\"C:\\Users\\sushr\\OneDrive\\Desktop\\chromedriver\\chromedriver.exe\")\n",
    "driver.get('https://www.ambitionbox.com/')"
   ]
  },
  {
   "cell_type": "code",
   "execution_count": 66,
   "id": "44a118c7",
   "metadata": {},
   "outputs": [
    {
     "name": "stderr",
     "output_type": "stream",
     "text": [
      "<ipython-input-66-cb6573695278>:1: DeprecationWarning: find_element_by_* commands are deprecated. Please use find_element() instead\n",
      "  search_salarypage = driver.find_element_by_xpath(\"//a[@class='link salaries']\")\n"
     ]
    }
   ],
   "source": [
    "search_salarypage = driver.find_element_by_xpath(\"//a[@class='link salaries']\")\n",
    "search_salarypage.click()"
   ]
  },
  {
   "cell_type": "code",
   "execution_count": 74,
   "id": "a91f611d",
   "metadata": {},
   "outputs": [
    {
     "name": "stderr",
     "output_type": "stream",
     "text": [
      "<ipython-input-74-c7534bd7fdbe>:1: DeprecationWarning: find_element_by_* commands are deprecated. Please use find_element() instead\n",
      "  search_jobprofile = driver.find_element_by_xpath(\"//input[@id='jobProfileSearchbox']\")\n"
     ]
    }
   ],
   "source": [
    "search_jobprofile = driver.find_element_by_xpath(\"//input[@id='jobProfileSearchbox']\")\n",
    "search_jobprofile.send_keys('Data Scientist')"
   ]
  },
  {
   "cell_type": "code",
   "execution_count": 75,
   "id": "fab45202",
   "metadata": {},
   "outputs": [],
   "source": [
    "url=\"https://www.ambitionbox.com/salaries\"\n",
    "driver.get(url)"
   ]
  },
  {
   "cell_type": "code",
   "execution_count": 73,
   "id": "9de14823",
   "metadata": {},
   "outputs": [],
   "source": [
    "company_names=[]\n",
    "total_salary_record=[]\n",
    "average_salary=[]\n",
    "min_salary=[]\n",
    "max_salary=[]\n",
    "exp_reqd=[]"
   ]
  },
  {
   "cell_type": "code",
   "execution_count": 76,
   "id": "287a92d4",
   "metadata": {},
   "outputs": [
    {
     "name": "stderr",
     "output_type": "stream",
     "text": [
      "<ipython-input-76-38096c335693>:1: DeprecationWarning: find_elements_by_* commands are deprecated. Please use find_elements() instead\n",
      "  companyname_tags = driver.find_elements_by_xpath(\"//div[@class='name']/a\")\n"
     ]
    },
    {
     "data": {
      "text/plain": [
       "[<selenium.webdriver.remote.webelement.WebElement (session=\"30c308253dc43c66cc409b156d1d7d5f\", element=\"71dc2125-dc4d-4c89-8acd-c6055f2c169b\")>,\n",
       " <selenium.webdriver.remote.webelement.WebElement (session=\"30c308253dc43c66cc409b156d1d7d5f\", element=\"78c1f995-31a9-4f41-9ad5-a4043e8e99e0\")>,\n",
       " <selenium.webdriver.remote.webelement.WebElement (session=\"30c308253dc43c66cc409b156d1d7d5f\", element=\"a8a7986a-0e86-4d45-85de-865b1e8d279b\")>,\n",
       " <selenium.webdriver.remote.webelement.WebElement (session=\"30c308253dc43c66cc409b156d1d7d5f\", element=\"9447d886-947a-421f-a784-a45fb2bf9de0\")>,\n",
       " <selenium.webdriver.remote.webelement.WebElement (session=\"30c308253dc43c66cc409b156d1d7d5f\", element=\"4d35954a-32f1-4731-be0a-4668e928adec\")>,\n",
       " <selenium.webdriver.remote.webelement.WebElement (session=\"30c308253dc43c66cc409b156d1d7d5f\", element=\"28527b29-cb59-4255-8dcc-96ad7e11126c\")>,\n",
       " <selenium.webdriver.remote.webelement.WebElement (session=\"30c308253dc43c66cc409b156d1d7d5f\", element=\"39be4f9c-a8b9-47df-86b1-e490a395c65b\")>,\n",
       " <selenium.webdriver.remote.webelement.WebElement (session=\"30c308253dc43c66cc409b156d1d7d5f\", element=\"b454c2bb-c39c-495a-afe7-6365b44277bd\")>,\n",
       " <selenium.webdriver.remote.webelement.WebElement (session=\"30c308253dc43c66cc409b156d1d7d5f\", element=\"bace463e-8e1a-4949-8a8f-cb655f39d233\")>,\n",
       " <selenium.webdriver.remote.webelement.WebElement (session=\"30c308253dc43c66cc409b156d1d7d5f\", element=\"e114e45a-aff4-4d7f-a12c-57f80c398822\")>]"
      ]
     },
     "execution_count": 76,
     "metadata": {},
     "output_type": "execute_result"
    }
   ],
   "source": [
    "companyname_tags = driver.find_elements_by_xpath(\"//div[@class='name']/a\")\n",
    "companyname_tags[0:10]"
   ]
  },
  {
   "cell_type": "code",
   "execution_count": 78,
   "id": "61ae382e",
   "metadata": {},
   "outputs": [
    {
     "data": {
      "text/plain": [
       "['Ab Inbev',\n",
       " 'Optum',\n",
       " 'Fractal Analytics',\n",
       " 'Tiger Analytics',\n",
       " 'UnitedHealth',\n",
       " 'Verizon',\n",
       " 'Ganit Business Solutions',\n",
       " 'Deloitte',\n",
       " 'Ernst & Young',\n",
       " 'Ericsson']"
      ]
     },
     "execution_count": 78,
     "metadata": {},
     "output_type": "execute_result"
    }
   ],
   "source": [
    "for x in companyname_tags:\n",
    "    cn=x.text\n",
    "    company_names.append(cn)\n",
    "company_names[0:10]"
   ]
  },
  {
   "cell_type": "code",
   "execution_count": 85,
   "id": "db08a862",
   "metadata": {},
   "outputs": [
    {
     "name": "stderr",
     "output_type": "stream",
     "text": [
      "<ipython-input-85-85b0811da479>:1: DeprecationWarning: find_elements_by_* commands are deprecated. Please use find_elements() instead\n",
      "  sal_record_tags = driver.find_elements_by_xpath(\"//div[@class='name']/span\")\n"
     ]
    },
    {
     "data": {
      "text/plain": [
       "['based on 10 salaries',\n",
       " 'based on 22 salaries',\n",
       " 'based on 60 salaries',\n",
       " 'based on 24 salaries',\n",
       " 'based on 45 salaries',\n",
       " 'based on 14 salaries',\n",
       " 'based on 12 salaries',\n",
       " 'based on 45 salaries',\n",
       " 'based on 26 salaries',\n",
       " 'based on 43 salaries']"
      ]
     },
     "execution_count": 85,
     "metadata": {},
     "output_type": "execute_result"
    }
   ],
   "source": [
    "sal_record_tags = driver.find_elements_by_xpath(\"//div[@class='name']/span\")\n",
    "sal_record_tags[0:10]\n",
    "\n",
    "for x in sal_record_tags:\n",
    "    srt=x.text\n",
    "    total_salary_record.append(srt)\n",
    "total_salary_record[0:10]"
   ]
  },
  {
   "cell_type": "code",
   "execution_count": 87,
   "id": "ca031879",
   "metadata": {},
   "outputs": [
    {
     "name": "stderr",
     "output_type": "stream",
     "text": [
      "<ipython-input-87-b05624a2cb83>:1: DeprecationWarning: find_elements_by_* commands are deprecated. Please use find_elements() instead\n",
      "  avg_sal_tags = driver.find_elements_by_xpath(\"//div[@class='average-indicator-wrapper']/p\")\n"
     ]
    },
    {
     "data": {
      "text/plain": [
       "['₹ 19.4L',\n",
       " '₹ 15.1L',\n",
       " '₹ 14.7L',\n",
       " '₹ 13.4L',\n",
       " '₹ 13.3L',\n",
       " '₹ 12.7L',\n",
       " '₹ 12.4L',\n",
       " '₹ 11.2L',\n",
       " '₹ 11.1L',\n",
       " '₹ 10.9L']"
      ]
     },
     "execution_count": 87,
     "metadata": {},
     "output_type": "execute_result"
    }
   ],
   "source": [
    "avg_sal_tags = driver.find_elements_by_xpath(\"//div[@class='average-indicator-wrapper']/p\")\n",
    "avg_sal_tags[0:10]\n",
    "\n",
    "for x in avg_sal_tags:\n",
    "    avg_sal=x.text\n",
    "    average_salary.append(avg_sal)\n",
    "average_salary[0:10]"
   ]
  },
  {
   "cell_type": "code",
   "execution_count": 88,
   "id": "1942055c",
   "metadata": {},
   "outputs": [
    {
     "name": "stderr",
     "output_type": "stream",
     "text": [
      "<ipython-input-88-6d5433fedd0e>:1: DeprecationWarning: find_elements_by_* commands are deprecated. Please use find_elements() instead\n",
      "  min_sal_tags = driver.find_elements_by_xpath(\"//div[@class='value body-medium']\")\n"
     ]
    },
    {
     "data": {
      "text/plain": [
       "['₹ 15.0L',\n",
       " '₹ 23.0L',\n",
       " '₹ 11.0L',\n",
       " '₹ 21.3L',\n",
       " '₹ 9.0L',\n",
       " '₹ 20.8L',\n",
       " '₹ 8.3L',\n",
       " '₹ 18.5L',\n",
       " '₹ 7.2L',\n",
       " '₹ 20.5L']"
      ]
     },
     "execution_count": 88,
     "metadata": {},
     "output_type": "execute_result"
    }
   ],
   "source": [
    "min_sal_tags = driver.find_elements_by_xpath(\"//div[@class='value body-medium']\")\n",
    "min_sal_tags[0:10]\n",
    "\n",
    "for x in min_sal_tags:\n",
    "    min_sal=x.text\n",
    "    min_salary.append(min_sal)\n",
    "min_salary[0:10]"
   ]
  },
  {
   "cell_type": "code",
   "execution_count": 94,
   "id": "1f3a0e17",
   "metadata": {},
   "outputs": [
    {
     "name": "stderr",
     "output_type": "stream",
     "text": [
      "<ipython-input-94-f564ec693a72>:1: DeprecationWarning: find_elements_by_* commands are deprecated. Please use find_elements() instead\n",
      "  max_sal_tags = driver.find_elements_by_xpath(\"//div[@class='salary-values']\")\n"
     ]
    },
    {
     "data": {
      "text/plain": [
       "['₹ 15.0L',\n",
       " '₹ 23.0L',\n",
       " '₹ 11.0L',\n",
       " '₹ 21.3L',\n",
       " '₹ 9.0L',\n",
       " '₹ 20.8L',\n",
       " '₹ 8.3L',\n",
       " '₹ 18.5L',\n",
       " '₹ 7.2L',\n",
       " '₹ 20.5L']"
      ]
     },
     "execution_count": 94,
     "metadata": {},
     "output_type": "execute_result"
    }
   ],
   "source": [
    "max_sal_tags = driver.find_elements_by_xpath(\"//div[@class='salary-values']\")\n",
    "max_sal_tags[0:10]\n",
    "\n",
    "for x in max_sal_tags:\n",
    "    max_sal=x.text\n",
    "    max_salary.append(max_sal)\n",
    "max_salary[0:10]"
   ]
  },
  {
   "cell_type": "code",
   "execution_count": 99,
   "id": "2f4365ef",
   "metadata": {},
   "outputs": [
    {
     "name": "stderr",
     "output_type": "stream",
     "text": [
      "<ipython-input-99-6e4e4c15df0f>:1: DeprecationWarning: find_elements_by_* commands are deprecated. Please use find_elements() instead\n",
      "  exp_tags = driver.find_elements_by_class_name('salaries sbold-list-header')\n"
     ]
    },
    {
     "data": {
      "text/plain": [
       "[' . ', ' . ', ' . ', ' . ', ' . ', ' . ', ' . ', ' . ', ' . ', ' . ']"
      ]
     },
     "execution_count": 99,
     "metadata": {},
     "output_type": "execute_result"
    }
   ],
   "source": [
    "exp_tags = driver.find_elements_by_class_name('salaries sbold-list-header')\n",
    "exp_tags[0:10]\n",
    "\n",
    "for x in exp_tags:\n",
    "    exp=x.text\n",
    "    exp_reqd.append(exp)\n",
    "exp_reqd[0:10]"
   ]
  },
  {
   "cell_type": "code",
   "execution_count": null,
   "id": "c8e5602f",
   "metadata": {},
   "outputs": [],
   "source": []
  }
 ],
 "metadata": {
  "kernelspec": {
   "display_name": "Python 3",
   "language": "python",
   "name": "python3"
  },
  "language_info": {
   "codemirror_mode": {
    "name": "ipython",
    "version": 3
   },
   "file_extension": ".py",
   "mimetype": "text/x-python",
   "name": "python",
   "nbconvert_exporter": "python",
   "pygments_lexer": "ipython3",
   "version": "3.8.8"
  }
 },
 "nbformat": 4,
 "nbformat_minor": 5
}
