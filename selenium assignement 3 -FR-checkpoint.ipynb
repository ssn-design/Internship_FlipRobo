{
 "cells": [
  {
   "cell_type": "markdown",
   "id": "6ad285e2",
   "metadata": {},
   "source": [
    "# WEB SCRAPING  - SELENIUM ASSIGNMENT"
   ]
  },
  {
   "cell_type": "code",
   "execution_count": 2,
   "id": "2bf1181f",
   "metadata": {},
   "outputs": [],
   "source": [
    "#Q1: Write a python program to scrape data for “Data Analyst” Job position in “Bangalore” location. \n",
    "#You have to scrape the job-title, job-location, company_name, experience_required. You have to scrape first 10 jobs data."
   ]
  },
  {
   "cell_type": "code",
   "execution_count": 3,
   "id": "e6e227c9",
   "metadata": {},
   "outputs": [
    {
     "name": "stdout",
     "output_type": "stream",
     "text": [
      "Requirement already satisfied: selenium in c:\\users\\sushr\\anaconda3\\lib\\site-packages (4.0.0)\n",
      "Requirement already satisfied: trio~=0.17 in c:\\users\\sushr\\anaconda3\\lib\\site-packages (from selenium) (0.19.0)\n",
      "Requirement already satisfied: urllib3[secure]~=1.26 in c:\\users\\sushr\\anaconda3\\lib\\site-packages (from selenium) (1.26.4)\n",
      "Requirement already satisfied: trio-websocket~=0.9 in c:\\users\\sushr\\anaconda3\\lib\\site-packages (from selenium) (0.9.2)\n",
      "Requirement already satisfied: idna in c:\\users\\sushr\\anaconda3\\lib\\site-packages (from trio~=0.17->selenium) (2.10)\n",
      "Requirement already satisfied: cffi>=1.14 in c:\\users\\sushr\\anaconda3\\lib\\site-packages (from trio~=0.17->selenium) (1.14.5)\n",
      "Requirement already satisfied: outcome in c:\\users\\sushr\\anaconda3\\lib\\site-packages (from trio~=0.17->selenium) (1.1.0)\n",
      "Requirement already satisfied: attrs>=19.2.0 in c:\\users\\sushr\\anaconda3\\lib\\site-packages (from trio~=0.17->selenium) (20.3.0)\n",
      "Requirement already satisfied: sortedcontainers in c:\\users\\sushr\\anaconda3\\lib\\site-packages (from trio~=0.17->selenium) (2.3.0)\n",
      "Requirement already satisfied: async-generator>=1.9 in c:\\users\\sushr\\anaconda3\\lib\\site-packages (from trio~=0.17->selenium) (1.10)\n",
      "Requirement already satisfied: sniffio in c:\\users\\sushr\\anaconda3\\lib\\site-packages (from trio~=0.17->selenium) (1.2.0)\n",
      "Requirement already satisfied: pycparser in c:\\users\\sushr\\anaconda3\\lib\\site-packages (from cffi>=1.14->trio~=0.17->selenium) (2.20)\n",
      "Requirement already satisfied: wsproto>=0.14 in c:\\users\\sushr\\anaconda3\\lib\\site-packages (from trio-websocket~=0.9->selenium) (1.0.0)\n",
      "Requirement already satisfied: cryptography>=1.3.4 in c:\\users\\sushr\\anaconda3\\lib\\site-packages (from urllib3[secure]~=1.26->selenium) (3.4.7)\n",
      "Requirement already satisfied: certifi in c:\\users\\sushr\\anaconda3\\lib\\site-packages (from urllib3[secure]~=1.26->selenium) (2020.12.5)\n",
      "Requirement already satisfied: pyOpenSSL>=0.14 in c:\\users\\sushr\\anaconda3\\lib\\site-packages (from urllib3[secure]~=1.26->selenium) (20.0.1)\n",
      "Requirement already satisfied: six>=1.5.2 in c:\\users\\sushr\\anaconda3\\lib\\site-packages (from pyOpenSSL>=0.14->urllib3[secure]~=1.26->selenium) (1.15.0)\n",
      "Requirement already satisfied: h11<1,>=0.9.0 in c:\\users\\sushr\\anaconda3\\lib\\site-packages (from wsproto>=0.14->trio-websocket~=0.9->selenium) (0.12.0)\n"
     ]
    }
   ],
   "source": [
    "! pip install selenium"
   ]
  },
  {
   "cell_type": "code",
   "execution_count": 5,
   "id": "c82f7510",
   "metadata": {},
   "outputs": [],
   "source": [
    "import selenium\n",
    "import pandas as pd\n",
    "from selenium import webdriver"
   ]
  },
  {
   "cell_type": "code",
   "execution_count": 6,
   "id": "e88ca896",
   "metadata": {},
   "outputs": [
    {
     "name": "stderr",
     "output_type": "stream",
     "text": [
      "<ipython-input-6-ada3ed53b577>:1: DeprecationWarning: executable_path has been deprecated, please pass in a Service object\n",
      "  driver = webdriver.Chrome(r\"C:\\Users\\sushr\\OneDrive\\Desktop\\chromedriver\\chromedriver.exe\")\n"
     ]
    }
   ],
   "source": [
    "driver = webdriver.Chrome(r\"C:\\Users\\sushr\\OneDrive\\Desktop\\chromedriver\\chromedriver.exe\")"
   ]
  },
  {
   "cell_type": "code",
   "execution_count": 51,
   "id": "b0081b52",
   "metadata": {},
   "outputs": [],
   "source": [
    "driver.get('https://www.naukri.com/')"
   ]
  },
  {
   "cell_type": "code",
   "execution_count": 52,
   "id": "8463eb52",
   "metadata": {},
   "outputs": [
    {
     "name": "stderr",
     "output_type": "stream",
     "text": [
      "<ipython-input-52-977ce425f33d>:1: DeprecationWarning: find_element_by_* commands are deprecated. Please use find_element() instead\n",
      "  search_job = driver.find_element_by_id('qsb-keyword-sugg')\n",
      "<ipython-input-52-977ce425f33d>:3: DeprecationWarning: find_element_by_* commands are deprecated. Please use find_element() instead\n",
      "  search_loc = driver.find_element_by_xpath(\"//input[@id='qsb-location-sugg']\")\n",
      "<ipython-input-52-977ce425f33d>:5: DeprecationWarning: find_element_by_* commands are deprecated. Please use find_element() instead\n",
      "  search_btn = driver.find_element_by_xpath(\"//div[@class='search-btn']/button\")\n"
     ]
    }
   ],
   "source": [
    "search_job = driver.find_element_by_id('qsb-keyword-sugg')\n",
    "search_job.send_keys('Data Analyst')\n",
    "search_loc = driver.find_element_by_xpath(\"//input[@id='qsb-location-sugg']\")\n",
    "search_loc.send_keys('Bangalore')\n",
    "search_btn = driver.find_element_by_xpath(\"//div[@class='search-btn']/button\")\n",
    "search_btn.click()"
   ]
  },
  {
   "cell_type": "code",
   "execution_count": 53,
   "id": "73559b4e",
   "metadata": {},
   "outputs": [],
   "source": [
    "url = \"https://www.naukri.com/data-analyst-jobs-in-bangalore?k=data%20analyst&l=bangalore\"\n",
    "driver.get(url)"
   ]
  },
  {
   "cell_type": "code",
   "execution_count": 54,
   "id": "3daf84a5",
   "metadata": {},
   "outputs": [],
   "source": [
    "job_titles=[]\n",
    "location_list=[]\n",
    "company_name=[]\n",
    "experience_list=[]"
   ]
  },
  {
   "cell_type": "code",
   "execution_count": 55,
   "id": "7a21ee12",
   "metadata": {},
   "outputs": [
    {
     "name": "stderr",
     "output_type": "stream",
     "text": [
      "<ipython-input-55-432ea5a6f77d>:1: DeprecationWarning: find_elements_by_* commands are deprecated. Please use find_elements() instead\n",
      "  titles_tags = driver.find_elements_by_xpath(\"//a[@class='title fw500 ellipsis']\")\n"
     ]
    },
    {
     "data": {
      "text/plain": [
       "[<selenium.webdriver.remote.webelement.WebElement (session=\"454605237a2b13e6e2d1273785bcf7a7\", element=\"4d564c81-af79-42df-8f91-77d4583b7a37\")>,\n",
       " <selenium.webdriver.remote.webelement.WebElement (session=\"454605237a2b13e6e2d1273785bcf7a7\", element=\"b152aa53-4821-46fa-8f48-7bf1c8df03fe\")>,\n",
       " <selenium.webdriver.remote.webelement.WebElement (session=\"454605237a2b13e6e2d1273785bcf7a7\", element=\"d81563f3-a31a-40fa-8603-9250e4fb7e19\")>,\n",
       " <selenium.webdriver.remote.webelement.WebElement (session=\"454605237a2b13e6e2d1273785bcf7a7\", element=\"3da1da27-9766-49d3-b5cc-a89b30bc93be\")>,\n",
       " <selenium.webdriver.remote.webelement.WebElement (session=\"454605237a2b13e6e2d1273785bcf7a7\", element=\"4d28fe33-f6bd-406a-8737-7144a4850500\")>,\n",
       " <selenium.webdriver.remote.webelement.WebElement (session=\"454605237a2b13e6e2d1273785bcf7a7\", element=\"c9cb01bf-a188-46d2-a9cc-43940085e91e\")>,\n",
       " <selenium.webdriver.remote.webelement.WebElement (session=\"454605237a2b13e6e2d1273785bcf7a7\", element=\"d773b0ec-5a68-477e-b6f3-57904e57374c\")>,\n",
       " <selenium.webdriver.remote.webelement.WebElement (session=\"454605237a2b13e6e2d1273785bcf7a7\", element=\"c32d31fb-507d-4842-bcb0-6b4b2ebbcb92\")>,\n",
       " <selenium.webdriver.remote.webelement.WebElement (session=\"454605237a2b13e6e2d1273785bcf7a7\", element=\"94d55563-ac9d-4c43-b8fd-e1849c48ee81\")>,\n",
       " <selenium.webdriver.remote.webelement.WebElement (session=\"454605237a2b13e6e2d1273785bcf7a7\", element=\"8825be87-8da1-4b5c-86df-c09539cbe12e\")>]"
      ]
     },
     "execution_count": 55,
     "metadata": {},
     "output_type": "execute_result"
    }
   ],
   "source": [
    "titles_tags = driver.find_elements_by_xpath(\"//a[@class='title fw500 ellipsis']\")\n",
    "titles_tags[0:10]"
   ]
  },
  {
   "cell_type": "code",
   "execution_count": 56,
   "id": "4c5c6d30",
   "metadata": {},
   "outputs": [
    {
     "data": {
      "text/plain": [
       "['Business Data Analyst - Database Design/Mining',\n",
       " 'Data Analyst',\n",
       " 'Data Analyst',\n",
       " 'Data Analyst',\n",
       " 'Business Data Analyst - MIS & Reporting',\n",
       " 'Business Data Analyst',\n",
       " 'Senior Data Analyst - SQL/Tableau/Redshift',\n",
       " 'Power BI - Data Analyst - Biocon Biologics',\n",
       " 'Senior Data Analyst',\n",
       " 'ID&A - Data Analyst - Informatica MDM']"
      ]
     },
     "execution_count": 56,
     "metadata": {},
     "output_type": "execute_result"
    }
   ],
   "source": [
    "for i in titles_tags:\n",
    "    title=i.text\n",
    "    job_titles.append(title)\n",
    "job_titles[0:10]\n",
    "    "
   ]
  },
  {
   "cell_type": "code",
   "execution_count": 57,
   "id": "8eb362c4",
   "metadata": {},
   "outputs": [
    {
     "name": "stderr",
     "output_type": "stream",
     "text": [
      "<ipython-input-57-edca770a560f>:1: DeprecationWarning: find_elements_by_* commands are deprecated. Please use find_elements() instead\n",
      "  location_tags = driver.find_elements_by_xpath(\"//li[@class='fleft grey-text br2 placeHolderLi location']/span[1]\")\n"
     ]
    },
    {
     "data": {
      "text/plain": [
       "[<selenium.webdriver.remote.webelement.WebElement (session=\"454605237a2b13e6e2d1273785bcf7a7\", element=\"3e819a47-5e34-4a89-a60a-4085f1191655\")>,\n",
       " <selenium.webdriver.remote.webelement.WebElement (session=\"454605237a2b13e6e2d1273785bcf7a7\", element=\"554a6092-d2f2-401a-9d0e-fd7fbf22dac7\")>,\n",
       " <selenium.webdriver.remote.webelement.WebElement (session=\"454605237a2b13e6e2d1273785bcf7a7\", element=\"4e6cc196-0fa3-40c4-85b1-5cbfe3759666\")>,\n",
       " <selenium.webdriver.remote.webelement.WebElement (session=\"454605237a2b13e6e2d1273785bcf7a7\", element=\"a74b3838-89e9-4b04-8805-456cbb57f273\")>,\n",
       " <selenium.webdriver.remote.webelement.WebElement (session=\"454605237a2b13e6e2d1273785bcf7a7\", element=\"9c45c33f-adaa-4eff-b0b6-b68e22ac054e\")>,\n",
       " <selenium.webdriver.remote.webelement.WebElement (session=\"454605237a2b13e6e2d1273785bcf7a7\", element=\"b17fadaf-4b22-4cba-834f-cd42a6648de3\")>,\n",
       " <selenium.webdriver.remote.webelement.WebElement (session=\"454605237a2b13e6e2d1273785bcf7a7\", element=\"4e495b6c-4e3e-418f-9466-c18162f50ef8\")>,\n",
       " <selenium.webdriver.remote.webelement.WebElement (session=\"454605237a2b13e6e2d1273785bcf7a7\", element=\"e5a9bad4-0734-41bc-b390-7691549513c8\")>,\n",
       " <selenium.webdriver.remote.webelement.WebElement (session=\"454605237a2b13e6e2d1273785bcf7a7\", element=\"e68d35bc-012e-4769-8f13-4f559b2b1b74\")>,\n",
       " <selenium.webdriver.remote.webelement.WebElement (session=\"454605237a2b13e6e2d1273785bcf7a7\", element=\"e914ee12-8d8f-49c6-882d-4cff341c0b93\")>]"
      ]
     },
     "execution_count": 57,
     "metadata": {},
     "output_type": "execute_result"
    }
   ],
   "source": [
    "location_tags = driver.find_elements_by_xpath(\"//li[@class='fleft grey-text br2 placeHolderLi location']/span[1]\")\n",
    "location_tags[0:10]"
   ]
  },
  {
   "cell_type": "code",
   "execution_count": 58,
   "id": "aba52ad7",
   "metadata": {},
   "outputs": [
    {
     "data": {
      "text/plain": [
       "['Bangalore/Bengaluru',\n",
       " 'Bangalore/Bengaluru',\n",
       " 'Bangalore/Bengaluru',\n",
       " 'Bangalore/Bengaluru',\n",
       " 'Mumbai, Bangalore/Bengaluru',\n",
       " 'Bangalore/Bengaluru',\n",
       " 'Noida, Mumbai, Indore, Hyderabad/Secunderabad, Pune, Chennai, Bangalore/Bengaluru',\n",
       " 'Bangalore/Bengaluru',\n",
       " 'Bangalore/Bengaluru',\n",
       " 'Bangalore/Bengaluru']"
      ]
     },
     "execution_count": 58,
     "metadata": {},
     "output_type": "execute_result"
    }
   ],
   "source": [
    "for i in location_tags:\n",
    "    location=i.text\n",
    "    location_list.append(location)\n",
    "    \n",
    "location_list[0:10]"
   ]
  },
  {
   "cell_type": "code",
   "execution_count": 59,
   "id": "2523972a",
   "metadata": {},
   "outputs": [
    {
     "name": "stderr",
     "output_type": "stream",
     "text": [
      "<ipython-input-59-604f1726292c>:1: DeprecationWarning: find_elements_by_* commands are deprecated. Please use find_elements() instead\n",
      "  companyname_tags = driver.find_elements_by_xpath(\"//a[@class='subTitle ellipsis fleft']\")\n"
     ]
    },
    {
     "data": {
      "text/plain": [
       "['AugmatrixGo',\n",
       " 'Applied Materials',\n",
       " 'Shell',\n",
       " 'Shell',\n",
       " 'INTERTRUST GROUP',\n",
       " 'NetApp',\n",
       " 'Pronto Consulting Services',\n",
       " 'BIOCON BIOLOGICS LIMITED',\n",
       " 'Utthunga Technologies Pvt Ltd',\n",
       " 'Shell']"
      ]
     },
     "execution_count": 59,
     "metadata": {},
     "output_type": "execute_result"
    }
   ],
   "source": [
    "companyname_tags = driver.find_elements_by_xpath(\"//a[@class='subTitle ellipsis fleft']\")\n",
    "companyname_tags[0:10]\n",
    "\n",
    "for i in companyname_tags:\n",
    "    companyname=i.text\n",
    "    company_name.append(companyname)\n",
    "    \n",
    "company_name[0:10]"
   ]
  },
  {
   "cell_type": "code",
   "execution_count": 60,
   "id": "2d839a37",
   "metadata": {},
   "outputs": [
    {
     "name": "stderr",
     "output_type": "stream",
     "text": [
      "<ipython-input-60-5fa767a63a3e>:1: DeprecationWarning: find_elements_by_* commands are deprecated. Please use find_elements() instead\n",
      "  experience_tags = driver.find_elements_by_xpath(\"//li[@class='fleft grey-text br2 placeHolderLi experience']/span[1]\")\n"
     ]
    },
    {
     "data": {
      "text/plain": [
       "[<selenium.webdriver.remote.webelement.WebElement (session=\"454605237a2b13e6e2d1273785bcf7a7\", element=\"bde20457-3e82-405e-b4a2-472de4e339f0\")>,\n",
       " <selenium.webdriver.remote.webelement.WebElement (session=\"454605237a2b13e6e2d1273785bcf7a7\", element=\"5f3cbedc-3145-4386-a5d4-6377b94bf27c\")>,\n",
       " <selenium.webdriver.remote.webelement.WebElement (session=\"454605237a2b13e6e2d1273785bcf7a7\", element=\"53947a7b-ab88-4a34-a454-cf0c5afdd9e0\")>,\n",
       " <selenium.webdriver.remote.webelement.WebElement (session=\"454605237a2b13e6e2d1273785bcf7a7\", element=\"5a44d1ff-e39b-4df6-8faa-fda56fbca9bf\")>,\n",
       " <selenium.webdriver.remote.webelement.WebElement (session=\"454605237a2b13e6e2d1273785bcf7a7\", element=\"5ca801b7-f486-4ee2-8f10-76b24e2119f7\")>,\n",
       " <selenium.webdriver.remote.webelement.WebElement (session=\"454605237a2b13e6e2d1273785bcf7a7\", element=\"81b52518-6dab-4d37-a798-6a7e2ec5a0ac\")>,\n",
       " <selenium.webdriver.remote.webelement.WebElement (session=\"454605237a2b13e6e2d1273785bcf7a7\", element=\"7276ad9a-1fd2-4383-a0c2-a38371c2d9a8\")>,\n",
       " <selenium.webdriver.remote.webelement.WebElement (session=\"454605237a2b13e6e2d1273785bcf7a7\", element=\"cdb0990a-ad56-4d71-aa67-64b5ebf50eb9\")>,\n",
       " <selenium.webdriver.remote.webelement.WebElement (session=\"454605237a2b13e6e2d1273785bcf7a7\", element=\"ac4edcc5-cd87-44bd-86e1-fd84ac25be26\")>,\n",
       " <selenium.webdriver.remote.webelement.WebElement (session=\"454605237a2b13e6e2d1273785bcf7a7\", element=\"ff8e1bc2-b154-4d7d-ae21-d05127fc7178\")>]"
      ]
     },
     "execution_count": 60,
     "metadata": {},
     "output_type": "execute_result"
    }
   ],
   "source": [
    "experience_tags = driver.find_elements_by_xpath(\"//li[@class='fleft grey-text br2 placeHolderLi experience']/span[1]\")\n",
    "experience_tags[0:10]"
   ]
  },
  {
   "cell_type": "code",
   "execution_count": 61,
   "id": "919debf3",
   "metadata": {},
   "outputs": [
    {
     "data": {
      "text/plain": [
       "['2-5 Yrs',\n",
       " '0-3 Yrs',\n",
       " '5-8 Yrs',\n",
       " '5-10 Yrs',\n",
       " '3-8 Yrs',\n",
       " '5-10 Yrs',\n",
       " '6-10 Yrs',\n",
       " '3-8 Yrs',\n",
       " '3-4 Yrs',\n",
       " '5-9 Yrs']"
      ]
     },
     "execution_count": 61,
     "metadata": {},
     "output_type": "execute_result"
    }
   ],
   "source": [
    "for i in experience_tags:\n",
    "    experience=i.text\n",
    "    experience_list.append(experience)\n",
    "    \n",
    "experience_list[0:10]"
   ]
  },
  {
   "cell_type": "code",
   "execution_count": 62,
   "id": "f883c0cb",
   "metadata": {},
   "outputs": [
    {
     "name": "stdout",
     "output_type": "stream",
     "text": [
      "20 20 20 20\n"
     ]
    }
   ],
   "source": [
    "print(len(job_titles),len(location_list),len(company_name),len(experience_list))"
   ]
  },
  {
   "cell_type": "code",
   "execution_count": 63,
   "id": "944476bf",
   "metadata": {},
   "outputs": [],
   "source": [
    "import pandas as pd\n",
    "jobs=pd.DataFrame({})\n",
    "jobs['title']=job_titles[0:10]\n",
    "jobs['company']=company_name[0:10]\n",
    "jobs['experience_required']=experience_list[0:10]\n",
    "jobs['location']=location_list[0:10]"
   ]
  },
  {
   "cell_type": "code",
   "execution_count": 64,
   "id": "da786b27",
   "metadata": {},
   "outputs": [
    {
     "data": {
      "text/html": [
       "<div>\n",
       "<style scoped>\n",
       "    .dataframe tbody tr th:only-of-type {\n",
       "        vertical-align: middle;\n",
       "    }\n",
       "\n",
       "    .dataframe tbody tr th {\n",
       "        vertical-align: top;\n",
       "    }\n",
       "\n",
       "    .dataframe thead th {\n",
       "        text-align: right;\n",
       "    }\n",
       "</style>\n",
       "<table border=\"1\" class=\"dataframe\">\n",
       "  <thead>\n",
       "    <tr style=\"text-align: right;\">\n",
       "      <th></th>\n",
       "      <th>title</th>\n",
       "      <th>company</th>\n",
       "      <th>experience_required</th>\n",
       "      <th>location</th>\n",
       "    </tr>\n",
       "  </thead>\n",
       "  <tbody>\n",
       "    <tr>\n",
       "      <th>0</th>\n",
       "      <td>Business Data Analyst - Database Design/Mining</td>\n",
       "      <td>AugmatrixGo</td>\n",
       "      <td>2-5 Yrs</td>\n",
       "      <td>Bangalore/Bengaluru</td>\n",
       "    </tr>\n",
       "    <tr>\n",
       "      <th>1</th>\n",
       "      <td>Data Analyst</td>\n",
       "      <td>Applied Materials</td>\n",
       "      <td>0-3 Yrs</td>\n",
       "      <td>Bangalore/Bengaluru</td>\n",
       "    </tr>\n",
       "    <tr>\n",
       "      <th>2</th>\n",
       "      <td>Data Analyst</td>\n",
       "      <td>Shell</td>\n",
       "      <td>5-8 Yrs</td>\n",
       "      <td>Bangalore/Bengaluru</td>\n",
       "    </tr>\n",
       "    <tr>\n",
       "      <th>3</th>\n",
       "      <td>Data Analyst</td>\n",
       "      <td>Shell</td>\n",
       "      <td>5-10 Yrs</td>\n",
       "      <td>Bangalore/Bengaluru</td>\n",
       "    </tr>\n",
       "    <tr>\n",
       "      <th>4</th>\n",
       "      <td>Business Data Analyst - MIS &amp; Reporting</td>\n",
       "      <td>INTERTRUST GROUP</td>\n",
       "      <td>3-8 Yrs</td>\n",
       "      <td>Mumbai, Bangalore/Bengaluru</td>\n",
       "    </tr>\n",
       "    <tr>\n",
       "      <th>5</th>\n",
       "      <td>Business Data Analyst</td>\n",
       "      <td>NetApp</td>\n",
       "      <td>5-10 Yrs</td>\n",
       "      <td>Bangalore/Bengaluru</td>\n",
       "    </tr>\n",
       "    <tr>\n",
       "      <th>6</th>\n",
       "      <td>Senior Data Analyst - SQL/Tableau/Redshift</td>\n",
       "      <td>Pronto Consulting Services</td>\n",
       "      <td>6-10 Yrs</td>\n",
       "      <td>Noida, Mumbai, Indore, Hyderabad/Secunderabad,...</td>\n",
       "    </tr>\n",
       "    <tr>\n",
       "      <th>7</th>\n",
       "      <td>Power BI - Data Analyst - Biocon Biologics</td>\n",
       "      <td>BIOCON BIOLOGICS LIMITED</td>\n",
       "      <td>3-8 Yrs</td>\n",
       "      <td>Bangalore/Bengaluru</td>\n",
       "    </tr>\n",
       "    <tr>\n",
       "      <th>8</th>\n",
       "      <td>Senior Data Analyst</td>\n",
       "      <td>Utthunga Technologies Pvt Ltd</td>\n",
       "      <td>3-4 Yrs</td>\n",
       "      <td>Bangalore/Bengaluru</td>\n",
       "    </tr>\n",
       "    <tr>\n",
       "      <th>9</th>\n",
       "      <td>ID&amp;A - Data Analyst - Informatica MDM</td>\n",
       "      <td>Shell</td>\n",
       "      <td>5-9 Yrs</td>\n",
       "      <td>Bangalore/Bengaluru</td>\n",
       "    </tr>\n",
       "  </tbody>\n",
       "</table>\n",
       "</div>"
      ],
      "text/plain": [
       "                                            title  \\\n",
       "0  Business Data Analyst - Database Design/Mining   \n",
       "1                                    Data Analyst   \n",
       "2                                    Data Analyst   \n",
       "3                                    Data Analyst   \n",
       "4         Business Data Analyst - MIS & Reporting   \n",
       "5                           Business Data Analyst   \n",
       "6      Senior Data Analyst - SQL/Tableau/Redshift   \n",
       "7      Power BI - Data Analyst - Biocon Biologics   \n",
       "8                             Senior Data Analyst   \n",
       "9           ID&A - Data Analyst - Informatica MDM   \n",
       "\n",
       "                         company experience_required  \\\n",
       "0                    AugmatrixGo             2-5 Yrs   \n",
       "1              Applied Materials             0-3 Yrs   \n",
       "2                          Shell             5-8 Yrs   \n",
       "3                          Shell            5-10 Yrs   \n",
       "4               INTERTRUST GROUP             3-8 Yrs   \n",
       "5                         NetApp            5-10 Yrs   \n",
       "6     Pronto Consulting Services            6-10 Yrs   \n",
       "7       BIOCON BIOLOGICS LIMITED             3-8 Yrs   \n",
       "8  Utthunga Technologies Pvt Ltd             3-4 Yrs   \n",
       "9                          Shell             5-9 Yrs   \n",
       "\n",
       "                                            location  \n",
       "0                                Bangalore/Bengaluru  \n",
       "1                                Bangalore/Bengaluru  \n",
       "2                                Bangalore/Bengaluru  \n",
       "3                                Bangalore/Bengaluru  \n",
       "4                        Mumbai, Bangalore/Bengaluru  \n",
       "5                                Bangalore/Bengaluru  \n",
       "6  Noida, Mumbai, Indore, Hyderabad/Secunderabad,...  \n",
       "7                                Bangalore/Bengaluru  \n",
       "8                                Bangalore/Bengaluru  \n",
       "9                                Bangalore/Bengaluru  "
      ]
     },
     "execution_count": 64,
     "metadata": {},
     "output_type": "execute_result"
    }
   ],
   "source": [
    "jobs"
   ]
  },
  {
   "cell_type": "code",
   "execution_count": 19,
   "id": "62833b39",
   "metadata": {},
   "outputs": [
    {
     "name": "stderr",
     "output_type": "stream",
     "text": [
      "<ipython-input-19-0a8389fdf555>:4: DeprecationWarning: executable_path has been deprecated, please pass in a Service object\n",
      "  driver = webdriver.Chrome(r\"C:\\Users\\sushr\\OneDrive\\Desktop\\chromedriver\\chromedriver.exe\")\n"
     ]
    }
   ],
   "source": [
    "#Q2: Write a python program to scrape data for “Data Scientist” Job position in “Bangalore” location. You\n",
    "#have to scrape the job-title, job-location, company_name. You have to scrape first 10 jobs data.\n",
    "\n",
    "driver = webdriver.Chrome(r\"C:\\Users\\sushr\\OneDrive\\Desktop\\chromedriver\\chromedriver.exe\")"
   ]
  },
  {
   "cell_type": "code",
   "execution_count": 20,
   "id": "08468d92",
   "metadata": {},
   "outputs": [],
   "source": [
    "driver.get('https://www.naukri.com/')"
   ]
  },
  {
   "cell_type": "code",
   "execution_count": 21,
   "id": "3f4b97c3",
   "metadata": {},
   "outputs": [
    {
     "name": "stderr",
     "output_type": "stream",
     "text": [
      "<ipython-input-21-aded73b96ae6>:1: DeprecationWarning: find_element_by_* commands are deprecated. Please use find_element() instead\n",
      "  search_j = driver.find_element_by_id('qsb-keyword-sugg')\n",
      "<ipython-input-21-aded73b96ae6>:3: DeprecationWarning: find_element_by_* commands are deprecated. Please use find_element() instead\n",
      "  search_l = driver.find_element_by_xpath(\"//input[@id='qsb-location-sugg']\")\n",
      "<ipython-input-21-aded73b96ae6>:5: DeprecationWarning: find_element_by_* commands are deprecated. Please use find_element() instead\n",
      "  search_bt = driver.find_element_by_xpath(\"//div[@class='search-btn']/button\")\n"
     ]
    }
   ],
   "source": [
    "search_j = driver.find_element_by_id('qsb-keyword-sugg')\n",
    "search_j.send_keys('Data Scientist')\n",
    "search_l = driver.find_element_by_xpath(\"//input[@id='qsb-location-sugg']\")\n",
    "search_l.send_keys('Bangalore')\n",
    "search_bt = driver.find_element_by_xpath(\"//div[@class='search-btn']/button\")\n",
    "search_bt.click()"
   ]
  },
  {
   "cell_type": "code",
   "execution_count": 22,
   "id": "219c07b7",
   "metadata": {},
   "outputs": [],
   "source": [
    "jobtitles=[]\n",
    "locationlist=[]\n",
    "companyname=[]"
   ]
  },
  {
   "cell_type": "code",
   "execution_count": 23,
   "id": "f9fcf778",
   "metadata": {},
   "outputs": [
    {
     "name": "stderr",
     "output_type": "stream",
     "text": [
      "<ipython-input-23-d8b68f74e641>:1: DeprecationWarning: find_elements_by_* commands are deprecated. Please use find_elements() instead\n",
      "  tt_tags = driver.find_elements_by_xpath(\"//a[@class='title fw500 ellipsis']\")\n"
     ]
    },
    {
     "data": {
      "text/plain": [
       "['Forecasting Analyst/ Data Scientist (US Client)',\n",
       " 'Senior Data Scientist',\n",
       " 'Senior Data Scientist | Fortune 500 Supermarket Chain',\n",
       " 'Associate Data Scientist',\n",
       " 'Looking For Senior Data Scientist Immediate Joiners and 1 months NP',\n",
       " 'Data Scientist',\n",
       " 'Principal Data Scientist',\n",
       " 'Data Scientist',\n",
       " 'Data Scientist',\n",
       " 'Looking For Senior Data Scientist Immediate Joiners and 1 months NP']"
      ]
     },
     "execution_count": 23,
     "metadata": {},
     "output_type": "execute_result"
    }
   ],
   "source": [
    "tt_tags = driver.find_elements_by_xpath(\"//a[@class='title fw500 ellipsis']\")\n",
    "tt_tags[0:10]\n",
    "\n",
    "for i in tt_tags:\n",
    "    title=i.text\n",
    "    jobtitles.append(title)\n",
    "jobtitles[0:10]"
   ]
  },
  {
   "cell_type": "code",
   "execution_count": 24,
   "id": "e4bfb8c3",
   "metadata": {},
   "outputs": [
    {
     "name": "stderr",
     "output_type": "stream",
     "text": [
      "<ipython-input-24-5990b5c1e02a>:1: DeprecationWarning: find_elements_by_* commands are deprecated. Please use find_elements() instead\n",
      "  lc_tags = driver.find_elements_by_xpath(\"//li[@class='fleft grey-text br2 placeHolderLi location']/span[1]\")\n"
     ]
    },
    {
     "data": {
      "text/plain": [
       "['Gurgaon/Gurugram, Bangalore/Bengaluru',\n",
       " 'Bangalore/Bengaluru(Sadashiva Nagar)',\n",
       " 'Bangalore/Bengaluru',\n",
       " 'Bangalore/Bengaluru',\n",
       " 'Bangalore/Bengaluru',\n",
       " 'Bangalore/Bengaluru',\n",
       " 'Bangalore/Bengaluru',\n",
       " 'Bangalore/Bengaluru',\n",
       " 'Bangalore/Bengaluru',\n",
       " 'Bangalore/Bengaluru']"
      ]
     },
     "execution_count": 24,
     "metadata": {},
     "output_type": "execute_result"
    }
   ],
   "source": [
    "lc_tags = driver.find_elements_by_xpath(\"//li[@class='fleft grey-text br2 placeHolderLi location']/span[1]\")\n",
    "lc_tags[0:10]\n",
    "\n",
    "for i in lc_tags:\n",
    "    loc=i.text\n",
    "    locationlist.append(loc)\n",
    "locationlist[0:10]"
   ]
  },
  {
   "cell_type": "code",
   "execution_count": 25,
   "id": "cae4e92e",
   "metadata": {},
   "outputs": [
    {
     "name": "stderr",
     "output_type": "stream",
     "text": [
      "<ipython-input-25-0fbd284d7c99>:1: DeprecationWarning: find_elements_by_* commands are deprecated. Please use find_elements() instead\n",
      "  cn_tags = driver.find_elements_by_xpath(\"//a[@class='subTitle ellipsis fleft']\")\n"
     ]
    },
    {
     "data": {
      "text/plain": [
       "['Concentrix Daksh Services',\n",
       " 'Convergence Infotech Ltd',\n",
       " 'TALENT500 TECH (INDIA) PRIVATE LIMITED',\n",
       " 'Mavenir',\n",
       " 'Mount Talent Consulting Private Limited',\n",
       " 'Cerner Corporation',\n",
       " 'Walmart Labs',\n",
       " 'CoffeeBeans',\n",
       " 'Oracle India Pvt. Ltd.',\n",
       " 'Mount Talent Consulting Private Limited']"
      ]
     },
     "execution_count": 25,
     "metadata": {},
     "output_type": "execute_result"
    }
   ],
   "source": [
    "cn_tags = driver.find_elements_by_xpath(\"//a[@class='subTitle ellipsis fleft']\")\n",
    "cn_tags[0:10]\n",
    "\n",
    "for i in cn_tags:\n",
    "    cname=i.text\n",
    "    companyname.append(cname)\n",
    "    \n",
    "companyname[0:10]"
   ]
  },
  {
   "cell_type": "code",
   "execution_count": 26,
   "id": "42cbf59e",
   "metadata": {},
   "outputs": [
    {
     "name": "stdout",
     "output_type": "stream",
     "text": [
      "20 20 20\n"
     ]
    }
   ],
   "source": [
    "print(len(jobtitles),len(locationlist),len(companyname))"
   ]
  },
  {
   "cell_type": "code",
   "execution_count": 28,
   "id": "d32f5d68",
   "metadata": {},
   "outputs": [
    {
     "data": {
      "text/html": [
       "<div>\n",
       "<style scoped>\n",
       "    .dataframe tbody tr th:only-of-type {\n",
       "        vertical-align: middle;\n",
       "    }\n",
       "\n",
       "    .dataframe tbody tr th {\n",
       "        vertical-align: top;\n",
       "    }\n",
       "\n",
       "    .dataframe thead th {\n",
       "        text-align: right;\n",
       "    }\n",
       "</style>\n",
       "<table border=\"1\" class=\"dataframe\">\n",
       "  <thead>\n",
       "    <tr style=\"text-align: right;\">\n",
       "      <th></th>\n",
       "      <th>title</th>\n",
       "      <th>company</th>\n",
       "      <th>location</th>\n",
       "    </tr>\n",
       "  </thead>\n",
       "  <tbody>\n",
       "    <tr>\n",
       "      <th>0</th>\n",
       "      <td>Forecasting Analyst/ Data Scientist (US Client)</td>\n",
       "      <td>Concentrix Daksh Services</td>\n",
       "      <td>Gurgaon/Gurugram, Bangalore/Bengaluru</td>\n",
       "    </tr>\n",
       "    <tr>\n",
       "      <th>1</th>\n",
       "      <td>Senior Data Scientist</td>\n",
       "      <td>Convergence Infotech Ltd</td>\n",
       "      <td>Bangalore/Bengaluru(Sadashiva Nagar)</td>\n",
       "    </tr>\n",
       "    <tr>\n",
       "      <th>2</th>\n",
       "      <td>Senior Data Scientist | Fortune 500 Supermarke...</td>\n",
       "      <td>TALENT500 TECH (INDIA) PRIVATE LIMITED</td>\n",
       "      <td>Bangalore/Bengaluru</td>\n",
       "    </tr>\n",
       "    <tr>\n",
       "      <th>3</th>\n",
       "      <td>Associate Data Scientist</td>\n",
       "      <td>Mavenir</td>\n",
       "      <td>Bangalore/Bengaluru</td>\n",
       "    </tr>\n",
       "    <tr>\n",
       "      <th>4</th>\n",
       "      <td>Looking For Senior Data Scientist Immediate Jo...</td>\n",
       "      <td>Mount Talent Consulting Private Limited</td>\n",
       "      <td>Bangalore/Bengaluru</td>\n",
       "    </tr>\n",
       "    <tr>\n",
       "      <th>5</th>\n",
       "      <td>Data Scientist</td>\n",
       "      <td>Cerner Corporation</td>\n",
       "      <td>Bangalore/Bengaluru</td>\n",
       "    </tr>\n",
       "    <tr>\n",
       "      <th>6</th>\n",
       "      <td>Principal Data Scientist</td>\n",
       "      <td>Walmart Labs</td>\n",
       "      <td>Bangalore/Bengaluru</td>\n",
       "    </tr>\n",
       "    <tr>\n",
       "      <th>7</th>\n",
       "      <td>Data Scientist</td>\n",
       "      <td>CoffeeBeans</td>\n",
       "      <td>Bangalore/Bengaluru</td>\n",
       "    </tr>\n",
       "    <tr>\n",
       "      <th>8</th>\n",
       "      <td>Data Scientist</td>\n",
       "      <td>Oracle India Pvt. Ltd.</td>\n",
       "      <td>Bangalore/Bengaluru</td>\n",
       "    </tr>\n",
       "    <tr>\n",
       "      <th>9</th>\n",
       "      <td>Looking For Senior Data Scientist Immediate Jo...</td>\n",
       "      <td>Mount Talent Consulting Private Limited</td>\n",
       "      <td>Bangalore/Bengaluru</td>\n",
       "    </tr>\n",
       "  </tbody>\n",
       "</table>\n",
       "</div>"
      ],
      "text/plain": [
       "                                               title  \\\n",
       "0    Forecasting Analyst/ Data Scientist (US Client)   \n",
       "1                              Senior Data Scientist   \n",
       "2  Senior Data Scientist | Fortune 500 Supermarke...   \n",
       "3                           Associate Data Scientist   \n",
       "4  Looking For Senior Data Scientist Immediate Jo...   \n",
       "5                                     Data Scientist   \n",
       "6                           Principal Data Scientist   \n",
       "7                                     Data Scientist   \n",
       "8                                     Data Scientist   \n",
       "9  Looking For Senior Data Scientist Immediate Jo...   \n",
       "\n",
       "                                   company  \\\n",
       "0                Concentrix Daksh Services   \n",
       "1                 Convergence Infotech Ltd   \n",
       "2   TALENT500 TECH (INDIA) PRIVATE LIMITED   \n",
       "3                                  Mavenir   \n",
       "4  Mount Talent Consulting Private Limited   \n",
       "5                       Cerner Corporation   \n",
       "6                             Walmart Labs   \n",
       "7                              CoffeeBeans   \n",
       "8                   Oracle India Pvt. Ltd.   \n",
       "9  Mount Talent Consulting Private Limited   \n",
       "\n",
       "                                location  \n",
       "0  Gurgaon/Gurugram, Bangalore/Bengaluru  \n",
       "1   Bangalore/Bengaluru(Sadashiva Nagar)  \n",
       "2                    Bangalore/Bengaluru  \n",
       "3                    Bangalore/Bengaluru  \n",
       "4                    Bangalore/Bengaluru  \n",
       "5                    Bangalore/Bengaluru  \n",
       "6                    Bangalore/Bengaluru  \n",
       "7                    Bangalore/Bengaluru  \n",
       "8                    Bangalore/Bengaluru  \n",
       "9                    Bangalore/Bengaluru  "
      ]
     },
     "execution_count": 28,
     "metadata": {},
     "output_type": "execute_result"
    }
   ],
   "source": [
    "import pandas as pd\n",
    "jbs=pd.DataFrame({})\n",
    "jbs['title']=jobtitles[0:10]\n",
    "jbs['company']=companyname[0:10]\n",
    "jbs['location']=locationlist[0:10]\n",
    "jbs"
   ]
  },
  {
   "cell_type": "code",
   "execution_count": 44,
   "id": "b6f6476e",
   "metadata": {},
   "outputs": [
    {
     "name": "stderr",
     "output_type": "stream",
     "text": [
      "<ipython-input-44-0a8389fdf555>:4: DeprecationWarning: executable_path has been deprecated, please pass in a Service object\n",
      "  driver = webdriver.Chrome(r\"C:\\Users\\sushr\\OneDrive\\Desktop\\chromedriver\\chromedriver.exe\")\n"
     ]
    }
   ],
   "source": [
    "#Q2: Write a python program to scrape data for “Data Scientist” Job position in “Bangalore” location. You\n",
    "#have to scrape the job-title, job-location, company_name. You have to scrape first 10 jobs data.\n",
    "\n",
    "driver = webdriver.Chrome(r\"C:\\Users\\sushr\\OneDrive\\Desktop\\chromedriver\\chromedriver.exe\")"
   ]
  },
  {
   "cell_type": "code",
   "execution_count": 45,
   "id": "23b069c4",
   "metadata": {},
   "outputs": [],
   "source": [
    "driver.get('https://www.naukri.com/')"
   ]
  },
  {
   "cell_type": "code",
   "execution_count": 46,
   "id": "bb51e17e",
   "metadata": {},
   "outputs": [
    {
     "name": "stderr",
     "output_type": "stream",
     "text": [
      "<ipython-input-46-33fe9802c74a>:1: DeprecationWarning: find_element_by_* commands are deprecated. Please use find_element() instead\n",
      "  search_jb = driver.find_element_by_id('qsb-keyword-sugg')\n",
      "<ipython-input-46-33fe9802c74a>:3: DeprecationWarning: find_element_by_* commands are deprecated. Please use find_element() instead\n",
      "  search_lc = driver.find_element_by_xpath(\"//input[@id='qsb-location-sugg']\")\n",
      "<ipython-input-46-33fe9802c74a>:5: DeprecationWarning: find_element_by_* commands are deprecated. Please use find_element() instead\n",
      "  search_b = driver.find_element_by_xpath(\"//div[@class='search-btn']/button\")\n"
     ]
    }
   ],
   "source": [
    "search_jb = driver.find_element_by_id('qsb-keyword-sugg')\n",
    "search_jb.send_keys('Data Scientist')\n",
    "search_lc = driver.find_element_by_xpath(\"//input[@id='qsb-location-sugg']\")\n",
    "search_lc.send_keys('Bangalore')\n",
    "search_b = driver.find_element_by_xpath(\"//div[@class='search-btn']/button\")\n",
    "search_b.click()"
   ]
  },
  {
   "cell_type": "code",
   "execution_count": 48,
   "id": "469ab126",
   "metadata": {},
   "outputs": [
    {
     "name": "stderr",
     "output_type": "stream",
     "text": [
      "<ipython-input-48-448c0b4b5f90>:4: DeprecationWarning: find_element_by_* commands are deprecated. Please use find_element() instead\n",
      "  sal_filter = driver.find_element_by_xpath(\"/html/body/div[1]/div[3]/div[2]/section[1]/div[2]/div[4]/div[2]/div[2]/label/i\")\n"
     ]
    }
   ],
   "source": [
    "#using absolute paths for selecting filter option of choosing 3-6 lakhs salary option\n",
    "sal_filter = driver.find_element_by_xpath(\"/html/body/div[1]/div[3]/div[2]/section[1]/div[2]/div[4]/div[2]/div[2]/label/i\")\n",
    "sal_filter.click()"
   ]
  },
  {
   "cell_type": "code",
   "execution_count": 49,
   "id": "a709b213",
   "metadata": {},
   "outputs": [],
   "source": [
    "jt=[]\n",
    "jl=[]\n",
    "jcn=[]"
   ]
  },
  {
   "cell_type": "code",
   "execution_count": 50,
   "id": "1f627406",
   "metadata": {},
   "outputs": [
    {
     "name": "stderr",
     "output_type": "stream",
     "text": [
      "<ipython-input-50-2c4db6a24980>:1: DeprecationWarning: find_elements_by_* commands are deprecated. Please use find_elements() instead\n",
      "  t_tags = driver.find_elements_by_xpath(\"//a[@class='title fw500 ellipsis']\")\n"
     ]
    },
    {
     "data": {
      "text/plain": [
       "['Data Scientist',\n",
       " 'Data Scientist / Sr. Data Scientist with Pyspark',\n",
       " 'Junior Data Scientist-Bangalore',\n",
       " 'Data Scientist',\n",
       " 'Opportunity For Data Scientist',\n",
       " 'Data Scientist/Engineer',\n",
       " 'Data Scientist/Engineer',\n",
       " 'Data Scientist',\n",
       " 'Data Scientist / Machine Learning',\n",
       " 'Lead Data Scientist']"
      ]
     },
     "execution_count": 50,
     "metadata": {},
     "output_type": "execute_result"
    }
   ],
   "source": [
    "t_tags = driver.find_elements_by_xpath(\"//a[@class='title fw500 ellipsis']\")\n",
    "t_tags[0:10]\n",
    "\n",
    "for i in t_tags:\n",
    "    title=i.text\n",
    "    jt.append(title)\n",
    "jt[0:10]"
   ]
  },
  {
   "cell_type": "code",
   "execution_count": 51,
   "id": "73a2fe50",
   "metadata": {},
   "outputs": [
    {
     "name": "stderr",
     "output_type": "stream",
     "text": [
      "<ipython-input-51-dc8bb0ce9286>:1: DeprecationWarning: find_elements_by_* commands are deprecated. Please use find_elements() instead\n",
      "  l_tags = driver.find_elements_by_xpath(\"//li[@class='fleft grey-text br2 placeHolderLi location']/span[1]\")\n"
     ]
    },
    {
     "data": {
      "text/plain": [
       "['Bangalore/Bengaluru',\n",
       " 'Bangalore/Bengaluru',\n",
       " 'Bangalore/Bengaluru',\n",
       " 'Bangalore/Bengaluru',\n",
       " 'Bangalore/Bengaluru',\n",
       " 'Bangalore/Bengaluru',\n",
       " 'Bangalore/Bengaluru',\n",
       " 'Bangalore/Bengaluru',\n",
       " 'Bangalore/Bengaluru',\n",
       " 'Bangalore/Bengaluru']"
      ]
     },
     "execution_count": 51,
     "metadata": {},
     "output_type": "execute_result"
    }
   ],
   "source": [
    "l_tags = driver.find_elements_by_xpath(\"//li[@class='fleft grey-text br2 placeHolderLi location']/span[1]\")\n",
    "l_tags[0:10]\n",
    "\n",
    "for i in l_tags:\n",
    "    location=i.text\n",
    "    jl.append(loc)\n",
    "jl[0:10]"
   ]
  },
  {
   "cell_type": "code",
   "execution_count": 52,
   "id": "24030f85",
   "metadata": {},
   "outputs": [
    {
     "name": "stderr",
     "output_type": "stream",
     "text": [
      "<ipython-input-52-601674f12a84>:1: DeprecationWarning: find_elements_by_* commands are deprecated. Please use find_elements() instead\n",
      "  c_tags = driver.find_elements_by_xpath(\"//a[@class='subTitle ellipsis fleft']\")\n"
     ]
    },
    {
     "data": {
      "text/plain": [
       "['Think i',\n",
       " 'ENSTRAPP IT SOLUTIONS PRIVATE LIMITED',\n",
       " 'GlobusSoft',\n",
       " 'Vepsun Technologies Private Limited.',\n",
       " 'Firstsource Solutions Limited',\n",
       " 'Orcapod Consulting Services Private Limited',\n",
       " 'Orcapod Consulting Services Private Limited',\n",
       " 'SamarthJobs Management Consultants',\n",
       " 'Augusta Infotech',\n",
       " 'Huawei Technologies']"
      ]
     },
     "execution_count": 52,
     "metadata": {},
     "output_type": "execute_result"
    }
   ],
   "source": [
    "c_tags = driver.find_elements_by_xpath(\"//a[@class='subTitle ellipsis fleft']\")\n",
    "c_tags[0:10]\n",
    "\n",
    "for i in c_tags:\n",
    "    cn=i.text\n",
    "    jcn.append(cn)\n",
    "jcn[0:10]"
   ]
  },
  {
   "cell_type": "code",
   "execution_count": 53,
   "id": "fb766cf2",
   "metadata": {},
   "outputs": [
    {
     "name": "stdout",
     "output_type": "stream",
     "text": [
      "20 20 20\n"
     ]
    }
   ],
   "source": [
    "print(len(jt),len(jl),len(jcn))"
   ]
  },
  {
   "cell_type": "code",
   "execution_count": 56,
   "id": "c0b52dce",
   "metadata": {},
   "outputs": [
    {
     "data": {
      "text/html": [
       "<div>\n",
       "<style scoped>\n",
       "    .dataframe tbody tr th:only-of-type {\n",
       "        vertical-align: middle;\n",
       "    }\n",
       "\n",
       "    .dataframe tbody tr th {\n",
       "        vertical-align: top;\n",
       "    }\n",
       "\n",
       "    .dataframe thead th {\n",
       "        text-align: right;\n",
       "    }\n",
       "</style>\n",
       "<table border=\"1\" class=\"dataframe\">\n",
       "  <thead>\n",
       "    <tr style=\"text-align: right;\">\n",
       "      <th></th>\n",
       "      <th>job_titles</th>\n",
       "      <th>job_location</th>\n",
       "      <th>company_name</th>\n",
       "    </tr>\n",
       "  </thead>\n",
       "  <tbody>\n",
       "    <tr>\n",
       "      <th>0</th>\n",
       "      <td>Data Scientist</td>\n",
       "      <td>Bangalore/Bengaluru</td>\n",
       "      <td>Think i</td>\n",
       "    </tr>\n",
       "    <tr>\n",
       "      <th>1</th>\n",
       "      <td>Data Scientist / Sr. Data Scientist with Pyspark</td>\n",
       "      <td>Bangalore/Bengaluru</td>\n",
       "      <td>ENSTRAPP IT SOLUTIONS PRIVATE LIMITED</td>\n",
       "    </tr>\n",
       "    <tr>\n",
       "      <th>2</th>\n",
       "      <td>Junior Data Scientist-Bangalore</td>\n",
       "      <td>Bangalore/Bengaluru</td>\n",
       "      <td>GlobusSoft</td>\n",
       "    </tr>\n",
       "    <tr>\n",
       "      <th>3</th>\n",
       "      <td>Data Scientist</td>\n",
       "      <td>Bangalore/Bengaluru</td>\n",
       "      <td>Vepsun Technologies Private Limited.</td>\n",
       "    </tr>\n",
       "    <tr>\n",
       "      <th>4</th>\n",
       "      <td>Opportunity For Data Scientist</td>\n",
       "      <td>Bangalore/Bengaluru</td>\n",
       "      <td>Firstsource Solutions Limited</td>\n",
       "    </tr>\n",
       "    <tr>\n",
       "      <th>5</th>\n",
       "      <td>Data Scientist/Engineer</td>\n",
       "      <td>Bangalore/Bengaluru</td>\n",
       "      <td>Orcapod Consulting Services Private Limited</td>\n",
       "    </tr>\n",
       "    <tr>\n",
       "      <th>6</th>\n",
       "      <td>Data Scientist/Engineer</td>\n",
       "      <td>Bangalore/Bengaluru</td>\n",
       "      <td>Orcapod Consulting Services Private Limited</td>\n",
       "    </tr>\n",
       "    <tr>\n",
       "      <th>7</th>\n",
       "      <td>Data Scientist</td>\n",
       "      <td>Bangalore/Bengaluru</td>\n",
       "      <td>SamarthJobs Management Consultants</td>\n",
       "    </tr>\n",
       "    <tr>\n",
       "      <th>8</th>\n",
       "      <td>Data Scientist / Machine Learning</td>\n",
       "      <td>Bangalore/Bengaluru</td>\n",
       "      <td>Augusta Infotech</td>\n",
       "    </tr>\n",
       "    <tr>\n",
       "      <th>9</th>\n",
       "      <td>Lead Data Scientist</td>\n",
       "      <td>Bangalore/Bengaluru</td>\n",
       "      <td>Huawei Technologies</td>\n",
       "    </tr>\n",
       "  </tbody>\n",
       "</table>\n",
       "</div>"
      ],
      "text/plain": [
       "                                         job_titles         job_location  \\\n",
       "0                                    Data Scientist  Bangalore/Bengaluru   \n",
       "1  Data Scientist / Sr. Data Scientist with Pyspark  Bangalore/Bengaluru   \n",
       "2                   Junior Data Scientist-Bangalore  Bangalore/Bengaluru   \n",
       "3                                    Data Scientist  Bangalore/Bengaluru   \n",
       "4                    Opportunity For Data Scientist  Bangalore/Bengaluru   \n",
       "5                           Data Scientist/Engineer  Bangalore/Bengaluru   \n",
       "6                           Data Scientist/Engineer  Bangalore/Bengaluru   \n",
       "7                                    Data Scientist  Bangalore/Bengaluru   \n",
       "8                 Data Scientist / Machine Learning  Bangalore/Bengaluru   \n",
       "9                               Lead Data Scientist  Bangalore/Bengaluru   \n",
       "\n",
       "                                  company_name  \n",
       "0                                      Think i  \n",
       "1        ENSTRAPP IT SOLUTIONS PRIVATE LIMITED  \n",
       "2                                   GlobusSoft  \n",
       "3         Vepsun Technologies Private Limited.  \n",
       "4                Firstsource Solutions Limited  \n",
       "5  Orcapod Consulting Services Private Limited  \n",
       "6  Orcapod Consulting Services Private Limited  \n",
       "7           SamarthJobs Management Consultants  \n",
       "8                             Augusta Infotech  \n",
       "9                          Huawei Technologies  "
      ]
     },
     "execution_count": 56,
     "metadata": {},
     "output_type": "execute_result"
    }
   ],
   "source": [
    "ab = pd.DataFrame({'job_titles':jt[0:10],'job_location':jl[0:10],'company_name':jcn[0:10]})\n",
    "ab"
   ]
  },
  {
   "cell_type": "code",
   "execution_count": 43,
   "id": "8eec5177",
   "metadata": {},
   "outputs": [],
   "source": [
    "#Q4: Scrape data of first 100 sunglasses listings on flipkart.com. You have to scrape four attributes:\n",
    "#1. Brand\n",
    "#2. Product Description\n",
    "#3. Price"
   ]
  },
  {
   "cell_type": "code",
   "execution_count": 4,
   "id": "09295df4",
   "metadata": {},
   "outputs": [
    {
     "name": "stderr",
     "output_type": "stream",
     "text": [
      "<ipython-input-4-5bdf5dafaa7c>:1: DeprecationWarning: executable_path has been deprecated, please pass in a Service object\n",
      "  browser = webdriver.Chrome(r\"C:\\Users\\sushr\\OneDrive\\Desktop\\chromedriver\\chromedriver.exe\")\n"
     ]
    }
   ],
   "source": [
    "browser = webdriver.Chrome(r\"C:\\Users\\sushr\\OneDrive\\Desktop\\chromedriver\\chromedriver.exe\")"
   ]
  },
  {
   "cell_type": "code",
   "execution_count": 20,
   "id": "f215b52d",
   "metadata": {},
   "outputs": [],
   "source": [
    "browser.get('https://www.flipkart.com/')"
   ]
  },
  {
   "cell_type": "code",
   "execution_count": 6,
   "id": "2d37b518",
   "metadata": {},
   "outputs": [],
   "source": [
    "browser.maximize_window()"
   ]
  },
  {
   "cell_type": "code",
   "execution_count": 7,
   "id": "845375a5",
   "metadata": {},
   "outputs": [
    {
     "name": "stderr",
     "output_type": "stream",
     "text": [
      "<ipython-input-7-853ba5fc3c4f>:2: DeprecationWarning: find_element_by_* commands are deprecated. Please use find_element() instead\n",
      "  browser.find_element_by_xpath(\"//button[@class='_2KpZ6l _2doB4z']\").click()\n"
     ]
    }
   ],
   "source": [
    "try:\n",
    "    browser.find_element_by_xpath(\"//button[@class='_2KpZ6l _2doB4z']\").click()\n",
    "except:\n",
    "    pass"
   ]
  },
  {
   "cell_type": "code",
   "execution_count": 21,
   "id": "a7d095e2",
   "metadata": {},
   "outputs": [
    {
     "name": "stderr",
     "output_type": "stream",
     "text": [
      "<ipython-input-21-d65f39589442>:1: DeprecationWarning: find_element_by_* commands are deprecated. Please use find_element() instead\n",
      "  search_sunglasses = browser.find_element_by_xpath(\"//input[@name='q']\")\n"
     ]
    }
   ],
   "source": [
    "search_sunglasses = browser.find_element_by_xpath(\"//input[@name='q']\")\n",
    "search_sunglasses.send_keys('Sunglasses')"
   ]
  },
  {
   "cell_type": "code",
   "execution_count": 22,
   "id": "c40a6319",
   "metadata": {},
   "outputs": [
    {
     "name": "stderr",
     "output_type": "stream",
     "text": [
      "<ipython-input-22-bd82efb49e83>:1: DeprecationWarning: find_element_by_* commands are deprecated. Please use find_element() instead\n",
      "  browser.find_element_by_xpath(\"//button[@class='L0Z3Pu']\").click()\n"
     ]
    }
   ],
   "source": [
    "browser.find_element_by_xpath(\"//button[@class='L0Z3Pu']\").click()"
   ]
  },
  {
   "cell_type": "code",
   "execution_count": 23,
   "id": "b3a6e1a9",
   "metadata": {},
   "outputs": [],
   "source": [
    "sun_brand=[]\n",
    "sun_desc=[]\n",
    "sun_pr=[]"
   ]
  },
  {
   "cell_type": "code",
   "execution_count": 24,
   "id": "f198115a",
   "metadata": {},
   "outputs": [
    {
     "name": "stderr",
     "output_type": "stream",
     "text": [
      "<ipython-input-24-1127305b27e6>:1: DeprecationWarning: find_elements_by_* commands are deprecated. Please use find_elements() instead\n",
      "  sun_b_tags=browser.find_elements_by_xpath(\"//div[@class='_2WkVRV']\")\n"
     ]
    }
   ],
   "source": [
    "sun_b_tags=browser.find_elements_by_xpath(\"//div[@class='_2WkVRV']\")\n",
    "sun_b_tags\n",
    "\n",
    "for i in sun_b_tags:\n",
    "    br=i.text\n",
    "    sun_brand.append(br)"
   ]
  },
  {
   "cell_type": "code",
   "execution_count": 25,
   "id": "d1b8a7c0",
   "metadata": {},
   "outputs": [
    {
     "name": "stderr",
     "output_type": "stream",
     "text": [
      "<ipython-input-25-e70b3adb30ca>:1: DeprecationWarning: find_elements_by_* commands are deprecated. Please use find_elements() instead\n",
      "  sun_d_tags=browser.find_elements_by_xpath(\"//a[@class='IRpwTa']\")\n"
     ]
    }
   ],
   "source": [
    "sun_d_tags=browser.find_elements_by_xpath(\"//a[@class='IRpwTa']\")\n",
    "sun_d_tags\n",
    "\n",
    "for i in sun_d_tags:\n",
    "    descr=i.text\n",
    "    sun_desc.append(descr)"
   ]
  },
  {
   "cell_type": "code",
   "execution_count": 26,
   "id": "a5d4c549",
   "metadata": {},
   "outputs": [
    {
     "name": "stderr",
     "output_type": "stream",
     "text": [
      "<ipython-input-26-bf8087cfa075>:1: DeprecationWarning: find_elements_by_* commands are deprecated. Please use find_elements() instead\n",
      "  sun_p_tags=browser.find_elements_by_xpath(\"//div[@class='_30jeq3']\")\n"
     ]
    }
   ],
   "source": [
    "sun_p_tags=browser.find_elements_by_xpath(\"//div[@class='_30jeq3']\")\n",
    "sun_p_tags\n",
    "\n",
    "for i in sun_p_tags:\n",
    "    pr=i.text\n",
    "    sun_pr.append(pr)"
   ]
  },
  {
   "cell_type": "code",
   "execution_count": 27,
   "id": "1637e9aa",
   "metadata": {},
   "outputs": [
    {
     "name": "stdout",
     "output_type": "stream",
     "text": [
      "40 40 40\n"
     ]
    }
   ],
   "source": [
    "print(len(sun_brand),len(sun_desc),len(sun_pr))"
   ]
  },
  {
   "cell_type": "code",
   "execution_count": 28,
   "id": "67521921",
   "metadata": {},
   "outputs": [
    {
     "name": "stderr",
     "output_type": "stream",
     "text": [
      "<ipython-input-28-c9e4dbcb6bbf>:1: DeprecationWarning: find_element_by_* commands are deprecated. Please use find_element() instead\n",
      "  next = browser.find_element_by_xpath(\"/html/body/div/div/div[3]/div[1]/div[2]/div[12]/div/div/nav/a[11]/span\").click()\n"
     ]
    }
   ],
   "source": [
    "next = browser.find_element_by_xpath(\"/html/body/div/div/div[3]/div[1]/div[2]/div[12]/div/div/nav/a[11]/span\").click()"
   ]
  },
  {
   "cell_type": "code",
   "execution_count": 29,
   "id": "77172ab5",
   "metadata": {},
   "outputs": [],
   "source": [
    "sun_brand1=[]\n",
    "sun_desc1=[]\n",
    "sun_pr1=[]"
   ]
  },
  {
   "cell_type": "code",
   "execution_count": 30,
   "id": "d79d3e45",
   "metadata": {},
   "outputs": [
    {
     "name": "stderr",
     "output_type": "stream",
     "text": [
      "<ipython-input-30-6a1e8d2664b2>:1: DeprecationWarning: find_elements_by_* commands are deprecated. Please use find_elements() instead\n",
      "  sun_b_tags1=browser.find_elements_by_xpath(\"//div[@class='_2WkVRV']\")\n"
     ]
    }
   ],
   "source": [
    "sun_b_tags1=browser.find_elements_by_xpath(\"//div[@class='_2WkVRV']\")\n",
    "sun_b_tags1\n",
    "\n",
    "for i in sun_b_tags1:\n",
    "    br1=i.text\n",
    "    sun_brand1.append(br1)"
   ]
  },
  {
   "cell_type": "code",
   "execution_count": 31,
   "id": "595b9fd6",
   "metadata": {},
   "outputs": [
    {
     "name": "stderr",
     "output_type": "stream",
     "text": [
      "<ipython-input-31-b47a0f74dd22>:1: DeprecationWarning: find_elements_by_* commands are deprecated. Please use find_elements() instead\n",
      "  sun_d_tags1=browser.find_elements_by_xpath(\"//a[@class='IRpwTa']\")\n"
     ]
    }
   ],
   "source": [
    "sun_d_tags1=browser.find_elements_by_xpath(\"//a[@class='IRpwTa']\")\n",
    "sun_d_tags1\n",
    "\n",
    "for i in sun_d_tags1:\n",
    "    descr1=i.text\n",
    "    sun_desc1.append(descr1)"
   ]
  },
  {
   "cell_type": "code",
   "execution_count": 32,
   "id": "da7288fe",
   "metadata": {},
   "outputs": [
    {
     "name": "stderr",
     "output_type": "stream",
     "text": [
      "<ipython-input-32-3cd4ddbe54e9>:1: DeprecationWarning: find_elements_by_* commands are deprecated. Please use find_elements() instead\n",
      "  sun_p_tags1=browser.find_elements_by_xpath(\"//div[@class='_30jeq3']\")\n"
     ]
    }
   ],
   "source": [
    "sun_p_tags1=browser.find_elements_by_xpath(\"//div[@class='_30jeq3']\")\n",
    "sun_p_tags1\n",
    "\n",
    "for i in sun_p_tags1:\n",
    "    pr1=i.text\n",
    "    sun_pr1.append(pr1)"
   ]
  },
  {
   "cell_type": "code",
   "execution_count": 33,
   "id": "03e549a3",
   "metadata": {},
   "outputs": [
    {
     "name": "stdout",
     "output_type": "stream",
     "text": [
      "40 40 40\n"
     ]
    }
   ],
   "source": [
    "print(len(sun_brand1),len(sun_desc1),len(sun_pr1))"
   ]
  },
  {
   "cell_type": "code",
   "execution_count": 35,
   "id": "c0eb2d74",
   "metadata": {},
   "outputs": [
    {
     "name": "stderr",
     "output_type": "stream",
     "text": [
      "<ipython-input-35-cfc87a687f88>:1: DeprecationWarning: find_element_by_* commands are deprecated. Please use find_element() instead\n",
      "  againnext = browser.find_element_by_xpath(\"/html/body/div/div/div[3]/div[1]/div[2]/div[12]/div/div/nav/a[12]/span\").click()\n"
     ]
    }
   ],
   "source": [
    "againnext = browser.find_element_by_xpath(\"/html/body/div/div/div[3]/div[1]/div[2]/div[12]/div/div/nav/a[12]/span\").click()"
   ]
  },
  {
   "cell_type": "code",
   "execution_count": 36,
   "id": "593969fd",
   "metadata": {},
   "outputs": [
    {
     "name": "stderr",
     "output_type": "stream",
     "text": [
      "<ipython-input-36-27f972a80afa>:5: DeprecationWarning: find_elements_by_* commands are deprecated. Please use find_elements() instead\n",
      "  sun_b_tags2=browser.find_elements_by_xpath(\"//div[@class='_2WkVRV']\")\n"
     ]
    },
    {
     "data": {
      "text/plain": [
       "['SHAAH COLLECTIONS',\n",
       " 'ROYAL SON',\n",
       " 'Fastrack',\n",
       " 'VILLAIN',\n",
       " 'Rich Club',\n",
       " 'Rich Club',\n",
       " 'Elligator',\n",
       " 'ROYAL SON',\n",
       " 'Poland',\n",
       " 'ROYAL SON',\n",
       " 'AISLIN',\n",
       " 'ROYAL SON',\n",
       " 'DEIXELS',\n",
       " 'Silver Kartz',\n",
       " 'DEIXELS',\n",
       " 'ROYAL SON',\n",
       " 'ROZZETTA CRAFT',\n",
       " 'GANSTA',\n",
       " 'hipe',\n",
       " 'ROYAL SON']"
      ]
     },
     "execution_count": 36,
     "metadata": {},
     "output_type": "execute_result"
    }
   ],
   "source": [
    "sun_brand2=[]\n",
    "sun_desc2=[]\n",
    "sun_pr2=[]\n",
    "\n",
    "sun_b_tags2=browser.find_elements_by_xpath(\"//div[@class='_2WkVRV']\")\n",
    "sun_b_tags2[0:20]\n",
    "\n",
    "for i in sun_b_tags2:\n",
    "    br2=i.text\n",
    "    sun_brand2.append(br2)\n",
    "sun_brand2[0:20]"
   ]
  },
  {
   "cell_type": "code",
   "execution_count": 37,
   "id": "bbdc70ee",
   "metadata": {},
   "outputs": [
    {
     "name": "stderr",
     "output_type": "stream",
     "text": [
      "<ipython-input-37-4a3491033fd3>:1: DeprecationWarning: find_elements_by_* commands are deprecated. Please use find_elements() instead\n",
      "  sun_d_tags2=browser.find_elements_by_xpath(\"//a[@class='IRpwTa']\")\n"
     ]
    },
    {
     "data": {
      "text/plain": [
       "['UV Protection Round Sunglasses (Free Size)',\n",
       " 'Mirrored Aviator Sunglasses (Free Size)',\n",
       " 'UV Protection Wayfarer Sunglasses (55)',\n",
       " 'Others Wayfarer Sunglasses (Free Size)',\n",
       " 'Polarized Round Sunglasses (48)',\n",
       " 'UV Protection, Others Round Sunglasses (48)',\n",
       " 'UV Protection Wayfarer Sunglasses (53)',\n",
       " 'Polarized, UV Protection Wrap-around Sunglasses (60)',\n",
       " 'UV Protection Wayfarer Sunglasses (Free Size)',\n",
       " 'UV Protection Round Sunglasses (50)',\n",
       " 'UV Protection, Gradient Oval Sunglasses (58)',\n",
       " 'Polarized Sports Sunglasses (68)',\n",
       " 'UV Protection Aviator, Wayfarer Sunglasses (Free Size)',\n",
       " 'UV Protection Aviator Sunglasses (88)',\n",
       " 'Polarized, UV Protection, Riding Glasses Wayfarer Sungl...',\n",
       " 'UV Protection, Polarized Aviator Sunglasses (60)',\n",
       " 'UV Protection, Riding Glasses Rectangular Sunglasses (F...',\n",
       " 'UV Protection, Gradient Wayfarer Sunglasses (53)',\n",
       " 'UV Protection, Night Vision, Gradient, Mirrored Round, ...',\n",
       " 'Polarized Rectangular Sunglasses (65)']"
      ]
     },
     "execution_count": 37,
     "metadata": {},
     "output_type": "execute_result"
    }
   ],
   "source": [
    "sun_d_tags2=browser.find_elements_by_xpath(\"//a[@class='IRpwTa']\")\n",
    "sun_d_tags2[0:20]\n",
    "\n",
    "for i in sun_d_tags2:\n",
    "    descr2=i.text\n",
    "    sun_desc2.append(descr2)\n",
    "sun_desc2[0:20]"
   ]
  },
  {
   "cell_type": "code",
   "execution_count": 38,
   "id": "8792ab76",
   "metadata": {},
   "outputs": [
    {
     "name": "stderr",
     "output_type": "stream",
     "text": [
      "<ipython-input-38-095ed656b7fd>:1: DeprecationWarning: find_elements_by_* commands are deprecated. Please use find_elements() instead\n",
      "  sun_p_tags2=browser.find_elements_by_xpath(\"//div[@class='_30jeq3']\")\n"
     ]
    },
    {
     "data": {
      "text/plain": [
       "['₹299',\n",
       " '₹359',\n",
       " '₹694',\n",
       " '₹549',\n",
       " '₹179',\n",
       " '₹260',\n",
       " '₹319',\n",
       " '₹759',\n",
       " '₹165',\n",
       " '₹359',\n",
       " '₹498',\n",
       " '₹1,234',\n",
       " '₹202',\n",
       " '₹255',\n",
       " '₹236',\n",
       " '₹711',\n",
       " '₹449',\n",
       " '₹296',\n",
       " '₹189',\n",
       " '₹699']"
      ]
     },
     "execution_count": 38,
     "metadata": {},
     "output_type": "execute_result"
    }
   ],
   "source": [
    "sun_p_tags2=browser.find_elements_by_xpath(\"//div[@class='_30jeq3']\")\n",
    "sun_p_tags2[0:20]\n",
    "\n",
    "for i in sun_p_tags2:\n",
    "    pr2=i.text\n",
    "    sun_pr2.append(pr2)\n",
    "sun_pr2[0:20]"
   ]
  },
  {
   "cell_type": "code",
   "execution_count": 43,
   "id": "fbb0df12",
   "metadata": {},
   "outputs": [],
   "source": [
    "brand_sun = sun_brand + sun_brand1 + sun_brand2[0:20]\n",
    "description_sun = sun_desc + sun_desc1 + sun_desc2[0:20]\n",
    "price_sun = sun_pr + sun_pr1 + sun_pr2[0:20]"
   ]
  },
  {
   "cell_type": "code",
   "execution_count": 44,
   "id": "efb21252",
   "metadata": {},
   "outputs": [
    {
     "name": "stdout",
     "output_type": "stream",
     "text": [
      "100 100 100\n"
     ]
    }
   ],
   "source": [
    "print(len(brand_sun),len(description_sun),len(price_sun))"
   ]
  },
  {
   "cell_type": "code",
   "execution_count": 45,
   "id": "6d67150d",
   "metadata": {},
   "outputs": [
    {
     "data": {
      "text/html": [
       "<div>\n",
       "<style scoped>\n",
       "    .dataframe tbody tr th:only-of-type {\n",
       "        vertical-align: middle;\n",
       "    }\n",
       "\n",
       "    .dataframe tbody tr th {\n",
       "        vertical-align: top;\n",
       "    }\n",
       "\n",
       "    .dataframe thead th {\n",
       "        text-align: right;\n",
       "    }\n",
       "</style>\n",
       "<table border=\"1\" class=\"dataframe\">\n",
       "  <thead>\n",
       "    <tr style=\"text-align: right;\">\n",
       "      <th></th>\n",
       "      <th>brand_of_sunglasses</th>\n",
       "      <th>description</th>\n",
       "      <th>price</th>\n",
       "    </tr>\n",
       "  </thead>\n",
       "  <tbody>\n",
       "    <tr>\n",
       "      <th>0</th>\n",
       "      <td>ROYAL SON</td>\n",
       "      <td>Polarized, UV Protection Aviator Sunglasses (58)</td>\n",
       "      <td>₹759</td>\n",
       "    </tr>\n",
       "    <tr>\n",
       "      <th>1</th>\n",
       "      <td>ROYAL SON</td>\n",
       "      <td>UV Protection Over-sized Sunglasses (65)</td>\n",
       "      <td>₹664</td>\n",
       "    </tr>\n",
       "    <tr>\n",
       "      <th>2</th>\n",
       "      <td>SUNBEE</td>\n",
       "      <td>UV Protection, Polarized, Mirrored Round Sungl...</td>\n",
       "      <td>₹276</td>\n",
       "    </tr>\n",
       "    <tr>\n",
       "      <th>3</th>\n",
       "      <td>Fastrack</td>\n",
       "      <td>UV Protection Rectangular Sunglasses (Free Size)</td>\n",
       "      <td>₹513</td>\n",
       "    </tr>\n",
       "    <tr>\n",
       "      <th>4</th>\n",
       "      <td>Elligator</td>\n",
       "      <td>UV Protection Round Sunglasses (54)</td>\n",
       "      <td>₹248</td>\n",
       "    </tr>\n",
       "    <tr>\n",
       "      <th>...</th>\n",
       "      <td>...</td>\n",
       "      <td>...</td>\n",
       "      <td>...</td>\n",
       "    </tr>\n",
       "    <tr>\n",
       "      <th>95</th>\n",
       "      <td>ROYAL SON</td>\n",
       "      <td>UV Protection, Polarized Aviator Sunglasses (60)</td>\n",
       "      <td>₹711</td>\n",
       "    </tr>\n",
       "    <tr>\n",
       "      <th>96</th>\n",
       "      <td>ROZZETTA CRAFT</td>\n",
       "      <td>UV Protection, Riding Glasses Rectangular Sung...</td>\n",
       "      <td>₹449</td>\n",
       "    </tr>\n",
       "    <tr>\n",
       "      <th>97</th>\n",
       "      <td>GANSTA</td>\n",
       "      <td>UV Protection, Gradient Wayfarer Sunglasses (53)</td>\n",
       "      <td>₹296</td>\n",
       "    </tr>\n",
       "    <tr>\n",
       "      <th>98</th>\n",
       "      <td>hipe</td>\n",
       "      <td>UV Protection, Night Vision, Gradient, Mirrore...</td>\n",
       "      <td>₹189</td>\n",
       "    </tr>\n",
       "    <tr>\n",
       "      <th>99</th>\n",
       "      <td>ROYAL SON</td>\n",
       "      <td>Polarized Rectangular Sunglasses (65)</td>\n",
       "      <td>₹699</td>\n",
       "    </tr>\n",
       "  </tbody>\n",
       "</table>\n",
       "<p>100 rows × 3 columns</p>\n",
       "</div>"
      ],
      "text/plain": [
       "   brand_of_sunglasses                                        description  \\\n",
       "0            ROYAL SON   Polarized, UV Protection Aviator Sunglasses (58)   \n",
       "1            ROYAL SON           UV Protection Over-sized Sunglasses (65)   \n",
       "2               SUNBEE  UV Protection, Polarized, Mirrored Round Sungl...   \n",
       "3             Fastrack   UV Protection Rectangular Sunglasses (Free Size)   \n",
       "4            Elligator                UV Protection Round Sunglasses (54)   \n",
       "..                 ...                                                ...   \n",
       "95           ROYAL SON   UV Protection, Polarized Aviator Sunglasses (60)   \n",
       "96      ROZZETTA CRAFT  UV Protection, Riding Glasses Rectangular Sung...   \n",
       "97              GANSTA   UV Protection, Gradient Wayfarer Sunglasses (53)   \n",
       "98                hipe  UV Protection, Night Vision, Gradient, Mirrore...   \n",
       "99           ROYAL SON              Polarized Rectangular Sunglasses (65)   \n",
       "\n",
       "   price  \n",
       "0   ₹759  \n",
       "1   ₹664  \n",
       "2   ₹276  \n",
       "3   ₹513  \n",
       "4   ₹248  \n",
       "..   ...  \n",
       "95  ₹711  \n",
       "96  ₹449  \n",
       "97  ₹296  \n",
       "98  ₹189  \n",
       "99  ₹699  \n",
       "\n",
       "[100 rows x 3 columns]"
      ]
     },
     "execution_count": 45,
     "metadata": {},
     "output_type": "execute_result"
    }
   ],
   "source": [
    "sunglasses = pd.DataFrame({'brand_of_sunglasses':brand_sun,'description':description_sun,'price':price_sun})\n",
    "sunglasses"
   ]
  },
  {
   "cell_type": "code",
   "execution_count": 46,
   "id": "b061a615",
   "metadata": {},
   "outputs": [],
   "source": [
    "#Q5: Scrape 100 reviews data from flipkart.com for iphone11 phone. You have to go the link:\n",
    "#https://www.flipkart.com/apple-iphone-11-black-64-gb-includes- earpods-poweradapter/p/itm0f37c2240b217?pid=MOBFKCTSVZAXUHGR&lid=LSTMOBFKC\n",
    "#TSVZAXUHGREPBFGI&marketplace. When you will open the above link you will reach to the below shown webpage ."
   ]
  },
  {
   "cell_type": "code",
   "execution_count": 186,
   "id": "295e6410",
   "metadata": {},
   "outputs": [
    {
     "name": "stderr",
     "output_type": "stream",
     "text": [
      "<ipython-input-186-383b0364c86a>:1: DeprecationWarning: executable_path has been deprecated, please pass in a Service object\n",
      "  web = webdriver.Chrome(r\"C:\\Users\\sushr\\OneDrive\\Desktop\\chromedriver\\chromedriver.exe\")\n"
     ]
    }
   ],
   "source": [
    "web = webdriver.Chrome(r\"C:\\Users\\sushr\\OneDrive\\Desktop\\chromedriver\\chromedriver.exe\")"
   ]
  },
  {
   "cell_type": "code",
   "execution_count": 283,
   "id": "1b124d72",
   "metadata": {},
   "outputs": [],
   "source": [
    "web.get('https://www.flipkart.com/apple-iphone-11-black-64-gb-includes- earpods-poweradapter/p/itm0f37c2240b217?pid=MOBFKCTSVZAXUHGR&lid=LSTMOBFKCTSVZAXUHGREPBFGI&marketplace.')"
   ]
  },
  {
   "cell_type": "code",
   "execution_count": 189,
   "id": "8e5148d7",
   "metadata": {},
   "outputs": [],
   "source": [
    "web.maximize_window()"
   ]
  },
  {
   "cell_type": "code",
   "execution_count": 284,
   "id": "a87d9113",
   "metadata": {},
   "outputs": [
    {
     "name": "stderr",
     "output_type": "stream",
     "text": [
      "<ipython-input-284-a9163f5031af>:1: DeprecationWarning: find_element_by_* commands are deprecated. Please use find_element() instead\n",
      "  allrevbtn = web.find_element_by_xpath(\"/html/body/div[1]/div/div[3]/div[1]/div[2]/div[8]/div/div/div[5]/div/a/div/span\").click()\n"
     ]
    }
   ],
   "source": [
    "allrevbtn = web.find_element_by_xpath(\"/html/body/div[1]/div/div[3]/div[1]/div[2]/div[8]/div/div/div[5]/div/a/div/span\").click()"
   ]
  },
  {
   "cell_type": "code",
   "execution_count": 285,
   "id": "f547ee20",
   "metadata": {},
   "outputs": [
    {
     "name": "stderr",
     "output_type": "stream",
     "text": [
      "<ipython-input-285-6bfc8de06b36>:5: DeprecationWarning: find_elements_by_* commands are deprecated. Please use find_elements() instead\n",
      "  rt_tags=web.find_elements_by_xpath(\"//div[@class='_3LWZlK _1BLPMq']\")\n",
      "<ipython-input-285-6bfc8de06b36>:12: DeprecationWarning: find_elements_by_* commands are deprecated. Please use find_elements() instead\n",
      "  rs_tags=web.find_elements_by_xpath(\"//p[@class='_2-N8zT']\")\n",
      "<ipython-input-285-6bfc8de06b36>:20: DeprecationWarning: find_elements_by_* commands are deprecated. Please use find_elements() instead\n",
      "  fr_tags=web.find_elements_by_xpath(\"//div[@class='t-ZTKy']\")\n"
     ]
    }
   ],
   "source": [
    "rating=[]\n",
    "review_summary=[]\n",
    "full_review=[]\n",
    "\n",
    "rt_tags=web.find_elements_by_xpath(\"//div[@class='_3LWZlK _1BLPMq']\")\n",
    "rt_tags\n",
    "\n",
    "for i in rt_tags:\n",
    "    rt=i.text\n",
    "    rating.append(rt)\n",
    "    \n",
    "rs_tags=web.find_elements_by_xpath(\"//p[@class='_2-N8zT']\")\n",
    "rs_tags\n",
    "\n",
    "for i in rs_tags:\n",
    "    rs=i.text\n",
    "    review_summary.append(rs)\n",
    "    \n",
    "\n",
    "fr_tags=web.find_elements_by_xpath(\"//div[@class='t-ZTKy']\")\n",
    "fr_tags\n",
    "\n",
    "for i in fr_tags:\n",
    "    fr=i.text\n",
    "    full_review.append(fr)"
   ]
  },
  {
   "cell_type": "code",
   "execution_count": 286,
   "id": "65ffcece",
   "metadata": {},
   "outputs": [
    {
     "name": "stdout",
     "output_type": "stream",
     "text": [
      "10 10 10\n"
     ]
    }
   ],
   "source": [
    "print(len(rating),len(review_summary),len(full_review))"
   ]
  },
  {
   "cell_type": "code",
   "execution_count": 287,
   "id": "f7cfbdfc",
   "metadata": {},
   "outputs": [
    {
     "name": "stderr",
     "output_type": "stream",
     "text": [
      "<ipython-input-287-64ce5d3f8008>:1: DeprecationWarning: find_element_by_* commands are deprecated. Please use find_element() instead\n",
      "  nextpg=web.find_element_by_xpath(\"/html/body/div[1]/div/div[3]/div/div/div[2]/div[13]/div/div/nav/a[11]/span\").click()\n"
     ]
    }
   ],
   "source": [
    "nextpg=web.find_element_by_xpath(\"/html/body/div[1]/div/div[3]/div/div/div[2]/div[13]/div/div/nav/a[11]/span\").click()"
   ]
  },
  {
   "cell_type": "code",
   "execution_count": 288,
   "id": "7eab20a7",
   "metadata": {},
   "outputs": [
    {
     "name": "stderr",
     "output_type": "stream",
     "text": [
      "<ipython-input-288-788acbd0ecd0>:5: DeprecationWarning: find_elements_by_* commands are deprecated. Please use find_elements() instead\n",
      "  rt_tags1=web.find_elements_by_xpath(\"//div[@class='_3LWZlK _1BLPMq']\")\n",
      "<ipython-input-288-788acbd0ecd0>:12: DeprecationWarning: find_elements_by_* commands are deprecated. Please use find_elements() instead\n",
      "  rs_tags1=web.find_elements_by_xpath(\"//p[@class='_2-N8zT']\")\n",
      "<ipython-input-288-788acbd0ecd0>:19: DeprecationWarning: find_elements_by_* commands are deprecated. Please use find_elements() instead\n",
      "  fr_tags1=web.find_elements_by_xpath(\"//div[@class='t-ZTKy']\")\n"
     ]
    }
   ],
   "source": [
    "rating1=[]\n",
    "review_summary1=[]\n",
    "full_review1=[]\n",
    "\n",
    "rt_tags1=web.find_elements_by_xpath(\"//div[@class='_3LWZlK _1BLPMq']\")\n",
    "rt_tags1\n",
    "\n",
    "for i in rt_tags1:\n",
    "    rt1=i.text\n",
    "    rating1.append(rt1)\n",
    "    \n",
    "rs_tags1=web.find_elements_by_xpath(\"//p[@class='_2-N8zT']\")\n",
    "rs_tags1\n",
    "\n",
    "for i in rs_tags1:\n",
    "    rs1=i.text\n",
    "    review_summary1.append(rs1)\n",
    "    \n",
    "fr_tags1=web.find_elements_by_xpath(\"//div[@class='t-ZTKy']\")\n",
    "fr_tags1\n",
    "\n",
    "for i in fr_tags1:\n",
    "    fr1=i.text\n",
    "    full_review1.append(fr1)    "
   ]
  },
  {
   "cell_type": "code",
   "execution_count": 289,
   "id": "3b662800",
   "metadata": {},
   "outputs": [
    {
     "name": "stdout",
     "output_type": "stream",
     "text": [
      "10 10 10\n"
     ]
    }
   ],
   "source": [
    "print(len(rating1),len(review_summary1),len(full_review1))"
   ]
  },
  {
   "cell_type": "code",
   "execution_count": 290,
   "id": "0e0c1011",
   "metadata": {},
   "outputs": [
    {
     "name": "stderr",
     "output_type": "stream",
     "text": [
      "<ipython-input-290-bc93a9efc700>:1: DeprecationWarning: find_element_by_* commands are deprecated. Please use find_element() instead\n",
      "  next03=web.find_element_by_xpath(\"/html/body/div[1]/div/div[3]/div/div/div[2]/div[13]/div/div/nav/a[12]/span\").click()\n"
     ]
    }
   ],
   "source": [
    "next03=web.find_element_by_xpath(\"/html/body/div[1]/div/div[3]/div/div/div[2]/div[13]/div/div/nav/a[12]/span\").click()"
   ]
  },
  {
   "cell_type": "code",
   "execution_count": 291,
   "id": "85fae9f1",
   "metadata": {},
   "outputs": [
    {
     "name": "stderr",
     "output_type": "stream",
     "text": [
      "<ipython-input-291-c78e6d9f0d67>:5: DeprecationWarning: find_elements_by_* commands are deprecated. Please use find_elements() instead\n",
      "  rt_tags2=web.find_elements_by_xpath(\"//div[@class='_3LWZlK _1BLPMq']\")\n",
      "<ipython-input-291-c78e6d9f0d67>:12: DeprecationWarning: find_elements_by_* commands are deprecated. Please use find_elements() instead\n",
      "  rs_tags2=web.find_elements_by_xpath(\"//p[@class='_2-N8zT']\")\n",
      "<ipython-input-291-c78e6d9f0d67>:19: DeprecationWarning: find_elements_by_* commands are deprecated. Please use find_elements() instead\n",
      "  fr_tags2=web.find_elements_by_xpath(\"//div[@class='t-ZTKy']\")\n"
     ]
    }
   ],
   "source": [
    "rating2=[]\n",
    "review_summary2=[]\n",
    "full_review2=[]\n",
    "\n",
    "rt_tags2=web.find_elements_by_xpath(\"//div[@class='_3LWZlK _1BLPMq']\")\n",
    "rt_tags2\n",
    "\n",
    "for i in rt_tags2:\n",
    "    rt2=i.text\n",
    "    rating2.append(rt2)\n",
    "    \n",
    "rs_tags2=web.find_elements_by_xpath(\"//p[@class='_2-N8zT']\")\n",
    "rs_tags2\n",
    "\n",
    "for i in rs_tags2:\n",
    "    rs2=i.text\n",
    "    review_summary2.append(rs2)\n",
    "    \n",
    "fr_tags2=web.find_elements_by_xpath(\"//div[@class='t-ZTKy']\")\n",
    "fr_tags2\n",
    "\n",
    "for i in fr_tags2:\n",
    "    fr2=i.text\n",
    "    full_review2.append(fr2)"
   ]
  },
  {
   "cell_type": "code",
   "execution_count": 292,
   "id": "0b68bf95",
   "metadata": {},
   "outputs": [
    {
     "name": "stdout",
     "output_type": "stream",
     "text": [
      "10 10 10\n"
     ]
    }
   ],
   "source": [
    "print(len(rating2),len(review_summary2),len(full_review2))"
   ]
  },
  {
   "cell_type": "code",
   "execution_count": 293,
   "id": "48e1421d",
   "metadata": {},
   "outputs": [
    {
     "name": "stderr",
     "output_type": "stream",
     "text": [
      "<ipython-input-293-e26d2798ca60>:1: DeprecationWarning: find_element_by_* commands are deprecated. Please use find_element() instead\n",
      "  next04=web.find_element_by_xpath(\"/html/body/div[1]/div/div[3]/div/div/div[2]/div[13]/div/div/nav/a[12]/span\").click()\n"
     ]
    }
   ],
   "source": [
    "next04=web.find_element_by_xpath(\"/html/body/div[1]/div/div[3]/div/div/div[2]/div[13]/div/div/nav/a[12]/span\").click()"
   ]
  },
  {
   "cell_type": "code",
   "execution_count": 294,
   "id": "5ebb883a",
   "metadata": {},
   "outputs": [
    {
     "name": "stderr",
     "output_type": "stream",
     "text": [
      "<ipython-input-294-fbe4d1f7b177>:5: DeprecationWarning: find_elements_by_* commands are deprecated. Please use find_elements() instead\n",
      "  rt_tags3=web.find_elements_by_xpath(\"//div[@class='_3LWZlK _1BLPMq']\")\n"
     ]
    }
   ],
   "source": [
    "rating3=[]\n",
    "review_summary3=[]\n",
    "full_review3=[]\n",
    "\n",
    "rt_tags3=web.find_elements_by_xpath(\"//div[@class='_3LWZlK _1BLPMq']\")\n",
    "rt_tags3\n",
    "\n",
    "for i in rt_tags3:\n",
    "    rt3=i.text\n",
    "    rating3.append(rt3)"
   ]
  },
  {
   "cell_type": "code",
   "execution_count": 295,
   "id": "219e28d5",
   "metadata": {},
   "outputs": [
    {
     "name": "stderr",
     "output_type": "stream",
     "text": [
      "<ipython-input-295-d67c3d1aa0c1>:2: DeprecationWarning: find_elements_by_* commands are deprecated. Please use find_elements() instead\n",
      "  rt_tags3_1=web.find_elements_by_xpath(\"/html/body/div[1]/div/div[3]/div/div/div[2]/div[11]/div/div/div/div[1]/div\")\n"
     ]
    }
   ],
   "source": [
    "rating3_1=[]\n",
    "rt_tags3_1=web.find_elements_by_xpath(\"/html/body/div[1]/div/div[3]/div/div/div[2]/div[11]/div/div/div/div[1]/div\")\n",
    "rt_tags3_1\n",
    "\n",
    "for i in rt_tags3_1:\n",
    "    rt3_1=i.text\n",
    "    rating3_1.append(rt3_1)"
   ]
  },
  {
   "cell_type": "code",
   "execution_count": 296,
   "id": "bbae28fa",
   "metadata": {},
   "outputs": [
    {
     "name": "stdout",
     "output_type": "stream",
     "text": [
      "['5', '5', '5', '5', '5', '5', '5', '4', ['1'], '5']\n"
     ]
    }
   ],
   "source": [
    "rating3.insert(8,rating3_1)\n",
    "print(rating3)"
   ]
  },
  {
   "cell_type": "code",
   "execution_count": 297,
   "id": "830936c9",
   "metadata": {},
   "outputs": [
    {
     "name": "stderr",
     "output_type": "stream",
     "text": [
      "<ipython-input-297-93cbbb89e7e9>:1: DeprecationWarning: find_elements_by_* commands are deprecated. Please use find_elements() instead\n",
      "  fr_tags3=web.find_elements_by_xpath(\"//div[@class='t-ZTKy']\")\n",
      "<ipython-input-297-93cbbb89e7e9>:8: DeprecationWarning: find_elements_by_* commands are deprecated. Please use find_elements() instead\n",
      "  rs_tags3=web.find_elements_by_xpath(\"//p[@class='_2-N8zT']\")\n"
     ]
    }
   ],
   "source": [
    "fr_tags3=web.find_elements_by_xpath(\"//div[@class='t-ZTKy']\")\n",
    "fr_tags3\n",
    "\n",
    "for i in fr_tags3:\n",
    "    fr3=i.text\n",
    "    full_review3.append(fr3)\n",
    "\n",
    "rs_tags3=web.find_elements_by_xpath(\"//p[@class='_2-N8zT']\")\n",
    "rs_tags3\n",
    "\n",
    "for i in rs_tags3:\n",
    "    rs3=i.text\n",
    "    review_summary3.append(rs3)"
   ]
  },
  {
   "cell_type": "code",
   "execution_count": 298,
   "id": "a1d0f58d",
   "metadata": {},
   "outputs": [
    {
     "name": "stdout",
     "output_type": "stream",
     "text": [
      "10 10 10\n"
     ]
    }
   ],
   "source": [
    "print(len(rating3),len(review_summary3),len(full_review3))"
   ]
  },
  {
   "cell_type": "code",
   "execution_count": 299,
   "id": "e48fb829",
   "metadata": {},
   "outputs": [
    {
     "name": "stderr",
     "output_type": "stream",
     "text": [
      "<ipython-input-299-9ff456d39b94>:1: DeprecationWarning: find_element_by_* commands are deprecated. Please use find_element() instead\n",
      "  next05 = web.find_element_by_xpath(\"/html/body/div[1]/div/div[3]/div/div/div[2]/div[13]/div/div/nav/a[12]/span\").click()\n"
     ]
    }
   ],
   "source": [
    "next05 = web.find_element_by_xpath(\"/html/body/div[1]/div/div[3]/div/div/div[2]/div[13]/div/div/nav/a[12]/span\").click()"
   ]
  },
  {
   "cell_type": "code",
   "execution_count": 300,
   "id": "b90a709e",
   "metadata": {},
   "outputs": [
    {
     "name": "stderr",
     "output_type": "stream",
     "text": [
      "<ipython-input-300-38f14d10e722>:5: DeprecationWarning: find_elements_by_* commands are deprecated. Please use find_elements() instead\n",
      "  rt_tags4=web.find_elements_by_xpath(\"//div[@class='_3LWZlK _1BLPMq']\")\n",
      "<ipython-input-300-38f14d10e722>:12: DeprecationWarning: find_elements_by_* commands are deprecated. Please use find_elements() instead\n",
      "  fr_tags4=web.find_elements_by_xpath(\"//div[@class='t-ZTKy']\")\n"
     ]
    }
   ],
   "source": [
    "rating4=[]\n",
    "review_summary4=[]\n",
    "full_review4=[]\n",
    "\n",
    "rt_tags4=web.find_elements_by_xpath(\"//div[@class='_3LWZlK _1BLPMq']\")\n",
    "rt_tags4\n",
    "\n",
    "for i in rt_tags4:\n",
    "    rt4=i.text\n",
    "    rating4.append(rt4)\n",
    "    \n",
    "fr_tags4=web.find_elements_by_xpath(\"//div[@class='t-ZTKy']\")\n",
    "fr_tags4\n",
    "\n",
    "for i in fr_tags4:\n",
    "    fr4=i.text\n",
    "    full_review4.append(fr4)"
   ]
  },
  {
   "cell_type": "code",
   "execution_count": 301,
   "id": "4f0dd0c7",
   "metadata": {},
   "outputs": [
    {
     "name": "stderr",
     "output_type": "stream",
     "text": [
      "<ipython-input-301-8dfb62062bd1>:1: DeprecationWarning: find_elements_by_* commands are deprecated. Please use find_elements() instead\n",
      "  rs_tags4=web.find_elements_by_xpath(\"//p[@class='_2-N8zT']\")\n"
     ]
    }
   ],
   "source": [
    "rs_tags4=web.find_elements_by_xpath(\"//p[@class='_2-N8zT']\")\n",
    "rs_tags4\n",
    "\n",
    "for i in rs_tags4:\n",
    "    rs4=i.text\n",
    "    review_summary4.append(rs4)\n",
    "    "
   ]
  },
  {
   "cell_type": "code",
   "execution_count": 302,
   "id": "faad7bb2",
   "metadata": {},
   "outputs": [
    {
     "name": "stdout",
     "output_type": "stream",
     "text": [
      "10 10 10\n"
     ]
    }
   ],
   "source": [
    "print(len(rating4),len(review_summary4),len(full_review4))"
   ]
  },
  {
   "cell_type": "code",
   "execution_count": 303,
   "id": "9cb1d3b2",
   "metadata": {},
   "outputs": [
    {
     "name": "stderr",
     "output_type": "stream",
     "text": [
      "<ipython-input-303-a40ed1e17b4f>:1: DeprecationWarning: find_element_by_* commands are deprecated. Please use find_element() instead\n",
      "  next06 = web.find_element_by_xpath(\"/html/body/div[1]/div/div[3]/div/div/div[2]/div[13]/div/div/nav/a[12]/span\").click()\n"
     ]
    }
   ],
   "source": [
    "next06 = web.find_element_by_xpath(\"/html/body/div[1]/div/div[3]/div/div/div[2]/div[13]/div/div/nav/a[12]/span\").click()"
   ]
  },
  {
   "cell_type": "code",
   "execution_count": 304,
   "id": "9fa50e04",
   "metadata": {},
   "outputs": [
    {
     "name": "stderr",
     "output_type": "stream",
     "text": [
      "<ipython-input-304-7652a46cb383>:5: DeprecationWarning: find_elements_by_* commands are deprecated. Please use find_elements() instead\n",
      "  rt_tags5=web.find_elements_by_xpath(\"//div[@class='_3LWZlK _1BLPMq']\")\n",
      "<ipython-input-304-7652a46cb383>:12: DeprecationWarning: find_elements_by_* commands are deprecated. Please use find_elements() instead\n",
      "  fr_tags5=web.find_elements_by_xpath(\"//div[@class='t-ZTKy']\")\n",
      "<ipython-input-304-7652a46cb383>:19: DeprecationWarning: find_elements_by_* commands are deprecated. Please use find_elements() instead\n",
      "  rs_tags5=web.find_elements_by_xpath(\"//p[@class='_2-N8zT']\")\n"
     ]
    }
   ],
   "source": [
    "rating5=[]\n",
    "review_summary5=[]\n",
    "full_review5=[]\n",
    "\n",
    "rt_tags5=web.find_elements_by_xpath(\"//div[@class='_3LWZlK _1BLPMq']\")\n",
    "rt_tags5\n",
    "\n",
    "for i in rt_tags5:\n",
    "    rt5=i.text\n",
    "    rating5.append(rt5)\n",
    "    \n",
    "fr_tags5=web.find_elements_by_xpath(\"//div[@class='t-ZTKy']\")\n",
    "fr_tags5\n",
    "\n",
    "for i in fr_tags5:\n",
    "    fr5=i.text\n",
    "    full_review5.append(fr5)\n",
    "\n",
    "rs_tags5=web.find_elements_by_xpath(\"//p[@class='_2-N8zT']\")\n",
    "rs_tags5\n",
    "\n",
    "for i in rs_tags5:\n",
    "    rs5=i.text\n",
    "    review_summary5.append(rs5)"
   ]
  },
  {
   "cell_type": "code",
   "execution_count": 305,
   "id": "ae166bc4",
   "metadata": {},
   "outputs": [
    {
     "name": "stdout",
     "output_type": "stream",
     "text": [
      "10 10 10\n"
     ]
    }
   ],
   "source": [
    "print(len(rating5),len(review_summary5),len(full_review5))"
   ]
  },
  {
   "cell_type": "code",
   "execution_count": 306,
   "id": "dd5b8710",
   "metadata": {},
   "outputs": [
    {
     "name": "stderr",
     "output_type": "stream",
     "text": [
      "<ipython-input-306-5b64a4d31c9d>:1: DeprecationWarning: find_element_by_* commands are deprecated. Please use find_element() instead\n",
      "  next07 = web.find_element_by_xpath(\"/html/body/div[1]/div/div[3]/div/div/div[2]/div[13]/div/div/nav/a[12]/span\").click()\n"
     ]
    }
   ],
   "source": [
    "next07 = web.find_element_by_xpath(\"/html/body/div[1]/div/div[3]/div/div/div[2]/div[13]/div/div/nav/a[12]/span\").click()"
   ]
  },
  {
   "cell_type": "code",
   "execution_count": 307,
   "id": "1f59105b",
   "metadata": {},
   "outputs": [
    {
     "name": "stderr",
     "output_type": "stream",
     "text": [
      "<ipython-input-307-591865058c48>:5: DeprecationWarning: find_elements_by_* commands are deprecated. Please use find_elements() instead\n",
      "  rt_tags6=web.find_elements_by_xpath(\"//div[@class='_3LWZlK _1BLPMq']\")\n",
      "<ipython-input-307-591865058c48>:12: DeprecationWarning: find_elements_by_* commands are deprecated. Please use find_elements() instead\n",
      "  fr_tags6=web.find_elements_by_xpath(\"//div[@class='t-ZTKy']\")\n",
      "<ipython-input-307-591865058c48>:19: DeprecationWarning: find_elements_by_* commands are deprecated. Please use find_elements() instead\n",
      "  rs_tags6=web.find_elements_by_xpath(\"//p[@class='_2-N8zT']\")\n"
     ]
    }
   ],
   "source": [
    "rating6=[]\n",
    "review_summary6=[]\n",
    "full_review6=[]\n",
    "\n",
    "rt_tags6=web.find_elements_by_xpath(\"//div[@class='_3LWZlK _1BLPMq']\")\n",
    "rt_tags6\n",
    "\n",
    "for i in rt_tags6:\n",
    "    rt6=i.text\n",
    "    rating6.append(rt6)\n",
    "    \n",
    "fr_tags6=web.find_elements_by_xpath(\"//div[@class='t-ZTKy']\")\n",
    "fr_tags6\n",
    "\n",
    "for i in fr_tags6:\n",
    "    fr6=i.text\n",
    "    full_review6.append(fr6)\n",
    "\n",
    "rs_tags6=web.find_elements_by_xpath(\"//p[@class='_2-N8zT']\")\n",
    "rs_tags6\n",
    "\n",
    "for i in rs_tags6:\n",
    "    rs6=i.text\n",
    "    review_summary6.append(rs6)"
   ]
  },
  {
   "cell_type": "code",
   "execution_count": 309,
   "id": "ae27d05e",
   "metadata": {},
   "outputs": [
    {
     "name": "stdout",
     "output_type": "stream",
     "text": [
      "['5', ['1'], '5', '5', '5', '4', '5', '5', '5', '4']\n"
     ]
    },
    {
     "name": "stderr",
     "output_type": "stream",
     "text": [
      "<ipython-input-309-6a40d6288e99>:2: DeprecationWarning: find_elements_by_* commands are deprecated. Please use find_elements() instead\n",
      "  rt_tags6_1=web.find_elements_by_xpath(\"/html/body/div[1]/div/div[3]/div/div/div[2]/div[4]/div/div/div/div[1]/div\")\n"
     ]
    }
   ],
   "source": [
    "rating6_1=[]\n",
    "rt_tags6_1=web.find_elements_by_xpath(\"/html/body/div[1]/div/div[3]/div/div/div[2]/div[4]/div/div/div/div[1]/div\")\n",
    "rt_tags6_1\n",
    "\n",
    "for i in rt_tags6_1:\n",
    "    rt6_1=i.text\n",
    "    rating6_1.append(rt6_1)\n",
    "    \n",
    "rating6.insert(1,rating6_1)\n",
    "print(rating6)"
   ]
  },
  {
   "cell_type": "code",
   "execution_count": 310,
   "id": "78c90de7",
   "metadata": {},
   "outputs": [
    {
     "name": "stdout",
     "output_type": "stream",
     "text": [
      "10 10 10\n"
     ]
    }
   ],
   "source": [
    "print(len(rating6),len(review_summary6),len(full_review6))"
   ]
  },
  {
   "cell_type": "code",
   "execution_count": 311,
   "id": "92f0984b",
   "metadata": {},
   "outputs": [
    {
     "name": "stderr",
     "output_type": "stream",
     "text": [
      "<ipython-input-311-d27210ea0fa5>:1: DeprecationWarning: find_element_by_* commands are deprecated. Please use find_element() instead\n",
      "  next08 = web.find_element_by_xpath(\"/html/body/div[1]/div/div[3]/div/div/div[2]/div[13]/div/div/nav/a[12]/span\").click()\n"
     ]
    }
   ],
   "source": [
    "next08 = web.find_element_by_xpath(\"/html/body/div[1]/div/div[3]/div/div/div[2]/div[13]/div/div/nav/a[12]/span\").click()"
   ]
  },
  {
   "cell_type": "code",
   "execution_count": 312,
   "id": "1431a162",
   "metadata": {},
   "outputs": [
    {
     "name": "stderr",
     "output_type": "stream",
     "text": [
      "<ipython-input-312-70e802080e0a>:5: DeprecationWarning: find_elements_by_* commands are deprecated. Please use find_elements() instead\n",
      "  rt_tags7=web.find_elements_by_xpath(\"//div[@class='_3LWZlK _1BLPMq']\")\n",
      "<ipython-input-312-70e802080e0a>:12: DeprecationWarning: find_elements_by_* commands are deprecated. Please use find_elements() instead\n",
      "  fr_tags7=web.find_elements_by_xpath(\"//div[@class='t-ZTKy']\")\n",
      "<ipython-input-312-70e802080e0a>:19: DeprecationWarning: find_elements_by_* commands are deprecated. Please use find_elements() instead\n",
      "  rs_tags7=web.find_elements_by_xpath(\"//p[@class='_2-N8zT']\")\n"
     ]
    }
   ],
   "source": [
    "rating7=[]\n",
    "review_summary7=[]\n",
    "full_review7=[]\n",
    "\n",
    "rt_tags7=web.find_elements_by_xpath(\"//div[@class='_3LWZlK _1BLPMq']\")\n",
    "rt_tags7\n",
    "\n",
    "for i in rt_tags7:\n",
    "    rt7=i.text\n",
    "    rating7.append(rt7)\n",
    "    \n",
    "fr_tags7=web.find_elements_by_xpath(\"//div[@class='t-ZTKy']\")\n",
    "fr_tags7\n",
    "\n",
    "for i in fr_tags7:\n",
    "    fr7=i.text\n",
    "    full_review7.append(fr7)\n",
    "\n",
    "rs_tags7=web.find_elements_by_xpath(\"//p[@class='_2-N8zT']\")\n",
    "rs_tags7\n",
    "\n",
    "for i in rs_tags7:\n",
    "    rs7=i.text\n",
    "    review_summary7.append(rs7)"
   ]
  },
  {
   "cell_type": "code",
   "execution_count": 314,
   "id": "500825a0",
   "metadata": {},
   "outputs": [
    {
     "name": "stdout",
     "output_type": "stream",
     "text": [
      "['5', '5', '5', '4', '5', ['1'], '5', '5', '5', '5']\n"
     ]
    },
    {
     "name": "stderr",
     "output_type": "stream",
     "text": [
      "<ipython-input-314-2e40c9580657>:2: DeprecationWarning: find_elements_by_* commands are deprecated. Please use find_elements() instead\n",
      "  rt_tags7_1=web.find_elements_by_xpath(\"/html/body/div[1]/div/div[3]/div/div/div[2]/div[8]/div/div/div/div[1]/div\")\n"
     ]
    }
   ],
   "source": [
    "rating7_1=[]\n",
    "rt_tags7_1=web.find_elements_by_xpath(\"/html/body/div[1]/div/div[3]/div/div/div[2]/div[8]/div/div/div/div[1]/div\")\n",
    "rt_tags7_1\n",
    "\n",
    "for i in rt_tags7_1:\n",
    "    rt7_1=i.text\n",
    "    rating7_1.append(rt7_1)\n",
    "    \n",
    "rating7.insert(5,rating7_1)\n",
    "print(rating7)"
   ]
  },
  {
   "cell_type": "code",
   "execution_count": 315,
   "id": "7aa1a3b9",
   "metadata": {},
   "outputs": [
    {
     "name": "stdout",
     "output_type": "stream",
     "text": [
      "10 10 10\n"
     ]
    }
   ],
   "source": [
    "print(len(rating7),len(review_summary7),len(full_review7))"
   ]
  },
  {
   "cell_type": "code",
   "execution_count": 316,
   "id": "ad57e2df",
   "metadata": {},
   "outputs": [
    {
     "name": "stderr",
     "output_type": "stream",
     "text": [
      "<ipython-input-316-eeaf23c171dc>:1: DeprecationWarning: find_element_by_* commands are deprecated. Please use find_element() instead\n",
      "  next09 = web.find_element_by_xpath(\"/html/body/div[1]/div/div[3]/div/div/div[2]/div[13]/div/div/nav/a[12]/span\").click()\n"
     ]
    }
   ],
   "source": [
    "next09 = web.find_element_by_xpath(\"/html/body/div[1]/div/div[3]/div/div/div[2]/div[13]/div/div/nav/a[12]/span\").click()"
   ]
  },
  {
   "cell_type": "code",
   "execution_count": 317,
   "id": "c74461e1",
   "metadata": {},
   "outputs": [
    {
     "name": "stderr",
     "output_type": "stream",
     "text": [
      "<ipython-input-317-3038ce46655d>:5: DeprecationWarning: find_elements_by_* commands are deprecated. Please use find_elements() instead\n",
      "  rt_tags8=web.find_elements_by_xpath(\"//div[@class='_3LWZlK _1BLPMq']\")\n",
      "<ipython-input-317-3038ce46655d>:12: DeprecationWarning: find_elements_by_* commands are deprecated. Please use find_elements() instead\n",
      "  fr_tags8=web.find_elements_by_xpath(\"//div[@class='t-ZTKy']\")\n",
      "<ipython-input-317-3038ce46655d>:19: DeprecationWarning: find_elements_by_* commands are deprecated. Please use find_elements() instead\n",
      "  rs_tags8=web.find_elements_by_xpath(\"//p[@class='_2-N8zT']\")\n"
     ]
    }
   ],
   "source": [
    "rating8=[]\n",
    "review_summary8=[]\n",
    "full_review8=[]\n",
    "\n",
    "rt_tags8=web.find_elements_by_xpath(\"//div[@class='_3LWZlK _1BLPMq']\")\n",
    "rt_tags8\n",
    "\n",
    "for i in rt_tags8:\n",
    "    rt8=i.text\n",
    "    rating8.append(rt8)\n",
    "    \n",
    "fr_tags8=web.find_elements_by_xpath(\"//div[@class='t-ZTKy']\")\n",
    "fr_tags8\n",
    "\n",
    "for i in fr_tags8:\n",
    "    fr8=i.text\n",
    "    full_review8.append(fr8)\n",
    "\n",
    "rs_tags8=web.find_elements_by_xpath(\"//p[@class='_2-N8zT']\")\n",
    "rs_tags8\n",
    "\n",
    "for i in rs_tags8:\n",
    "    rs8=i.text\n",
    "    review_summary8.append(rs8)"
   ]
  },
  {
   "cell_type": "code",
   "execution_count": 318,
   "id": "d702b77a",
   "metadata": {},
   "outputs": [
    {
     "name": "stdout",
     "output_type": "stream",
     "text": [
      "10 10 10\n"
     ]
    }
   ],
   "source": [
    "print(len(rating8),len(review_summary8),len(full_review8))"
   ]
  },
  {
   "cell_type": "code",
   "execution_count": 319,
   "id": "735cd4da",
   "metadata": {},
   "outputs": [
    {
     "name": "stderr",
     "output_type": "stream",
     "text": [
      "<ipython-input-319-1ee50bf48cb9>:1: DeprecationWarning: find_element_by_* commands are deprecated. Please use find_element() instead\n",
      "  next10 = web.find_element_by_xpath(\"/html/body/div[1]/div/div[3]/div/div/div[2]/div[13]/div/div/nav/a[12]/span\").click()\n"
     ]
    }
   ],
   "source": [
    "next10 = web.find_element_by_xpath(\"/html/body/div[1]/div/div[3]/div/div/div[2]/div[13]/div/div/nav/a[12]/span\").click()"
   ]
  },
  {
   "cell_type": "code",
   "execution_count": 320,
   "id": "5556d168",
   "metadata": {},
   "outputs": [
    {
     "name": "stderr",
     "output_type": "stream",
     "text": [
      "<ipython-input-320-44f4d65d86da>:5: DeprecationWarning: find_elements_by_* commands are deprecated. Please use find_elements() instead\n",
      "  rt_tags9=web.find_elements_by_xpath(\"//div[@class='_3LWZlK _1BLPMq']\")\n",
      "<ipython-input-320-44f4d65d86da>:12: DeprecationWarning: find_elements_by_* commands are deprecated. Please use find_elements() instead\n",
      "  fr_tags9=web.find_elements_by_xpath(\"//div[@class='t-ZTKy']\")\n",
      "<ipython-input-320-44f4d65d86da>:19: DeprecationWarning: find_elements_by_* commands are deprecated. Please use find_elements() instead\n",
      "  rs_tags9=web.find_elements_by_xpath(\"//p[@class='_2-N8zT']\")\n"
     ]
    }
   ],
   "source": [
    "rating9=[]\n",
    "review_summary9=[]\n",
    "full_review9=[]\n",
    "\n",
    "rt_tags9=web.find_elements_by_xpath(\"//div[@class='_3LWZlK _1BLPMq']\")\n",
    "rt_tags9\n",
    "\n",
    "for i in rt_tags9:\n",
    "    rt9=i.text\n",
    "    rating9.append(rt9)\n",
    "    \n",
    "fr_tags9=web.find_elements_by_xpath(\"//div[@class='t-ZTKy']\")\n",
    "fr_tags9\n",
    "\n",
    "for i in fr_tags9:\n",
    "    fr9=i.text\n",
    "    full_review9.append(fr9)\n",
    "\n",
    "rs_tags9=web.find_elements_by_xpath(\"//p[@class='_2-N8zT']\")\n",
    "rs_tags9\n",
    "\n",
    "for i in rs_tags9:\n",
    "    rs9=i.text\n",
    "    review_summary9.append(rs9)"
   ]
  },
  {
   "cell_type": "code",
   "execution_count": 321,
   "id": "2170ae80",
   "metadata": {},
   "outputs": [
    {
     "name": "stdout",
     "output_type": "stream",
     "text": [
      "10 10 10\n"
     ]
    }
   ],
   "source": [
    "print(len(rating9),len(review_summary9),len(full_review9))"
   ]
  },
  {
   "cell_type": "code",
   "execution_count": 322,
   "id": "634f93db",
   "metadata": {},
   "outputs": [],
   "source": [
    "Ratings = rating + rating1 + rating2 + rating3 + rating4 + rating5 + rating6 + rating7 + rating8 + rating9\n",
    "Review_Summary = review_summary + review_summary1 + review_summary2 + review_summary3 + review_summary4 + review_summary5 + review_summary6 + review_summary7 + review_summary8 + review_summary9\n",
    "Full_Review = full_review + full_review1 + full_review2 + full_review3 + full_review4 + full_review5 + full_review6 + full_review7 + full_review8 + full_review9"
   ]
  },
  {
   "cell_type": "code",
   "execution_count": 323,
   "id": "220d0dfc",
   "metadata": {},
   "outputs": [
    {
     "name": "stdout",
     "output_type": "stream",
     "text": [
      "100 100 100\n"
     ]
    }
   ],
   "source": [
    "print(len(Ratings),len(Review_Summary),len(Full_Review))"
   ]
  },
  {
   "cell_type": "code",
   "execution_count": 326,
   "id": "53abf103",
   "metadata": {},
   "outputs": [
    {
     "data": {
      "text/html": [
       "<div>\n",
       "<style scoped>\n",
       "    .dataframe tbody tr th:only-of-type {\n",
       "        vertical-align: middle;\n",
       "    }\n",
       "\n",
       "    .dataframe tbody tr th {\n",
       "        vertical-align: top;\n",
       "    }\n",
       "\n",
       "    .dataframe thead th {\n",
       "        text-align: right;\n",
       "    }\n",
       "</style>\n",
       "<table border=\"1\" class=\"dataframe\">\n",
       "  <thead>\n",
       "    <tr style=\"text-align: right;\">\n",
       "      <th></th>\n",
       "      <th>IPHONE_Ratings</th>\n",
       "      <th>Review_Summary</th>\n",
       "      <th>Full_Review</th>\n",
       "    </tr>\n",
       "  </thead>\n",
       "  <tbody>\n",
       "    <tr>\n",
       "      <th>0</th>\n",
       "      <td>5</td>\n",
       "      <td>Brilliant</td>\n",
       "      <td>The Best Phone for the Money\\n\\nThe iPhone 11 ...</td>\n",
       "    </tr>\n",
       "    <tr>\n",
       "      <th>1</th>\n",
       "      <td>5</td>\n",
       "      <td>Simply awesome</td>\n",
       "      <td>Really satisfied with the Product I received.....</td>\n",
       "    </tr>\n",
       "    <tr>\n",
       "      <th>2</th>\n",
       "      <td>5</td>\n",
       "      <td>Perfect product!</td>\n",
       "      <td>Amazing phone with great cameras and better ba...</td>\n",
       "    </tr>\n",
       "    <tr>\n",
       "      <th>3</th>\n",
       "      <td>5</td>\n",
       "      <td>Worth every penny</td>\n",
       "      <td>Previously I was using one plus 3t it was a gr...</td>\n",
       "    </tr>\n",
       "    <tr>\n",
       "      <th>4</th>\n",
       "      <td>5</td>\n",
       "      <td>Fabulous!</td>\n",
       "      <td>This is my first iOS phone. I am very happy wi...</td>\n",
       "    </tr>\n",
       "    <tr>\n",
       "      <th>...</th>\n",
       "      <td>...</td>\n",
       "      <td>...</td>\n",
       "      <td>...</td>\n",
       "    </tr>\n",
       "    <tr>\n",
       "      <th>95</th>\n",
       "      <td>5</td>\n",
       "      <td>Super!</td>\n",
       "      <td>This is my first ever iPhone.\\nAnd I truly don...</td>\n",
       "    </tr>\n",
       "    <tr>\n",
       "      <th>96</th>\n",
       "      <td>5</td>\n",
       "      <td>Just wow!</td>\n",
       "      <td>The ultimate performance\\nCamera is superb\\nTh...</td>\n",
       "    </tr>\n",
       "    <tr>\n",
       "      <th>97</th>\n",
       "      <td>5</td>\n",
       "      <td>Terrific purchase</td>\n",
       "      <td>I use a Note10+ and have been using both iOS a...</td>\n",
       "    </tr>\n",
       "    <tr>\n",
       "      <th>98</th>\n",
       "      <td>5</td>\n",
       "      <td>Awesome</td>\n",
       "      <td>The phone is completely good\\nAs far as camera...</td>\n",
       "    </tr>\n",
       "    <tr>\n",
       "      <th>99</th>\n",
       "      <td>3</td>\n",
       "      <td>Decent product</td>\n",
       "      <td>Everything u ll like it when u use this iPhone...</td>\n",
       "    </tr>\n",
       "  </tbody>\n",
       "</table>\n",
       "<p>100 rows × 3 columns</p>\n",
       "</div>"
      ],
      "text/plain": [
       "   IPHONE_Ratings     Review_Summary  \\\n",
       "0               5          Brilliant   \n",
       "1               5     Simply awesome   \n",
       "2               5   Perfect product!   \n",
       "3               5  Worth every penny   \n",
       "4               5          Fabulous!   \n",
       "..            ...                ...   \n",
       "95              5             Super!   \n",
       "96              5          Just wow!   \n",
       "97              5  Terrific purchase   \n",
       "98              5            Awesome   \n",
       "99              3     Decent product   \n",
       "\n",
       "                                          Full_Review  \n",
       "0   The Best Phone for the Money\\n\\nThe iPhone 11 ...  \n",
       "1   Really satisfied with the Product I received.....  \n",
       "2   Amazing phone with great cameras and better ba...  \n",
       "3   Previously I was using one plus 3t it was a gr...  \n",
       "4   This is my first iOS phone. I am very happy wi...  \n",
       "..                                                ...  \n",
       "95  This is my first ever iPhone.\\nAnd I truly don...  \n",
       "96  The ultimate performance\\nCamera is superb\\nTh...  \n",
       "97  I use a Note10+ and have been using both iOS a...  \n",
       "98  The phone is completely good\\nAs far as camera...  \n",
       "99  Everything u ll like it when u use this iPhone...  \n",
       "\n",
       "[100 rows x 3 columns]"
      ]
     },
     "execution_count": 326,
     "metadata": {},
     "output_type": "execute_result"
    }
   ],
   "source": [
    "xy = pd.DataFrame({'IPHONE_Ratings':Ratings,'Review_Summary':Review_Summary,'Full_Review':Full_Review})\n",
    "xy"
   ]
  },
  {
   "cell_type": "code",
   "execution_count": 327,
   "id": "380d0d97",
   "metadata": {},
   "outputs": [],
   "source": [
    "#Q6: Scrape data for first 100 sneakers you find when you visit flipkart.com and search for “sneakers” in the\n",
    "#search field.\n",
    "#You have to scrape 4 attributes of each sneaker:\n",
    "#1. Brand\n",
    "#2. Product Description\n",
    "#3. Price"
   ]
  },
  {
   "cell_type": "code",
   "execution_count": 371,
   "id": "43c535d7",
   "metadata": {},
   "outputs": [
    {
     "name": "stderr",
     "output_type": "stream",
     "text": [
      "<ipython-input-371-9b0f7e607b80>:1: DeprecationWarning: executable_path has been deprecated, please pass in a Service object\n",
      "  DRIVER = webdriver.Chrome(r\"C:\\Users\\sushr\\OneDrive\\Desktop\\chromedriver\\chromedriver.exe\")\n"
     ]
    }
   ],
   "source": [
    "DRIVER = webdriver.Chrome(r\"C:\\Users\\sushr\\OneDrive\\Desktop\\chromedriver\\chromedriver.exe\")"
   ]
  },
  {
   "cell_type": "code",
   "execution_count": 372,
   "id": "6b570039",
   "metadata": {},
   "outputs": [],
   "source": [
    "DRIVER.get('https://www.flipkart.com/')"
   ]
  },
  {
   "cell_type": "code",
   "execution_count": 373,
   "id": "c9a14217",
   "metadata": {},
   "outputs": [
    {
     "name": "stderr",
     "output_type": "stream",
     "text": [
      "<ipython-input-373-434c5a720919>:1: DeprecationWarning: find_element_by_* commands are deprecated. Please use find_element() instead\n",
      "  DRIVER.find_element_by_xpath(\"/html/body/div[2]/div/div/button\").click()\n"
     ]
    }
   ],
   "source": [
    "DRIVER.find_element_by_xpath(\"/html/body/div[2]/div/div/button\").click()"
   ]
  },
  {
   "cell_type": "code",
   "execution_count": 374,
   "id": "dd1cf2d0",
   "metadata": {},
   "outputs": [
    {
     "name": "stderr",
     "output_type": "stream",
     "text": [
      "<ipython-input-374-585d9d8b33fc>:1: DeprecationWarning: find_element_by_* commands are deprecated. Please use find_element() instead\n",
      "  search_sneakers = DRIVER.find_element_by_xpath(\"//input[@name='q']\")\n"
     ]
    }
   ],
   "source": [
    "search_sneakers = DRIVER.find_element_by_xpath(\"//input[@name='q']\")\n",
    "search_sneakers.send_keys('Sneakers')"
   ]
  },
  {
   "cell_type": "code",
   "execution_count": 375,
   "id": "92835963",
   "metadata": {},
   "outputs": [
    {
     "name": "stderr",
     "output_type": "stream",
     "text": [
      "<ipython-input-375-7633670b4929>:1: DeprecationWarning: find_element_by_* commands are deprecated. Please use find_element() instead\n",
      "  DRIVER.find_element_by_xpath(\"//button[@class='L0Z3Pu']\").click()\n"
     ]
    }
   ],
   "source": [
    "DRIVER.find_element_by_xpath(\"//button[@class='L0Z3Pu']\").click()"
   ]
  },
  {
   "cell_type": "code",
   "execution_count": 376,
   "id": "89d2b10a",
   "metadata": {},
   "outputs": [
    {
     "name": "stderr",
     "output_type": "stream",
     "text": [
      "<ipython-input-376-33618270427b>:1: DeprecationWarning: find_element_by_* commands are deprecated. Please use find_element() instead\n",
      "  DRIVER.find_element_by_xpath(\"/html/body/div[1]/div/div[3]/div[1]/div[1]/div/div/div/section[4]/div[2]/div[1]/div[2]/div/label/div[2]\").click()\n"
     ]
    }
   ],
   "source": [
    "DRIVER.find_element_by_xpath(\"/html/body/div[1]/div/div[3]/div[1]/div[1]/div/div/div/section[4]/div[2]/div[1]/div[2]/div/label/div[2]\").click()"
   ]
  },
  {
   "cell_type": "code",
   "execution_count": 377,
   "id": "6f7b862c",
   "metadata": {},
   "outputs": [
    {
     "name": "stderr",
     "output_type": "stream",
     "text": [
      "<ipython-input-377-33d9ef865ed5>:1: DeprecationWarning: find_element_by_* commands are deprecated. Please use find_element() instead\n",
      "  DRIVER.find_element_by_xpath(\"/html/body/div[1]/div/div[3]/div/div[1]/div/div/div/section[4]/div[2]/div[1]/div[4]/div/label/div[2]\").click()\n"
     ]
    }
   ],
   "source": [
    "DRIVER.find_element_by_xpath(\"/html/body/div[1]/div/div[3]/div/div[1]/div/div/div/section[4]/div[2]/div[1]/div[4]/div/label/div[2]\").click()"
   ]
  },
  {
   "cell_type": "code",
   "execution_count": 378,
   "id": "df7b830c",
   "metadata": {},
   "outputs": [
    {
     "name": "stderr",
     "output_type": "stream",
     "text": [
      "<ipython-input-378-f4e43c049645>:1: DeprecationWarning: find_element_by_* commands are deprecated. Please use find_element() instead\n",
      "  DRIVER.find_element_by_xpath(\"/html/body/div[1]/div/div[3]/div/div[1]/div/div/div/section[4]/div[2]/div[1]/div[5]/div/label/div[2]\").click()\n"
     ]
    }
   ],
   "source": [
    "DRIVER.find_element_by_xpath(\"/html/body/div[1]/div/div[3]/div/div[1]/div/div/div/section[4]/div[2]/div[1]/div[5]/div/label/div[2]\").click()"
   ]
  },
  {
   "cell_type": "code",
   "execution_count": 379,
   "id": "43f42aa6",
   "metadata": {},
   "outputs": [
    {
     "name": "stderr",
     "output_type": "stream",
     "text": [
      "<ipython-input-379-7a9d50bcf241>:1: DeprecationWarning: find_element_by_* commands are deprecated. Please use find_element() instead\n",
      "  DRIVER.find_element_by_xpath(\"/html/body/div[1]/div/div[3]/div/div[1]/div/div/div/section[4]/div[2]/div[1]/div[6]/div/label/div[2]\").click()\n"
     ]
    }
   ],
   "source": [
    "DRIVER.find_element_by_xpath(\"/html/body/div[1]/div/div[3]/div/div[1]/div/div/div/section[4]/div[2]/div[1]/div[6]/div/label/div[2]\").click()"
   ]
  },
  {
   "cell_type": "code",
   "execution_count": 380,
   "id": "a191a071",
   "metadata": {},
   "outputs": [
    {
     "name": "stderr",
     "output_type": "stream",
     "text": [
      "<ipython-input-380-88ae05b28293>:5: DeprecationWarning: find_elements_by_* commands are deprecated. Please use find_elements() instead\n",
      "  snk_b_tags=DRIVER.find_elements_by_xpath(\"//div[@class='_2WkVRV']\")\n"
     ]
    }
   ],
   "source": [
    "snk_brand=[]\n",
    "snk_desc=[]\n",
    "snk_pr=[]\n",
    "\n",
    "snk_b_tags=DRIVER.find_elements_by_xpath(\"//div[@class='_2WkVRV']\")\n",
    "snk_b_tags\n",
    "\n",
    "for i in snk_b_tags:\n",
    "    brd=i.text\n",
    "    snk_brand.append(brd)"
   ]
  },
  {
   "cell_type": "code",
   "execution_count": 381,
   "id": "2dac44e5",
   "metadata": {},
   "outputs": [
    {
     "name": "stderr",
     "output_type": "stream",
     "text": [
      "<ipython-input-381-54e2f67a2923>:1: DeprecationWarning: find_elements_by_* commands are deprecated. Please use find_elements() instead\n",
      "  snk_p_tags=DRIVER.find_elements_by_xpath(\"//div[@class='_30jeq3']\")\n"
     ]
    }
   ],
   "source": [
    "snk_p_tags=DRIVER.find_elements_by_xpath(\"//div[@class='_30jeq3']\")\n",
    "snk_p_tags\n",
    "\n",
    "for i in snk_p_tags:\n",
    "    pr=i.text\n",
    "    snk_pr.append(pr)"
   ]
  },
  {
   "cell_type": "code",
   "execution_count": 382,
   "id": "cbf9f66a",
   "metadata": {},
   "outputs": [
    {
     "name": "stderr",
     "output_type": "stream",
     "text": [
      "<ipython-input-382-1b403b90ea83>:1: DeprecationWarning: find_elements_by_* commands are deprecated. Please use find_elements() instead\n",
      "  snk_de_tags=DRIVER.find_elements_by_xpath(\"//a[@class='IRpwTa']\")\n"
     ]
    }
   ],
   "source": [
    "snk_de_tags=DRIVER.find_elements_by_xpath(\"//a[@class='IRpwTa']\")\n",
    "snk_de_tags\n",
    "\n",
    "for i in snk_de_tags:\n",
    "    des=i.text\n",
    "    snk_desc.append(des)"
   ]
  },
  {
   "cell_type": "code",
   "execution_count": 384,
   "id": "8241d15d",
   "metadata": {},
   "outputs": [
    {
     "name": "stderr",
     "output_type": "stream",
     "text": [
      "<ipython-input-384-f5f64824b828>:2: DeprecationWarning: find_elements_by_* commands are deprecated. Please use find_elements() instead\n",
      "  snk_de_tags0=DRIVER.find_elements_by_xpath(\"//a[@class='IRpwTa _2-ICcC']\")\n"
     ]
    }
   ],
   "source": [
    "snk_desc0=[]\n",
    "snk_de_tags0=DRIVER.find_elements_by_xpath(\"//a[@class='IRpwTa _2-ICcC']\")\n",
    "snk_de_tags0\n",
    "\n",
    "for i in snk_de_tags0:\n",
    "    des0=i.text\n",
    "    snk_desc0.append(des0)"
   ]
  },
  {
   "cell_type": "code",
   "execution_count": 387,
   "id": "06664dfa",
   "metadata": {},
   "outputs": [],
   "source": [
    "snk_desc00 = snk_desc + snk_desc0"
   ]
  },
  {
   "cell_type": "code",
   "execution_count": 388,
   "id": "820e092a",
   "metadata": {},
   "outputs": [
    {
     "name": "stdout",
     "output_type": "stream",
     "text": [
      "40 40 40\n"
     ]
    }
   ],
   "source": [
    "print(len(snk_desc00),len(snk_brand),len(snk_pr))"
   ]
  },
  {
   "cell_type": "code",
   "execution_count": 389,
   "id": "ee787a54",
   "metadata": {},
   "outputs": [
    {
     "name": "stderr",
     "output_type": "stream",
     "text": [
      "<ipython-input-389-82add95dfd69>:1: DeprecationWarning: find_element_by_* commands are deprecated. Please use find_element() instead\n",
      "  nxtpg = DRIVER.find_element_by_xpath(\"/html/body/div[1]/div/div[3]/div/div[2]/div[12]/div/div/nav/a[11]/span\").click()\n"
     ]
    }
   ],
   "source": [
    "nxtpg = DRIVER.find_element_by_xpath(\"/html/body/div[1]/div/div[3]/div/div[2]/div[12]/div/div/nav/a[11]/span\").click()"
   ]
  },
  {
   "cell_type": "code",
   "execution_count": 390,
   "id": "72b98b11",
   "metadata": {},
   "outputs": [
    {
     "name": "stderr",
     "output_type": "stream",
     "text": [
      "<ipython-input-390-b361a39ded58>:5: DeprecationWarning: find_elements_by_* commands are deprecated. Please use find_elements() instead\n",
      "  snk_b_tags1=DRIVER.find_elements_by_xpath(\"//div[@class='_2WkVRV']\")\n",
      "<ipython-input-390-b361a39ded58>:12: DeprecationWarning: find_elements_by_* commands are deprecated. Please use find_elements() instead\n",
      "  snk_de_tags1=DRIVER.find_elements_by_xpath(\"//a[@class='IRpwTa']\")\n",
      "<ipython-input-390-b361a39ded58>:19: DeprecationWarning: find_elements_by_* commands are deprecated. Please use find_elements() instead\n",
      "  snk_p_tags1=DRIVER.find_elements_by_xpath(\"//a[@class='_30jeq3']\")\n"
     ]
    }
   ],
   "source": [
    "snk_brand1=[]\n",
    "snk_desc1=[]\n",
    "snk_pr1=[]\n",
    "\n",
    "snk_b_tags1=DRIVER.find_elements_by_xpath(\"//div[@class='_2WkVRV']\")\n",
    "snk_b_tags1\n",
    "\n",
    "for i in snk_b_tags1:\n",
    "    brd1=i.text\n",
    "    snk_brand1.append(brd1)\n",
    "    \n",
    "snk_de_tags1=DRIVER.find_elements_by_xpath(\"//a[@class='IRpwTa']\")\n",
    "snk_de_tags1\n",
    "\n",
    "for i in snk_de_tags1:\n",
    "    des1=i.text\n",
    "    snk_desc1.append(des1)"
   ]
  },
  {
   "cell_type": "code",
   "execution_count": 393,
   "id": "0c709a89",
   "metadata": {},
   "outputs": [
    {
     "name": "stderr",
     "output_type": "stream",
     "text": [
      "<ipython-input-393-1ee86d2f76de>:1: DeprecationWarning: find_elements_by_* commands are deprecated. Please use find_elements() instead\n",
      "  snk_p_tags1=DRIVER.find_elements_by_xpath(\"//div[@class='_30jeq3']\")\n"
     ]
    }
   ],
   "source": [
    "snk_p_tags1=DRIVER.find_elements_by_xpath(\"//div[@class='_30jeq3']\")\n",
    "snk_p_tags1\n",
    "\n",
    "for i in snk_p_tags1:\n",
    "    pr1=i.text\n",
    "    snk_pr1.append(pr1)"
   ]
  },
  {
   "cell_type": "code",
   "execution_count": 396,
   "id": "0c16b96f",
   "metadata": {},
   "outputs": [
    {
     "name": "stderr",
     "output_type": "stream",
     "text": [
      "<ipython-input-396-fbb6457143cd>:2: DeprecationWarning: find_elements_by_* commands are deprecated. Please use find_elements() instead\n",
      "  snk_de_tags1_0=DRIVER.find_elements_by_xpath(\"//a[@class='IRpwTa _2-ICcC']\")\n"
     ]
    }
   ],
   "source": [
    "snk_desc1_0=[]\n",
    "snk_de_tags1_0=DRIVER.find_elements_by_xpath(\"//a[@class='IRpwTa _2-ICcC']\")\n",
    "snk_de_tags1_0\n",
    "\n",
    "for i in snk_de_tags1_0:\n",
    "    des1_0=i.text\n",
    "    snk_desc1_0.append(des1_0)\n",
    "snk_desc1.insert(10,snk_desc1_0)"
   ]
  },
  {
   "cell_type": "code",
   "execution_count": 397,
   "id": "8bc8dd75",
   "metadata": {},
   "outputs": [
    {
     "name": "stdout",
     "output_type": "stream",
     "text": [
      "40 40 40\n"
     ]
    }
   ],
   "source": [
    "print(len(snk_desc1),len(snk_brand1),len(snk_pr1))\n"
   ]
  },
  {
   "cell_type": "code",
   "execution_count": 398,
   "id": "54e31015",
   "metadata": {},
   "outputs": [
    {
     "name": "stderr",
     "output_type": "stream",
     "text": [
      "<ipython-input-398-d8240a2a6a2f>:1: DeprecationWarning: find_element_by_* commands are deprecated. Please use find_element() instead\n",
      "  nxtpg1 = DRIVER.find_element_by_xpath(\"/html/body/div[1]/div/div[3]/div/div[2]/div[12]/div/div/nav/a[12]/span\").click()\n"
     ]
    }
   ],
   "source": [
    "nxtpg1 = DRIVER.find_element_by_xpath(\"/html/body/div[1]/div/div[3]/div/div[2]/div[12]/div/div/nav/a[12]/span\").click()"
   ]
  },
  {
   "cell_type": "code",
   "execution_count": 399,
   "id": "fc83a664",
   "metadata": {},
   "outputs": [
    {
     "name": "stderr",
     "output_type": "stream",
     "text": [
      "<ipython-input-399-0bfd06ee5614>:5: DeprecationWarning: find_elements_by_* commands are deprecated. Please use find_elements() instead\n",
      "  snk_b_tags2=DRIVER.find_elements_by_xpath(\"//div[@class='_2WkVRV']\")\n",
      "<ipython-input-399-0bfd06ee5614>:12: DeprecationWarning: find_elements_by_* commands are deprecated. Please use find_elements() instead\n",
      "  snk_de_tags2=DRIVER.find_elements_by_xpath(\"//a[@class='IRpwTa']\")\n",
      "<ipython-input-399-0bfd06ee5614>:19: DeprecationWarning: find_elements_by_* commands are deprecated. Please use find_elements() instead\n",
      "  snk_p_tags2=DRIVER.find_elements_by_xpath(\"//div[@class='_30jeq3']\")\n"
     ]
    }
   ],
   "source": [
    "snk_brand2=[]\n",
    "snk_desc2=[]\n",
    "snk_pr2=[]\n",
    "\n",
    "snk_b_tags2=DRIVER.find_elements_by_xpath(\"//div[@class='_2WkVRV']\")\n",
    "snk_b_tags2[0:20]\n",
    "\n",
    "for i in snk_b_tags2:\n",
    "    brd2=i.text\n",
    "    snk_brand2.append(brd2)\n",
    "    \n",
    "snk_de_tags2=DRIVER.find_elements_by_xpath(\"//a[@class='IRpwTa']\")\n",
    "snk_de_tags2[0:20]\n",
    "\n",
    "for i in snk_de_tags2:\n",
    "    des2=i.text\n",
    "    snk_desc2.append(des2)\n",
    "    \n",
    "snk_p_tags2=DRIVER.find_elements_by_xpath(\"//div[@class='_30jeq3']\")\n",
    "snk_p_tags2[0:20]\n",
    "\n",
    "for i in snk_p_tags2:\n",
    "    pr2=i.text\n",
    "    snk_pr2.append(pr2)"
   ]
  },
  {
   "cell_type": "code",
   "execution_count": 401,
   "id": "08d556ad",
   "metadata": {},
   "outputs": [
    {
     "name": "stdout",
     "output_type": "stream",
     "text": [
      "100 100 100\n"
     ]
    }
   ],
   "source": [
    "sneaker_brand = snk_brand + snk_brand1 + snk_brand2[0:20]\n",
    "product_desc = snk_desc00 + snk_desc1 + snk_desc2[0:20]\n",
    "sneaker_price = snk_pr + snk_pr1 + snk_pr2[0:20]\n",
    "print(len(sneaker_brand),len(product_desc),len(sneaker_price))"
   ]
  },
  {
   "cell_type": "code",
   "execution_count": 403,
   "id": "050f77fa",
   "metadata": {},
   "outputs": [
    {
     "data": {
      "text/html": [
       "<div>\n",
       "<style scoped>\n",
       "    .dataframe tbody tr th:only-of-type {\n",
       "        vertical-align: middle;\n",
       "    }\n",
       "\n",
       "    .dataframe tbody tr th {\n",
       "        vertical-align: top;\n",
       "    }\n",
       "\n",
       "    .dataframe thead th {\n",
       "        text-align: right;\n",
       "    }\n",
       "</style>\n",
       "<table border=\"1\" class=\"dataframe\">\n",
       "  <thead>\n",
       "    <tr style=\"text-align: right;\">\n",
       "      <th></th>\n",
       "      <th>sneakers_brand</th>\n",
       "      <th>product_description</th>\n",
       "      <th>price</th>\n",
       "    </tr>\n",
       "  </thead>\n",
       "  <tbody>\n",
       "    <tr>\n",
       "      <th>0</th>\n",
       "      <td>PUMA</td>\n",
       "      <td>Carina L Snake FS Sneakers For Men</td>\n",
       "      <td>₹2,749</td>\n",
       "    </tr>\n",
       "    <tr>\n",
       "      <th>1</th>\n",
       "      <td>PUMA</td>\n",
       "      <td>Vikky Ribbon P Dusty Coral-Dusty Co Sneakers F...</td>\n",
       "      <td>₹1,799</td>\n",
       "    </tr>\n",
       "    <tr>\n",
       "      <th>2</th>\n",
       "      <td>PUMA</td>\n",
       "      <td>Puma Wired Cage Sneakers For Men</td>\n",
       "      <td>₹1,719</td>\n",
       "    </tr>\n",
       "    <tr>\n",
       "      <th>3</th>\n",
       "      <td>PUMA</td>\n",
       "      <td>Perforated Low IDP Sneakers For Men</td>\n",
       "      <td>₹1,599</td>\n",
       "    </tr>\n",
       "    <tr>\n",
       "      <th>4</th>\n",
       "      <td>PUMA</td>\n",
       "      <td>Serve Pro Sneakers For Men</td>\n",
       "      <td>₹2,949</td>\n",
       "    </tr>\n",
       "    <tr>\n",
       "      <th>...</th>\n",
       "      <td>...</td>\n",
       "      <td>...</td>\n",
       "      <td>...</td>\n",
       "    </tr>\n",
       "    <tr>\n",
       "      <th>95</th>\n",
       "      <td>PUMA</td>\n",
       "      <td>Rebound LayUp Lo SL Sneakers For Men</td>\n",
       "      <td>₹2,949</td>\n",
       "    </tr>\n",
       "    <tr>\n",
       "      <th>96</th>\n",
       "      <td>PUMA</td>\n",
       "      <td>Respin Sneakers For Men</td>\n",
       "      <td>₹3,559</td>\n",
       "    </tr>\n",
       "    <tr>\n",
       "      <th>97</th>\n",
       "      <td>PUMA</td>\n",
       "      <td>Mirage Mox Vision Sneakers For Men</td>\n",
       "      <td>₹3,662</td>\n",
       "    </tr>\n",
       "    <tr>\n",
       "      <th>98</th>\n",
       "      <td>PUMA</td>\n",
       "      <td>Ferrari IONSpeed Sneakers For Men</td>\n",
       "      <td>₹5,309</td>\n",
       "    </tr>\n",
       "    <tr>\n",
       "      <th>99</th>\n",
       "      <td>PUMA</td>\n",
       "      <td>RS-2K Internet Exploring Sneakers For Men</td>\n",
       "      <td>₹4,558</td>\n",
       "    </tr>\n",
       "  </tbody>\n",
       "</table>\n",
       "<p>100 rows × 3 columns</p>\n",
       "</div>"
      ],
      "text/plain": [
       "   sneakers_brand                                product_description   price\n",
       "0            PUMA                 Carina L Snake FS Sneakers For Men  ₹2,749\n",
       "1            PUMA  Vikky Ribbon P Dusty Coral-Dusty Co Sneakers F...  ₹1,799\n",
       "2            PUMA                   Puma Wired Cage Sneakers For Men  ₹1,719\n",
       "3            PUMA                Perforated Low IDP Sneakers For Men  ₹1,599\n",
       "4            PUMA                         Serve Pro Sneakers For Men  ₹2,949\n",
       "..            ...                                                ...     ...\n",
       "95           PUMA               Rebound LayUp Lo SL Sneakers For Men  ₹2,949\n",
       "96           PUMA                            Respin Sneakers For Men  ₹3,559\n",
       "97           PUMA                 Mirage Mox Vision Sneakers For Men  ₹3,662\n",
       "98           PUMA                  Ferrari IONSpeed Sneakers For Men  ₹5,309\n",
       "99           PUMA          RS-2K Internet Exploring Sneakers For Men  ₹4,558\n",
       "\n",
       "[100 rows x 3 columns]"
      ]
     },
     "execution_count": 403,
     "metadata": {},
     "output_type": "execute_result"
    }
   ],
   "source": [
    "w = pd.DataFrame({'sneakers_brand':sneaker_brand,'product_description':product_desc,'price':sneaker_price})\n",
    "w"
   ]
  },
  {
   "cell_type": "code",
   "execution_count": 79,
   "id": "d2ec34ec",
   "metadata": {},
   "outputs": [],
   "source": [
    "#Q7: Go to the link - https://www.myntra.com/shoes\n",
    "#Set Price filter to “Rs. 6649 to Rs. 13099” , Color filter to “Black”, as shown in the below image."
   ]
  },
  {
   "cell_type": "code",
   "execution_count": 139,
   "id": "0daae1a2",
   "metadata": {},
   "outputs": [
    {
     "name": "stderr",
     "output_type": "stream",
     "text": [
      "<ipython-input-139-ada3ed53b577>:1: DeprecationWarning: executable_path has been deprecated, please pass in a Service object\n",
      "  driver = webdriver.Chrome(r\"C:\\Users\\sushr\\OneDrive\\Desktop\\chromedriver\\chromedriver.exe\")\n"
     ]
    }
   ],
   "source": [
    "driver = webdriver.Chrome(r\"C:\\Users\\sushr\\OneDrive\\Desktop\\chromedriver\\chromedriver.exe\")"
   ]
  },
  {
   "cell_type": "code",
   "execution_count": 163,
   "id": "89532c79",
   "metadata": {},
   "outputs": [],
   "source": [
    "driver.get('https://www.myntra.com/shoes')"
   ]
  },
  {
   "cell_type": "code",
   "execution_count": 164,
   "id": "d6e8c961",
   "metadata": {},
   "outputs": [
    {
     "name": "stderr",
     "output_type": "stream",
     "text": [
      "<ipython-input-164-4bbffb0f7692>:1: DeprecationWarning: find_element_by_* commands are deprecated. Please use find_element() instead\n",
      "  price_filter= driver.find_element_by_xpath(\"/html/body/div[2]/div/div[1]/main/div[3]/div[1]/section/div/div[5]/ul/li[2]/label\")\n"
     ]
    }
   ],
   "source": [
    "price_filter= driver.find_element_by_xpath(\"/html/body/div[2]/div/div[1]/main/div[3]/div[1]/section/div/div[5]/ul/li[2]/label\")\n",
    "price_filter.click()"
   ]
  },
  {
   "cell_type": "code",
   "execution_count": 165,
   "id": "70ebc79d",
   "metadata": {},
   "outputs": [
    {
     "name": "stderr",
     "output_type": "stream",
     "text": [
      "<ipython-input-165-250b781b9b61>:1: DeprecationWarning: find_element_by_* commands are deprecated. Please use find_element() instead\n",
      "  color_filter = driver.find_element_by_xpath(\"/html/body/div[2]/div/div[1]/main/div[3]/div[1]/section/div/div[6]/ul/li[1]/label\").click()\n"
     ]
    }
   ],
   "source": [
    "color_filter = driver.find_element_by_xpath(\"/html/body/div[2]/div/div[1]/main/div[3]/div[1]/section/div/div[6]/ul/li[1]/label\").click()"
   ]
  },
  {
   "cell_type": "code",
   "execution_count": 166,
   "id": "c85b6372",
   "metadata": {},
   "outputs": [],
   "source": [
    "brand = []\n",
    "shoe_desc = []\n",
    "price_shoe = []"
   ]
  },
  {
   "cell_type": "code",
   "execution_count": 167,
   "id": "403bf1e2",
   "metadata": {},
   "outputs": [
    {
     "name": "stderr",
     "output_type": "stream",
     "text": [
      "<ipython-input-167-a222fda97968>:1: DeprecationWarning: find_elements_by_* commands are deprecated. Please use find_elements() instead\n",
      "  brand_tags = driver.find_elements_by_xpath(\"//h3[@class='product-brand']\")\n"
     ]
    },
    {
     "data": {
      "text/plain": [
       "['Nike',\n",
       " 'Nike',\n",
       " 'Hush Puppies',\n",
       " 'Nike',\n",
       " 'Nike',\n",
       " 'Puma',\n",
       " 'Puma',\n",
       " 'Nike',\n",
       " 'Nike',\n",
       " 'Nike',\n",
       " 'Hush Puppies',\n",
       " 'Saint G',\n",
       " 'Hush Puppies',\n",
       " 'Puma',\n",
       " 'ASICS',\n",
       " 'UNDER ARMOUR',\n",
       " 'PUMA Motorsport',\n",
       " 'ASICS',\n",
       " 'Puma',\n",
       " 'Hush Puppies',\n",
       " 'Cole Haan',\n",
       " 'Bugatti',\n",
       " 'Bugatti',\n",
       " 'Puma',\n",
       " 'Calvin Klein',\n",
       " 'Calvin Klein',\n",
       " 'Puma',\n",
       " 'ASICS',\n",
       " 'Hush Puppies',\n",
       " 'Saint G',\n",
       " 'Puma',\n",
       " 'Puma',\n",
       " 'PUMA Hoops',\n",
       " 'Puma',\n",
       " 'UNDER ARMOUR',\n",
       " 'Geox',\n",
       " 'Puma',\n",
       " 'Tommy Hilfiger',\n",
       " 'Calvin Klein',\n",
       " 'Tommy Hilfiger',\n",
       " 'Pavers England',\n",
       " 'Calvin Klein',\n",
       " 'Puma',\n",
       " 'ASICS',\n",
       " 'Cole Haan',\n",
       " 'J.FONTINI',\n",
       " 'ASICS',\n",
       " 'Tommy Hilfiger',\n",
       " 'J.FONTINI',\n",
       " 'ROSSO BRUNELLO']"
      ]
     },
     "execution_count": 167,
     "metadata": {},
     "output_type": "execute_result"
    }
   ],
   "source": [
    "brand_tags = driver.find_elements_by_xpath(\"//h3[@class='product-brand']\")\n",
    "brand_tags\n",
    "\n",
    "for i in brand_tags:\n",
    "    b=i.text\n",
    "    brand.append(b)\n",
    "brand"
   ]
  },
  {
   "cell_type": "code",
   "execution_count": 168,
   "id": "85a8087f",
   "metadata": {},
   "outputs": [
    {
     "name": "stdout",
     "output_type": "stream",
     "text": [
      "50\n"
     ]
    }
   ],
   "source": [
    "print(len(brand))"
   ]
  },
  {
   "cell_type": "code",
   "execution_count": 169,
   "id": "32afbf58",
   "metadata": {},
   "outputs": [
    {
     "name": "stderr",
     "output_type": "stream",
     "text": [
      "<ipython-input-169-f48d4f95b80e>:1: DeprecationWarning: find_elements_by_* commands are deprecated. Please use find_elements() instead\n",
      "  desc_tags= driver.find_elements_by_xpath(\"//h4[@class='product-product']\")\n"
     ]
    },
    {
     "data": {
      "text/plain": [
       "['LEBRON WITNESS Basketball Shoe',\n",
       " 'AIR ZOOM PEGASUS Running Shoes',\n",
       " 'Men Solid Leather Formal Slip-Ons',\n",
       " 'Men Zoom Span 4 Running Shoes',\n",
       " 'Air Zoom Pegasus 38 Shield Run',\n",
       " 'Men Deviate Nitro Running Shoe',\n",
       " 'Men Velocity Nitro Running',\n",
       " 'Men FLIGHT LEGACY Sneakers',\n",
       " \"Men BlazerLow '77 Sneakers\",\n",
       " 'Men AIR PRESTO Sneakers',\n",
       " 'Men Formal Derbys',\n",
       " 'Men Mid-Top Chelsea Boots',\n",
       " 'Men Solid Leather Formal Slip-Ons',\n",
       " 'Unisex Mirage Remix Sneakers',\n",
       " 'Men Colourblocked PU Sneakers',\n",
       " 'Women Charged Bandit 6 Running',\n",
       " 'Unisex Ferrari Wild Rider Shoe',\n",
       " 'Men Running Shoes',\n",
       " 'Men Liberate NITRO Running',\n",
       " 'Men Solid Leather Formal Derbys',\n",
       " 'Men Wingtip Oxford Sneakers',\n",
       " 'Men Black Walking Shoes',\n",
       " 'Men Walking Shoes',\n",
       " 'Men Running Shoes',\n",
       " 'Men Solid Low Top LTH Sneakers',\n",
       " 'Men UV MONO Leather Sneakers',\n",
       " 'Unisex Leather Trainers',\n",
       " 'Men Black Running Sports Shoes',\n",
       " 'Men Leather Slip-On Sneakers',\n",
       " 'Women Leather Heeled Boots',\n",
       " 'Men Football Shoes',\n",
       " 'Women Liberate NITRO Running',\n",
       " 'Unisex Clyde All-Pro Team',\n",
       " 'Women Magnify Nitro Shoes',\n",
       " 'Women Charged Vantage ClrShft',\n",
       " 'Men Leather Flat Boots',\n",
       " 'Women Velocity NITRO Runners',\n",
       " 'Women Leather Block Pumps',\n",
       " 'Men Mid-Top Runner Sneakers',\n",
       " 'Women Leather Pumps',\n",
       " 'Men Textured Leather Formal Derbys',\n",
       " 'Men Solid Leather Sneakers',\n",
       " 'FIRST MILE Forever XT Utility',\n",
       " 'Women NOVABLAST Road Running',\n",
       " 'Men GENERATION ZEROGRAND STITCHLITE',\n",
       " 'Men Black Leather Loafers',\n",
       " 'Skycourt Sneakers',\n",
       " 'Men Lightweight Sneakers',\n",
       " 'Men Textured Leather Loafers',\n",
       " 'Men Solid Leather Formal Monk Shoes']"
      ]
     },
     "execution_count": 169,
     "metadata": {},
     "output_type": "execute_result"
    }
   ],
   "source": [
    "desc_tags= driver.find_elements_by_xpath(\"//h4[@class='product-product']\")\n",
    "desc_tags\n",
    "\n",
    "for i in desc_tags:\n",
    "    des=i.text\n",
    "    shoe_desc.append(des)\n",
    "shoe_desc"
   ]
  },
  {
   "cell_type": "code",
   "execution_count": 170,
   "id": "f8b261c8",
   "metadata": {},
   "outputs": [
    {
     "name": "stdout",
     "output_type": "stream",
     "text": [
      "50\n"
     ]
    }
   ],
   "source": [
    "print(len(shoe_desc))"
   ]
  },
  {
   "cell_type": "code",
   "execution_count": 171,
   "id": "164285ed",
   "metadata": {},
   "outputs": [
    {
     "name": "stderr",
     "output_type": "stream",
     "text": [
      "<ipython-input-171-02b44660f55e>:1: DeprecationWarning: find_elements_by_* commands are deprecated. Please use find_elements() instead\n",
      "  shoeprice_tags = driver.find_elements_by_xpath(\"//div[@class='product-price']\")\n"
     ]
    },
    {
     "data": {
      "text/plain": [
       "['Rs. 8295',\n",
       " 'Rs. 9995',\n",
       " 'Rs. 8099Rs. 8999(10% OFF)',\n",
       " 'Rs. 7195',\n",
       " 'Rs. 11495',\n",
       " 'Rs. 12749Rs. 14999(15% OFF)',\n",
       " 'Rs. 9349Rs. 10999(15% OFF)',\n",
       " 'Rs. 7995',\n",
       " 'Rs. 7195',\n",
       " 'Rs. 11495',\n",
       " 'Rs. 8999Rs. 9999(10% OFF)',\n",
       " 'Rs. 10900',\n",
       " 'Rs. 8999Rs. 9999(10% OFF)',\n",
       " 'Rs. 7649Rs. 8999(15% OFF)',\n",
       " 'Rs. 9999',\n",
       " 'Rs. 8999',\n",
       " 'Rs. 7149Rs. 10999(35% OFF)',\n",
       " 'Rs. 7999',\n",
       " 'Rs. 8499Rs. 9999(15% OFF)',\n",
       " 'Rs. 8999Rs. 9999(10% OFF)',\n",
       " 'Rs. 10399Rs. 12999(20% OFF)',\n",
       " 'Rs. 8999',\n",
       " 'Rs. 8999',\n",
       " 'Rs. 9749Rs. 12999(25% OFF)',\n",
       " 'Rs. 8999',\n",
       " 'Rs. 8999',\n",
       " 'Rs. 8499Rs. 9999(15% OFF)',\n",
       " 'Rs. 7999',\n",
       " 'Rs. 7999Rs. 9999(20% OFF)',\n",
       " 'Rs. 13900',\n",
       " 'Rs. 11899Rs. 16999(30% OFF)',\n",
       " 'Rs. 8499Rs. 9999(15% OFF)',\n",
       " 'Rs. 8999',\n",
       " 'Rs. 10399Rs. 12999(20% OFF)',\n",
       " 'Rs. 7999',\n",
       " 'Rs. 11999',\n",
       " 'Rs. 9349Rs. 10999(15% OFF)',\n",
       " 'Rs. 7999',\n",
       " 'Rs. 10999',\n",
       " 'Rs. 7999',\n",
       " 'Rs. 7199Rs. 8999(20% OFF)',\n",
       " 'Rs. 9999',\n",
       " 'Rs. 7199Rs. 8999(20% OFF)',\n",
       " 'Rs. 10399Rs. 12999(20% OFF)',\n",
       " 'Rs. 9599Rs. 11999(20% OFF)',\n",
       " 'Rs. 8490',\n",
       " 'Rs. 7999',\n",
       " 'Rs. 7999',\n",
       " 'Rs. 7990',\n",
       " 'Rs. 12999']"
      ]
     },
     "execution_count": 171,
     "metadata": {},
     "output_type": "execute_result"
    }
   ],
   "source": [
    "shoeprice_tags = driver.find_elements_by_xpath(\"//div[@class='product-price']\")\n",
    "shoeprice_tags\n",
    "\n",
    "for i in shoeprice_tags:\n",
    "    sp=i.text\n",
    "    price_shoe.append(sp)\n",
    "price_shoe"
   ]
  },
  {
   "cell_type": "code",
   "execution_count": 172,
   "id": "9cb151b4",
   "metadata": {},
   "outputs": [
    {
     "name": "stdout",
     "output_type": "stream",
     "text": [
      "50\n"
     ]
    }
   ],
   "source": [
    "print(len(price_shoe))"
   ]
  },
  {
   "cell_type": "code",
   "execution_count": 173,
   "id": "7df765bc",
   "metadata": {},
   "outputs": [
    {
     "name": "stderr",
     "output_type": "stream",
     "text": [
      "<ipython-input-173-d6bb049313d3>:1: DeprecationWarning: find_element_by_* commands are deprecated. Please use find_element() instead\n",
      "  nextpagebtn= driver.find_element_by_xpath(\"/html/body/div[2]/div/div[1]/main/div[3]/div[2]/div/div[2]/section/div[2]/ul/li[3]/a\").click()\n"
     ]
    }
   ],
   "source": [
    "nextpagebtn= driver.find_element_by_xpath(\"/html/body/div[2]/div/div[1]/main/div[3]/div[2]/div/div[2]/section/div[2]/ul/li[3]/a\").click()"
   ]
  },
  {
   "cell_type": "code",
   "execution_count": 174,
   "id": "f0f21bfa",
   "metadata": {},
   "outputs": [],
   "source": [
    "brand1 = []\n",
    "shoe_desc1 = []\n",
    "price_shoe1 = []"
   ]
  },
  {
   "cell_type": "code",
   "execution_count": 175,
   "id": "8edcd854",
   "metadata": {},
   "outputs": [
    {
     "name": "stderr",
     "output_type": "stream",
     "text": [
      "<ipython-input-175-8f8d8694a8e5>:1: DeprecationWarning: find_element_by_* commands are deprecated. Please use find_element() instead\n",
      "  price_filter1= driver.find_element_by_xpath(\"/html/body/div[2]/div/div[1]/main/div[3]/div[1]/section/div/div[5]/ul/li[2]/label\")\n"
     ]
    }
   ],
   "source": [
    "price_filter1= driver.find_element_by_xpath(\"/html/body/div[2]/div/div[1]/main/div[3]/div[1]/section/div/div[5]/ul/li[2]/label\")\n",
    "price_filter1.click()"
   ]
  },
  {
   "cell_type": "code",
   "execution_count": 176,
   "id": "6c209a4e",
   "metadata": {},
   "outputs": [
    {
     "name": "stderr",
     "output_type": "stream",
     "text": [
      "<ipython-input-176-0df42554b78d>:1: DeprecationWarning: find_elements_by_* commands are deprecated. Please use find_elements() instead\n",
      "  brand_tags1 = driver.find_elements_by_xpath(\"//h3[@class='product-brand']\")\n"
     ]
    },
    {
     "data": {
      "text/plain": [
       "['Nike',\n",
       " 'Nike',\n",
       " 'Hush Puppies',\n",
       " 'Nike',\n",
       " 'Nike',\n",
       " 'Puma',\n",
       " 'Puma',\n",
       " 'Nike',\n",
       " 'Nike',\n",
       " 'Nike',\n",
       " 'Hush Puppies',\n",
       " 'Saint G',\n",
       " 'Hush Puppies',\n",
       " 'Puma',\n",
       " 'ASICS',\n",
       " 'UNDER ARMOUR',\n",
       " 'PUMA Motorsport',\n",
       " 'ASICS',\n",
       " 'Puma',\n",
       " 'Hush Puppies',\n",
       " 'Cole Haan',\n",
       " 'Bugatti',\n",
       " 'Bugatti',\n",
       " 'Puma',\n",
       " 'Calvin Klein',\n",
       " 'Calvin Klein',\n",
       " 'Puma',\n",
       " 'ASICS',\n",
       " 'Hush Puppies',\n",
       " 'Saint G',\n",
       " 'Puma',\n",
       " 'Puma',\n",
       " 'PUMA Hoops',\n",
       " 'Puma',\n",
       " 'UNDER ARMOUR',\n",
       " 'Geox',\n",
       " 'Puma',\n",
       " 'Tommy Hilfiger',\n",
       " 'Calvin Klein',\n",
       " 'Tommy Hilfiger',\n",
       " 'Pavers England',\n",
       " 'Calvin Klein',\n",
       " 'Puma',\n",
       " 'ASICS',\n",
       " 'Cole Haan',\n",
       " 'J.FONTINI',\n",
       " 'ASICS',\n",
       " 'Tommy Hilfiger',\n",
       " 'J.FONTINI',\n",
       " 'ROSSO BRUNELLO']"
      ]
     },
     "execution_count": 176,
     "metadata": {},
     "output_type": "execute_result"
    }
   ],
   "source": [
    "brand_tags1 = driver.find_elements_by_xpath(\"//h3[@class='product-brand']\")\n",
    "brand_tags1\n",
    "\n",
    "for i in brand_tags1:\n",
    "    b1=i.text\n",
    "    brand1.append(b1)\n",
    "brand1"
   ]
  },
  {
   "cell_type": "code",
   "execution_count": 177,
   "id": "cbea817b",
   "metadata": {},
   "outputs": [
    {
     "name": "stdout",
     "output_type": "stream",
     "text": [
      "50\n"
     ]
    }
   ],
   "source": [
    "print(len(brand1))"
   ]
  },
  {
   "cell_type": "code",
   "execution_count": 178,
   "id": "e397d015",
   "metadata": {},
   "outputs": [
    {
     "name": "stderr",
     "output_type": "stream",
     "text": [
      "<ipython-input-178-c3589adf8ab5>:1: DeprecationWarning: find_elements_by_* commands are deprecated. Please use find_elements() instead\n",
      "  desc_tags1= driver.find_elements_by_xpath(\"//h4[@class='product-product']\")\n"
     ]
    },
    {
     "data": {
      "text/plain": [
       "['LEBRON WITNESS Basketball Shoe',\n",
       " 'AIR ZOOM PEGASUS Running Shoes',\n",
       " 'Men Solid Leather Formal Slip-Ons',\n",
       " 'Men Zoom Span 4 Running Shoes',\n",
       " 'Air Zoom Pegasus 38 Shield Run',\n",
       " 'Men Deviate Nitro Running Shoe',\n",
       " 'Men Velocity Nitro Running',\n",
       " 'Men FLIGHT LEGACY Sneakers',\n",
       " \"Men BlazerLow '77 Sneakers\",\n",
       " 'Men AIR PRESTO Sneakers',\n",
       " 'Men Formal Derbys',\n",
       " 'Men Mid-Top Chelsea Boots',\n",
       " 'Men Solid Leather Formal Slip-Ons',\n",
       " 'Unisex Mirage Remix Sneakers',\n",
       " 'Men Colourblocked PU Sneakers',\n",
       " 'Women Charged Bandit 6 Running',\n",
       " 'Unisex Ferrari Wild Rider Shoe',\n",
       " 'Men Running Shoes',\n",
       " 'Men Liberate NITRO Running',\n",
       " 'Men Solid Leather Formal Derbys',\n",
       " 'Men Wingtip Oxford Sneakers',\n",
       " 'Men Black Walking Shoes',\n",
       " 'Men Walking Shoes',\n",
       " 'Men Running Shoes',\n",
       " 'Men Solid Low Top LTH Sneakers',\n",
       " 'Men UV MONO Leather Sneakers',\n",
       " 'Unisex Leather Trainers',\n",
       " 'Men Black Running Sports Shoes',\n",
       " 'Men Leather Slip-On Sneakers',\n",
       " 'Women Leather Heeled Boots',\n",
       " 'Men Football Shoes',\n",
       " 'Women Liberate NITRO Running',\n",
       " 'Unisex Clyde All-Pro Team',\n",
       " 'Women Magnify Nitro Shoes',\n",
       " 'Women Charged Vantage ClrShft',\n",
       " 'Men Leather Flat Boots',\n",
       " 'Women Velocity NITRO Runners',\n",
       " 'Women Leather Block Pumps',\n",
       " 'Men Mid-Top Runner Sneakers',\n",
       " 'Women Leather Pumps',\n",
       " 'Men Textured Leather Formal Derbys',\n",
       " 'Men Solid Leather Sneakers',\n",
       " 'FIRST MILE Forever XT Utility',\n",
       " 'Women NOVABLAST Road Running',\n",
       " 'Men GENERATION ZEROGRAND STITCHLITE',\n",
       " 'Men Black Leather Loafers',\n",
       " 'Skycourt Sneakers',\n",
       " 'Men Lightweight Sneakers',\n",
       " 'Men Textured Leather Loafers',\n",
       " 'Men Solid Leather Formal Monk Shoes']"
      ]
     },
     "execution_count": 178,
     "metadata": {},
     "output_type": "execute_result"
    }
   ],
   "source": [
    "desc_tags1= driver.find_elements_by_xpath(\"//h4[@class='product-product']\")\n",
    "desc_tags1\n",
    "\n",
    "for i in desc_tags1:\n",
    "    des1=i.text\n",
    "    shoe_desc1.append(des1)\n",
    "shoe_desc1"
   ]
  },
  {
   "cell_type": "code",
   "execution_count": 179,
   "id": "204100c8",
   "metadata": {},
   "outputs": [
    {
     "name": "stderr",
     "output_type": "stream",
     "text": [
      "<ipython-input-179-a44ca1c9df32>:1: DeprecationWarning: find_elements_by_* commands are deprecated. Please use find_elements() instead\n",
      "  shoeprice_tags1 = driver.find_elements_by_xpath(\"//div[@class='product-price']\")\n"
     ]
    },
    {
     "data": {
      "text/plain": [
       "['Rs. 8295',\n",
       " 'Rs. 9995',\n",
       " 'Rs. 8099Rs. 8999(10% OFF)',\n",
       " 'Rs. 7195',\n",
       " 'Rs. 11495',\n",
       " 'Rs. 12749Rs. 14999(15% OFF)',\n",
       " 'Rs. 9349Rs. 10999(15% OFF)',\n",
       " 'Rs. 7995',\n",
       " 'Rs. 7195',\n",
       " 'Rs. 11495',\n",
       " 'Rs. 8999Rs. 9999(10% OFF)',\n",
       " 'Rs. 10900',\n",
       " 'Rs. 8999Rs. 9999(10% OFF)',\n",
       " 'Rs. 7649Rs. 8999(15% OFF)',\n",
       " 'Rs. 9999',\n",
       " 'Rs. 8999',\n",
       " 'Rs. 7149Rs. 10999(35% OFF)',\n",
       " 'Rs. 7999',\n",
       " 'Rs. 8499Rs. 9999(15% OFF)',\n",
       " 'Rs. 8999Rs. 9999(10% OFF)',\n",
       " 'Rs. 10399Rs. 12999(20% OFF)',\n",
       " 'Rs. 8999',\n",
       " 'Rs. 8999',\n",
       " 'Rs. 9749Rs. 12999(25% OFF)',\n",
       " 'Rs. 8999',\n",
       " 'Rs. 8999',\n",
       " 'Rs. 8499Rs. 9999(15% OFF)',\n",
       " 'Rs. 7999',\n",
       " 'Rs. 7999Rs. 9999(20% OFF)',\n",
       " 'Rs. 13900',\n",
       " 'Rs. 11899Rs. 16999(30% OFF)',\n",
       " 'Rs. 8499Rs. 9999(15% OFF)',\n",
       " 'Rs. 8999',\n",
       " 'Rs. 10399Rs. 12999(20% OFF)',\n",
       " 'Rs. 7999',\n",
       " 'Rs. 11999',\n",
       " 'Rs. 9349Rs. 10999(15% OFF)',\n",
       " 'Rs. 7999',\n",
       " 'Rs. 10999',\n",
       " 'Rs. 7999',\n",
       " 'Rs. 7199Rs. 8999(20% OFF)',\n",
       " 'Rs. 9999',\n",
       " 'Rs. 7199Rs. 8999(20% OFF)',\n",
       " 'Rs. 10399Rs. 12999(20% OFF)',\n",
       " 'Rs. 9599Rs. 11999(20% OFF)',\n",
       " 'Rs. 8490',\n",
       " 'Rs. 7999',\n",
       " 'Rs. 7999',\n",
       " 'Rs. 7990',\n",
       " 'Rs. 12999']"
      ]
     },
     "execution_count": 179,
     "metadata": {},
     "output_type": "execute_result"
    }
   ],
   "source": [
    "shoeprice_tags1 = driver.find_elements_by_xpath(\"//div[@class='product-price']\")\n",
    "shoeprice_tags1\n",
    "\n",
    "for i in shoeprice_tags1:\n",
    "    sp1=i.text\n",
    "    price_shoe1.append(sp1)\n",
    "price_shoe1"
   ]
  },
  {
   "cell_type": "code",
   "execution_count": 180,
   "id": "383cb113",
   "metadata": {},
   "outputs": [],
   "source": [
    "price_shoe2 = price_shoe + price_shoe1\n",
    "brand2 = brand + brand1\n",
    "shoe_desc2 = shoe_desc + shoe_desc1"
   ]
  },
  {
   "cell_type": "code",
   "execution_count": 181,
   "id": "a5c80dce",
   "metadata": {},
   "outputs": [
    {
     "name": "stdout",
     "output_type": "stream",
     "text": [
      "100 100 100\n"
     ]
    }
   ],
   "source": [
    "print(len(brand2),len(shoe_desc2),len(price_shoe2))"
   ]
  },
  {
   "cell_type": "code",
   "execution_count": 182,
   "id": "fb383040",
   "metadata": {},
   "outputs": [
    {
     "data": {
      "text/html": [
       "<div>\n",
       "<style scoped>\n",
       "    .dataframe tbody tr th:only-of-type {\n",
       "        vertical-align: middle;\n",
       "    }\n",
       "\n",
       "    .dataframe tbody tr th {\n",
       "        vertical-align: top;\n",
       "    }\n",
       "\n",
       "    .dataframe thead th {\n",
       "        text-align: right;\n",
       "    }\n",
       "</style>\n",
       "<table border=\"1\" class=\"dataframe\">\n",
       "  <thead>\n",
       "    <tr style=\"text-align: right;\">\n",
       "      <th></th>\n",
       "      <th>brand_name</th>\n",
       "      <th>description</th>\n",
       "      <th>price</th>\n",
       "    </tr>\n",
       "  </thead>\n",
       "  <tbody>\n",
       "    <tr>\n",
       "      <th>0</th>\n",
       "      <td>Nike</td>\n",
       "      <td>LEBRON WITNESS Basketball Shoe</td>\n",
       "      <td>Rs. 8295</td>\n",
       "    </tr>\n",
       "    <tr>\n",
       "      <th>1</th>\n",
       "      <td>Nike</td>\n",
       "      <td>AIR ZOOM PEGASUS Running Shoes</td>\n",
       "      <td>Rs. 9995</td>\n",
       "    </tr>\n",
       "    <tr>\n",
       "      <th>2</th>\n",
       "      <td>Hush Puppies</td>\n",
       "      <td>Men Solid Leather Formal Slip-Ons</td>\n",
       "      <td>Rs. 8099Rs. 8999(10% OFF)</td>\n",
       "    </tr>\n",
       "    <tr>\n",
       "      <th>3</th>\n",
       "      <td>Nike</td>\n",
       "      <td>Men Zoom Span 4 Running Shoes</td>\n",
       "      <td>Rs. 7195</td>\n",
       "    </tr>\n",
       "    <tr>\n",
       "      <th>4</th>\n",
       "      <td>Nike</td>\n",
       "      <td>Air Zoom Pegasus 38 Shield Run</td>\n",
       "      <td>Rs. 11495</td>\n",
       "    </tr>\n",
       "    <tr>\n",
       "      <th>...</th>\n",
       "      <td>...</td>\n",
       "      <td>...</td>\n",
       "      <td>...</td>\n",
       "    </tr>\n",
       "    <tr>\n",
       "      <th>95</th>\n",
       "      <td>J.FONTINI</td>\n",
       "      <td>Men Black Leather Loafers</td>\n",
       "      <td>Rs. 8490</td>\n",
       "    </tr>\n",
       "    <tr>\n",
       "      <th>96</th>\n",
       "      <td>ASICS</td>\n",
       "      <td>Skycourt Sneakers</td>\n",
       "      <td>Rs. 7999</td>\n",
       "    </tr>\n",
       "    <tr>\n",
       "      <th>97</th>\n",
       "      <td>Tommy Hilfiger</td>\n",
       "      <td>Men Lightweight Sneakers</td>\n",
       "      <td>Rs. 7999</td>\n",
       "    </tr>\n",
       "    <tr>\n",
       "      <th>98</th>\n",
       "      <td>J.FONTINI</td>\n",
       "      <td>Men Textured Leather Loafers</td>\n",
       "      <td>Rs. 7990</td>\n",
       "    </tr>\n",
       "    <tr>\n",
       "      <th>99</th>\n",
       "      <td>ROSSO BRUNELLO</td>\n",
       "      <td>Men Solid Leather Formal Monk Shoes</td>\n",
       "      <td>Rs. 12999</td>\n",
       "    </tr>\n",
       "  </tbody>\n",
       "</table>\n",
       "<p>100 rows × 3 columns</p>\n",
       "</div>"
      ],
      "text/plain": [
       "        brand_name                          description  \\\n",
       "0             Nike       LEBRON WITNESS Basketball Shoe   \n",
       "1             Nike       AIR ZOOM PEGASUS Running Shoes   \n",
       "2     Hush Puppies    Men Solid Leather Formal Slip-Ons   \n",
       "3             Nike        Men Zoom Span 4 Running Shoes   \n",
       "4             Nike       Air Zoom Pegasus 38 Shield Run   \n",
       "..             ...                                  ...   \n",
       "95       J.FONTINI            Men Black Leather Loafers   \n",
       "96           ASICS                    Skycourt Sneakers   \n",
       "97  Tommy Hilfiger             Men Lightweight Sneakers   \n",
       "98       J.FONTINI         Men Textured Leather Loafers   \n",
       "99  ROSSO BRUNELLO  Men Solid Leather Formal Monk Shoes   \n",
       "\n",
       "                        price  \n",
       "0                    Rs. 8295  \n",
       "1                    Rs. 9995  \n",
       "2   Rs. 8099Rs. 8999(10% OFF)  \n",
       "3                    Rs. 7195  \n",
       "4                   Rs. 11495  \n",
       "..                        ...  \n",
       "95                   Rs. 8490  \n",
       "96                   Rs. 7999  \n",
       "97                   Rs. 7999  \n",
       "98                   Rs. 7990  \n",
       "99                  Rs. 12999  \n",
       "\n",
       "[100 rows x 3 columns]"
      ]
     },
     "execution_count": 182,
     "metadata": {},
     "output_type": "execute_result"
    }
   ],
   "source": [
    "z=pd.DataFrame({'brand_name':brand2,'description':shoe_desc2,'price':price_shoe2})\n",
    "z"
   ]
  },
  {
   "cell_type": "code",
   "execution_count": null,
   "id": "35b7ed36",
   "metadata": {},
   "outputs": [],
   "source": [
    "#Q8: Go to webpage https://www.amazon.in/\n",
    "#Enter “Laptop” in the search field and then click the search icon.\n",
    "#Then set CPU Type filter to “Intel Core i7” and “Intel Core i9” as shown in the below image:\n",
    "#After setting the filters scrape first 10 laptops data. You have to scrape 3 attributes for each laptop:\n",
    "#1. Title\n",
    "#2. Ratings\n",
    "#3. Price"
   ]
  },
  {
   "cell_type": "code",
   "execution_count": 468,
   "id": "810a8d25",
   "metadata": {},
   "outputs": [
    {
     "name": "stderr",
     "output_type": "stream",
     "text": [
      "<ipython-input-468-b2e19ad7540e>:1: DeprecationWarning: executable_path has been deprecated, please pass in a Service object\n",
      "  driver = webdriver.Chrome(r\"C:\\Users\\sushr\\OneDrive\\Desktop\\chromedriver\\chromedriver.exe\")\n"
     ]
    }
   ],
   "source": [
    "driver = webdriver.Chrome(r\"C:\\Users\\sushr\\OneDrive\\Desktop\\chromedriver\\chromedriver.exe\")\n",
    "driver.get('https://www.amazon.in/')"
   ]
  },
  {
   "cell_type": "code",
   "execution_count": 469,
   "id": "06b94d37",
   "metadata": {},
   "outputs": [
    {
     "name": "stderr",
     "output_type": "stream",
     "text": [
      "<ipython-input-469-c0c167fcc582>:1: DeprecationWarning: find_element_by_* commands are deprecated. Please use find_element() instead\n",
      "  search_laptop = driver.find_element_by_xpath(\"//input[@class='nav-input nav-progressive-attribute']\")\n"
     ]
    }
   ],
   "source": [
    "search_laptop = driver.find_element_by_xpath(\"//input[@class='nav-input nav-progressive-attribute']\")\n",
    "search_laptop.send_keys('laptop')"
   ]
  },
  {
   "cell_type": "code",
   "execution_count": 470,
   "id": "3a83daea",
   "metadata": {},
   "outputs": [
    {
     "name": "stderr",
     "output_type": "stream",
     "text": [
      "<ipython-input-470-f6f6c4424c5f>:1: DeprecationWarning: find_element_by_* commands are deprecated. Please use find_element() instead\n",
      "  selectbtn = driver.find_element_by_xpath(\"//input[@id='nav-search-submit-button']\").click()\n"
     ]
    }
   ],
   "source": [
    "selectbtn = driver.find_element_by_xpath(\"//input[@id='nav-search-submit-button']\").click()"
   ]
  },
  {
   "cell_type": "code",
   "execution_count": 471,
   "id": "ddfea9a9",
   "metadata": {},
   "outputs": [
    {
     "name": "stderr",
     "output_type": "stream",
     "text": [
      "<ipython-input-471-ab0ef8389c0e>:1: DeprecationWarning: find_element_by_* commands are deprecated. Please use find_element() instead\n",
      "  i7filter = driver.find_element_by_xpath(\"/html/body/div[1]/div[2]/div[1]/div[2]/div/div[3]/span/div[1]/span/div/div/div[5]/ul[1]/li[12]/span/a/span\").click()\n"
     ]
    }
   ],
   "source": [
    "i7filter = driver.find_element_by_xpath(\"/html/body/div[1]/div[2]/div[1]/div[2]/div/div[3]/span/div[1]/span/div/div/div[5]/ul[1]/li[12]/span/a/span\").click()"
   ]
  },
  {
   "cell_type": "code",
   "execution_count": 472,
   "id": "e8b8c41c",
   "metadata": {
    "scrolled": true
   },
   "outputs": [
    {
     "name": "stderr",
     "output_type": "stream",
     "text": [
      "<ipython-input-472-985a8cd6a426>:1: DeprecationWarning: find_element_by_* commands are deprecated. Please use find_element() instead\n",
      "  ifilter = driver.find_element_by_xpath(\"/html/body/div[1]/div[2]/div[1]/div[2]/div/div[3]/span/div[1]/span/div/div/div[5]/ul[1]/li[2]/span/a/span\").click()\n"
     ]
    }
   ],
   "source": [
    "ifilter = driver.find_element_by_xpath(\"/html/body/div[1]/div[2]/div[1]/div[2]/div/div[3]/span/div[1]/span/div/div/div[5]/ul[1]/li[2]/span/a/span\").click()"
   ]
  },
  {
   "cell_type": "code",
   "execution_count": 473,
   "id": "7f56d005",
   "metadata": {},
   "outputs": [
    {
     "name": "stderr",
     "output_type": "stream",
     "text": [
      "<ipython-input-473-68fbf0f5a7e5>:5: DeprecationWarning: find_elements_by_* commands are deprecated. Please use find_elements() instead\n",
      "  lt_tags = driver.find_elements_by_xpath(\"//h2[@class='a-size-mini a-spacing-none a-color-base s-line-clamp-2']\")\n"
     ]
    },
    {
     "data": {
      "text/plain": [
       "['LG Gram 17 Ultra-Light Intel Evo 11th Gen Core i7,16 GB RAM, 512 GB SSD, Win-10, Iris Xe Graphics, 17-inches (43.18 cms), Thunderbolt 4, USC -C x 2 (with Power), 1.35 kg, 3 Yr Warranty (17Z90P, Black)',\n",
       " 'LG Gram 14 Ultralight Intel Evo 11th Gen Core i7,16 GB RAM, 512 GB SSD, Win-10, Iris Xe Graphics, 14-inches (35.56 cms), Thunderbolt 4, USC -Cx2 (with Power), 999 Grams, 3 Yr Warranty (14Z90P, Black)',\n",
       " 'HP 14 11th Gen Intel Core i5 Processor 14 inches HD Laptop, 8GB/512GB SSD/Windows 10/MS Office (Natural Silver/1.46Kg), 14s-dq2535TU',\n",
       " '(Renewed) Dell Latitude Intel 4th Gen Core i5 14-Inch (35.56 cms) 1366x768 Laptop (4 GB/120 GB SSD/Windows 10/Integrated Graphics/Gray/2 kg), E5440-i5-4 GB-120 GB',\n",
       " 'HP 15 11th Gen Intel Core i5 Processor 39.62 cm (15.6-inch) FHD Laptop (8GB/512GB SSD +32GB Intel Optane/Win 10/MS Office/Jet Black/1.69 Kg), 15s-fq2071TU',\n",
       " 'ASUS TUF Gaming F17 (2021), 17.3-inch (43.94 cms) FHD 144Hz, Intel Core i7-11800H 11th Gen, GeForce RTX 3050 Ti 4GB Graphics, Gaming Laptop (16GB/1TB SSD/Windows 10/Eclipse Gray/2.6 Kg) FX766HE-HX022T',\n",
       " 'Acer Nitro 5 11th Gen Intel Core i7-11800H 15.6\" (39.62cms) Full HD Gaming Laptop (16 GB/256GB SSD/1 TB HDD/Win 10/RTX 3050 Ti 4GB Graphics/144 Hz, Black, 2.4 kg/RGB Backlit Keyboard) AN515-57',\n",
       " 'Lenovo IdeaPad Slim 3 10th Gen Intel Core i5 15.6\" (39.62cm) FHD IPS Thin & Light Laptop (8GB/512GB SSD/Windows 10/MS Office/2 Yr Warranty/Platinum Grey/1.7Kg), 81WB013AIN',\n",
       " 'Lenovo IdeaPad Slim 5 11th Gen Intel Core i5 15.6\" (39.62cm) FHD IPS Thin & Light Laptop (16GB/512GB SSD/Windows 10/Office/300Nits/Backlit Keyboard/Fingerprint Reader/Graphite Grey/1.66Kg), 82FG013WIN',\n",
       " 'Lenovo IdeaPad Slim 3 2021 11th Gen Intel Core i5 15.6\" (39.62cm) FHD Thin & Light Laptop (8GB/256GB SSD/Windows 10/MS Office/Backlit Keyboard/2 Year Warranty/Arctic Grey/1.65Kg), 82H80156IN']"
      ]
     },
     "execution_count": 473,
     "metadata": {},
     "output_type": "execute_result"
    }
   ],
   "source": [
    "laptop_title=[]\n",
    "laptop_ratings=[]\n",
    "laptop_price=[]\n",
    "\n",
    "lt_tags = driver.find_elements_by_xpath(\"//h2[@class='a-size-mini a-spacing-none a-color-base s-line-clamp-2']\")\n",
    "lt_tags[0:10]\n",
    "\n",
    "for i in lt_tags:\n",
    "    lt=i.text\n",
    "    laptop_title.append(lt)\n",
    "laptop_title[0:10]"
   ]
  },
  {
   "cell_type": "code",
   "execution_count": 474,
   "id": "1f80257c",
   "metadata": {},
   "outputs": [
    {
     "name": "stderr",
     "output_type": "stream",
     "text": [
      "<ipython-input-474-1f6d3d173c85>:1: DeprecationWarning: find_elements_by_* commands are deprecated. Please use find_elements() instead\n",
      "  l_rating_tags = driver.find_elements_by_xpath(\"//div[@class='a-row a-size-small']/i[0]\")\n"
     ]
    },
    {
     "ename": "WebDriverException",
     "evalue": "Message: chrome not reachable\n  (Session info: chrome=95.0.4638.69)\nStacktrace:\nBacktrace:\n\tOrdinal0 [0x00C106F3+2492147]\n\tOrdinal0 [0x00BA9BD1+2071505]\n\tOrdinal0 [0x00AB2340+1057600]\n\tOrdinal0 [0x00AA7474+1012852]\n\tOrdinal0 [0x00AA7C76+1014902]\n\tOrdinal0 [0x00AA9345+1020741]\n\tOrdinal0 [0x00AA3453+996435]\n\tOrdinal0 [0x00AB3690+1062544]\n\tOrdinal0 [0x00B046D2+1394386]\n\tOrdinal0 [0x00AF568B+1332875]\n\tOrdinal0 [0x00AD21D4+1188308]\n\tOrdinal0 [0x00AD302F+1191983]\n\tGetHandleVerifier [0x00D967A6+1545030]\n\tGetHandleVerifier [0x00E4105C+2243580]\n\tGetHandleVerifier [0x00C9BC97+518199]\n\tGetHandleVerifier [0x00C9AD80+514336]\n\tOrdinal0 [0x00BAED2D+2092333]\n\tOrdinal0 [0x00BB2EE8+2109160]\n\tOrdinal0 [0x00BB3022+2109474]\n\tOrdinal0 [0x00BBCB71+2149233]\n\tBaseThreadInitThunk [0x76E2FA29+25]\n\tRtlGetAppContainerNamedObjectPath [0x77AF7A9E+286]\n\tRtlGetAppContainerNamedObjectPath [0x77AF7A6E+238]\n",
     "output_type": "error",
     "traceback": [
      "\u001b[1;31m---------------------------------------------------------------------------\u001b[0m",
      "\u001b[1;31mWebDriverException\u001b[0m                        Traceback (most recent call last)",
      "\u001b[1;32m<ipython-input-474-1f6d3d173c85>\u001b[0m in \u001b[0;36m<module>\u001b[1;34m\u001b[0m\n\u001b[0;32m      3\u001b[0m \u001b[1;33m\u001b[0m\u001b[0m\n\u001b[0;32m      4\u001b[0m \u001b[1;32mfor\u001b[0m \u001b[0mi\u001b[0m \u001b[1;32min\u001b[0m \u001b[0ml_rat_tags\u001b[0m\u001b[1;33m:\u001b[0m\u001b[1;33m\u001b[0m\u001b[1;33m\u001b[0m\u001b[0m\n\u001b[1;32m----> 5\u001b[1;33m     \u001b[0mlrat\u001b[0m\u001b[1;33m=\u001b[0m\u001b[0mi\u001b[0m\u001b[1;33m.\u001b[0m\u001b[0mtext\u001b[0m\u001b[1;33m\u001b[0m\u001b[1;33m\u001b[0m\u001b[0m\n\u001b[0m\u001b[0;32m      6\u001b[0m     \u001b[0mlaptop_ratings\u001b[0m\u001b[1;33m.\u001b[0m\u001b[0mappend\u001b[0m\u001b[1;33m(\u001b[0m\u001b[0mlrat\u001b[0m\u001b[1;33m)\u001b[0m\u001b[1;33m\u001b[0m\u001b[1;33m\u001b[0m\u001b[0m\n\u001b[0;32m      7\u001b[0m \u001b[0mlaptop_ratings\u001b[0m\u001b[1;33m[\u001b[0m\u001b[1;36m0\u001b[0m\u001b[1;33m:\u001b[0m\u001b[1;36m10\u001b[0m\u001b[1;33m]\u001b[0m\u001b[1;33m\u001b[0m\u001b[1;33m\u001b[0m\u001b[0m\n",
      "\u001b[1;32m~\\anaconda3\\lib\\site-packages\\selenium\\webdriver\\remote\\webelement.py\u001b[0m in \u001b[0;36mtext\u001b[1;34m(self)\u001b[0m\n\u001b[0;32m     74\u001b[0m     \u001b[1;32mdef\u001b[0m \u001b[0mtext\u001b[0m\u001b[1;33m(\u001b[0m\u001b[0mself\u001b[0m\u001b[1;33m)\u001b[0m \u001b[1;33m->\u001b[0m \u001b[0mstr\u001b[0m\u001b[1;33m:\u001b[0m\u001b[1;33m\u001b[0m\u001b[1;33m\u001b[0m\u001b[0m\n\u001b[0;32m     75\u001b[0m         \u001b[1;34m\"\"\"The text of the element.\"\"\"\u001b[0m\u001b[1;33m\u001b[0m\u001b[1;33m\u001b[0m\u001b[0m\n\u001b[1;32m---> 76\u001b[1;33m         \u001b[1;32mreturn\u001b[0m \u001b[0mself\u001b[0m\u001b[1;33m.\u001b[0m\u001b[0m_execute\u001b[0m\u001b[1;33m(\u001b[0m\u001b[0mCommand\u001b[0m\u001b[1;33m.\u001b[0m\u001b[0mGET_ELEMENT_TEXT\u001b[0m\u001b[1;33m)\u001b[0m\u001b[1;33m[\u001b[0m\u001b[1;34m'value'\u001b[0m\u001b[1;33m]\u001b[0m\u001b[1;33m\u001b[0m\u001b[1;33m\u001b[0m\u001b[0m\n\u001b[0m\u001b[0;32m     77\u001b[0m \u001b[1;33m\u001b[0m\u001b[0m\n\u001b[0;32m     78\u001b[0m     \u001b[1;32mdef\u001b[0m \u001b[0mclick\u001b[0m\u001b[1;33m(\u001b[0m\u001b[0mself\u001b[0m\u001b[1;33m)\u001b[0m \u001b[1;33m->\u001b[0m \u001b[1;32mNone\u001b[0m\u001b[1;33m:\u001b[0m\u001b[1;33m\u001b[0m\u001b[1;33m\u001b[0m\u001b[0m\n",
      "\u001b[1;32m~\\anaconda3\\lib\\site-packages\\selenium\\webdriver\\remote\\webelement.py\u001b[0m in \u001b[0;36m_execute\u001b[1;34m(self, command, params)\u001b[0m\n\u001b[0;32m    691\u001b[0m             \u001b[0mparams\u001b[0m \u001b[1;33m=\u001b[0m \u001b[1;33m{\u001b[0m\u001b[1;33m}\u001b[0m\u001b[1;33m\u001b[0m\u001b[1;33m\u001b[0m\u001b[0m\n\u001b[0;32m    692\u001b[0m         \u001b[0mparams\u001b[0m\u001b[1;33m[\u001b[0m\u001b[1;34m'id'\u001b[0m\u001b[1;33m]\u001b[0m \u001b[1;33m=\u001b[0m \u001b[0mself\u001b[0m\u001b[1;33m.\u001b[0m\u001b[0m_id\u001b[0m\u001b[1;33m\u001b[0m\u001b[1;33m\u001b[0m\u001b[0m\n\u001b[1;32m--> 693\u001b[1;33m         \u001b[1;32mreturn\u001b[0m \u001b[0mself\u001b[0m\u001b[1;33m.\u001b[0m\u001b[0m_parent\u001b[0m\u001b[1;33m.\u001b[0m\u001b[0mexecute\u001b[0m\u001b[1;33m(\u001b[0m\u001b[0mcommand\u001b[0m\u001b[1;33m,\u001b[0m \u001b[0mparams\u001b[0m\u001b[1;33m)\u001b[0m\u001b[1;33m\u001b[0m\u001b[1;33m\u001b[0m\u001b[0m\n\u001b[0m\u001b[0;32m    694\u001b[0m \u001b[1;33m\u001b[0m\u001b[0m\n\u001b[0;32m    695\u001b[0m     \u001b[1;32mdef\u001b[0m \u001b[0mfind_element\u001b[0m\u001b[1;33m(\u001b[0m\u001b[0mself\u001b[0m\u001b[1;33m,\u001b[0m \u001b[0mby\u001b[0m\u001b[1;33m=\u001b[0m\u001b[0mBy\u001b[0m\u001b[1;33m.\u001b[0m\u001b[0mID\u001b[0m\u001b[1;33m,\u001b[0m \u001b[0mvalue\u001b[0m\u001b[1;33m=\u001b[0m\u001b[1;32mNone\u001b[0m\u001b[1;33m)\u001b[0m\u001b[1;33m:\u001b[0m\u001b[1;33m\u001b[0m\u001b[1;33m\u001b[0m\u001b[0m\n",
      "\u001b[1;32m~\\anaconda3\\lib\\site-packages\\selenium\\webdriver\\remote\\webdriver.py\u001b[0m in \u001b[0;36mexecute\u001b[1;34m(self, driver_command, params)\u001b[0m\n\u001b[0;32m    416\u001b[0m         \u001b[0mresponse\u001b[0m \u001b[1;33m=\u001b[0m \u001b[0mself\u001b[0m\u001b[1;33m.\u001b[0m\u001b[0mcommand_executor\u001b[0m\u001b[1;33m.\u001b[0m\u001b[0mexecute\u001b[0m\u001b[1;33m(\u001b[0m\u001b[0mdriver_command\u001b[0m\u001b[1;33m,\u001b[0m \u001b[0mparams\u001b[0m\u001b[1;33m)\u001b[0m\u001b[1;33m\u001b[0m\u001b[1;33m\u001b[0m\u001b[0m\n\u001b[0;32m    417\u001b[0m         \u001b[1;32mif\u001b[0m \u001b[0mresponse\u001b[0m\u001b[1;33m:\u001b[0m\u001b[1;33m\u001b[0m\u001b[1;33m\u001b[0m\u001b[0m\n\u001b[1;32m--> 418\u001b[1;33m             \u001b[0mself\u001b[0m\u001b[1;33m.\u001b[0m\u001b[0merror_handler\u001b[0m\u001b[1;33m.\u001b[0m\u001b[0mcheck_response\u001b[0m\u001b[1;33m(\u001b[0m\u001b[0mresponse\u001b[0m\u001b[1;33m)\u001b[0m\u001b[1;33m\u001b[0m\u001b[1;33m\u001b[0m\u001b[0m\n\u001b[0m\u001b[0;32m    419\u001b[0m             response['value'] = self._unwrap_value(\n\u001b[0;32m    420\u001b[0m                 response.get('value', None))\n",
      "\u001b[1;32m~\\anaconda3\\lib\\site-packages\\selenium\\webdriver\\remote\\errorhandler.py\u001b[0m in \u001b[0;36mcheck_response\u001b[1;34m(self, response)\u001b[0m\n\u001b[0;32m    241\u001b[0m                 \u001b[0malert_text\u001b[0m \u001b[1;33m=\u001b[0m \u001b[0mvalue\u001b[0m\u001b[1;33m[\u001b[0m\u001b[1;34m'alert'\u001b[0m\u001b[1;33m]\u001b[0m\u001b[1;33m.\u001b[0m\u001b[0mget\u001b[0m\u001b[1;33m(\u001b[0m\u001b[1;34m'text'\u001b[0m\u001b[1;33m)\u001b[0m\u001b[1;33m\u001b[0m\u001b[1;33m\u001b[0m\u001b[0m\n\u001b[0;32m    242\u001b[0m             \u001b[1;32mraise\u001b[0m \u001b[0mexception_class\u001b[0m\u001b[1;33m(\u001b[0m\u001b[0mmessage\u001b[0m\u001b[1;33m,\u001b[0m \u001b[0mscreen\u001b[0m\u001b[1;33m,\u001b[0m \u001b[0mstacktrace\u001b[0m\u001b[1;33m,\u001b[0m \u001b[0malert_text\u001b[0m\u001b[1;33m)\u001b[0m  \u001b[1;31m# type: ignore[call-arg]  # mypy is not smart enough here\u001b[0m\u001b[1;33m\u001b[0m\u001b[1;33m\u001b[0m\u001b[0m\n\u001b[1;32m--> 243\u001b[1;33m         \u001b[1;32mraise\u001b[0m \u001b[0mexception_class\u001b[0m\u001b[1;33m(\u001b[0m\u001b[0mmessage\u001b[0m\u001b[1;33m,\u001b[0m \u001b[0mscreen\u001b[0m\u001b[1;33m,\u001b[0m \u001b[0mstacktrace\u001b[0m\u001b[1;33m)\u001b[0m\u001b[1;33m\u001b[0m\u001b[1;33m\u001b[0m\u001b[0m\n\u001b[0m\u001b[0;32m    244\u001b[0m \u001b[1;33m\u001b[0m\u001b[0m\n\u001b[0;32m    245\u001b[0m     \u001b[1;32mdef\u001b[0m \u001b[0m_value_or_default\u001b[0m\u001b[1;33m(\u001b[0m\u001b[0mself\u001b[0m\u001b[1;33m,\u001b[0m \u001b[0mobj\u001b[0m\u001b[1;33m:\u001b[0m \u001b[0mMapping\u001b[0m\u001b[1;33m[\u001b[0m\u001b[0m_KT\u001b[0m\u001b[1;33m,\u001b[0m \u001b[0m_VT\u001b[0m\u001b[1;33m]\u001b[0m\u001b[1;33m,\u001b[0m \u001b[0mkey\u001b[0m\u001b[1;33m:\u001b[0m \u001b[0m_KT\u001b[0m\u001b[1;33m,\u001b[0m \u001b[0mdefault\u001b[0m\u001b[1;33m:\u001b[0m \u001b[0m_VT\u001b[0m\u001b[1;33m)\u001b[0m \u001b[1;33m->\u001b[0m \u001b[0m_VT\u001b[0m\u001b[1;33m:\u001b[0m\u001b[1;33m\u001b[0m\u001b[1;33m\u001b[0m\u001b[0m\n",
      "\u001b[1;31mWebDriverException\u001b[0m: Message: chrome not reachable\n  (Session info: chrome=95.0.4638.69)\nStacktrace:\nBacktrace:\n\tOrdinal0 [0x00C106F3+2492147]\n\tOrdinal0 [0x00BA9BD1+2071505]\n\tOrdinal0 [0x00AB2340+1057600]\n\tOrdinal0 [0x00AA7474+1012852]\n\tOrdinal0 [0x00AA7C76+1014902]\n\tOrdinal0 [0x00AA9345+1020741]\n\tOrdinal0 [0x00AA3453+996435]\n\tOrdinal0 [0x00AB3690+1062544]\n\tOrdinal0 [0x00B046D2+1394386]\n\tOrdinal0 [0x00AF568B+1332875]\n\tOrdinal0 [0x00AD21D4+1188308]\n\tOrdinal0 [0x00AD302F+1191983]\n\tGetHandleVerifier [0x00D967A6+1545030]\n\tGetHandleVerifier [0x00E4105C+2243580]\n\tGetHandleVerifier [0x00C9BC97+518199]\n\tGetHandleVerifier [0x00C9AD80+514336]\n\tOrdinal0 [0x00BAED2D+2092333]\n\tOrdinal0 [0x00BB2EE8+2109160]\n\tOrdinal0 [0x00BB3022+2109474]\n\tOrdinal0 [0x00BBCB71+2149233]\n\tBaseThreadInitThunk [0x76E2FA29+25]\n\tRtlGetAppContainerNamedObjectPath [0x77AF7A9E+286]\n\tRtlGetAppContainerNamedObjectPath [0x77AF7A6E+238]\n"
     ]
    }
   ],
   "source": [
    "l_rating_tags = driver.find_elements_by_xpath(\"//div[@class='a-row a-size-small']/i[0]\")\n",
    "l_rating_tags[0:10]\n",
    "\n",
    "for i in l_rat_tags:\n",
    "    lrat=i.text\n",
    "    laptop_ratings.append(lrat)\n",
    "laptop_ratings[0:10]"
   ]
  },
  {
   "cell_type": "code",
   "execution_count": 475,
   "id": "57c6e96d",
   "metadata": {},
   "outputs": [
    {
     "name": "stderr",
     "output_type": "stream",
     "text": [
      "<ipython-input-475-1f395b4c50ab>:1: DeprecationWarning: find_elements_by_* commands are deprecated. Please use find_elements() instead\n",
      "  lap_p_tags=driver.find_elements_by_xpath(\"//span[@class='a-price-symbol']\")\n"
     ]
    },
    {
     "data": {
      "text/plain": [
       "['₹', '₹', '₹', '₹', '₹', '₹', '₹', '₹', '₹', '₹']"
      ]
     },
     "execution_count": 475,
     "metadata": {},
     "output_type": "execute_result"
    }
   ],
   "source": [
    "lap_p_tags=driver.find_elements_by_xpath(\"//span[@class='a-price-symbol']\")\n",
    "lap_p_tags[0:10]\n",
    "\n",
    "for i in lap_p_tags:\n",
    "    lapp=i.text\n",
    "    laptop_price.append(lapp)\n",
    "laptop_price[0:10]"
   ]
  },
  {
   "cell_type": "code",
   "execution_count": 7,
   "id": "74954ffc",
   "metadata": {},
   "outputs": [
    {
     "name": "stderr",
     "output_type": "stream",
     "text": [
      "<ipython-input-7-aae99ef86c9e>:4: DeprecationWarning: executable_path has been deprecated, please pass in a Service object\n",
      "  driver = webdriver.Chrome(r\"C:\\Users\\sushr\\OneDrive\\Desktop\\chromedriver\\chromedriver.exe\")\n"
     ]
    }
   ],
   "source": [
    "#Q9: Write a python program to scrape data for first 10 job results for Data Scientist Designation in Noida\n",
    "#location. You have to scrape company name, No. of days ago when job was posted, Rating of the company.\n",
    "#This task will be done in following steps:\n",
    "driver = webdriver.Chrome(r\"C:\\Users\\sushr\\OneDrive\\Desktop\\chromedriver\\chromedriver.exe\")\n",
    "driver.get('https://www.ambitionbox.com/')"
   ]
  },
  {
   "cell_type": "code",
   "execution_count": 8,
   "id": "13672698",
   "metadata": {},
   "outputs": [
    {
     "name": "stderr",
     "output_type": "stream",
     "text": [
      "<ipython-input-8-04a1298d3ce5>:1: DeprecationWarning: find_element_by_* commands are deprecated. Please use find_element() instead\n",
      "  job_switch = driver.find_element_by_xpath(\"//a[@class='link jobs']\").click()\n"
     ]
    }
   ],
   "source": [
    "job_switch = driver.find_element_by_xpath(\"//a[@class='link jobs']\").click()\n"
   ]
  },
  {
   "cell_type": "code",
   "execution_count": 9,
   "id": "d70baac8",
   "metadata": {},
   "outputs": [
    {
     "name": "stderr",
     "output_type": "stream",
     "text": [
      "<ipython-input-9-db88a1ef1694>:1: DeprecationWarning: find_element_by_* commands are deprecated. Please use find_element() instead\n",
      "  job_s = driver.find_element_by_xpath(\"//input[@class='input tt-input']\")\n"
     ]
    }
   ],
   "source": [
    "job_s = driver.find_element_by_xpath(\"//input[@class='input tt-input']\")\n",
    "job_s.send_keys('Data Scientist')"
   ]
  },
  {
   "cell_type": "code",
   "execution_count": 10,
   "id": "2835620d",
   "metadata": {},
   "outputs": [
    {
     "name": "stderr",
     "output_type": "stream",
     "text": [
      "<ipython-input-10-6f26471c10a5>:1: DeprecationWarning: find_element_by_* commands are deprecated. Please use find_element() instead\n",
      "  s_btn = driver.find_element_by_xpath(\"//span[@class='ctas-btn-medium']\").click()\n"
     ]
    }
   ],
   "source": [
    "s_btn = driver.find_element_by_xpath(\"//span[@class='ctas-btn-medium']\").click()"
   ]
  },
  {
   "cell_type": "code",
   "execution_count": 14,
   "id": "9422f889",
   "metadata": {},
   "outputs": [
    {
     "name": "stderr",
     "output_type": "stream",
     "text": [
      "<ipython-input-14-611baf2469e4>:1: DeprecationWarning: find_element_by_* commands are deprecated. Please use find_element() instead\n",
      "  l_btn = driver.find_element_by_xpath(\"/html/body/div/div/div/div[2]/div[2]/div[1]/div/div/div/div[2]/div[1]\").click()\n"
     ]
    }
   ],
   "source": [
    "l_btn = driver.find_element_by_xpath(\"/html/body/div/div/div/div[2]/div[2]/div[1]/div/div/div/div[2]/div[1]\").click()"
   ]
  },
  {
   "cell_type": "code",
   "execution_count": 15,
   "id": "b1a3ff42",
   "metadata": {},
   "outputs": [
    {
     "name": "stderr",
     "output_type": "stream",
     "text": [
      "<ipython-input-15-6d2a81dbc9bd>:1: DeprecationWarning: find_element_by_* commands are deprecated. Please use find_element() instead\n",
      "  search_l =  driver.find_element_by_xpath(\"/html/body/div/div/div/div[2]/div[2]/div[1]/div/div/div/div[2]/div[2]/div/div[2]/input\")\n"
     ]
    }
   ],
   "source": [
    "search_l =  driver.find_element_by_xpath(\"/html/body/div/div/div/div[2]/div[2]/div[1]/div/div/div/div[2]/div[2]/div/div[2]/input\")"
   ]
  },
  {
   "cell_type": "code",
   "execution_count": 16,
   "id": "dbcdbfe8",
   "metadata": {},
   "outputs": [],
   "source": [
    "search_l.send_keys('Noida')"
   ]
  },
  {
   "cell_type": "code",
   "execution_count": 18,
   "id": "44f3b83c",
   "metadata": {},
   "outputs": [
    {
     "name": "stderr",
     "output_type": "stream",
     "text": [
      "<ipython-input-18-5cd2fd0e4cfc>:1: DeprecationWarning: find_element_by_* commands are deprecated. Please use find_element() instead\n",
      "  select_noida = driver.find_element_by_xpath(\"/html/body/div/div/div/div[2]/div[2]/div[1]/div/div/div/div[2]/div[2]/div/div[3]/div[1]/div[1]/div/label\").click()\n"
     ]
    }
   ],
   "source": [
    "select_noida = driver.find_element_by_xpath(\"/html/body/div/div/div/div[2]/div[2]/div[1]/div/div/div/div[2]/div[2]/div/div[3]/div[1]/div[1]/div/label\").click()"
   ]
  },
  {
   "cell_type": "code",
   "execution_count": null,
   "id": "ea4bc140",
   "metadata": {},
   "outputs": [],
   "source": []
  },
  {
   "cell_type": "code",
   "execution_count": null,
   "id": "8b533fcc",
   "metadata": {},
   "outputs": [],
   "source": []
  },
  {
   "cell_type": "code",
   "execution_count": 36,
   "id": "89c6a9cd",
   "metadata": {},
   "outputs": [],
   "source": [
    "#Q10: Write a python program to scrape the salary data for Data Scientist designation.\n",
    "#You have to scrape Company name, Number of salaries, Average salary, Min salary, Max Salary."
   ]
  },
  {
   "cell_type": "code",
   "execution_count": 65,
   "id": "404b978c",
   "metadata": {},
   "outputs": [
    {
     "name": "stderr",
     "output_type": "stream",
     "text": [
      "<ipython-input-65-1413f9ff276d>:1: DeprecationWarning: executable_path has been deprecated, please pass in a Service object\n",
      "  driver = webdriver.Chrome(r\"C:\\Users\\sushr\\OneDrive\\Desktop\\chromedriver\\chromedriver.exe\")\n"
     ]
    }
   ],
   "source": [
    "driver = webdriver.Chrome(r\"C:\\Users\\sushr\\OneDrive\\Desktop\\chromedriver\\chromedriver.exe\")\n",
    "driver.get('https://www.ambitionbox.com/')"
   ]
  },
  {
   "cell_type": "code",
   "execution_count": 66,
   "id": "44a118c7",
   "metadata": {},
   "outputs": [
    {
     "name": "stderr",
     "output_type": "stream",
     "text": [
      "<ipython-input-66-cb6573695278>:1: DeprecationWarning: find_element_by_* commands are deprecated. Please use find_element() instead\n",
      "  search_salarypage = driver.find_element_by_xpath(\"//a[@class='link salaries']\")\n"
     ]
    }
   ],
   "source": [
    "search_salarypage = driver.find_element_by_xpath(\"//a[@class='link salaries']\")\n",
    "search_salarypage.click()"
   ]
  },
  {
   "cell_type": "code",
   "execution_count": 74,
   "id": "a91f611d",
   "metadata": {},
   "outputs": [
    {
     "name": "stderr",
     "output_type": "stream",
     "text": [
      "<ipython-input-74-c7534bd7fdbe>:1: DeprecationWarning: find_element_by_* commands are deprecated. Please use find_element() instead\n",
      "  search_jobprofile = driver.find_element_by_xpath(\"//input[@id='jobProfileSearchbox']\")\n"
     ]
    }
   ],
   "source": [
    "search_jobprofile = driver.find_element_by_xpath(\"//input[@id='jobProfileSearchbox']\")\n",
    "search_jobprofile.send_keys('Data Scientist')"
   ]
  },
  {
   "cell_type": "code",
   "execution_count": 75,
   "id": "fab45202",
   "metadata": {},
   "outputs": [],
   "source": [
    "url=\"https://www.ambitionbox.com/salaries\"\n",
    "driver.get(url)"
   ]
  },
  {
   "cell_type": "code",
   "execution_count": 73,
   "id": "9de14823",
   "metadata": {},
   "outputs": [],
   "source": [
    "company_names=[]\n",
    "total_salary_record=[]\n",
    "average_salary=[]\n",
    "min_salary=[]\n",
    "max_salary=[]\n",
    "exp_reqd=[]"
   ]
  },
  {
   "cell_type": "code",
   "execution_count": 76,
   "id": "287a92d4",
   "metadata": {},
   "outputs": [
    {
     "name": "stderr",
     "output_type": "stream",
     "text": [
      "<ipython-input-76-38096c335693>:1: DeprecationWarning: find_elements_by_* commands are deprecated. Please use find_elements() instead\n",
      "  companyname_tags = driver.find_elements_by_xpath(\"//div[@class='name']/a\")\n"
     ]
    },
    {
     "data": {
      "text/plain": [
       "[<selenium.webdriver.remote.webelement.WebElement (session=\"30c308253dc43c66cc409b156d1d7d5f\", element=\"71dc2125-dc4d-4c89-8acd-c6055f2c169b\")>,\n",
       " <selenium.webdriver.remote.webelement.WebElement (session=\"30c308253dc43c66cc409b156d1d7d5f\", element=\"78c1f995-31a9-4f41-9ad5-a4043e8e99e0\")>,\n",
       " <selenium.webdriver.remote.webelement.WebElement (session=\"30c308253dc43c66cc409b156d1d7d5f\", element=\"a8a7986a-0e86-4d45-85de-865b1e8d279b\")>,\n",
       " <selenium.webdriver.remote.webelement.WebElement (session=\"30c308253dc43c66cc409b156d1d7d5f\", element=\"9447d886-947a-421f-a784-a45fb2bf9de0\")>,\n",
       " <selenium.webdriver.remote.webelement.WebElement (session=\"30c308253dc43c66cc409b156d1d7d5f\", element=\"4d35954a-32f1-4731-be0a-4668e928adec\")>,\n",
       " <selenium.webdriver.remote.webelement.WebElement (session=\"30c308253dc43c66cc409b156d1d7d5f\", element=\"28527b29-cb59-4255-8dcc-96ad7e11126c\")>,\n",
       " <selenium.webdriver.remote.webelement.WebElement (session=\"30c308253dc43c66cc409b156d1d7d5f\", element=\"39be4f9c-a8b9-47df-86b1-e490a395c65b\")>,\n",
       " <selenium.webdriver.remote.webelement.WebElement (session=\"30c308253dc43c66cc409b156d1d7d5f\", element=\"b454c2bb-c39c-495a-afe7-6365b44277bd\")>,\n",
       " <selenium.webdriver.remote.webelement.WebElement (session=\"30c308253dc43c66cc409b156d1d7d5f\", element=\"bace463e-8e1a-4949-8a8f-cb655f39d233\")>,\n",
       " <selenium.webdriver.remote.webelement.WebElement (session=\"30c308253dc43c66cc409b156d1d7d5f\", element=\"e114e45a-aff4-4d7f-a12c-57f80c398822\")>]"
      ]
     },
     "execution_count": 76,
     "metadata": {},
     "output_type": "execute_result"
    }
   ],
   "source": [
    "companyname_tags = driver.find_elements_by_xpath(\"//div[@class='name']/a\")\n",
    "companyname_tags[0:10]"
   ]
  },
  {
   "cell_type": "code",
   "execution_count": 78,
   "id": "61ae382e",
   "metadata": {},
   "outputs": [
    {
     "data": {
      "text/plain": [
       "['Ab Inbev',\n",
       " 'Optum',\n",
       " 'Fractal Analytics',\n",
       " 'Tiger Analytics',\n",
       " 'UnitedHealth',\n",
       " 'Verizon',\n",
       " 'Ganit Business Solutions',\n",
       " 'Deloitte',\n",
       " 'Ernst & Young',\n",
       " 'Ericsson']"
      ]
     },
     "execution_count": 78,
     "metadata": {},
     "output_type": "execute_result"
    }
   ],
   "source": [
    "for x in companyname_tags:\n",
    "    cn=x.text\n",
    "    company_names.append(cn)\n",
    "company_names[0:10]"
   ]
  },
  {
   "cell_type": "code",
   "execution_count": 85,
   "id": "db08a862",
   "metadata": {},
   "outputs": [
    {
     "name": "stderr",
     "output_type": "stream",
     "text": [
      "<ipython-input-85-85b0811da479>:1: DeprecationWarning: find_elements_by_* commands are deprecated. Please use find_elements() instead\n",
      "  sal_record_tags = driver.find_elements_by_xpath(\"//div[@class='name']/span\")\n"
     ]
    },
    {
     "data": {
      "text/plain": [
       "['based on 10 salaries',\n",
       " 'based on 22 salaries',\n",
       " 'based on 60 salaries',\n",
       " 'based on 24 salaries',\n",
       " 'based on 45 salaries',\n",
       " 'based on 14 salaries',\n",
       " 'based on 12 salaries',\n",
       " 'based on 45 salaries',\n",
       " 'based on 26 salaries',\n",
       " 'based on 43 salaries']"
      ]
     },
     "execution_count": 85,
     "metadata": {},
     "output_type": "execute_result"
    }
   ],
   "source": [
    "sal_record_tags = driver.find_elements_by_xpath(\"//div[@class='name']/span\")\n",
    "sal_record_tags[0:10]\n",
    "\n",
    "for x in sal_record_tags:\n",
    "    srt=x.text\n",
    "    total_salary_record.append(srt)\n",
    "total_salary_record[0:10]"
   ]
  },
  {
   "cell_type": "code",
   "execution_count": 87,
   "id": "ca031879",
   "metadata": {},
   "outputs": [
    {
     "name": "stderr",
     "output_type": "stream",
     "text": [
      "<ipython-input-87-b05624a2cb83>:1: DeprecationWarning: find_elements_by_* commands are deprecated. Please use find_elements() instead\n",
      "  avg_sal_tags = driver.find_elements_by_xpath(\"//div[@class='average-indicator-wrapper']/p\")\n"
     ]
    },
    {
     "data": {
      "text/plain": [
       "['₹ 19.4L',\n",
       " '₹ 15.1L',\n",
       " '₹ 14.7L',\n",
       " '₹ 13.4L',\n",
       " '₹ 13.3L',\n",
       " '₹ 12.7L',\n",
       " '₹ 12.4L',\n",
       " '₹ 11.2L',\n",
       " '₹ 11.1L',\n",
       " '₹ 10.9L']"
      ]
     },
     "execution_count": 87,
     "metadata": {},
     "output_type": "execute_result"
    }
   ],
   "source": [
    "avg_sal_tags = driver.find_elements_by_xpath(\"//div[@class='average-indicator-wrapper']/p\")\n",
    "avg_sal_tags[0:10]\n",
    "\n",
    "for x in avg_sal_tags:\n",
    "    avg_sal=x.text\n",
    "    average_salary.append(avg_sal)\n",
    "average_salary[0:10]"
   ]
  },
  {
   "cell_type": "code",
   "execution_count": 88,
   "id": "1942055c",
   "metadata": {},
   "outputs": [
    {
     "name": "stderr",
     "output_type": "stream",
     "text": [
      "<ipython-input-88-6d5433fedd0e>:1: DeprecationWarning: find_elements_by_* commands are deprecated. Please use find_elements() instead\n",
      "  min_sal_tags = driver.find_elements_by_xpath(\"//div[@class='value body-medium']\")\n"
     ]
    },
    {
     "data": {
      "text/plain": [
       "['₹ 15.0L',\n",
       " '₹ 23.0L',\n",
       " '₹ 11.0L',\n",
       " '₹ 21.3L',\n",
       " '₹ 9.0L',\n",
       " '₹ 20.8L',\n",
       " '₹ 8.3L',\n",
       " '₹ 18.5L',\n",
       " '₹ 7.2L',\n",
       " '₹ 20.5L']"
      ]
     },
     "execution_count": 88,
     "metadata": {},
     "output_type": "execute_result"
    }
   ],
   "source": [
    "min_sal_tags = driver.find_elements_by_xpath(\"//div[@class='value body-medium']\")\n",
    "min_sal_tags[0:10]\n",
    "\n",
    "for x in min_sal_tags:\n",
    "    min_sal=x.text\n",
    "    min_salary.append(min_sal)\n",
    "min_salary[0:10]"
   ]
  },
  {
   "cell_type": "code",
   "execution_count": 94,
   "id": "1f3a0e17",
   "metadata": {},
   "outputs": [
    {
     "name": "stderr",
     "output_type": "stream",
     "text": [
      "<ipython-input-94-f564ec693a72>:1: DeprecationWarning: find_elements_by_* commands are deprecated. Please use find_elements() instead\n",
      "  max_sal_tags = driver.find_elements_by_xpath(\"//div[@class='salary-values']\")\n"
     ]
    },
    {
     "data": {
      "text/plain": [
       "['₹ 15.0L',\n",
       " '₹ 23.0L',\n",
       " '₹ 11.0L',\n",
       " '₹ 21.3L',\n",
       " '₹ 9.0L',\n",
       " '₹ 20.8L',\n",
       " '₹ 8.3L',\n",
       " '₹ 18.5L',\n",
       " '₹ 7.2L',\n",
       " '₹ 20.5L']"
      ]
     },
     "execution_count": 94,
     "metadata": {},
     "output_type": "execute_result"
    }
   ],
   "source": [
    "max_sal_tags = driver.find_elements_by_xpath(\"//div[@class='salary-values']\")\n",
    "max_sal_tags[0:10]\n",
    "\n",
    "for x in max_sal_tags:\n",
    "    max_sal=x.text\n",
    "    max_salary.append(max_sal)\n",
    "max_salary[0:10]"
   ]
  },
  {
   "cell_type": "code",
   "execution_count": 99,
   "id": "2f4365ef",
   "metadata": {},
   "outputs": [
    {
     "name": "stderr",
     "output_type": "stream",
     "text": [
      "<ipython-input-99-6e4e4c15df0f>:1: DeprecationWarning: find_elements_by_* commands are deprecated. Please use find_elements() instead\n",
      "  exp_tags = driver.find_elements_by_class_name('salaries sbold-list-header')\n"
     ]
    },
    {
     "data": {
      "text/plain": [
       "[' . ', ' . ', ' . ', ' . ', ' . ', ' . ', ' . ', ' . ', ' . ', ' . ']"
      ]
     },
     "execution_count": 99,
     "metadata": {},
     "output_type": "execute_result"
    }
   ],
   "source": [
    "exp_tags = driver.find_elements_by_class_name('salaries sbold-list-header')\n",
    "exp_tags[0:10]\n",
    "\n",
    "for x in exp_tags:\n",
    "    exp=x.text\n",
    "    exp_reqd.append(exp)\n",
    "exp_reqd[0:10]"
   ]
  },
  {
   "cell_type": "code",
   "execution_count": null,
   "id": "c8e5602f",
   "metadata": {},
   "outputs": [],
   "source": []
  }
 ],
 "metadata": {
  "kernelspec": {
   "display_name": "Python 3",
   "language": "python",
   "name": "python3"
  },
  "language_info": {
   "codemirror_mode": {
    "name": "ipython",
    "version": 3
   },
   "file_extension": ".py",
   "mimetype": "text/x-python",
   "name": "python",
   "nbconvert_exporter": "python",
   "pygments_lexer": "ipython3",
   "version": "3.8.8"
  }
 },
 "nbformat": 4,
 "nbformat_minor": 5
}
